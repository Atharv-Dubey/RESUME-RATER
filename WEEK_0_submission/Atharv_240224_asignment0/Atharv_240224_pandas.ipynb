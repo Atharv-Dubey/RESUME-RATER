{
  "cells": [
    {
      "cell_type": "markdown",
      "id": "e79a44bb-42c8-4ace-8d71-770c06522bfc",
      "metadata": {
        "id": "e79a44bb-42c8-4ace-8d71-770c06522bfc"
      },
      "source": [
        "# Pandas Exercises"
      ]
    },
    {
      "cell_type": "markdown",
      "id": "1d26ef1e-3c49-4a46-a4c5-b68825d5a953",
      "metadata": {
        "id": "1d26ef1e-3c49-4a46-a4c5-b68825d5a953"
      },
      "source": [
        "## Creating DataFrames and Using Sample Data Sets"
      ]
    },
    {
      "cell_type": "markdown",
      "id": "bc5dd17f-4431-4655-b2c5-ea537e23223c",
      "metadata": {
        "id": "bc5dd17f-4431-4655-b2c5-ea537e23223c"
      },
      "source": [
        "This is the Jupyter Notebook runnable exercises version of the article, [Pandas Practice Questions – Fifty-Two Examples to Make You an Expert](https://codesolid.com/pandas-practice-questions-twenty-one-examples-to-make-you-an-expert/)."
      ]
    },
    {
      "cell_type": "code",
      "execution_count": null,
      "id": "df91e92f-5f2b-4e98-81f7-84e7478ed432",
      "metadata": {
        "id": "df91e92f-5f2b-4e98-81f7-84e7478ed432"
      },
      "outputs": [],
      "source": [
        "import pandas as pd\n",
        "import numpy as np\n",
        "import seaborn as sb"
      ]
    },
    {
      "cell_type": "markdown",
      "id": "6950cc47-3cc0-4565-8df1-d01741b7ea5f",
      "metadata": {
        "id": "6950cc47-3cc0-4565-8df1-d01741b7ea5f"
      },
      "source": [
        "**1.** Using NumPy, create a Pandas DataFrame with five rows and three columms:"
      ]
    },
    {
      "cell_type": "code",
      "execution_count": null,
      "id": "dd1a5014-d17e-4fd0-b7a2-db261a53a02a",
      "metadata": {
        "id": "dd1a5014-d17e-4fd0-b7a2-db261a53a02a",
        "colab": {
          "base_uri": "https://localhost:8080/"
        },
        "outputId": "620774e1-7927-4de0-87db-5bff0c5ce8a0"
      },
      "outputs": [
        {
          "output_type": "stream",
          "name": "stdout",
          "text": [
            "    0   1   2\n",
            "0  87  87  99\n",
            "1  94  26   0\n",
            "2  63  37  54\n",
            "3  64  74  15\n",
            "4  80  37   2\n"
          ]
        }
      ],
      "source": [
        "df = pd.DataFrame(np.random.randint(0,100,size=(5, 3)))\n",
        "print(df)"
      ]
    },
    {
      "cell_type": "markdown",
      "id": "9c74f94d-4adf-403d-a2c4-9efd200ba5b2",
      "metadata": {
        "id": "9c74f94d-4adf-403d-a2c4-9efd200ba5b2"
      },
      "source": [
        "**2.** For a Pandas DataFrame created from a NumPy array, what is the default behavior for the labels for the columns?  For the rows?"
      ]
    },
    {
      "cell_type": "markdown",
      "id": "e7508b50-d724-47a7-8272-9ba040cd9c65",
      "metadata": {
        "id": "e7508b50-d724-47a7-8272-9ba040cd9c65"
      },
      "source": [
        "start from 0"
      ]
    },
    {
      "cell_type": "markdown",
      "id": "1a20442a-ea2c-4d32-877b-bfe5ae349318",
      "metadata": {
        "id": "1a20442a-ea2c-4d32-877b-bfe5ae349318"
      },
      "source": [
        "**3.** Create a second DataFrame as above with five rows and three columns, setting the row labels to the names of any five major US cities and the column labels to the first three months of the year."
      ]
    },
    {
      "cell_type": "code",
      "execution_count": null,
      "id": "02686eae-cba2-4180-94ff-4dc85eca0731",
      "metadata": {
        "id": "02686eae-cba2-4180-94ff-4dc85eca0731",
        "colab": {
          "base_uri": "https://localhost:8080/"
        },
        "outputId": "a5362c1a-f000-4bfc-f365-ae831f7a307c"
      },
      "outputs": [
        {
          "output_type": "stream",
          "name": "stdout",
          "text": [
            "            January  Feburary  March\n",
            "Washington       30        59     29\n",
            "LA               23        60     50\n",
            "New York         29        45     75\n",
            "Dallas           63        85     67\n",
            "Houston          97        76     59\n"
          ]
        }
      ],
      "source": [
        "df = pd.DataFrame(np.random.randint(0,100,size=(5, 3)), columns=['January', 'Feburary', 'March'], index=['Washington', 'LA', 'New York', 'Dallas', 'Houston'])\n",
        "print(df)"
      ]
    },
    {
      "cell_type": "markdown",
      "id": "f6c2f45b-0fea-49bf-98a0-572d594a0680",
      "metadata": {
        "id": "f6c2f45b-0fea-49bf-98a0-572d594a0680"
      },
      "source": [
        "**4.** You recall that the Seaborn package has some data sets built in, but can't remember how to list and load them. Assuming the functions to do so have \"data\" in the name, how might you locate them?  You can assume a Jupyter Notebook / IPython environment and explain the process, or write the code to do it in Python."
      ]
    },
    {
      "cell_type": "markdown",
      "id": "8afae59d-eb5a-4692-9924-b54d49942769",
      "metadata": {
        "id": "8afae59d-eb5a-4692-9924-b54d49942769"
      },
      "source": []
    },
    {
      "cell_type": "code",
      "execution_count": null,
      "id": "ce709b0a-cb22-4f33-9492-62f8346d0ef4",
      "metadata": {
        "id": "ce709b0a-cb22-4f33-9492-62f8346d0ef4",
        "colab": {
          "base_uri": "https://localhost:8080/"
        },
        "outputId": "9d521631-839e-4c61-94d6-938518290c4f"
      },
      "outputs": [
        {
          "output_type": "stream",
          "name": "stdout",
          "text": [
            "['anagrams', 'anscombe', 'attention', 'brain_networks', 'car_crashes', 'diamonds', 'dots', 'dowjones', 'exercise', 'flights', 'fmri', 'geyser', 'glue', 'healthexp', 'iris', 'mpg', 'penguins', 'planets', 'seaice', 'taxis', 'tips', 'titanic']\n"
          ]
        }
      ],
      "source": [
        "print(sb.get_dataset_names())"
      ]
    },
    {
      "cell_type": "markdown",
      "id": "70efcde8-cd73-4d61-8534-e6a3c469dbff",
      "metadata": {
        "id": "70efcde8-cd73-4d61-8534-e6a3c469dbff"
      },
      "source": [
        "## Loading data from CSV"
      ]
    },
    {
      "cell_type": "markdown",
      "id": "00214582-1340-4700-99b5-9f36afce3e16",
      "metadata": {
        "id": "00214582-1340-4700-99b5-9f36afce3e16"
      },
      "source": [
        "**5**. Zillow home data is available at this URL: https://files.zillowstatic.com/research/public_csvs/zhvi/Metro_zhvi_uc_sfrcondo_tier_0.33_0.67_sm_sa_month.csv\n",
        "\n",
        "Open this file as a DataFrame named df_homes in Pandas."
      ]
    },
    {
      "cell_type": "code",
      "execution_count": null,
      "id": "2838d3d2-5f1c-4e97-aab6-c7236ced82ad",
      "metadata": {
        "id": "2838d3d2-5f1c-4e97-aab6-c7236ced82ad"
      },
      "outputs": [],
      "source": [
        "df_homes = pd.read_csv('https://files.zillowstatic.com/research/public_csvs/zhvi/Metro_zhvi_uc_sfrcondo_tier_0.33_0.67_sm_sa_month.csv')"
      ]
    },
    {
      "cell_type": "markdown",
      "id": "4476553a-1f93-4259-87df-69670ef486c0",
      "metadata": {
        "id": "4476553a-1f93-4259-87df-69670ef486c0"
      },
      "source": [
        "**6.** Save the DataFrame, df_homes, to a local CSV file, \"zillow_home_data.csv\".  "
      ]
    },
    {
      "cell_type": "code",
      "execution_count": null,
      "id": "1d237615-d23c-4f62-a0b8-c709deb95647",
      "metadata": {
        "id": "1d237615-d23c-4f62-a0b8-c709deb95647"
      },
      "outputs": [],
      "source": [
        "df_homes.to_csv('zillow_home_data.csv')"
      ]
    },
    {
      "cell_type": "markdown",
      "id": "182e0039-63dc-49df-9413-7eede1453fe0",
      "metadata": {
        "id": "182e0039-63dc-49df-9413-7eede1453fe0"
      },
      "source": [
        "**7.** Load zillow_home_data.csv back into a new Dataframe, df_homes_2"
      ]
    },
    {
      "cell_type": "code",
      "execution_count": null,
      "id": "53665adb-adb2-462f-a244-01665182e870",
      "metadata": {
        "id": "53665adb-adb2-462f-a244-01665182e870"
      },
      "outputs": [],
      "source": [
        "df_homes_2 = pd.read_csv('zillow_home_data.csv')"
      ]
    },
    {
      "cell_type": "markdown",
      "id": "eaaa6d3b-21e6-4e4a-916a-d522f1fd60c6",
      "metadata": {
        "id": "eaaa6d3b-21e6-4e4a-916a-d522f1fd60c6"
      },
      "source": [
        "**8.** Compare the dimensions of the two DataFrames, df_homes and df_homes_2.  Are they equal?  If not, how can you fix it?"
      ]
    },
    {
      "cell_type": "code",
      "execution_count": null,
      "id": "5c0a7f30-3d6a-4283-9efb-c1dc1d5d7d42",
      "metadata": {
        "id": "5c0a7f30-3d6a-4283-9efb-c1dc1d5d7d42",
        "colab": {
          "base_uri": "https://localhost:8080/"
        },
        "outputId": "38d08870-257e-459b-bd66-0ee5c98ac59c"
      },
      "outputs": [
        {
          "output_type": "stream",
          "name": "stdout",
          "text": [
            "(895, 303)\n",
            "(895, 304)\n"
          ]
        }
      ],
      "source": [
        "print(df_homes.shape )\n",
        "print(df_homes_2.shape)"
      ]
    },
    {
      "cell_type": "markdown",
      "id": "ed7fc7e0-6fe3-4eea-bbbc-2ecf8d910b5a",
      "metadata": {
        "id": "ed7fc7e0-6fe3-4eea-bbbc-2ecf8d910b5a"
      },
      "source": []
    },
    {
      "cell_type": "markdown",
      "id": "0f34b104-fc3a-492c-964b-45daa12850b0",
      "metadata": {
        "id": "0f34b104-fc3a-492c-964b-45daa12850b0"
      },
      "source": [
        "**9.** A remote spreadsheet showing how a snapshot of how traffic increased for a hypothetical website is available here: https://github.com/CodeSolid/CodeSolid.github.io/raw/main/booksource/data/AnalyticsSnapshot.xlsx. Load the worksheet page of the spreasheet data labelled \"February 2022\" as a DataFrame named \"feb\".  Note: the leftmost column in the spreadsheet is the index column."
      ]
    },
    {
      "cell_type": "code",
      "execution_count": null,
      "id": "7b8772dd-5d19-4510-a725-80c7273ce61b",
      "metadata": {
        "id": "7b8772dd-5d19-4510-a725-80c7273ce61b",
        "colab": {
          "base_uri": "https://localhost:8080/"
        },
        "outputId": "35a8bf71-184b-4039-de69-e64e1592313b"
      },
      "outputs": [
        {
          "output_type": "stream",
          "name": "stdout",
          "text": [
            "            This Month  Last Month  Month to Month Increase\n",
            "Users             1800         280                 5.428571\n",
            "New Users         1700         298                 4.704698\n",
            "Page Views        2534         436                 4.811927\n"
          ]
        }
      ],
      "source": [
        "feb=pd.read_excel('https://github.com/CodeSolid/CodeSolid.github.io/raw/main/booksource/data/AnalyticsSnapshot.xlsx', sheet_name='February 2022', index_col=0)\n",
        "print(feb)"
      ]
    },
    {
      "cell_type": "markdown",
      "id": "ad366534-b168-490c-a55d-654f3ef44288",
      "metadata": {
        "id": "ad366534-b168-490c-a55d-654f3ef44288"
      },
      "source": [
        "**10.** The \"Month to Month Increase\" column is a bit hard to understand, so ignore it for now.  Given the values for \"This Month\" and \"Last Month\", create a new column, \"Percentage Increase\"."
      ]
    },
    {
      "cell_type": "code",
      "execution_count": null,
      "id": "d053f773-c9a9-4592-aaaa-660ae8e189e5",
      "metadata": {
        "id": "d053f773-c9a9-4592-aaaa-660ae8e189e5",
        "colab": {
          "base_uri": "https://localhost:8080/"
        },
        "outputId": "c0ad137a-8f78-4ea8-93e5-88d719ffcbf1"
      },
      "outputs": [
        {
          "output_type": "stream",
          "name": "stdout",
          "text": [
            "            This Month  Last Month  Month to Month Increase  \\\n",
            "Users             1800         280                 5.428571   \n",
            "New Users         1700         298                 4.704698   \n",
            "Page Views        2534         436                 4.811927   \n",
            "\n",
            "            Percentage Increase  \n",
            "Users                  5.428571  \n",
            "New Users              4.704698  \n",
            "Page Views             4.811927  \n"
          ]
        }
      ],
      "source": [
        "feb['Percentage Increase'] = (feb['This Month'] - feb['Last Month']) / feb['Last Month']\n",
        "print(feb)"
      ]
    },
    {
      "cell_type": "markdown",
      "id": "8a71222f-2ab4-47bb-806d-2610e25b3a91",
      "metadata": {
        "id": "8a71222f-2ab4-47bb-806d-2610e25b3a91"
      },
      "source": [
        "## Basic Operations on Data"
      ]
    },
    {
      "cell_type": "markdown",
      "id": "0b9cf32b-3132-40cc-a5ca-26d6e6a36e4b",
      "metadata": {
        "id": "0b9cf32b-3132-40cc-a5ca-26d6e6a36e4b"
      },
      "source": [
        "**11.** Using Seaborn, get a dataset about penguins into a dataframe named \"df_penguins\".  Note that because all of the following questions depend on this example, we'll provide the solution here so no one gets stuck:"
      ]
    },
    {
      "cell_type": "code",
      "execution_count": null,
      "id": "a8b68caf-a998-414a-9de7-899eae7213c7",
      "metadata": {
        "id": "a8b68caf-a998-414a-9de7-899eae7213c7"
      },
      "outputs": [],
      "source": [
        "df_penguins = sb.load_dataset('penguins')"
      ]
    },
    {
      "cell_type": "markdown",
      "id": "f7170135-17bd-45e2-9239-dad647ed6eaf",
      "metadata": {
        "id": "f7170135-17bd-45e2-9239-dad647ed6eaf"
      },
      "source": [
        "**12.** Write the code to show the the number of rows and columns in df_penguins"
      ]
    },
    {
      "cell_type": "code",
      "execution_count": null,
      "id": "6f565afb-d5f4-462d-b3e5-946bc91bd83e",
      "metadata": {
        "id": "6f565afb-d5f4-462d-b3e5-946bc91bd83e",
        "colab": {
          "base_uri": "https://localhost:8080/"
        },
        "outputId": "db4f16af-a0cc-4fb3-9cbb-dfa390da35c7"
      },
      "outputs": [
        {
          "output_type": "execute_result",
          "data": {
            "text/plain": [
              "(344, 7)"
            ]
          },
          "metadata": {},
          "execution_count": 18
        }
      ],
      "source": [
        "df_penguins.shape"
      ]
    },
    {
      "cell_type": "markdown",
      "id": "9d3396f3-3fe6-4571-83b2-1e70f8a11513",
      "metadata": {
        "id": "9d3396f3-3fe6-4571-83b2-1e70f8a11513"
      },
      "source": [
        "**13.** How might you show the first few rows of df_penguins?"
      ]
    },
    {
      "cell_type": "code",
      "execution_count": null,
      "id": "68d5946e-5011-4735-983e-7485f44a60f2",
      "metadata": {
        "id": "68d5946e-5011-4735-983e-7485f44a60f2",
        "colab": {
          "base_uri": "https://localhost:8080/",
          "height": 206
        },
        "outputId": "7ca1ed3b-1116-4686-8e12-b7e46f37c152"
      },
      "outputs": [
        {
          "output_type": "execute_result",
          "data": {
            "text/plain": [
              "  species     island  bill_length_mm  bill_depth_mm  flipper_length_mm  \\\n",
              "0  Adelie  Torgersen            39.1           18.7              181.0   \n",
              "1  Adelie  Torgersen            39.5           17.4              186.0   \n",
              "2  Adelie  Torgersen            40.3           18.0              195.0   \n",
              "3  Adelie  Torgersen             NaN            NaN                NaN   \n",
              "4  Adelie  Torgersen            36.7           19.3              193.0   \n",
              "\n",
              "   body_mass_g     sex  \n",
              "0       3750.0    Male  \n",
              "1       3800.0  Female  \n",
              "2       3250.0  Female  \n",
              "3          NaN     NaN  \n",
              "4       3450.0  Female  "
            ],
            "text/html": [
              "\n",
              "  <div id=\"df-5032fa58-df9a-4679-a107-7df38a16fb3e\" class=\"colab-df-container\">\n",
              "    <div>\n",
              "<style scoped>\n",
              "    .dataframe tbody tr th:only-of-type {\n",
              "        vertical-align: middle;\n",
              "    }\n",
              "\n",
              "    .dataframe tbody tr th {\n",
              "        vertical-align: top;\n",
              "    }\n",
              "\n",
              "    .dataframe thead th {\n",
              "        text-align: right;\n",
              "    }\n",
              "</style>\n",
              "<table border=\"1\" class=\"dataframe\">\n",
              "  <thead>\n",
              "    <tr style=\"text-align: right;\">\n",
              "      <th></th>\n",
              "      <th>species</th>\n",
              "      <th>island</th>\n",
              "      <th>bill_length_mm</th>\n",
              "      <th>bill_depth_mm</th>\n",
              "      <th>flipper_length_mm</th>\n",
              "      <th>body_mass_g</th>\n",
              "      <th>sex</th>\n",
              "    </tr>\n",
              "  </thead>\n",
              "  <tbody>\n",
              "    <tr>\n",
              "      <th>0</th>\n",
              "      <td>Adelie</td>\n",
              "      <td>Torgersen</td>\n",
              "      <td>39.1</td>\n",
              "      <td>18.7</td>\n",
              "      <td>181.0</td>\n",
              "      <td>3750.0</td>\n",
              "      <td>Male</td>\n",
              "    </tr>\n",
              "    <tr>\n",
              "      <th>1</th>\n",
              "      <td>Adelie</td>\n",
              "      <td>Torgersen</td>\n",
              "      <td>39.5</td>\n",
              "      <td>17.4</td>\n",
              "      <td>186.0</td>\n",
              "      <td>3800.0</td>\n",
              "      <td>Female</td>\n",
              "    </tr>\n",
              "    <tr>\n",
              "      <th>2</th>\n",
              "      <td>Adelie</td>\n",
              "      <td>Torgersen</td>\n",
              "      <td>40.3</td>\n",
              "      <td>18.0</td>\n",
              "      <td>195.0</td>\n",
              "      <td>3250.0</td>\n",
              "      <td>Female</td>\n",
              "    </tr>\n",
              "    <tr>\n",
              "      <th>3</th>\n",
              "      <td>Adelie</td>\n",
              "      <td>Torgersen</td>\n",
              "      <td>NaN</td>\n",
              "      <td>NaN</td>\n",
              "      <td>NaN</td>\n",
              "      <td>NaN</td>\n",
              "      <td>NaN</td>\n",
              "    </tr>\n",
              "    <tr>\n",
              "      <th>4</th>\n",
              "      <td>Adelie</td>\n",
              "      <td>Torgersen</td>\n",
              "      <td>36.7</td>\n",
              "      <td>19.3</td>\n",
              "      <td>193.0</td>\n",
              "      <td>3450.0</td>\n",
              "      <td>Female</td>\n",
              "    </tr>\n",
              "  </tbody>\n",
              "</table>\n",
              "</div>\n",
              "    <div class=\"colab-df-buttons\">\n",
              "\n",
              "  <div class=\"colab-df-container\">\n",
              "    <button class=\"colab-df-convert\" onclick=\"convertToInteractive('df-5032fa58-df9a-4679-a107-7df38a16fb3e')\"\n",
              "            title=\"Convert this dataframe to an interactive table.\"\n",
              "            style=\"display:none;\">\n",
              "\n",
              "  <svg xmlns=\"http://www.w3.org/2000/svg\" height=\"24px\" viewBox=\"0 -960 960 960\">\n",
              "    <path d=\"M120-120v-720h720v720H120Zm60-500h600v-160H180v160Zm220 220h160v-160H400v160Zm0 220h160v-160H400v160ZM180-400h160v-160H180v160Zm440 0h160v-160H620v160ZM180-180h160v-160H180v160Zm440 0h160v-160H620v160Z\"/>\n",
              "  </svg>\n",
              "    </button>\n",
              "\n",
              "  <style>\n",
              "    .colab-df-container {\n",
              "      display:flex;\n",
              "      gap: 12px;\n",
              "    }\n",
              "\n",
              "    .colab-df-convert {\n",
              "      background-color: #E8F0FE;\n",
              "      border: none;\n",
              "      border-radius: 50%;\n",
              "      cursor: pointer;\n",
              "      display: none;\n",
              "      fill: #1967D2;\n",
              "      height: 32px;\n",
              "      padding: 0 0 0 0;\n",
              "      width: 32px;\n",
              "    }\n",
              "\n",
              "    .colab-df-convert:hover {\n",
              "      background-color: #E2EBFA;\n",
              "      box-shadow: 0px 1px 2px rgba(60, 64, 67, 0.3), 0px 1px 3px 1px rgba(60, 64, 67, 0.15);\n",
              "      fill: #174EA6;\n",
              "    }\n",
              "\n",
              "    .colab-df-buttons div {\n",
              "      margin-bottom: 4px;\n",
              "    }\n",
              "\n",
              "    [theme=dark] .colab-df-convert {\n",
              "      background-color: #3B4455;\n",
              "      fill: #D2E3FC;\n",
              "    }\n",
              "\n",
              "    [theme=dark] .colab-df-convert:hover {\n",
              "      background-color: #434B5C;\n",
              "      box-shadow: 0px 1px 3px 1px rgba(0, 0, 0, 0.15);\n",
              "      filter: drop-shadow(0px 1px 2px rgba(0, 0, 0, 0.3));\n",
              "      fill: #FFFFFF;\n",
              "    }\n",
              "  </style>\n",
              "\n",
              "    <script>\n",
              "      const buttonEl =\n",
              "        document.querySelector('#df-5032fa58-df9a-4679-a107-7df38a16fb3e button.colab-df-convert');\n",
              "      buttonEl.style.display =\n",
              "        google.colab.kernel.accessAllowed ? 'block' : 'none';\n",
              "\n",
              "      async function convertToInteractive(key) {\n",
              "        const element = document.querySelector('#df-5032fa58-df9a-4679-a107-7df38a16fb3e');\n",
              "        const dataTable =\n",
              "          await google.colab.kernel.invokeFunction('convertToInteractive',\n",
              "                                                    [key], {});\n",
              "        if (!dataTable) return;\n",
              "\n",
              "        const docLinkHtml = 'Like what you see? Visit the ' +\n",
              "          '<a target=\"_blank\" href=https://colab.research.google.com/notebooks/data_table.ipynb>data table notebook</a>'\n",
              "          + ' to learn more about interactive tables.';\n",
              "        element.innerHTML = '';\n",
              "        dataTable['output_type'] = 'display_data';\n",
              "        await google.colab.output.renderOutput(dataTable, element);\n",
              "        const docLink = document.createElement('div');\n",
              "        docLink.innerHTML = docLinkHtml;\n",
              "        element.appendChild(docLink);\n",
              "      }\n",
              "    </script>\n",
              "  </div>\n",
              "\n",
              "\n",
              "<div id=\"df-e0c4599c-7c77-489f-b70f-2bb745ac4510\">\n",
              "  <button class=\"colab-df-quickchart\" onclick=\"quickchart('df-e0c4599c-7c77-489f-b70f-2bb745ac4510')\"\n",
              "            title=\"Suggest charts\"\n",
              "            style=\"display:none;\">\n",
              "\n",
              "<svg xmlns=\"http://www.w3.org/2000/svg\" height=\"24px\"viewBox=\"0 0 24 24\"\n",
              "     width=\"24px\">\n",
              "    <g>\n",
              "        <path d=\"M19 3H5c-1.1 0-2 .9-2 2v14c0 1.1.9 2 2 2h14c1.1 0 2-.9 2-2V5c0-1.1-.9-2-2-2zM9 17H7v-7h2v7zm4 0h-2V7h2v10zm4 0h-2v-4h2v4z\"/>\n",
              "    </g>\n",
              "</svg>\n",
              "  </button>\n",
              "\n",
              "<style>\n",
              "  .colab-df-quickchart {\n",
              "      --bg-color: #E8F0FE;\n",
              "      --fill-color: #1967D2;\n",
              "      --hover-bg-color: #E2EBFA;\n",
              "      --hover-fill-color: #174EA6;\n",
              "      --disabled-fill-color: #AAA;\n",
              "      --disabled-bg-color: #DDD;\n",
              "  }\n",
              "\n",
              "  [theme=dark] .colab-df-quickchart {\n",
              "      --bg-color: #3B4455;\n",
              "      --fill-color: #D2E3FC;\n",
              "      --hover-bg-color: #434B5C;\n",
              "      --hover-fill-color: #FFFFFF;\n",
              "      --disabled-bg-color: #3B4455;\n",
              "      --disabled-fill-color: #666;\n",
              "  }\n",
              "\n",
              "  .colab-df-quickchart {\n",
              "    background-color: var(--bg-color);\n",
              "    border: none;\n",
              "    border-radius: 50%;\n",
              "    cursor: pointer;\n",
              "    display: none;\n",
              "    fill: var(--fill-color);\n",
              "    height: 32px;\n",
              "    padding: 0;\n",
              "    width: 32px;\n",
              "  }\n",
              "\n",
              "  .colab-df-quickchart:hover {\n",
              "    background-color: var(--hover-bg-color);\n",
              "    box-shadow: 0 1px 2px rgba(60, 64, 67, 0.3), 0 1px 3px 1px rgba(60, 64, 67, 0.15);\n",
              "    fill: var(--button-hover-fill-color);\n",
              "  }\n",
              "\n",
              "  .colab-df-quickchart-complete:disabled,\n",
              "  .colab-df-quickchart-complete:disabled:hover {\n",
              "    background-color: var(--disabled-bg-color);\n",
              "    fill: var(--disabled-fill-color);\n",
              "    box-shadow: none;\n",
              "  }\n",
              "\n",
              "  .colab-df-spinner {\n",
              "    border: 2px solid var(--fill-color);\n",
              "    border-color: transparent;\n",
              "    border-bottom-color: var(--fill-color);\n",
              "    animation:\n",
              "      spin 1s steps(1) infinite;\n",
              "  }\n",
              "\n",
              "  @keyframes spin {\n",
              "    0% {\n",
              "      border-color: transparent;\n",
              "      border-bottom-color: var(--fill-color);\n",
              "      border-left-color: var(--fill-color);\n",
              "    }\n",
              "    20% {\n",
              "      border-color: transparent;\n",
              "      border-left-color: var(--fill-color);\n",
              "      border-top-color: var(--fill-color);\n",
              "    }\n",
              "    30% {\n",
              "      border-color: transparent;\n",
              "      border-left-color: var(--fill-color);\n",
              "      border-top-color: var(--fill-color);\n",
              "      border-right-color: var(--fill-color);\n",
              "    }\n",
              "    40% {\n",
              "      border-color: transparent;\n",
              "      border-right-color: var(--fill-color);\n",
              "      border-top-color: var(--fill-color);\n",
              "    }\n",
              "    60% {\n",
              "      border-color: transparent;\n",
              "      border-right-color: var(--fill-color);\n",
              "    }\n",
              "    80% {\n",
              "      border-color: transparent;\n",
              "      border-right-color: var(--fill-color);\n",
              "      border-bottom-color: var(--fill-color);\n",
              "    }\n",
              "    90% {\n",
              "      border-color: transparent;\n",
              "      border-bottom-color: var(--fill-color);\n",
              "    }\n",
              "  }\n",
              "</style>\n",
              "\n",
              "  <script>\n",
              "    async function quickchart(key) {\n",
              "      const quickchartButtonEl =\n",
              "        document.querySelector('#' + key + ' button');\n",
              "      quickchartButtonEl.disabled = true;  // To prevent multiple clicks.\n",
              "      quickchartButtonEl.classList.add('colab-df-spinner');\n",
              "      try {\n",
              "        const charts = await google.colab.kernel.invokeFunction(\n",
              "            'suggestCharts', [key], {});\n",
              "      } catch (error) {\n",
              "        console.error('Error during call to suggestCharts:', error);\n",
              "      }\n",
              "      quickchartButtonEl.classList.remove('colab-df-spinner');\n",
              "      quickchartButtonEl.classList.add('colab-df-quickchart-complete');\n",
              "    }\n",
              "    (() => {\n",
              "      let quickchartButtonEl =\n",
              "        document.querySelector('#df-e0c4599c-7c77-489f-b70f-2bb745ac4510 button');\n",
              "      quickchartButtonEl.style.display =\n",
              "        google.colab.kernel.accessAllowed ? 'block' : 'none';\n",
              "    })();\n",
              "  </script>\n",
              "</div>\n",
              "\n",
              "    </div>\n",
              "  </div>\n"
            ],
            "application/vnd.google.colaboratory.intrinsic+json": {
              "type": "dataframe",
              "variable_name": "df_penguins",
              "summary": "{\n  \"name\": \"df_penguins\",\n  \"rows\": 344,\n  \"fields\": [\n    {\n      \"column\": \"species\",\n      \"properties\": {\n        \"dtype\": \"category\",\n        \"num_unique_values\": 3,\n        \"samples\": [\n          \"Adelie\",\n          \"Chinstrap\",\n          \"Gentoo\"\n        ],\n        \"semantic_type\": \"\",\n        \"description\": \"\"\n      }\n    },\n    {\n      \"column\": \"island\",\n      \"properties\": {\n        \"dtype\": \"category\",\n        \"num_unique_values\": 3,\n        \"samples\": [\n          \"Torgersen\",\n          \"Biscoe\",\n          \"Dream\"\n        ],\n        \"semantic_type\": \"\",\n        \"description\": \"\"\n      }\n    },\n    {\n      \"column\": \"bill_length_mm\",\n      \"properties\": {\n        \"dtype\": \"number\",\n        \"std\": 5.459583713926532,\n        \"min\": 32.1,\n        \"max\": 59.6,\n        \"num_unique_values\": 164,\n        \"samples\": [\n          48.2,\n          49.8,\n          45.1\n        ],\n        \"semantic_type\": \"\",\n        \"description\": \"\"\n      }\n    },\n    {\n      \"column\": \"bill_depth_mm\",\n      \"properties\": {\n        \"dtype\": \"number\",\n        \"std\": 1.9747931568167816,\n        \"min\": 13.1,\n        \"max\": 21.5,\n        \"num_unique_values\": 80,\n        \"samples\": [\n          16.9,\n          18.7,\n          18.6\n        ],\n        \"semantic_type\": \"\",\n        \"description\": \"\"\n      }\n    },\n    {\n      \"column\": \"flipper_length_mm\",\n      \"properties\": {\n        \"dtype\": \"number\",\n        \"std\": 14.061713679356894,\n        \"min\": 172.0,\n        \"max\": 231.0,\n        \"num_unique_values\": 55,\n        \"samples\": [\n          201.0,\n          180.0,\n          212.0\n        ],\n        \"semantic_type\": \"\",\n        \"description\": \"\"\n      }\n    },\n    {\n      \"column\": \"body_mass_g\",\n      \"properties\": {\n        \"dtype\": \"number\",\n        \"std\": 801.9545356980954,\n        \"min\": 2700.0,\n        \"max\": 6300.0,\n        \"num_unique_values\": 94,\n        \"samples\": [\n          4350.0,\n          4150.0,\n          3525.0\n        ],\n        \"semantic_type\": \"\",\n        \"description\": \"\"\n      }\n    },\n    {\n      \"column\": \"sex\",\n      \"properties\": {\n        \"dtype\": \"category\",\n        \"num_unique_values\": 2,\n        \"samples\": [\n          \"Female\",\n          \"Male\"\n        ],\n        \"semantic_type\": \"\",\n        \"description\": \"\"\n      }\n    }\n  ]\n}"
            }
          },
          "metadata": {},
          "execution_count": 19
        }
      ],
      "source": [
        "df_penguins.head()"
      ]
    },
    {
      "cell_type": "markdown",
      "id": "c841930d-e235-468a-809d-8427f8739076",
      "metadata": {
        "id": "c841930d-e235-468a-809d-8427f8739076"
      },
      "source": [
        "**14.** How can you return the unique species of penguins from df_penguins?  How many unique species are there?"
      ]
    },
    {
      "cell_type": "code",
      "execution_count": null,
      "id": "130ed9bd-397b-4504-bf26-6b0dc716ba8b",
      "metadata": {
        "id": "130ed9bd-397b-4504-bf26-6b0dc716ba8b",
        "colab": {
          "base_uri": "https://localhost:8080/"
        },
        "outputId": "ab26e2c8-c51c-4149-8695-d7b73960a15a"
      },
      "outputs": [
        {
          "output_type": "stream",
          "name": "stdout",
          "text": [
            "['Adelie' 'Chinstrap' 'Gentoo']\n"
          ]
        },
        {
          "output_type": "execute_result",
          "data": {
            "text/plain": [
              "3"
            ]
          },
          "metadata": {},
          "execution_count": 21
        }
      ],
      "source": [
        "print(df_penguins['species'].unique())\n",
        "len(df_penguins['species'].unique())"
      ]
    },
    {
      "cell_type": "markdown",
      "id": "3912a3df-d931-4d74-a6fa-34ad11f83f94",
      "metadata": {
        "id": "3912a3df-d931-4d74-a6fa-34ad11f83f94"
      },
      "source": [
        "**15.** What function can we use to drop the rows that have missing data?"
      ]
    },
    {
      "cell_type": "code",
      "execution_count": null,
      "id": "436cf3d3-db4a-42e3-81d3-9f2df28265f1",
      "metadata": {
        "id": "436cf3d3-db4a-42e3-81d3-9f2df28265f1",
        "colab": {
          "base_uri": "https://localhost:8080/",
          "height": 423
        },
        "outputId": "817273e8-17fa-4e26-e559-14aaec9cef8e"
      },
      "outputs": [
        {
          "output_type": "execute_result",
          "data": {
            "text/plain": [
              "    species     island  bill_length_mm  bill_depth_mm  flipper_length_mm  \\\n",
              "0    Adelie  Torgersen            39.1           18.7              181.0   \n",
              "1    Adelie  Torgersen            39.5           17.4              186.0   \n",
              "2    Adelie  Torgersen            40.3           18.0              195.0   \n",
              "4    Adelie  Torgersen            36.7           19.3              193.0   \n",
              "5    Adelie  Torgersen            39.3           20.6              190.0   \n",
              "..      ...        ...             ...            ...                ...   \n",
              "338  Gentoo     Biscoe            47.2           13.7              214.0   \n",
              "340  Gentoo     Biscoe            46.8           14.3              215.0   \n",
              "341  Gentoo     Biscoe            50.4           15.7              222.0   \n",
              "342  Gentoo     Biscoe            45.2           14.8              212.0   \n",
              "343  Gentoo     Biscoe            49.9           16.1              213.0   \n",
              "\n",
              "     body_mass_g     sex  \n",
              "0         3750.0    Male  \n",
              "1         3800.0  Female  \n",
              "2         3250.0  Female  \n",
              "4         3450.0  Female  \n",
              "5         3650.0    Male  \n",
              "..           ...     ...  \n",
              "338       4925.0  Female  \n",
              "340       4850.0  Female  \n",
              "341       5750.0    Male  \n",
              "342       5200.0  Female  \n",
              "343       5400.0    Male  \n",
              "\n",
              "[333 rows x 7 columns]"
            ],
            "text/html": [
              "\n",
              "  <div id=\"df-d04f18dd-ca01-4d6d-af9a-23ae9ea05ed8\" class=\"colab-df-container\">\n",
              "    <div>\n",
              "<style scoped>\n",
              "    .dataframe tbody tr th:only-of-type {\n",
              "        vertical-align: middle;\n",
              "    }\n",
              "\n",
              "    .dataframe tbody tr th {\n",
              "        vertical-align: top;\n",
              "    }\n",
              "\n",
              "    .dataframe thead th {\n",
              "        text-align: right;\n",
              "    }\n",
              "</style>\n",
              "<table border=\"1\" class=\"dataframe\">\n",
              "  <thead>\n",
              "    <tr style=\"text-align: right;\">\n",
              "      <th></th>\n",
              "      <th>species</th>\n",
              "      <th>island</th>\n",
              "      <th>bill_length_mm</th>\n",
              "      <th>bill_depth_mm</th>\n",
              "      <th>flipper_length_mm</th>\n",
              "      <th>body_mass_g</th>\n",
              "      <th>sex</th>\n",
              "    </tr>\n",
              "  </thead>\n",
              "  <tbody>\n",
              "    <tr>\n",
              "      <th>0</th>\n",
              "      <td>Adelie</td>\n",
              "      <td>Torgersen</td>\n",
              "      <td>39.1</td>\n",
              "      <td>18.7</td>\n",
              "      <td>181.0</td>\n",
              "      <td>3750.0</td>\n",
              "      <td>Male</td>\n",
              "    </tr>\n",
              "    <tr>\n",
              "      <th>1</th>\n",
              "      <td>Adelie</td>\n",
              "      <td>Torgersen</td>\n",
              "      <td>39.5</td>\n",
              "      <td>17.4</td>\n",
              "      <td>186.0</td>\n",
              "      <td>3800.0</td>\n",
              "      <td>Female</td>\n",
              "    </tr>\n",
              "    <tr>\n",
              "      <th>2</th>\n",
              "      <td>Adelie</td>\n",
              "      <td>Torgersen</td>\n",
              "      <td>40.3</td>\n",
              "      <td>18.0</td>\n",
              "      <td>195.0</td>\n",
              "      <td>3250.0</td>\n",
              "      <td>Female</td>\n",
              "    </tr>\n",
              "    <tr>\n",
              "      <th>4</th>\n",
              "      <td>Adelie</td>\n",
              "      <td>Torgersen</td>\n",
              "      <td>36.7</td>\n",
              "      <td>19.3</td>\n",
              "      <td>193.0</td>\n",
              "      <td>3450.0</td>\n",
              "      <td>Female</td>\n",
              "    </tr>\n",
              "    <tr>\n",
              "      <th>5</th>\n",
              "      <td>Adelie</td>\n",
              "      <td>Torgersen</td>\n",
              "      <td>39.3</td>\n",
              "      <td>20.6</td>\n",
              "      <td>190.0</td>\n",
              "      <td>3650.0</td>\n",
              "      <td>Male</td>\n",
              "    </tr>\n",
              "    <tr>\n",
              "      <th>...</th>\n",
              "      <td>...</td>\n",
              "      <td>...</td>\n",
              "      <td>...</td>\n",
              "      <td>...</td>\n",
              "      <td>...</td>\n",
              "      <td>...</td>\n",
              "      <td>...</td>\n",
              "    </tr>\n",
              "    <tr>\n",
              "      <th>338</th>\n",
              "      <td>Gentoo</td>\n",
              "      <td>Biscoe</td>\n",
              "      <td>47.2</td>\n",
              "      <td>13.7</td>\n",
              "      <td>214.0</td>\n",
              "      <td>4925.0</td>\n",
              "      <td>Female</td>\n",
              "    </tr>\n",
              "    <tr>\n",
              "      <th>340</th>\n",
              "      <td>Gentoo</td>\n",
              "      <td>Biscoe</td>\n",
              "      <td>46.8</td>\n",
              "      <td>14.3</td>\n",
              "      <td>215.0</td>\n",
              "      <td>4850.0</td>\n",
              "      <td>Female</td>\n",
              "    </tr>\n",
              "    <tr>\n",
              "      <th>341</th>\n",
              "      <td>Gentoo</td>\n",
              "      <td>Biscoe</td>\n",
              "      <td>50.4</td>\n",
              "      <td>15.7</td>\n",
              "      <td>222.0</td>\n",
              "      <td>5750.0</td>\n",
              "      <td>Male</td>\n",
              "    </tr>\n",
              "    <tr>\n",
              "      <th>342</th>\n",
              "      <td>Gentoo</td>\n",
              "      <td>Biscoe</td>\n",
              "      <td>45.2</td>\n",
              "      <td>14.8</td>\n",
              "      <td>212.0</td>\n",
              "      <td>5200.0</td>\n",
              "      <td>Female</td>\n",
              "    </tr>\n",
              "    <tr>\n",
              "      <th>343</th>\n",
              "      <td>Gentoo</td>\n",
              "      <td>Biscoe</td>\n",
              "      <td>49.9</td>\n",
              "      <td>16.1</td>\n",
              "      <td>213.0</td>\n",
              "      <td>5400.0</td>\n",
              "      <td>Male</td>\n",
              "    </tr>\n",
              "  </tbody>\n",
              "</table>\n",
              "<p>333 rows × 7 columns</p>\n",
              "</div>\n",
              "    <div class=\"colab-df-buttons\">\n",
              "\n",
              "  <div class=\"colab-df-container\">\n",
              "    <button class=\"colab-df-convert\" onclick=\"convertToInteractive('df-d04f18dd-ca01-4d6d-af9a-23ae9ea05ed8')\"\n",
              "            title=\"Convert this dataframe to an interactive table.\"\n",
              "            style=\"display:none;\">\n",
              "\n",
              "  <svg xmlns=\"http://www.w3.org/2000/svg\" height=\"24px\" viewBox=\"0 -960 960 960\">\n",
              "    <path d=\"M120-120v-720h720v720H120Zm60-500h600v-160H180v160Zm220 220h160v-160H400v160Zm0 220h160v-160H400v160ZM180-400h160v-160H180v160Zm440 0h160v-160H620v160ZM180-180h160v-160H180v160Zm440 0h160v-160H620v160Z\"/>\n",
              "  </svg>\n",
              "    </button>\n",
              "\n",
              "  <style>\n",
              "    .colab-df-container {\n",
              "      display:flex;\n",
              "      gap: 12px;\n",
              "    }\n",
              "\n",
              "    .colab-df-convert {\n",
              "      background-color: #E8F0FE;\n",
              "      border: none;\n",
              "      border-radius: 50%;\n",
              "      cursor: pointer;\n",
              "      display: none;\n",
              "      fill: #1967D2;\n",
              "      height: 32px;\n",
              "      padding: 0 0 0 0;\n",
              "      width: 32px;\n",
              "    }\n",
              "\n",
              "    .colab-df-convert:hover {\n",
              "      background-color: #E2EBFA;\n",
              "      box-shadow: 0px 1px 2px rgba(60, 64, 67, 0.3), 0px 1px 3px 1px rgba(60, 64, 67, 0.15);\n",
              "      fill: #174EA6;\n",
              "    }\n",
              "\n",
              "    .colab-df-buttons div {\n",
              "      margin-bottom: 4px;\n",
              "    }\n",
              "\n",
              "    [theme=dark] .colab-df-convert {\n",
              "      background-color: #3B4455;\n",
              "      fill: #D2E3FC;\n",
              "    }\n",
              "\n",
              "    [theme=dark] .colab-df-convert:hover {\n",
              "      background-color: #434B5C;\n",
              "      box-shadow: 0px 1px 3px 1px rgba(0, 0, 0, 0.15);\n",
              "      filter: drop-shadow(0px 1px 2px rgba(0, 0, 0, 0.3));\n",
              "      fill: #FFFFFF;\n",
              "    }\n",
              "  </style>\n",
              "\n",
              "    <script>\n",
              "      const buttonEl =\n",
              "        document.querySelector('#df-d04f18dd-ca01-4d6d-af9a-23ae9ea05ed8 button.colab-df-convert');\n",
              "      buttonEl.style.display =\n",
              "        google.colab.kernel.accessAllowed ? 'block' : 'none';\n",
              "\n",
              "      async function convertToInteractive(key) {\n",
              "        const element = document.querySelector('#df-d04f18dd-ca01-4d6d-af9a-23ae9ea05ed8');\n",
              "        const dataTable =\n",
              "          await google.colab.kernel.invokeFunction('convertToInteractive',\n",
              "                                                    [key], {});\n",
              "        if (!dataTable) return;\n",
              "\n",
              "        const docLinkHtml = 'Like what you see? Visit the ' +\n",
              "          '<a target=\"_blank\" href=https://colab.research.google.com/notebooks/data_table.ipynb>data table notebook</a>'\n",
              "          + ' to learn more about interactive tables.';\n",
              "        element.innerHTML = '';\n",
              "        dataTable['output_type'] = 'display_data';\n",
              "        await google.colab.output.renderOutput(dataTable, element);\n",
              "        const docLink = document.createElement('div');\n",
              "        docLink.innerHTML = docLinkHtml;\n",
              "        element.appendChild(docLink);\n",
              "      }\n",
              "    </script>\n",
              "  </div>\n",
              "\n",
              "\n",
              "<div id=\"df-256fbabd-9181-4e2c-8b47-deaa168adb72\">\n",
              "  <button class=\"colab-df-quickchart\" onclick=\"quickchart('df-256fbabd-9181-4e2c-8b47-deaa168adb72')\"\n",
              "            title=\"Suggest charts\"\n",
              "            style=\"display:none;\">\n",
              "\n",
              "<svg xmlns=\"http://www.w3.org/2000/svg\" height=\"24px\"viewBox=\"0 0 24 24\"\n",
              "     width=\"24px\">\n",
              "    <g>\n",
              "        <path d=\"M19 3H5c-1.1 0-2 .9-2 2v14c0 1.1.9 2 2 2h14c1.1 0 2-.9 2-2V5c0-1.1-.9-2-2-2zM9 17H7v-7h2v7zm4 0h-2V7h2v10zm4 0h-2v-4h2v4z\"/>\n",
              "    </g>\n",
              "</svg>\n",
              "  </button>\n",
              "\n",
              "<style>\n",
              "  .colab-df-quickchart {\n",
              "      --bg-color: #E8F0FE;\n",
              "      --fill-color: #1967D2;\n",
              "      --hover-bg-color: #E2EBFA;\n",
              "      --hover-fill-color: #174EA6;\n",
              "      --disabled-fill-color: #AAA;\n",
              "      --disabled-bg-color: #DDD;\n",
              "  }\n",
              "\n",
              "  [theme=dark] .colab-df-quickchart {\n",
              "      --bg-color: #3B4455;\n",
              "      --fill-color: #D2E3FC;\n",
              "      --hover-bg-color: #434B5C;\n",
              "      --hover-fill-color: #FFFFFF;\n",
              "      --disabled-bg-color: #3B4455;\n",
              "      --disabled-fill-color: #666;\n",
              "  }\n",
              "\n",
              "  .colab-df-quickchart {\n",
              "    background-color: var(--bg-color);\n",
              "    border: none;\n",
              "    border-radius: 50%;\n",
              "    cursor: pointer;\n",
              "    display: none;\n",
              "    fill: var(--fill-color);\n",
              "    height: 32px;\n",
              "    padding: 0;\n",
              "    width: 32px;\n",
              "  }\n",
              "\n",
              "  .colab-df-quickchart:hover {\n",
              "    background-color: var(--hover-bg-color);\n",
              "    box-shadow: 0 1px 2px rgba(60, 64, 67, 0.3), 0 1px 3px 1px rgba(60, 64, 67, 0.15);\n",
              "    fill: var(--button-hover-fill-color);\n",
              "  }\n",
              "\n",
              "  .colab-df-quickchart-complete:disabled,\n",
              "  .colab-df-quickchart-complete:disabled:hover {\n",
              "    background-color: var(--disabled-bg-color);\n",
              "    fill: var(--disabled-fill-color);\n",
              "    box-shadow: none;\n",
              "  }\n",
              "\n",
              "  .colab-df-spinner {\n",
              "    border: 2px solid var(--fill-color);\n",
              "    border-color: transparent;\n",
              "    border-bottom-color: var(--fill-color);\n",
              "    animation:\n",
              "      spin 1s steps(1) infinite;\n",
              "  }\n",
              "\n",
              "  @keyframes spin {\n",
              "    0% {\n",
              "      border-color: transparent;\n",
              "      border-bottom-color: var(--fill-color);\n",
              "      border-left-color: var(--fill-color);\n",
              "    }\n",
              "    20% {\n",
              "      border-color: transparent;\n",
              "      border-left-color: var(--fill-color);\n",
              "      border-top-color: var(--fill-color);\n",
              "    }\n",
              "    30% {\n",
              "      border-color: transparent;\n",
              "      border-left-color: var(--fill-color);\n",
              "      border-top-color: var(--fill-color);\n",
              "      border-right-color: var(--fill-color);\n",
              "    }\n",
              "    40% {\n",
              "      border-color: transparent;\n",
              "      border-right-color: var(--fill-color);\n",
              "      border-top-color: var(--fill-color);\n",
              "    }\n",
              "    60% {\n",
              "      border-color: transparent;\n",
              "      border-right-color: var(--fill-color);\n",
              "    }\n",
              "    80% {\n",
              "      border-color: transparent;\n",
              "      border-right-color: var(--fill-color);\n",
              "      border-bottom-color: var(--fill-color);\n",
              "    }\n",
              "    90% {\n",
              "      border-color: transparent;\n",
              "      border-bottom-color: var(--fill-color);\n",
              "    }\n",
              "  }\n",
              "</style>\n",
              "\n",
              "  <script>\n",
              "    async function quickchart(key) {\n",
              "      const quickchartButtonEl =\n",
              "        document.querySelector('#' + key + ' button');\n",
              "      quickchartButtonEl.disabled = true;  // To prevent multiple clicks.\n",
              "      quickchartButtonEl.classList.add('colab-df-spinner');\n",
              "      try {\n",
              "        const charts = await google.colab.kernel.invokeFunction(\n",
              "            'suggestCharts', [key], {});\n",
              "      } catch (error) {\n",
              "        console.error('Error during call to suggestCharts:', error);\n",
              "      }\n",
              "      quickchartButtonEl.classList.remove('colab-df-spinner');\n",
              "      quickchartButtonEl.classList.add('colab-df-quickchart-complete');\n",
              "    }\n",
              "    (() => {\n",
              "      let quickchartButtonEl =\n",
              "        document.querySelector('#df-256fbabd-9181-4e2c-8b47-deaa168adb72 button');\n",
              "      quickchartButtonEl.style.display =\n",
              "        google.colab.kernel.accessAllowed ? 'block' : 'none';\n",
              "    })();\n",
              "  </script>\n",
              "</div>\n",
              "\n",
              "    </div>\n",
              "  </div>\n"
            ],
            "application/vnd.google.colaboratory.intrinsic+json": {
              "type": "dataframe",
              "summary": "{\n  \"name\": \"df_penguins\",\n  \"rows\": 333,\n  \"fields\": [\n    {\n      \"column\": \"species\",\n      \"properties\": {\n        \"dtype\": \"category\",\n        \"num_unique_values\": 3,\n        \"samples\": [\n          \"Adelie\",\n          \"Chinstrap\",\n          \"Gentoo\"\n        ],\n        \"semantic_type\": \"\",\n        \"description\": \"\"\n      }\n    },\n    {\n      \"column\": \"island\",\n      \"properties\": {\n        \"dtype\": \"category\",\n        \"num_unique_values\": 3,\n        \"samples\": [\n          \"Torgersen\",\n          \"Biscoe\",\n          \"Dream\"\n        ],\n        \"semantic_type\": \"\",\n        \"description\": \"\"\n      }\n    },\n    {\n      \"column\": \"bill_length_mm\",\n      \"properties\": {\n        \"dtype\": \"number\",\n        \"std\": 5.468668342647562,\n        \"min\": 32.1,\n        \"max\": 59.6,\n        \"num_unique_values\": 163,\n        \"samples\": [\n          59.6,\n          48.1,\n          46.3\n        ],\n        \"semantic_type\": \"\",\n        \"description\": \"\"\n      }\n    },\n    {\n      \"column\": \"bill_depth_mm\",\n      \"properties\": {\n        \"dtype\": \"number\",\n        \"std\": 1.9692354633199,\n        \"min\": 13.1,\n        \"max\": 21.5,\n        \"num_unique_values\": 79,\n        \"samples\": [\n          19.5,\n          18.7,\n          17.0\n        ],\n        \"semantic_type\": \"\",\n        \"description\": \"\"\n      }\n    },\n    {\n      \"column\": \"flipper_length_mm\",\n      \"properties\": {\n        \"dtype\": \"number\",\n        \"std\": 14.015765288287882,\n        \"min\": 172.0,\n        \"max\": 231.0,\n        \"num_unique_values\": 54,\n        \"samples\": [\n          188.0,\n          231.0,\n          224.0\n        ],\n        \"semantic_type\": \"\",\n        \"description\": \"\"\n      }\n    },\n    {\n      \"column\": \"body_mass_g\",\n      \"properties\": {\n        \"dtype\": \"number\",\n        \"std\": 805.2158019428966,\n        \"min\": 2700.0,\n        \"max\": 6300.0,\n        \"num_unique_values\": 93,\n        \"samples\": [\n          4725.0,\n          3100.0,\n          3575.0\n        ],\n        \"semantic_type\": \"\",\n        \"description\": \"\"\n      }\n    },\n    {\n      \"column\": \"sex\",\n      \"properties\": {\n        \"dtype\": \"category\",\n        \"num_unique_values\": 2,\n        \"samples\": [\n          \"Female\",\n          \"Male\"\n        ],\n        \"semantic_type\": \"\",\n        \"description\": \"\"\n      }\n    }\n  ]\n}"
            }
          },
          "metadata": {},
          "execution_count": 22
        }
      ],
      "source": [
        "df_penguins.dropna()"
      ]
    },
    {
      "cell_type": "markdown",
      "id": "f1feab44-7136-4736-a11c-ee005fdb0698",
      "metadata": {
        "id": "f1feab44-7136-4736-a11c-ee005fdb0698"
      },
      "source": [
        "**16.** By default, will this modify df_penguins or will it return a copy?"
      ]
    },
    {
      "cell_type": "markdown",
      "id": "8b0981bc-d8b1-42a5-9df6-e2723f61013c",
      "metadata": {
        "id": "8b0981bc-d8b1-42a5-9df6-e2723f61013c"
      },
      "source": [
        "copy"
      ]
    },
    {
      "cell_type": "markdown",
      "id": "7f35c024-ac5c-43e0-8ea7-3e03953f644b",
      "metadata": {
        "id": "7f35c024-ac5c-43e0-8ea7-3e03953f644b"
      },
      "source": [
        "**17.** How can we override the default?"
      ]
    },
    {
      "cell_type": "markdown",
      "id": "3f62e100-1000-40df-b21b-6af919fbb945",
      "metadata": {
        "id": "3f62e100-1000-40df-b21b-6af919fbb945"
      },
      "source": [
        "inplace = True"
      ]
    },
    {
      "cell_type": "markdown",
      "id": "a17f9c69-c8e2-4331-b9c7-c5be6a13a968",
      "metadata": {
        "id": "a17f9c69-c8e2-4331-b9c7-c5be6a13a968"
      },
      "source": [
        "**18.** Create a new DataFrame, df_penguins_full, with the missing data deleted."
      ]
    },
    {
      "cell_type": "code",
      "execution_count": null,
      "id": "f160094c-ba0c-4fe1-96f0-d6b23e8162c9",
      "metadata": {
        "id": "f160094c-ba0c-4fe1-96f0-d6b23e8162c9",
        "colab": {
          "base_uri": "https://localhost:8080/"
        },
        "outputId": "88a8a041-4ac0-4995-d611-1e796829035a"
      },
      "outputs": [
        {
          "output_type": "stream",
          "name": "stdout",
          "text": [
            "    species     island  bill_length_mm  bill_depth_mm  flipper_length_mm  \\\n",
            "0    Adelie  Torgersen            39.1           18.7              181.0   \n",
            "1    Adelie  Torgersen            39.5           17.4              186.0   \n",
            "2    Adelie  Torgersen            40.3           18.0              195.0   \n",
            "4    Adelie  Torgersen            36.7           19.3              193.0   \n",
            "5    Adelie  Torgersen            39.3           20.6              190.0   \n",
            "..      ...        ...             ...            ...                ...   \n",
            "338  Gentoo     Biscoe            47.2           13.7              214.0   \n",
            "340  Gentoo     Biscoe            46.8           14.3              215.0   \n",
            "341  Gentoo     Biscoe            50.4           15.7              222.0   \n",
            "342  Gentoo     Biscoe            45.2           14.8              212.0   \n",
            "343  Gentoo     Biscoe            49.9           16.1              213.0   \n",
            "\n",
            "     body_mass_g     sex  \n",
            "0         3750.0    Male  \n",
            "1         3800.0  Female  \n",
            "2         3250.0  Female  \n",
            "4         3450.0  Female  \n",
            "5         3650.0    Male  \n",
            "..           ...     ...  \n",
            "338       4925.0  Female  \n",
            "340       4850.0  Female  \n",
            "341       5750.0    Male  \n",
            "342       5200.0  Female  \n",
            "343       5400.0    Male  \n",
            "\n",
            "[333 rows x 7 columns]\n"
          ]
        }
      ],
      "source": [
        "df_penguins_full = df_penguins.dropna()\n",
        "print(df_penguins_full)"
      ]
    },
    {
      "cell_type": "markdown",
      "id": "c34afa01-c0c4-40fa-b3a6-3b7c6abc58e1",
      "metadata": {
        "id": "c34afa01-c0c4-40fa-b3a6-3b7c6abc58e1"
      },
      "source": [
        "**19.** What is the average bill length of a penguin, in millimeters, in this (df_full) data set?"
      ]
    },
    {
      "cell_type": "code",
      "execution_count": null,
      "id": "6012e669-3c97-4949-be33-3e44daf9534a",
      "metadata": {
        "id": "6012e669-3c97-4949-be33-3e44daf9534a",
        "colab": {
          "base_uri": "https://localhost:8080/"
        },
        "outputId": "f9abb270-b525-41c9-8c09-c7032cf628f0"
      },
      "outputs": [
        {
          "output_type": "execute_result",
          "data": {
            "text/plain": [
              "43.99279279279279"
            ]
          },
          "metadata": {},
          "execution_count": 24
        }
      ],
      "source": [
        "df_penguins_full['bill_length_mm'].mean()"
      ]
    },
    {
      "cell_type": "markdown",
      "id": "38076367-ae05-4567-8963-12b5e0d77214",
      "metadata": {
        "id": "38076367-ae05-4567-8963-12b5e0d77214"
      },
      "source": [
        "**20.** Which of the following is most strongly correlated with bill length?  a) Body mass?  b) Flipper length?  c) Bill depth?  Show how you arrived at the answer."
      ]
    },
    {
      "cell_type": "markdown",
      "id": "2edbbf08-8f1d-40ea-b137-cdcdbfe02787",
      "metadata": {
        "id": "2edbbf08-8f1d-40ea-b137-cdcdbfe02787"
      },
      "source": []
    },
    {
      "cell_type": "code",
      "execution_count": null,
      "id": "93840bc0-eda0-48fd-b14d-4405a484c547",
      "metadata": {
        "id": "93840bc0-eda0-48fd-b14d-4405a484c547",
        "colab": {
          "base_uri": "https://localhost:8080/"
        },
        "outputId": "b1930046-cf12-4fc9-e449-d548c5184736"
      },
      "outputs": [
        {
          "output_type": "stream",
          "name": "stdout",
          "text": [
            "                   bill_length_mm  body_mass_g  flipper_length_mm  \\\n",
            "bill_length_mm           1.000000     0.595110           0.656181   \n",
            "body_mass_g              0.595110     1.000000           0.871202   \n",
            "flipper_length_mm        0.656181     0.871202           1.000000   \n",
            "bill_depth_mm           -0.235053    -0.471916          -0.583851   \n",
            "\n",
            "                   bill_depth_mm  \n",
            "bill_length_mm         -0.235053  \n",
            "body_mass_g            -0.471916  \n",
            "flipper_length_mm      -0.583851  \n",
            "bill_depth_mm           1.000000  \n",
            "Correlations with Bill Length:\n",
            "body_mass_g          0.595110\n",
            "flipper_length_mm    0.656181\n",
            "bill_depth_mm       -0.235053\n",
            "Name: bill_length_mm, dtype: float64\n",
            "\n",
            "The variable most strongly correlated with bill length is: flipper_length_mm\n"
          ]
        }
      ],
      "source": [
        "correlations = df_penguins[['bill_length_mm', 'body_mass_g', 'flipper_length_mm', 'bill_depth_mm']].corr()\n",
        "print(correlations)\n",
        "bill_length_corr = correlations['bill_length_mm'][['body_mass_g', 'flipper_length_mm', 'bill_depth_mm']]\n",
        "print(\"Correlations with Bill Length:\")\n",
        "print(bill_length_corr)\n",
        "strongest = bill_length_corr.idxmax()\n",
        "print(f\"\\nThe variable most strongly correlated with bill length is: {strongest}\")"
      ]
    },
    {
      "cell_type": "markdown",
      "id": "538ed22f-f2c0-46df-bf41-6a27246e356d",
      "metadata": {
        "id": "538ed22f-f2c0-46df-bf41-6a27246e356d"
      },
      "source": [
        "**21.** How could you show the median flipper length, grouped by species?"
      ]
    },
    {
      "cell_type": "code",
      "execution_count": null,
      "id": "a39321c8-1822-4078-91f9-6f9a36a3bab7",
      "metadata": {
        "id": "a39321c8-1822-4078-91f9-6f9a36a3bab7",
        "colab": {
          "base_uri": "https://localhost:8080/",
          "height": 209
        },
        "outputId": "22981c43-9b61-4a43-cbd1-e83bbe279de8"
      },
      "outputs": [
        {
          "output_type": "execute_result",
          "data": {
            "text/plain": [
              "species\n",
              "Adelie       190.0\n",
              "Chinstrap    196.0\n",
              "Gentoo       216.0\n",
              "Name: flipper_length_mm, dtype: float64"
            ],
            "text/html": [
              "<div>\n",
              "<style scoped>\n",
              "    .dataframe tbody tr th:only-of-type {\n",
              "        vertical-align: middle;\n",
              "    }\n",
              "\n",
              "    .dataframe tbody tr th {\n",
              "        vertical-align: top;\n",
              "    }\n",
              "\n",
              "    .dataframe thead th {\n",
              "        text-align: right;\n",
              "    }\n",
              "</style>\n",
              "<table border=\"1\" class=\"dataframe\">\n",
              "  <thead>\n",
              "    <tr style=\"text-align: right;\">\n",
              "      <th></th>\n",
              "      <th>flipper_length_mm</th>\n",
              "    </tr>\n",
              "    <tr>\n",
              "      <th>species</th>\n",
              "      <th></th>\n",
              "    </tr>\n",
              "  </thead>\n",
              "  <tbody>\n",
              "    <tr>\n",
              "      <th>Adelie</th>\n",
              "      <td>190.0</td>\n",
              "    </tr>\n",
              "    <tr>\n",
              "      <th>Chinstrap</th>\n",
              "      <td>196.0</td>\n",
              "    </tr>\n",
              "    <tr>\n",
              "      <th>Gentoo</th>\n",
              "      <td>216.0</td>\n",
              "    </tr>\n",
              "  </tbody>\n",
              "</table>\n",
              "</div><br><label><b>dtype:</b> float64</label>"
            ]
          },
          "metadata": {},
          "execution_count": 29
        }
      ],
      "source": [
        "df_penguins.groupby('species')['flipper_length_mm'].median()"
      ]
    },
    {
      "cell_type": "markdown",
      "id": "0d6ff0a0-f72b-47a0-a8c5-50cf2e9c8ef4",
      "metadata": {
        "id": "0d6ff0a0-f72b-47a0-a8c5-50cf2e9c8ef4"
      },
      "source": [
        "**22.** Which species has the longest flippers?"
      ]
    },
    {
      "cell_type": "markdown",
      "id": "20f5ec8f-1580-438d-8ddb-ad2eeabed1ba",
      "metadata": {
        "id": "20f5ec8f-1580-438d-8ddb-ad2eeabed1ba"
      },
      "source": [
        "Gentoo"
      ]
    },
    {
      "cell_type": "markdown",
      "id": "f50dacfd-a59d-4763-b8bf-004a02d8f05f",
      "metadata": {
        "id": "f50dacfd-a59d-4763-b8bf-004a02d8f05f"
      },
      "source": [
        "**23.** Which two species have the most similar mean weight?  Show how you arrived at the answer."
      ]
    },
    {
      "cell_type": "markdown",
      "id": "be5582aa-447d-4645-85cd-072894fcbb82",
      "metadata": {
        "id": "be5582aa-447d-4645-85cd-072894fcbb82"
      },
      "source": [
        "adelie and chinstrap"
      ]
    },
    {
      "cell_type": "code",
      "execution_count": null,
      "id": "c61f152b-d401-4c28-aea1-014d01100136",
      "metadata": {
        "id": "c61f152b-d401-4c28-aea1-014d01100136",
        "colab": {
          "base_uri": "https://localhost:8080/",
          "height": 209
        },
        "outputId": "574f03e8-cb7a-4e36-b233-acf4a32c60b2"
      },
      "outputs": [
        {
          "output_type": "execute_result",
          "data": {
            "text/plain": [
              "species\n",
              "Adelie       3700.662252\n",
              "Chinstrap    3733.088235\n",
              "Gentoo       5076.016260\n",
              "Name: body_mass_g, dtype: float64"
            ],
            "text/html": [
              "<div>\n",
              "<style scoped>\n",
              "    .dataframe tbody tr th:only-of-type {\n",
              "        vertical-align: middle;\n",
              "    }\n",
              "\n",
              "    .dataframe tbody tr th {\n",
              "        vertical-align: top;\n",
              "    }\n",
              "\n",
              "    .dataframe thead th {\n",
              "        text-align: right;\n",
              "    }\n",
              "</style>\n",
              "<table border=\"1\" class=\"dataframe\">\n",
              "  <thead>\n",
              "    <tr style=\"text-align: right;\">\n",
              "      <th></th>\n",
              "      <th>body_mass_g</th>\n",
              "    </tr>\n",
              "    <tr>\n",
              "      <th>species</th>\n",
              "      <th></th>\n",
              "    </tr>\n",
              "  </thead>\n",
              "  <tbody>\n",
              "    <tr>\n",
              "      <th>Adelie</th>\n",
              "      <td>3700.662252</td>\n",
              "    </tr>\n",
              "    <tr>\n",
              "      <th>Chinstrap</th>\n",
              "      <td>3733.088235</td>\n",
              "    </tr>\n",
              "    <tr>\n",
              "      <th>Gentoo</th>\n",
              "      <td>5076.016260</td>\n",
              "    </tr>\n",
              "  </tbody>\n",
              "</table>\n",
              "</div><br><label><b>dtype:</b> float64</label>"
            ]
          },
          "metadata": {},
          "execution_count": 30
        }
      ],
      "source": [
        "df_penguins.groupby('species')['body_mass_g'].mean()"
      ]
    },
    {
      "cell_type": "markdown",
      "id": "ddca88e5-374f-4c8a-bf61-26b70a8b3a90",
      "metadata": {
        "id": "ddca88e5-374f-4c8a-bf61-26b70a8b3a90"
      },
      "source": [
        "**24.** How could you sort the rows by bill length?"
      ]
    },
    {
      "cell_type": "code",
      "execution_count": null,
      "id": "4faabd67-0417-45ca-b907-7a170f4e9b71",
      "metadata": {
        "id": "4faabd67-0417-45ca-b907-7a170f4e9b71",
        "colab": {
          "base_uri": "https://localhost:8080/",
          "height": 423
        },
        "outputId": "a8a5c306-abd6-4e27-b78f-26fb8c75eef7"
      },
      "outputs": [
        {
          "output_type": "execute_result",
          "data": {
            "text/plain": [
              "       species     island  bill_length_mm  bill_depth_mm  flipper_length_mm  \\\n",
              "142     Adelie      Dream            32.1           15.5              188.0   \n",
              "98      Adelie      Dream            33.1           16.1              178.0   \n",
              "70      Adelie  Torgersen            33.5           19.0              190.0   \n",
              "92      Adelie      Dream            34.0           17.1              185.0   \n",
              "8       Adelie  Torgersen            34.1           18.1              193.0   \n",
              "..         ...        ...             ...            ...                ...   \n",
              "321     Gentoo     Biscoe            55.9           17.0              228.0   \n",
              "169  Chinstrap      Dream            58.0           17.8              181.0   \n",
              "253     Gentoo     Biscoe            59.6           17.0              230.0   \n",
              "3       Adelie  Torgersen             NaN            NaN                NaN   \n",
              "339     Gentoo     Biscoe             NaN            NaN                NaN   \n",
              "\n",
              "     body_mass_g     sex  \n",
              "142       3050.0  Female  \n",
              "98        2900.0  Female  \n",
              "70        3600.0  Female  \n",
              "92        3400.0  Female  \n",
              "8         3475.0     NaN  \n",
              "..           ...     ...  \n",
              "321       5600.0    Male  \n",
              "169       3700.0  Female  \n",
              "253       6050.0    Male  \n",
              "3            NaN     NaN  \n",
              "339          NaN     NaN  \n",
              "\n",
              "[344 rows x 7 columns]"
            ],
            "text/html": [
              "\n",
              "  <div id=\"df-66a04e5d-09a9-48e6-8507-44808de05835\" class=\"colab-df-container\">\n",
              "    <div>\n",
              "<style scoped>\n",
              "    .dataframe tbody tr th:only-of-type {\n",
              "        vertical-align: middle;\n",
              "    }\n",
              "\n",
              "    .dataframe tbody tr th {\n",
              "        vertical-align: top;\n",
              "    }\n",
              "\n",
              "    .dataframe thead th {\n",
              "        text-align: right;\n",
              "    }\n",
              "</style>\n",
              "<table border=\"1\" class=\"dataframe\">\n",
              "  <thead>\n",
              "    <tr style=\"text-align: right;\">\n",
              "      <th></th>\n",
              "      <th>species</th>\n",
              "      <th>island</th>\n",
              "      <th>bill_length_mm</th>\n",
              "      <th>bill_depth_mm</th>\n",
              "      <th>flipper_length_mm</th>\n",
              "      <th>body_mass_g</th>\n",
              "      <th>sex</th>\n",
              "    </tr>\n",
              "  </thead>\n",
              "  <tbody>\n",
              "    <tr>\n",
              "      <th>142</th>\n",
              "      <td>Adelie</td>\n",
              "      <td>Dream</td>\n",
              "      <td>32.1</td>\n",
              "      <td>15.5</td>\n",
              "      <td>188.0</td>\n",
              "      <td>3050.0</td>\n",
              "      <td>Female</td>\n",
              "    </tr>\n",
              "    <tr>\n",
              "      <th>98</th>\n",
              "      <td>Adelie</td>\n",
              "      <td>Dream</td>\n",
              "      <td>33.1</td>\n",
              "      <td>16.1</td>\n",
              "      <td>178.0</td>\n",
              "      <td>2900.0</td>\n",
              "      <td>Female</td>\n",
              "    </tr>\n",
              "    <tr>\n",
              "      <th>70</th>\n",
              "      <td>Adelie</td>\n",
              "      <td>Torgersen</td>\n",
              "      <td>33.5</td>\n",
              "      <td>19.0</td>\n",
              "      <td>190.0</td>\n",
              "      <td>3600.0</td>\n",
              "      <td>Female</td>\n",
              "    </tr>\n",
              "    <tr>\n",
              "      <th>92</th>\n",
              "      <td>Adelie</td>\n",
              "      <td>Dream</td>\n",
              "      <td>34.0</td>\n",
              "      <td>17.1</td>\n",
              "      <td>185.0</td>\n",
              "      <td>3400.0</td>\n",
              "      <td>Female</td>\n",
              "    </tr>\n",
              "    <tr>\n",
              "      <th>8</th>\n",
              "      <td>Adelie</td>\n",
              "      <td>Torgersen</td>\n",
              "      <td>34.1</td>\n",
              "      <td>18.1</td>\n",
              "      <td>193.0</td>\n",
              "      <td>3475.0</td>\n",
              "      <td>NaN</td>\n",
              "    </tr>\n",
              "    <tr>\n",
              "      <th>...</th>\n",
              "      <td>...</td>\n",
              "      <td>...</td>\n",
              "      <td>...</td>\n",
              "      <td>...</td>\n",
              "      <td>...</td>\n",
              "      <td>...</td>\n",
              "      <td>...</td>\n",
              "    </tr>\n",
              "    <tr>\n",
              "      <th>321</th>\n",
              "      <td>Gentoo</td>\n",
              "      <td>Biscoe</td>\n",
              "      <td>55.9</td>\n",
              "      <td>17.0</td>\n",
              "      <td>228.0</td>\n",
              "      <td>5600.0</td>\n",
              "      <td>Male</td>\n",
              "    </tr>\n",
              "    <tr>\n",
              "      <th>169</th>\n",
              "      <td>Chinstrap</td>\n",
              "      <td>Dream</td>\n",
              "      <td>58.0</td>\n",
              "      <td>17.8</td>\n",
              "      <td>181.0</td>\n",
              "      <td>3700.0</td>\n",
              "      <td>Female</td>\n",
              "    </tr>\n",
              "    <tr>\n",
              "      <th>253</th>\n",
              "      <td>Gentoo</td>\n",
              "      <td>Biscoe</td>\n",
              "      <td>59.6</td>\n",
              "      <td>17.0</td>\n",
              "      <td>230.0</td>\n",
              "      <td>6050.0</td>\n",
              "      <td>Male</td>\n",
              "    </tr>\n",
              "    <tr>\n",
              "      <th>3</th>\n",
              "      <td>Adelie</td>\n",
              "      <td>Torgersen</td>\n",
              "      <td>NaN</td>\n",
              "      <td>NaN</td>\n",
              "      <td>NaN</td>\n",
              "      <td>NaN</td>\n",
              "      <td>NaN</td>\n",
              "    </tr>\n",
              "    <tr>\n",
              "      <th>339</th>\n",
              "      <td>Gentoo</td>\n",
              "      <td>Biscoe</td>\n",
              "      <td>NaN</td>\n",
              "      <td>NaN</td>\n",
              "      <td>NaN</td>\n",
              "      <td>NaN</td>\n",
              "      <td>NaN</td>\n",
              "    </tr>\n",
              "  </tbody>\n",
              "</table>\n",
              "<p>344 rows × 7 columns</p>\n",
              "</div>\n",
              "    <div class=\"colab-df-buttons\">\n",
              "\n",
              "  <div class=\"colab-df-container\">\n",
              "    <button class=\"colab-df-convert\" onclick=\"convertToInteractive('df-66a04e5d-09a9-48e6-8507-44808de05835')\"\n",
              "            title=\"Convert this dataframe to an interactive table.\"\n",
              "            style=\"display:none;\">\n",
              "\n",
              "  <svg xmlns=\"http://www.w3.org/2000/svg\" height=\"24px\" viewBox=\"0 -960 960 960\">\n",
              "    <path d=\"M120-120v-720h720v720H120Zm60-500h600v-160H180v160Zm220 220h160v-160H400v160Zm0 220h160v-160H400v160ZM180-400h160v-160H180v160Zm440 0h160v-160H620v160ZM180-180h160v-160H180v160Zm440 0h160v-160H620v160Z\"/>\n",
              "  </svg>\n",
              "    </button>\n",
              "\n",
              "  <style>\n",
              "    .colab-df-container {\n",
              "      display:flex;\n",
              "      gap: 12px;\n",
              "    }\n",
              "\n",
              "    .colab-df-convert {\n",
              "      background-color: #E8F0FE;\n",
              "      border: none;\n",
              "      border-radius: 50%;\n",
              "      cursor: pointer;\n",
              "      display: none;\n",
              "      fill: #1967D2;\n",
              "      height: 32px;\n",
              "      padding: 0 0 0 0;\n",
              "      width: 32px;\n",
              "    }\n",
              "\n",
              "    .colab-df-convert:hover {\n",
              "      background-color: #E2EBFA;\n",
              "      box-shadow: 0px 1px 2px rgba(60, 64, 67, 0.3), 0px 1px 3px 1px rgba(60, 64, 67, 0.15);\n",
              "      fill: #174EA6;\n",
              "    }\n",
              "\n",
              "    .colab-df-buttons div {\n",
              "      margin-bottom: 4px;\n",
              "    }\n",
              "\n",
              "    [theme=dark] .colab-df-convert {\n",
              "      background-color: #3B4455;\n",
              "      fill: #D2E3FC;\n",
              "    }\n",
              "\n",
              "    [theme=dark] .colab-df-convert:hover {\n",
              "      background-color: #434B5C;\n",
              "      box-shadow: 0px 1px 3px 1px rgba(0, 0, 0, 0.15);\n",
              "      filter: drop-shadow(0px 1px 2px rgba(0, 0, 0, 0.3));\n",
              "      fill: #FFFFFF;\n",
              "    }\n",
              "  </style>\n",
              "\n",
              "    <script>\n",
              "      const buttonEl =\n",
              "        document.querySelector('#df-66a04e5d-09a9-48e6-8507-44808de05835 button.colab-df-convert');\n",
              "      buttonEl.style.display =\n",
              "        google.colab.kernel.accessAllowed ? 'block' : 'none';\n",
              "\n",
              "      async function convertToInteractive(key) {\n",
              "        const element = document.querySelector('#df-66a04e5d-09a9-48e6-8507-44808de05835');\n",
              "        const dataTable =\n",
              "          await google.colab.kernel.invokeFunction('convertToInteractive',\n",
              "                                                    [key], {});\n",
              "        if (!dataTable) return;\n",
              "\n",
              "        const docLinkHtml = 'Like what you see? Visit the ' +\n",
              "          '<a target=\"_blank\" href=https://colab.research.google.com/notebooks/data_table.ipynb>data table notebook</a>'\n",
              "          + ' to learn more about interactive tables.';\n",
              "        element.innerHTML = '';\n",
              "        dataTable['output_type'] = 'display_data';\n",
              "        await google.colab.output.renderOutput(dataTable, element);\n",
              "        const docLink = document.createElement('div');\n",
              "        docLink.innerHTML = docLinkHtml;\n",
              "        element.appendChild(docLink);\n",
              "      }\n",
              "    </script>\n",
              "  </div>\n",
              "\n",
              "\n",
              "<div id=\"df-80f641f8-2475-467a-bb3e-b6ae2fc720f8\">\n",
              "  <button class=\"colab-df-quickchart\" onclick=\"quickchart('df-80f641f8-2475-467a-bb3e-b6ae2fc720f8')\"\n",
              "            title=\"Suggest charts\"\n",
              "            style=\"display:none;\">\n",
              "\n",
              "<svg xmlns=\"http://www.w3.org/2000/svg\" height=\"24px\"viewBox=\"0 0 24 24\"\n",
              "     width=\"24px\">\n",
              "    <g>\n",
              "        <path d=\"M19 3H5c-1.1 0-2 .9-2 2v14c0 1.1.9 2 2 2h14c1.1 0 2-.9 2-2V5c0-1.1-.9-2-2-2zM9 17H7v-7h2v7zm4 0h-2V7h2v10zm4 0h-2v-4h2v4z\"/>\n",
              "    </g>\n",
              "</svg>\n",
              "  </button>\n",
              "\n",
              "<style>\n",
              "  .colab-df-quickchart {\n",
              "      --bg-color: #E8F0FE;\n",
              "      --fill-color: #1967D2;\n",
              "      --hover-bg-color: #E2EBFA;\n",
              "      --hover-fill-color: #174EA6;\n",
              "      --disabled-fill-color: #AAA;\n",
              "      --disabled-bg-color: #DDD;\n",
              "  }\n",
              "\n",
              "  [theme=dark] .colab-df-quickchart {\n",
              "      --bg-color: #3B4455;\n",
              "      --fill-color: #D2E3FC;\n",
              "      --hover-bg-color: #434B5C;\n",
              "      --hover-fill-color: #FFFFFF;\n",
              "      --disabled-bg-color: #3B4455;\n",
              "      --disabled-fill-color: #666;\n",
              "  }\n",
              "\n",
              "  .colab-df-quickchart {\n",
              "    background-color: var(--bg-color);\n",
              "    border: none;\n",
              "    border-radius: 50%;\n",
              "    cursor: pointer;\n",
              "    display: none;\n",
              "    fill: var(--fill-color);\n",
              "    height: 32px;\n",
              "    padding: 0;\n",
              "    width: 32px;\n",
              "  }\n",
              "\n",
              "  .colab-df-quickchart:hover {\n",
              "    background-color: var(--hover-bg-color);\n",
              "    box-shadow: 0 1px 2px rgba(60, 64, 67, 0.3), 0 1px 3px 1px rgba(60, 64, 67, 0.15);\n",
              "    fill: var(--button-hover-fill-color);\n",
              "  }\n",
              "\n",
              "  .colab-df-quickchart-complete:disabled,\n",
              "  .colab-df-quickchart-complete:disabled:hover {\n",
              "    background-color: var(--disabled-bg-color);\n",
              "    fill: var(--disabled-fill-color);\n",
              "    box-shadow: none;\n",
              "  }\n",
              "\n",
              "  .colab-df-spinner {\n",
              "    border: 2px solid var(--fill-color);\n",
              "    border-color: transparent;\n",
              "    border-bottom-color: var(--fill-color);\n",
              "    animation:\n",
              "      spin 1s steps(1) infinite;\n",
              "  }\n",
              "\n",
              "  @keyframes spin {\n",
              "    0% {\n",
              "      border-color: transparent;\n",
              "      border-bottom-color: var(--fill-color);\n",
              "      border-left-color: var(--fill-color);\n",
              "    }\n",
              "    20% {\n",
              "      border-color: transparent;\n",
              "      border-left-color: var(--fill-color);\n",
              "      border-top-color: var(--fill-color);\n",
              "    }\n",
              "    30% {\n",
              "      border-color: transparent;\n",
              "      border-left-color: var(--fill-color);\n",
              "      border-top-color: var(--fill-color);\n",
              "      border-right-color: var(--fill-color);\n",
              "    }\n",
              "    40% {\n",
              "      border-color: transparent;\n",
              "      border-right-color: var(--fill-color);\n",
              "      border-top-color: var(--fill-color);\n",
              "    }\n",
              "    60% {\n",
              "      border-color: transparent;\n",
              "      border-right-color: var(--fill-color);\n",
              "    }\n",
              "    80% {\n",
              "      border-color: transparent;\n",
              "      border-right-color: var(--fill-color);\n",
              "      border-bottom-color: var(--fill-color);\n",
              "    }\n",
              "    90% {\n",
              "      border-color: transparent;\n",
              "      border-bottom-color: var(--fill-color);\n",
              "    }\n",
              "  }\n",
              "</style>\n",
              "\n",
              "  <script>\n",
              "    async function quickchart(key) {\n",
              "      const quickchartButtonEl =\n",
              "        document.querySelector('#' + key + ' button');\n",
              "      quickchartButtonEl.disabled = true;  // To prevent multiple clicks.\n",
              "      quickchartButtonEl.classList.add('colab-df-spinner');\n",
              "      try {\n",
              "        const charts = await google.colab.kernel.invokeFunction(\n",
              "            'suggestCharts', [key], {});\n",
              "      } catch (error) {\n",
              "        console.error('Error during call to suggestCharts:', error);\n",
              "      }\n",
              "      quickchartButtonEl.classList.remove('colab-df-spinner');\n",
              "      quickchartButtonEl.classList.add('colab-df-quickchart-complete');\n",
              "    }\n",
              "    (() => {\n",
              "      let quickchartButtonEl =\n",
              "        document.querySelector('#df-80f641f8-2475-467a-bb3e-b6ae2fc720f8 button');\n",
              "      quickchartButtonEl.style.display =\n",
              "        google.colab.kernel.accessAllowed ? 'block' : 'none';\n",
              "    })();\n",
              "  </script>\n",
              "</div>\n",
              "\n",
              "    </div>\n",
              "  </div>\n"
            ],
            "application/vnd.google.colaboratory.intrinsic+json": {
              "type": "dataframe",
              "summary": "{\n  \"name\": \"df_penguins\",\n  \"rows\": 344,\n  \"fields\": [\n    {\n      \"column\": \"species\",\n      \"properties\": {\n        \"dtype\": \"category\",\n        \"num_unique_values\": 3,\n        \"samples\": [\n          \"Adelie\",\n          \"Gentoo\",\n          \"Chinstrap\"\n        ],\n        \"semantic_type\": \"\",\n        \"description\": \"\"\n      }\n    },\n    {\n      \"column\": \"island\",\n      \"properties\": {\n        \"dtype\": \"category\",\n        \"num_unique_values\": 3,\n        \"samples\": [\n          \"Dream\",\n          \"Torgersen\",\n          \"Biscoe\"\n        ],\n        \"semantic_type\": \"\",\n        \"description\": \"\"\n      }\n    },\n    {\n      \"column\": \"bill_length_mm\",\n      \"properties\": {\n        \"dtype\": \"number\",\n        \"std\": 5.4595837139265315,\n        \"min\": 32.1,\n        \"max\": 59.6,\n        \"num_unique_values\": 164,\n        \"samples\": [\n          50.3,\n          48.1,\n          49.9\n        ],\n        \"semantic_type\": \"\",\n        \"description\": \"\"\n      }\n    },\n    {\n      \"column\": \"bill_depth_mm\",\n      \"properties\": {\n        \"dtype\": \"number\",\n        \"std\": 1.9747931568167807,\n        \"min\": 13.1,\n        \"max\": 21.5,\n        \"num_unique_values\": 80,\n        \"samples\": [\n          18.7,\n          15.5,\n          19.5\n        ],\n        \"semantic_type\": \"\",\n        \"description\": \"\"\n      }\n    },\n    {\n      \"column\": \"flipper_length_mm\",\n      \"properties\": {\n        \"dtype\": \"number\",\n        \"std\": 14.061713679356894,\n        \"min\": 172.0,\n        \"max\": 231.0,\n        \"num_unique_values\": 55,\n        \"samples\": [\n          210.0,\n          184.0,\n          197.0\n        ],\n        \"semantic_type\": \"\",\n        \"description\": \"\"\n      }\n    },\n    {\n      \"column\": \"body_mass_g\",\n      \"properties\": {\n        \"dtype\": \"number\",\n        \"std\": 801.9545356980959,\n        \"min\": 2700.0,\n        \"max\": 6300.0,\n        \"num_unique_values\": 94,\n        \"samples\": [\n          4450.0,\n          3900.0,\n          5000.0\n        ],\n        \"semantic_type\": \"\",\n        \"description\": \"\"\n      }\n    },\n    {\n      \"column\": \"sex\",\n      \"properties\": {\n        \"dtype\": \"category\",\n        \"num_unique_values\": 2,\n        \"samples\": [\n          \"Male\",\n          \"Female\"\n        ],\n        \"semantic_type\": \"\",\n        \"description\": \"\"\n      }\n    }\n  ]\n}"
            }
          },
          "metadata": {},
          "execution_count": 31
        }
      ],
      "source": [
        "df_penguins.sort_values(by='bill_length_mm')"
      ]
    },
    {
      "cell_type": "markdown",
      "id": "56d12fe3-805d-4f79-bf83-e515b5070229",
      "metadata": {
        "id": "56d12fe3-805d-4f79-bf83-e515b5070229"
      },
      "source": [
        "**25.** How could you run the same sort in descending order?"
      ]
    },
    {
      "cell_type": "code",
      "execution_count": null,
      "id": "02544f08-974e-463c-a2da-ac0b3ba3ff0d",
      "metadata": {
        "id": "02544f08-974e-463c-a2da-ac0b3ba3ff0d",
        "colab": {
          "base_uri": "https://localhost:8080/",
          "height": 423
        },
        "outputId": "eb2280b5-0065-44eb-b2e6-992a83a1aec4"
      },
      "outputs": [
        {
          "output_type": "execute_result",
          "data": {
            "text/plain": [
              "       species     island  bill_length_mm  bill_depth_mm  flipper_length_mm  \\\n",
              "253     Gentoo     Biscoe            59.6           17.0              230.0   \n",
              "169  Chinstrap      Dream            58.0           17.8              181.0   \n",
              "321     Gentoo     Biscoe            55.9           17.0              228.0   \n",
              "215  Chinstrap      Dream            55.8           19.8              207.0   \n",
              "335     Gentoo     Biscoe            55.1           16.0              230.0   \n",
              "..         ...        ...             ...            ...                ...   \n",
              "70      Adelie  Torgersen            33.5           19.0              190.0   \n",
              "98      Adelie      Dream            33.1           16.1              178.0   \n",
              "142     Adelie      Dream            32.1           15.5              188.0   \n",
              "3       Adelie  Torgersen             NaN            NaN                NaN   \n",
              "339     Gentoo     Biscoe             NaN            NaN                NaN   \n",
              "\n",
              "     body_mass_g     sex  \n",
              "253       6050.0    Male  \n",
              "169       3700.0  Female  \n",
              "321       5600.0    Male  \n",
              "215       4000.0    Male  \n",
              "335       5850.0    Male  \n",
              "..           ...     ...  \n",
              "70        3600.0  Female  \n",
              "98        2900.0  Female  \n",
              "142       3050.0  Female  \n",
              "3            NaN     NaN  \n",
              "339          NaN     NaN  \n",
              "\n",
              "[344 rows x 7 columns]"
            ],
            "text/html": [
              "\n",
              "  <div id=\"df-21469827-757f-4352-8c21-bfb20c0815b7\" class=\"colab-df-container\">\n",
              "    <div>\n",
              "<style scoped>\n",
              "    .dataframe tbody tr th:only-of-type {\n",
              "        vertical-align: middle;\n",
              "    }\n",
              "\n",
              "    .dataframe tbody tr th {\n",
              "        vertical-align: top;\n",
              "    }\n",
              "\n",
              "    .dataframe thead th {\n",
              "        text-align: right;\n",
              "    }\n",
              "</style>\n",
              "<table border=\"1\" class=\"dataframe\">\n",
              "  <thead>\n",
              "    <tr style=\"text-align: right;\">\n",
              "      <th></th>\n",
              "      <th>species</th>\n",
              "      <th>island</th>\n",
              "      <th>bill_length_mm</th>\n",
              "      <th>bill_depth_mm</th>\n",
              "      <th>flipper_length_mm</th>\n",
              "      <th>body_mass_g</th>\n",
              "      <th>sex</th>\n",
              "    </tr>\n",
              "  </thead>\n",
              "  <tbody>\n",
              "    <tr>\n",
              "      <th>253</th>\n",
              "      <td>Gentoo</td>\n",
              "      <td>Biscoe</td>\n",
              "      <td>59.6</td>\n",
              "      <td>17.0</td>\n",
              "      <td>230.0</td>\n",
              "      <td>6050.0</td>\n",
              "      <td>Male</td>\n",
              "    </tr>\n",
              "    <tr>\n",
              "      <th>169</th>\n",
              "      <td>Chinstrap</td>\n",
              "      <td>Dream</td>\n",
              "      <td>58.0</td>\n",
              "      <td>17.8</td>\n",
              "      <td>181.0</td>\n",
              "      <td>3700.0</td>\n",
              "      <td>Female</td>\n",
              "    </tr>\n",
              "    <tr>\n",
              "      <th>321</th>\n",
              "      <td>Gentoo</td>\n",
              "      <td>Biscoe</td>\n",
              "      <td>55.9</td>\n",
              "      <td>17.0</td>\n",
              "      <td>228.0</td>\n",
              "      <td>5600.0</td>\n",
              "      <td>Male</td>\n",
              "    </tr>\n",
              "    <tr>\n",
              "      <th>215</th>\n",
              "      <td>Chinstrap</td>\n",
              "      <td>Dream</td>\n",
              "      <td>55.8</td>\n",
              "      <td>19.8</td>\n",
              "      <td>207.0</td>\n",
              "      <td>4000.0</td>\n",
              "      <td>Male</td>\n",
              "    </tr>\n",
              "    <tr>\n",
              "      <th>335</th>\n",
              "      <td>Gentoo</td>\n",
              "      <td>Biscoe</td>\n",
              "      <td>55.1</td>\n",
              "      <td>16.0</td>\n",
              "      <td>230.0</td>\n",
              "      <td>5850.0</td>\n",
              "      <td>Male</td>\n",
              "    </tr>\n",
              "    <tr>\n",
              "      <th>...</th>\n",
              "      <td>...</td>\n",
              "      <td>...</td>\n",
              "      <td>...</td>\n",
              "      <td>...</td>\n",
              "      <td>...</td>\n",
              "      <td>...</td>\n",
              "      <td>...</td>\n",
              "    </tr>\n",
              "    <tr>\n",
              "      <th>70</th>\n",
              "      <td>Adelie</td>\n",
              "      <td>Torgersen</td>\n",
              "      <td>33.5</td>\n",
              "      <td>19.0</td>\n",
              "      <td>190.0</td>\n",
              "      <td>3600.0</td>\n",
              "      <td>Female</td>\n",
              "    </tr>\n",
              "    <tr>\n",
              "      <th>98</th>\n",
              "      <td>Adelie</td>\n",
              "      <td>Dream</td>\n",
              "      <td>33.1</td>\n",
              "      <td>16.1</td>\n",
              "      <td>178.0</td>\n",
              "      <td>2900.0</td>\n",
              "      <td>Female</td>\n",
              "    </tr>\n",
              "    <tr>\n",
              "      <th>142</th>\n",
              "      <td>Adelie</td>\n",
              "      <td>Dream</td>\n",
              "      <td>32.1</td>\n",
              "      <td>15.5</td>\n",
              "      <td>188.0</td>\n",
              "      <td>3050.0</td>\n",
              "      <td>Female</td>\n",
              "    </tr>\n",
              "    <tr>\n",
              "      <th>3</th>\n",
              "      <td>Adelie</td>\n",
              "      <td>Torgersen</td>\n",
              "      <td>NaN</td>\n",
              "      <td>NaN</td>\n",
              "      <td>NaN</td>\n",
              "      <td>NaN</td>\n",
              "      <td>NaN</td>\n",
              "    </tr>\n",
              "    <tr>\n",
              "      <th>339</th>\n",
              "      <td>Gentoo</td>\n",
              "      <td>Biscoe</td>\n",
              "      <td>NaN</td>\n",
              "      <td>NaN</td>\n",
              "      <td>NaN</td>\n",
              "      <td>NaN</td>\n",
              "      <td>NaN</td>\n",
              "    </tr>\n",
              "  </tbody>\n",
              "</table>\n",
              "<p>344 rows × 7 columns</p>\n",
              "</div>\n",
              "    <div class=\"colab-df-buttons\">\n",
              "\n",
              "  <div class=\"colab-df-container\">\n",
              "    <button class=\"colab-df-convert\" onclick=\"convertToInteractive('df-21469827-757f-4352-8c21-bfb20c0815b7')\"\n",
              "            title=\"Convert this dataframe to an interactive table.\"\n",
              "            style=\"display:none;\">\n",
              "\n",
              "  <svg xmlns=\"http://www.w3.org/2000/svg\" height=\"24px\" viewBox=\"0 -960 960 960\">\n",
              "    <path d=\"M120-120v-720h720v720H120Zm60-500h600v-160H180v160Zm220 220h160v-160H400v160Zm0 220h160v-160H400v160ZM180-400h160v-160H180v160Zm440 0h160v-160H620v160ZM180-180h160v-160H180v160Zm440 0h160v-160H620v160Z\"/>\n",
              "  </svg>\n",
              "    </button>\n",
              "\n",
              "  <style>\n",
              "    .colab-df-container {\n",
              "      display:flex;\n",
              "      gap: 12px;\n",
              "    }\n",
              "\n",
              "    .colab-df-convert {\n",
              "      background-color: #E8F0FE;\n",
              "      border: none;\n",
              "      border-radius: 50%;\n",
              "      cursor: pointer;\n",
              "      display: none;\n",
              "      fill: #1967D2;\n",
              "      height: 32px;\n",
              "      padding: 0 0 0 0;\n",
              "      width: 32px;\n",
              "    }\n",
              "\n",
              "    .colab-df-convert:hover {\n",
              "      background-color: #E2EBFA;\n",
              "      box-shadow: 0px 1px 2px rgba(60, 64, 67, 0.3), 0px 1px 3px 1px rgba(60, 64, 67, 0.15);\n",
              "      fill: #174EA6;\n",
              "    }\n",
              "\n",
              "    .colab-df-buttons div {\n",
              "      margin-bottom: 4px;\n",
              "    }\n",
              "\n",
              "    [theme=dark] .colab-df-convert {\n",
              "      background-color: #3B4455;\n",
              "      fill: #D2E3FC;\n",
              "    }\n",
              "\n",
              "    [theme=dark] .colab-df-convert:hover {\n",
              "      background-color: #434B5C;\n",
              "      box-shadow: 0px 1px 3px 1px rgba(0, 0, 0, 0.15);\n",
              "      filter: drop-shadow(0px 1px 2px rgba(0, 0, 0, 0.3));\n",
              "      fill: #FFFFFF;\n",
              "    }\n",
              "  </style>\n",
              "\n",
              "    <script>\n",
              "      const buttonEl =\n",
              "        document.querySelector('#df-21469827-757f-4352-8c21-bfb20c0815b7 button.colab-df-convert');\n",
              "      buttonEl.style.display =\n",
              "        google.colab.kernel.accessAllowed ? 'block' : 'none';\n",
              "\n",
              "      async function convertToInteractive(key) {\n",
              "        const element = document.querySelector('#df-21469827-757f-4352-8c21-bfb20c0815b7');\n",
              "        const dataTable =\n",
              "          await google.colab.kernel.invokeFunction('convertToInteractive',\n",
              "                                                    [key], {});\n",
              "        if (!dataTable) return;\n",
              "\n",
              "        const docLinkHtml = 'Like what you see? Visit the ' +\n",
              "          '<a target=\"_blank\" href=https://colab.research.google.com/notebooks/data_table.ipynb>data table notebook</a>'\n",
              "          + ' to learn more about interactive tables.';\n",
              "        element.innerHTML = '';\n",
              "        dataTable['output_type'] = 'display_data';\n",
              "        await google.colab.output.renderOutput(dataTable, element);\n",
              "        const docLink = document.createElement('div');\n",
              "        docLink.innerHTML = docLinkHtml;\n",
              "        element.appendChild(docLink);\n",
              "      }\n",
              "    </script>\n",
              "  </div>\n",
              "\n",
              "\n",
              "<div id=\"df-2b2b9cf4-6e67-4f96-b10b-bff41824358c\">\n",
              "  <button class=\"colab-df-quickchart\" onclick=\"quickchart('df-2b2b9cf4-6e67-4f96-b10b-bff41824358c')\"\n",
              "            title=\"Suggest charts\"\n",
              "            style=\"display:none;\">\n",
              "\n",
              "<svg xmlns=\"http://www.w3.org/2000/svg\" height=\"24px\"viewBox=\"0 0 24 24\"\n",
              "     width=\"24px\">\n",
              "    <g>\n",
              "        <path d=\"M19 3H5c-1.1 0-2 .9-2 2v14c0 1.1.9 2 2 2h14c1.1 0 2-.9 2-2V5c0-1.1-.9-2-2-2zM9 17H7v-7h2v7zm4 0h-2V7h2v10zm4 0h-2v-4h2v4z\"/>\n",
              "    </g>\n",
              "</svg>\n",
              "  </button>\n",
              "\n",
              "<style>\n",
              "  .colab-df-quickchart {\n",
              "      --bg-color: #E8F0FE;\n",
              "      --fill-color: #1967D2;\n",
              "      --hover-bg-color: #E2EBFA;\n",
              "      --hover-fill-color: #174EA6;\n",
              "      --disabled-fill-color: #AAA;\n",
              "      --disabled-bg-color: #DDD;\n",
              "  }\n",
              "\n",
              "  [theme=dark] .colab-df-quickchart {\n",
              "      --bg-color: #3B4455;\n",
              "      --fill-color: #D2E3FC;\n",
              "      --hover-bg-color: #434B5C;\n",
              "      --hover-fill-color: #FFFFFF;\n",
              "      --disabled-bg-color: #3B4455;\n",
              "      --disabled-fill-color: #666;\n",
              "  }\n",
              "\n",
              "  .colab-df-quickchart {\n",
              "    background-color: var(--bg-color);\n",
              "    border: none;\n",
              "    border-radius: 50%;\n",
              "    cursor: pointer;\n",
              "    display: none;\n",
              "    fill: var(--fill-color);\n",
              "    height: 32px;\n",
              "    padding: 0;\n",
              "    width: 32px;\n",
              "  }\n",
              "\n",
              "  .colab-df-quickchart:hover {\n",
              "    background-color: var(--hover-bg-color);\n",
              "    box-shadow: 0 1px 2px rgba(60, 64, 67, 0.3), 0 1px 3px 1px rgba(60, 64, 67, 0.15);\n",
              "    fill: var(--button-hover-fill-color);\n",
              "  }\n",
              "\n",
              "  .colab-df-quickchart-complete:disabled,\n",
              "  .colab-df-quickchart-complete:disabled:hover {\n",
              "    background-color: var(--disabled-bg-color);\n",
              "    fill: var(--disabled-fill-color);\n",
              "    box-shadow: none;\n",
              "  }\n",
              "\n",
              "  .colab-df-spinner {\n",
              "    border: 2px solid var(--fill-color);\n",
              "    border-color: transparent;\n",
              "    border-bottom-color: var(--fill-color);\n",
              "    animation:\n",
              "      spin 1s steps(1) infinite;\n",
              "  }\n",
              "\n",
              "  @keyframes spin {\n",
              "    0% {\n",
              "      border-color: transparent;\n",
              "      border-bottom-color: var(--fill-color);\n",
              "      border-left-color: var(--fill-color);\n",
              "    }\n",
              "    20% {\n",
              "      border-color: transparent;\n",
              "      border-left-color: var(--fill-color);\n",
              "      border-top-color: var(--fill-color);\n",
              "    }\n",
              "    30% {\n",
              "      border-color: transparent;\n",
              "      border-left-color: var(--fill-color);\n",
              "      border-top-color: var(--fill-color);\n",
              "      border-right-color: var(--fill-color);\n",
              "    }\n",
              "    40% {\n",
              "      border-color: transparent;\n",
              "      border-right-color: var(--fill-color);\n",
              "      border-top-color: var(--fill-color);\n",
              "    }\n",
              "    60% {\n",
              "      border-color: transparent;\n",
              "      border-right-color: var(--fill-color);\n",
              "    }\n",
              "    80% {\n",
              "      border-color: transparent;\n",
              "      border-right-color: var(--fill-color);\n",
              "      border-bottom-color: var(--fill-color);\n",
              "    }\n",
              "    90% {\n",
              "      border-color: transparent;\n",
              "      border-bottom-color: var(--fill-color);\n",
              "    }\n",
              "  }\n",
              "</style>\n",
              "\n",
              "  <script>\n",
              "    async function quickchart(key) {\n",
              "      const quickchartButtonEl =\n",
              "        document.querySelector('#' + key + ' button');\n",
              "      quickchartButtonEl.disabled = true;  // To prevent multiple clicks.\n",
              "      quickchartButtonEl.classList.add('colab-df-spinner');\n",
              "      try {\n",
              "        const charts = await google.colab.kernel.invokeFunction(\n",
              "            'suggestCharts', [key], {});\n",
              "      } catch (error) {\n",
              "        console.error('Error during call to suggestCharts:', error);\n",
              "      }\n",
              "      quickchartButtonEl.classList.remove('colab-df-spinner');\n",
              "      quickchartButtonEl.classList.add('colab-df-quickchart-complete');\n",
              "    }\n",
              "    (() => {\n",
              "      let quickchartButtonEl =\n",
              "        document.querySelector('#df-2b2b9cf4-6e67-4f96-b10b-bff41824358c button');\n",
              "      quickchartButtonEl.style.display =\n",
              "        google.colab.kernel.accessAllowed ? 'block' : 'none';\n",
              "    })();\n",
              "  </script>\n",
              "</div>\n",
              "\n",
              "    </div>\n",
              "  </div>\n"
            ],
            "application/vnd.google.colaboratory.intrinsic+json": {
              "type": "dataframe",
              "summary": "{\n  \"name\": \"df_penguins\",\n  \"rows\": 344,\n  \"fields\": [\n    {\n      \"column\": \"species\",\n      \"properties\": {\n        \"dtype\": \"category\",\n        \"num_unique_values\": 3,\n        \"samples\": [\n          \"Gentoo\",\n          \"Chinstrap\",\n          \"Adelie\"\n        ],\n        \"semantic_type\": \"\",\n        \"description\": \"\"\n      }\n    },\n    {\n      \"column\": \"island\",\n      \"properties\": {\n        \"dtype\": \"category\",\n        \"num_unique_values\": 3,\n        \"samples\": [\n          \"Biscoe\",\n          \"Dream\",\n          \"Torgersen\"\n        ],\n        \"semantic_type\": \"\",\n        \"description\": \"\"\n      }\n    },\n    {\n      \"column\": \"bill_length_mm\",\n      \"properties\": {\n        \"dtype\": \"number\",\n        \"std\": 5.4595837139265315,\n        \"min\": 32.1,\n        \"max\": 59.6,\n        \"num_unique_values\": 164,\n        \"samples\": [\n          37.5,\n          39.8,\n          37.9\n        ],\n        \"semantic_type\": \"\",\n        \"description\": \"\"\n      }\n    },\n    {\n      \"column\": \"bill_depth_mm\",\n      \"properties\": {\n        \"dtype\": \"number\",\n        \"std\": 1.9747931568167818,\n        \"min\": 13.1,\n        \"max\": 21.5,\n        \"num_unique_values\": 80,\n        \"samples\": [\n          19.6,\n          17.0,\n          16.5\n        ],\n        \"semantic_type\": \"\",\n        \"description\": \"\"\n      }\n    },\n    {\n      \"column\": \"flipper_length_mm\",\n      \"properties\": {\n        \"dtype\": \"number\",\n        \"std\": 14.061713679356878,\n        \"min\": 172.0,\n        \"max\": 231.0,\n        \"num_unique_values\": 55,\n        \"samples\": [\n          195.0,\n          201.0,\n          217.0\n        ],\n        \"semantic_type\": \"\",\n        \"description\": \"\"\n      }\n    },\n    {\n      \"column\": \"body_mass_g\",\n      \"properties\": {\n        \"dtype\": \"number\",\n        \"std\": 801.9545356980957,\n        \"min\": 2700.0,\n        \"max\": 6300.0,\n        \"num_unique_values\": 94,\n        \"samples\": [\n          3600.0,\n          5300.0,\n          4725.0\n        ],\n        \"semantic_type\": \"\",\n        \"description\": \"\"\n      }\n    },\n    {\n      \"column\": \"sex\",\n      \"properties\": {\n        \"dtype\": \"category\",\n        \"num_unique_values\": 2,\n        \"samples\": [\n          \"Female\",\n          \"Male\"\n        ],\n        \"semantic_type\": \"\",\n        \"description\": \"\"\n      }\n    }\n  ]\n}"
            }
          },
          "metadata": {},
          "execution_count": 32
        }
      ],
      "source": [
        "df_penguins.sort_values(by='bill_length_mm', ascending=False)"
      ]
    },
    {
      "cell_type": "markdown",
      "id": "3b69d24f-cd5b-41c9-a4eb-b8325251fe7b",
      "metadata": {
        "id": "3b69d24f-cd5b-41c9-a4eb-b8325251fe7b"
      },
      "source": [
        "**26.** How could you sort by species first, then by body mass?"
      ]
    },
    {
      "cell_type": "code",
      "execution_count": null,
      "id": "bda80b1d-2773-493f-b13d-7b2fa60e6849",
      "metadata": {
        "id": "bda80b1d-2773-493f-b13d-7b2fa60e6849",
        "colab": {
          "base_uri": "https://localhost:8080/",
          "height": 423
        },
        "outputId": "490b239f-876b-4b60-a3d4-99857405de7f"
      },
      "outputs": [
        {
          "output_type": "execute_result",
          "data": {
            "text/plain": [
              "    species     island  bill_length_mm  bill_depth_mm  flipper_length_mm  \\\n",
              "58   Adelie     Biscoe            36.5           16.6              181.0   \n",
              "64   Adelie     Biscoe            36.4           17.1              184.0   \n",
              "54   Adelie     Biscoe            34.5           18.1              187.0   \n",
              "98   Adelie      Dream            33.1           16.1              178.0   \n",
              "116  Adelie  Torgersen            38.6           17.0              188.0   \n",
              "..      ...        ...             ...            ...                ...   \n",
              "297  Gentoo     Biscoe            51.1           16.3              220.0   \n",
              "337  Gentoo     Biscoe            48.8           16.2              222.0   \n",
              "253  Gentoo     Biscoe            59.6           17.0              230.0   \n",
              "237  Gentoo     Biscoe            49.2           15.2              221.0   \n",
              "339  Gentoo     Biscoe             NaN            NaN                NaN   \n",
              "\n",
              "     body_mass_g     sex  \n",
              "58        2850.0  Female  \n",
              "64        2850.0  Female  \n",
              "54        2900.0  Female  \n",
              "98        2900.0  Female  \n",
              "116       2900.0  Female  \n",
              "..           ...     ...  \n",
              "297       6000.0    Male  \n",
              "337       6000.0    Male  \n",
              "253       6050.0    Male  \n",
              "237       6300.0    Male  \n",
              "339          NaN     NaN  \n",
              "\n",
              "[344 rows x 7 columns]"
            ],
            "text/html": [
              "\n",
              "  <div id=\"df-456044a4-aeb4-431a-8a73-a06f8a026c00\" class=\"colab-df-container\">\n",
              "    <div>\n",
              "<style scoped>\n",
              "    .dataframe tbody tr th:only-of-type {\n",
              "        vertical-align: middle;\n",
              "    }\n",
              "\n",
              "    .dataframe tbody tr th {\n",
              "        vertical-align: top;\n",
              "    }\n",
              "\n",
              "    .dataframe thead th {\n",
              "        text-align: right;\n",
              "    }\n",
              "</style>\n",
              "<table border=\"1\" class=\"dataframe\">\n",
              "  <thead>\n",
              "    <tr style=\"text-align: right;\">\n",
              "      <th></th>\n",
              "      <th>species</th>\n",
              "      <th>island</th>\n",
              "      <th>bill_length_mm</th>\n",
              "      <th>bill_depth_mm</th>\n",
              "      <th>flipper_length_mm</th>\n",
              "      <th>body_mass_g</th>\n",
              "      <th>sex</th>\n",
              "    </tr>\n",
              "  </thead>\n",
              "  <tbody>\n",
              "    <tr>\n",
              "      <th>58</th>\n",
              "      <td>Adelie</td>\n",
              "      <td>Biscoe</td>\n",
              "      <td>36.5</td>\n",
              "      <td>16.6</td>\n",
              "      <td>181.0</td>\n",
              "      <td>2850.0</td>\n",
              "      <td>Female</td>\n",
              "    </tr>\n",
              "    <tr>\n",
              "      <th>64</th>\n",
              "      <td>Adelie</td>\n",
              "      <td>Biscoe</td>\n",
              "      <td>36.4</td>\n",
              "      <td>17.1</td>\n",
              "      <td>184.0</td>\n",
              "      <td>2850.0</td>\n",
              "      <td>Female</td>\n",
              "    </tr>\n",
              "    <tr>\n",
              "      <th>54</th>\n",
              "      <td>Adelie</td>\n",
              "      <td>Biscoe</td>\n",
              "      <td>34.5</td>\n",
              "      <td>18.1</td>\n",
              "      <td>187.0</td>\n",
              "      <td>2900.0</td>\n",
              "      <td>Female</td>\n",
              "    </tr>\n",
              "    <tr>\n",
              "      <th>98</th>\n",
              "      <td>Adelie</td>\n",
              "      <td>Dream</td>\n",
              "      <td>33.1</td>\n",
              "      <td>16.1</td>\n",
              "      <td>178.0</td>\n",
              "      <td>2900.0</td>\n",
              "      <td>Female</td>\n",
              "    </tr>\n",
              "    <tr>\n",
              "      <th>116</th>\n",
              "      <td>Adelie</td>\n",
              "      <td>Torgersen</td>\n",
              "      <td>38.6</td>\n",
              "      <td>17.0</td>\n",
              "      <td>188.0</td>\n",
              "      <td>2900.0</td>\n",
              "      <td>Female</td>\n",
              "    </tr>\n",
              "    <tr>\n",
              "      <th>...</th>\n",
              "      <td>...</td>\n",
              "      <td>...</td>\n",
              "      <td>...</td>\n",
              "      <td>...</td>\n",
              "      <td>...</td>\n",
              "      <td>...</td>\n",
              "      <td>...</td>\n",
              "    </tr>\n",
              "    <tr>\n",
              "      <th>297</th>\n",
              "      <td>Gentoo</td>\n",
              "      <td>Biscoe</td>\n",
              "      <td>51.1</td>\n",
              "      <td>16.3</td>\n",
              "      <td>220.0</td>\n",
              "      <td>6000.0</td>\n",
              "      <td>Male</td>\n",
              "    </tr>\n",
              "    <tr>\n",
              "      <th>337</th>\n",
              "      <td>Gentoo</td>\n",
              "      <td>Biscoe</td>\n",
              "      <td>48.8</td>\n",
              "      <td>16.2</td>\n",
              "      <td>222.0</td>\n",
              "      <td>6000.0</td>\n",
              "      <td>Male</td>\n",
              "    </tr>\n",
              "    <tr>\n",
              "      <th>253</th>\n",
              "      <td>Gentoo</td>\n",
              "      <td>Biscoe</td>\n",
              "      <td>59.6</td>\n",
              "      <td>17.0</td>\n",
              "      <td>230.0</td>\n",
              "      <td>6050.0</td>\n",
              "      <td>Male</td>\n",
              "    </tr>\n",
              "    <tr>\n",
              "      <th>237</th>\n",
              "      <td>Gentoo</td>\n",
              "      <td>Biscoe</td>\n",
              "      <td>49.2</td>\n",
              "      <td>15.2</td>\n",
              "      <td>221.0</td>\n",
              "      <td>6300.0</td>\n",
              "      <td>Male</td>\n",
              "    </tr>\n",
              "    <tr>\n",
              "      <th>339</th>\n",
              "      <td>Gentoo</td>\n",
              "      <td>Biscoe</td>\n",
              "      <td>NaN</td>\n",
              "      <td>NaN</td>\n",
              "      <td>NaN</td>\n",
              "      <td>NaN</td>\n",
              "      <td>NaN</td>\n",
              "    </tr>\n",
              "  </tbody>\n",
              "</table>\n",
              "<p>344 rows × 7 columns</p>\n",
              "</div>\n",
              "    <div class=\"colab-df-buttons\">\n",
              "\n",
              "  <div class=\"colab-df-container\">\n",
              "    <button class=\"colab-df-convert\" onclick=\"convertToInteractive('df-456044a4-aeb4-431a-8a73-a06f8a026c00')\"\n",
              "            title=\"Convert this dataframe to an interactive table.\"\n",
              "            style=\"display:none;\">\n",
              "\n",
              "  <svg xmlns=\"http://www.w3.org/2000/svg\" height=\"24px\" viewBox=\"0 -960 960 960\">\n",
              "    <path d=\"M120-120v-720h720v720H120Zm60-500h600v-160H180v160Zm220 220h160v-160H400v160Zm0 220h160v-160H400v160ZM180-400h160v-160H180v160Zm440 0h160v-160H620v160ZM180-180h160v-160H180v160Zm440 0h160v-160H620v160Z\"/>\n",
              "  </svg>\n",
              "    </button>\n",
              "\n",
              "  <style>\n",
              "    .colab-df-container {\n",
              "      display:flex;\n",
              "      gap: 12px;\n",
              "    }\n",
              "\n",
              "    .colab-df-convert {\n",
              "      background-color: #E8F0FE;\n",
              "      border: none;\n",
              "      border-radius: 50%;\n",
              "      cursor: pointer;\n",
              "      display: none;\n",
              "      fill: #1967D2;\n",
              "      height: 32px;\n",
              "      padding: 0 0 0 0;\n",
              "      width: 32px;\n",
              "    }\n",
              "\n",
              "    .colab-df-convert:hover {\n",
              "      background-color: #E2EBFA;\n",
              "      box-shadow: 0px 1px 2px rgba(60, 64, 67, 0.3), 0px 1px 3px 1px rgba(60, 64, 67, 0.15);\n",
              "      fill: #174EA6;\n",
              "    }\n",
              "\n",
              "    .colab-df-buttons div {\n",
              "      margin-bottom: 4px;\n",
              "    }\n",
              "\n",
              "    [theme=dark] .colab-df-convert {\n",
              "      background-color: #3B4455;\n",
              "      fill: #D2E3FC;\n",
              "    }\n",
              "\n",
              "    [theme=dark] .colab-df-convert:hover {\n",
              "      background-color: #434B5C;\n",
              "      box-shadow: 0px 1px 3px 1px rgba(0, 0, 0, 0.15);\n",
              "      filter: drop-shadow(0px 1px 2px rgba(0, 0, 0, 0.3));\n",
              "      fill: #FFFFFF;\n",
              "    }\n",
              "  </style>\n",
              "\n",
              "    <script>\n",
              "      const buttonEl =\n",
              "        document.querySelector('#df-456044a4-aeb4-431a-8a73-a06f8a026c00 button.colab-df-convert');\n",
              "      buttonEl.style.display =\n",
              "        google.colab.kernel.accessAllowed ? 'block' : 'none';\n",
              "\n",
              "      async function convertToInteractive(key) {\n",
              "        const element = document.querySelector('#df-456044a4-aeb4-431a-8a73-a06f8a026c00');\n",
              "        const dataTable =\n",
              "          await google.colab.kernel.invokeFunction('convertToInteractive',\n",
              "                                                    [key], {});\n",
              "        if (!dataTable) return;\n",
              "\n",
              "        const docLinkHtml = 'Like what you see? Visit the ' +\n",
              "          '<a target=\"_blank\" href=https://colab.research.google.com/notebooks/data_table.ipynb>data table notebook</a>'\n",
              "          + ' to learn more about interactive tables.';\n",
              "        element.innerHTML = '';\n",
              "        dataTable['output_type'] = 'display_data';\n",
              "        await google.colab.output.renderOutput(dataTable, element);\n",
              "        const docLink = document.createElement('div');\n",
              "        docLink.innerHTML = docLinkHtml;\n",
              "        element.appendChild(docLink);\n",
              "      }\n",
              "    </script>\n",
              "  </div>\n",
              "\n",
              "\n",
              "<div id=\"df-7b2a18b7-c8f8-43d2-b779-60058ef4af3c\">\n",
              "  <button class=\"colab-df-quickchart\" onclick=\"quickchart('df-7b2a18b7-c8f8-43d2-b779-60058ef4af3c')\"\n",
              "            title=\"Suggest charts\"\n",
              "            style=\"display:none;\">\n",
              "\n",
              "<svg xmlns=\"http://www.w3.org/2000/svg\" height=\"24px\"viewBox=\"0 0 24 24\"\n",
              "     width=\"24px\">\n",
              "    <g>\n",
              "        <path d=\"M19 3H5c-1.1 0-2 .9-2 2v14c0 1.1.9 2 2 2h14c1.1 0 2-.9 2-2V5c0-1.1-.9-2-2-2zM9 17H7v-7h2v7zm4 0h-2V7h2v10zm4 0h-2v-4h2v4z\"/>\n",
              "    </g>\n",
              "</svg>\n",
              "  </button>\n",
              "\n",
              "<style>\n",
              "  .colab-df-quickchart {\n",
              "      --bg-color: #E8F0FE;\n",
              "      --fill-color: #1967D2;\n",
              "      --hover-bg-color: #E2EBFA;\n",
              "      --hover-fill-color: #174EA6;\n",
              "      --disabled-fill-color: #AAA;\n",
              "      --disabled-bg-color: #DDD;\n",
              "  }\n",
              "\n",
              "  [theme=dark] .colab-df-quickchart {\n",
              "      --bg-color: #3B4455;\n",
              "      --fill-color: #D2E3FC;\n",
              "      --hover-bg-color: #434B5C;\n",
              "      --hover-fill-color: #FFFFFF;\n",
              "      --disabled-bg-color: #3B4455;\n",
              "      --disabled-fill-color: #666;\n",
              "  }\n",
              "\n",
              "  .colab-df-quickchart {\n",
              "    background-color: var(--bg-color);\n",
              "    border: none;\n",
              "    border-radius: 50%;\n",
              "    cursor: pointer;\n",
              "    display: none;\n",
              "    fill: var(--fill-color);\n",
              "    height: 32px;\n",
              "    padding: 0;\n",
              "    width: 32px;\n",
              "  }\n",
              "\n",
              "  .colab-df-quickchart:hover {\n",
              "    background-color: var(--hover-bg-color);\n",
              "    box-shadow: 0 1px 2px rgba(60, 64, 67, 0.3), 0 1px 3px 1px rgba(60, 64, 67, 0.15);\n",
              "    fill: var(--button-hover-fill-color);\n",
              "  }\n",
              "\n",
              "  .colab-df-quickchart-complete:disabled,\n",
              "  .colab-df-quickchart-complete:disabled:hover {\n",
              "    background-color: var(--disabled-bg-color);\n",
              "    fill: var(--disabled-fill-color);\n",
              "    box-shadow: none;\n",
              "  }\n",
              "\n",
              "  .colab-df-spinner {\n",
              "    border: 2px solid var(--fill-color);\n",
              "    border-color: transparent;\n",
              "    border-bottom-color: var(--fill-color);\n",
              "    animation:\n",
              "      spin 1s steps(1) infinite;\n",
              "  }\n",
              "\n",
              "  @keyframes spin {\n",
              "    0% {\n",
              "      border-color: transparent;\n",
              "      border-bottom-color: var(--fill-color);\n",
              "      border-left-color: var(--fill-color);\n",
              "    }\n",
              "    20% {\n",
              "      border-color: transparent;\n",
              "      border-left-color: var(--fill-color);\n",
              "      border-top-color: var(--fill-color);\n",
              "    }\n",
              "    30% {\n",
              "      border-color: transparent;\n",
              "      border-left-color: var(--fill-color);\n",
              "      border-top-color: var(--fill-color);\n",
              "      border-right-color: var(--fill-color);\n",
              "    }\n",
              "    40% {\n",
              "      border-color: transparent;\n",
              "      border-right-color: var(--fill-color);\n",
              "      border-top-color: var(--fill-color);\n",
              "    }\n",
              "    60% {\n",
              "      border-color: transparent;\n",
              "      border-right-color: var(--fill-color);\n",
              "    }\n",
              "    80% {\n",
              "      border-color: transparent;\n",
              "      border-right-color: var(--fill-color);\n",
              "      border-bottom-color: var(--fill-color);\n",
              "    }\n",
              "    90% {\n",
              "      border-color: transparent;\n",
              "      border-bottom-color: var(--fill-color);\n",
              "    }\n",
              "  }\n",
              "</style>\n",
              "\n",
              "  <script>\n",
              "    async function quickchart(key) {\n",
              "      const quickchartButtonEl =\n",
              "        document.querySelector('#' + key + ' button');\n",
              "      quickchartButtonEl.disabled = true;  // To prevent multiple clicks.\n",
              "      quickchartButtonEl.classList.add('colab-df-spinner');\n",
              "      try {\n",
              "        const charts = await google.colab.kernel.invokeFunction(\n",
              "            'suggestCharts', [key], {});\n",
              "      } catch (error) {\n",
              "        console.error('Error during call to suggestCharts:', error);\n",
              "      }\n",
              "      quickchartButtonEl.classList.remove('colab-df-spinner');\n",
              "      quickchartButtonEl.classList.add('colab-df-quickchart-complete');\n",
              "    }\n",
              "    (() => {\n",
              "      let quickchartButtonEl =\n",
              "        document.querySelector('#df-7b2a18b7-c8f8-43d2-b779-60058ef4af3c button');\n",
              "      quickchartButtonEl.style.display =\n",
              "        google.colab.kernel.accessAllowed ? 'block' : 'none';\n",
              "    })();\n",
              "  </script>\n",
              "</div>\n",
              "\n",
              "    </div>\n",
              "  </div>\n"
            ],
            "application/vnd.google.colaboratory.intrinsic+json": {
              "type": "dataframe",
              "summary": "{\n  \"name\": \"df_penguins\",\n  \"rows\": 344,\n  \"fields\": [\n    {\n      \"column\": \"species\",\n      \"properties\": {\n        \"dtype\": \"category\",\n        \"num_unique_values\": 3,\n        \"samples\": [\n          \"Adelie\",\n          \"Chinstrap\",\n          \"Gentoo\"\n        ],\n        \"semantic_type\": \"\",\n        \"description\": \"\"\n      }\n    },\n    {\n      \"column\": \"island\",\n      \"properties\": {\n        \"dtype\": \"category\",\n        \"num_unique_values\": 3,\n        \"samples\": [\n          \"Biscoe\",\n          \"Dream\",\n          \"Torgersen\"\n        ],\n        \"semantic_type\": \"\",\n        \"description\": \"\"\n      }\n    },\n    {\n      \"column\": \"bill_length_mm\",\n      \"properties\": {\n        \"dtype\": \"number\",\n        \"std\": 5.459583713926533,\n        \"min\": 32.1,\n        \"max\": 59.6,\n        \"num_unique_values\": 164,\n        \"samples\": [\n          48.2,\n          49.0,\n          44.0\n        ],\n        \"semantic_type\": \"\",\n        \"description\": \"\"\n      }\n    },\n    {\n      \"column\": \"bill_depth_mm\",\n      \"properties\": {\n        \"dtype\": \"number\",\n        \"std\": 1.9747931568167814,\n        \"min\": 13.1,\n        \"max\": 21.5,\n        \"num_unique_values\": 80,\n        \"samples\": [\n          20.3,\n          16.6,\n          17.3\n        ],\n        \"semantic_type\": \"\",\n        \"description\": \"\"\n      }\n    },\n    {\n      \"column\": \"flipper_length_mm\",\n      \"properties\": {\n        \"dtype\": \"number\",\n        \"std\": 14.061713679356895,\n        \"min\": 172.0,\n        \"max\": 231.0,\n        \"num_unique_values\": 55,\n        \"samples\": [\n          203.0,\n          193.0,\n          206.0\n        ],\n        \"semantic_type\": \"\",\n        \"description\": \"\"\n      }\n    },\n    {\n      \"column\": \"body_mass_g\",\n      \"properties\": {\n        \"dtype\": \"number\",\n        \"std\": 801.9545356980955,\n        \"min\": 2700.0,\n        \"max\": 6300.0,\n        \"num_unique_values\": 94,\n        \"samples\": [\n          4200.0,\n          3600.0,\n          2700.0\n        ],\n        \"semantic_type\": \"\",\n        \"description\": \"\"\n      }\n    },\n    {\n      \"column\": \"sex\",\n      \"properties\": {\n        \"dtype\": \"category\",\n        \"num_unique_values\": 2,\n        \"samples\": [\n          \"Male\",\n          \"Female\"\n        ],\n        \"semantic_type\": \"\",\n        \"description\": \"\"\n      }\n    }\n  ]\n}"
            }
          },
          "metadata": {},
          "execution_count": 34
        }
      ],
      "source": [
        "df_penguins.sort_values(by=['species', 'body_mass_g'])\n"
      ]
    },
    {
      "cell_type": "markdown",
      "id": "82890e5f-d9f7-4729-a179-b0883f1bc498",
      "metadata": {
        "id": "82890e5f-d9f7-4729-a179-b0883f1bc498"
      },
      "source": [
        "## Selecting Rows, Columns, and Cells\n",
        "\n",
        "Let's look at some precious stones now, and leave the poor penguins alone for a while.  Let's look at some precious stones now, and leave the poor penguins alone for a while.  "
      ]
    },
    {
      "cell_type": "markdown",
      "id": "5d1abb35-5d24-4bd2-89d4-dd9dbbdadccf",
      "metadata": {
        "id": "5d1abb35-5d24-4bd2-89d4-dd9dbbdadccf"
      },
      "source": [
        "**27.** Load the Seaborn \"diamonds\" dataset into a Pandas dataframe named diamonds."
      ]
    },
    {
      "cell_type": "code",
      "execution_count": null,
      "id": "9247186e-0c21-43d3-88db-79c7f4ecbc06",
      "metadata": {
        "id": "9247186e-0c21-43d3-88db-79c7f4ecbc06"
      },
      "outputs": [],
      "source": [
        "diamonds = sb.load_dataset(\"diamonds\")"
      ]
    },
    {
      "cell_type": "markdown",
      "id": "cbe20f32-5cb2-4191-9994-dbadaf7488dd",
      "metadata": {
        "id": "cbe20f32-5cb2-4191-9994-dbadaf7488dd"
      },
      "source": [
        "**28.** Display the columns that are available."
      ]
    },
    {
      "cell_type": "code",
      "execution_count": null,
      "id": "c12fd634-2c83-4130-87f3-5580e42ce496",
      "metadata": {
        "id": "c12fd634-2c83-4130-87f3-5580e42ce496",
        "colab": {
          "base_uri": "https://localhost:8080/",
          "height": 423
        },
        "outputId": "b6f7fb22-a8d9-42fd-f909-ec62970b254d"
      },
      "outputs": [
        {
          "output_type": "execute_result",
          "data": {
            "text/plain": [
              "       carat        cut color clarity  depth  table  price     x     y     z\n",
              "0       0.23      Ideal     E     SI2   61.5   55.0    326  3.95  3.98  2.43\n",
              "1       0.21    Premium     E     SI1   59.8   61.0    326  3.89  3.84  2.31\n",
              "2       0.23       Good     E     VS1   56.9   65.0    327  4.05  4.07  2.31\n",
              "3       0.29    Premium     I     VS2   62.4   58.0    334  4.20  4.23  2.63\n",
              "4       0.31       Good     J     SI2   63.3   58.0    335  4.34  4.35  2.75\n",
              "...      ...        ...   ...     ...    ...    ...    ...   ...   ...   ...\n",
              "53935   0.72      Ideal     D     SI1   60.8   57.0   2757  5.75  5.76  3.50\n",
              "53936   0.72       Good     D     SI1   63.1   55.0   2757  5.69  5.75  3.61\n",
              "53937   0.70  Very Good     D     SI1   62.8   60.0   2757  5.66  5.68  3.56\n",
              "53938   0.86    Premium     H     SI2   61.0   58.0   2757  6.15  6.12  3.74\n",
              "53939   0.75      Ideal     D     SI2   62.2   55.0   2757  5.83  5.87  3.64\n",
              "\n",
              "[53940 rows x 10 columns]"
            ],
            "text/html": [
              "\n",
              "  <div id=\"df-6c05abb0-592f-4721-ba8e-5dd680d9fe50\" class=\"colab-df-container\">\n",
              "    <div>\n",
              "<style scoped>\n",
              "    .dataframe tbody tr th:only-of-type {\n",
              "        vertical-align: middle;\n",
              "    }\n",
              "\n",
              "    .dataframe tbody tr th {\n",
              "        vertical-align: top;\n",
              "    }\n",
              "\n",
              "    .dataframe thead th {\n",
              "        text-align: right;\n",
              "    }\n",
              "</style>\n",
              "<table border=\"1\" class=\"dataframe\">\n",
              "  <thead>\n",
              "    <tr style=\"text-align: right;\">\n",
              "      <th></th>\n",
              "      <th>carat</th>\n",
              "      <th>cut</th>\n",
              "      <th>color</th>\n",
              "      <th>clarity</th>\n",
              "      <th>depth</th>\n",
              "      <th>table</th>\n",
              "      <th>price</th>\n",
              "      <th>x</th>\n",
              "      <th>y</th>\n",
              "      <th>z</th>\n",
              "    </tr>\n",
              "  </thead>\n",
              "  <tbody>\n",
              "    <tr>\n",
              "      <th>0</th>\n",
              "      <td>0.23</td>\n",
              "      <td>Ideal</td>\n",
              "      <td>E</td>\n",
              "      <td>SI2</td>\n",
              "      <td>61.5</td>\n",
              "      <td>55.0</td>\n",
              "      <td>326</td>\n",
              "      <td>3.95</td>\n",
              "      <td>3.98</td>\n",
              "      <td>2.43</td>\n",
              "    </tr>\n",
              "    <tr>\n",
              "      <th>1</th>\n",
              "      <td>0.21</td>\n",
              "      <td>Premium</td>\n",
              "      <td>E</td>\n",
              "      <td>SI1</td>\n",
              "      <td>59.8</td>\n",
              "      <td>61.0</td>\n",
              "      <td>326</td>\n",
              "      <td>3.89</td>\n",
              "      <td>3.84</td>\n",
              "      <td>2.31</td>\n",
              "    </tr>\n",
              "    <tr>\n",
              "      <th>2</th>\n",
              "      <td>0.23</td>\n",
              "      <td>Good</td>\n",
              "      <td>E</td>\n",
              "      <td>VS1</td>\n",
              "      <td>56.9</td>\n",
              "      <td>65.0</td>\n",
              "      <td>327</td>\n",
              "      <td>4.05</td>\n",
              "      <td>4.07</td>\n",
              "      <td>2.31</td>\n",
              "    </tr>\n",
              "    <tr>\n",
              "      <th>3</th>\n",
              "      <td>0.29</td>\n",
              "      <td>Premium</td>\n",
              "      <td>I</td>\n",
              "      <td>VS2</td>\n",
              "      <td>62.4</td>\n",
              "      <td>58.0</td>\n",
              "      <td>334</td>\n",
              "      <td>4.20</td>\n",
              "      <td>4.23</td>\n",
              "      <td>2.63</td>\n",
              "    </tr>\n",
              "    <tr>\n",
              "      <th>4</th>\n",
              "      <td>0.31</td>\n",
              "      <td>Good</td>\n",
              "      <td>J</td>\n",
              "      <td>SI2</td>\n",
              "      <td>63.3</td>\n",
              "      <td>58.0</td>\n",
              "      <td>335</td>\n",
              "      <td>4.34</td>\n",
              "      <td>4.35</td>\n",
              "      <td>2.75</td>\n",
              "    </tr>\n",
              "    <tr>\n",
              "      <th>...</th>\n",
              "      <td>...</td>\n",
              "      <td>...</td>\n",
              "      <td>...</td>\n",
              "      <td>...</td>\n",
              "      <td>...</td>\n",
              "      <td>...</td>\n",
              "      <td>...</td>\n",
              "      <td>...</td>\n",
              "      <td>...</td>\n",
              "      <td>...</td>\n",
              "    </tr>\n",
              "    <tr>\n",
              "      <th>53935</th>\n",
              "      <td>0.72</td>\n",
              "      <td>Ideal</td>\n",
              "      <td>D</td>\n",
              "      <td>SI1</td>\n",
              "      <td>60.8</td>\n",
              "      <td>57.0</td>\n",
              "      <td>2757</td>\n",
              "      <td>5.75</td>\n",
              "      <td>5.76</td>\n",
              "      <td>3.50</td>\n",
              "    </tr>\n",
              "    <tr>\n",
              "      <th>53936</th>\n",
              "      <td>0.72</td>\n",
              "      <td>Good</td>\n",
              "      <td>D</td>\n",
              "      <td>SI1</td>\n",
              "      <td>63.1</td>\n",
              "      <td>55.0</td>\n",
              "      <td>2757</td>\n",
              "      <td>5.69</td>\n",
              "      <td>5.75</td>\n",
              "      <td>3.61</td>\n",
              "    </tr>\n",
              "    <tr>\n",
              "      <th>53937</th>\n",
              "      <td>0.70</td>\n",
              "      <td>Very Good</td>\n",
              "      <td>D</td>\n",
              "      <td>SI1</td>\n",
              "      <td>62.8</td>\n",
              "      <td>60.0</td>\n",
              "      <td>2757</td>\n",
              "      <td>5.66</td>\n",
              "      <td>5.68</td>\n",
              "      <td>3.56</td>\n",
              "    </tr>\n",
              "    <tr>\n",
              "      <th>53938</th>\n",
              "      <td>0.86</td>\n",
              "      <td>Premium</td>\n",
              "      <td>H</td>\n",
              "      <td>SI2</td>\n",
              "      <td>61.0</td>\n",
              "      <td>58.0</td>\n",
              "      <td>2757</td>\n",
              "      <td>6.15</td>\n",
              "      <td>6.12</td>\n",
              "      <td>3.74</td>\n",
              "    </tr>\n",
              "    <tr>\n",
              "      <th>53939</th>\n",
              "      <td>0.75</td>\n",
              "      <td>Ideal</td>\n",
              "      <td>D</td>\n",
              "      <td>SI2</td>\n",
              "      <td>62.2</td>\n",
              "      <td>55.0</td>\n",
              "      <td>2757</td>\n",
              "      <td>5.83</td>\n",
              "      <td>5.87</td>\n",
              "      <td>3.64</td>\n",
              "    </tr>\n",
              "  </tbody>\n",
              "</table>\n",
              "<p>53940 rows × 10 columns</p>\n",
              "</div>\n",
              "    <div class=\"colab-df-buttons\">\n",
              "\n",
              "  <div class=\"colab-df-container\">\n",
              "    <button class=\"colab-df-convert\" onclick=\"convertToInteractive('df-6c05abb0-592f-4721-ba8e-5dd680d9fe50')\"\n",
              "            title=\"Convert this dataframe to an interactive table.\"\n",
              "            style=\"display:none;\">\n",
              "\n",
              "  <svg xmlns=\"http://www.w3.org/2000/svg\" height=\"24px\" viewBox=\"0 -960 960 960\">\n",
              "    <path d=\"M120-120v-720h720v720H120Zm60-500h600v-160H180v160Zm220 220h160v-160H400v160Zm0 220h160v-160H400v160ZM180-400h160v-160H180v160Zm440 0h160v-160H620v160ZM180-180h160v-160H180v160Zm440 0h160v-160H620v160Z\"/>\n",
              "  </svg>\n",
              "    </button>\n",
              "\n",
              "  <style>\n",
              "    .colab-df-container {\n",
              "      display:flex;\n",
              "      gap: 12px;\n",
              "    }\n",
              "\n",
              "    .colab-df-convert {\n",
              "      background-color: #E8F0FE;\n",
              "      border: none;\n",
              "      border-radius: 50%;\n",
              "      cursor: pointer;\n",
              "      display: none;\n",
              "      fill: #1967D2;\n",
              "      height: 32px;\n",
              "      padding: 0 0 0 0;\n",
              "      width: 32px;\n",
              "    }\n",
              "\n",
              "    .colab-df-convert:hover {\n",
              "      background-color: #E2EBFA;\n",
              "      box-shadow: 0px 1px 2px rgba(60, 64, 67, 0.3), 0px 1px 3px 1px rgba(60, 64, 67, 0.15);\n",
              "      fill: #174EA6;\n",
              "    }\n",
              "\n",
              "    .colab-df-buttons div {\n",
              "      margin-bottom: 4px;\n",
              "    }\n",
              "\n",
              "    [theme=dark] .colab-df-convert {\n",
              "      background-color: #3B4455;\n",
              "      fill: #D2E3FC;\n",
              "    }\n",
              "\n",
              "    [theme=dark] .colab-df-convert:hover {\n",
              "      background-color: #434B5C;\n",
              "      box-shadow: 0px 1px 3px 1px rgba(0, 0, 0, 0.15);\n",
              "      filter: drop-shadow(0px 1px 2px rgba(0, 0, 0, 0.3));\n",
              "      fill: #FFFFFF;\n",
              "    }\n",
              "  </style>\n",
              "\n",
              "    <script>\n",
              "      const buttonEl =\n",
              "        document.querySelector('#df-6c05abb0-592f-4721-ba8e-5dd680d9fe50 button.colab-df-convert');\n",
              "      buttonEl.style.display =\n",
              "        google.colab.kernel.accessAllowed ? 'block' : 'none';\n",
              "\n",
              "      async function convertToInteractive(key) {\n",
              "        const element = document.querySelector('#df-6c05abb0-592f-4721-ba8e-5dd680d9fe50');\n",
              "        const dataTable =\n",
              "          await google.colab.kernel.invokeFunction('convertToInteractive',\n",
              "                                                    [key], {});\n",
              "        if (!dataTable) return;\n",
              "\n",
              "        const docLinkHtml = 'Like what you see? Visit the ' +\n",
              "          '<a target=\"_blank\" href=https://colab.research.google.com/notebooks/data_table.ipynb>data table notebook</a>'\n",
              "          + ' to learn more about interactive tables.';\n",
              "        element.innerHTML = '';\n",
              "        dataTable['output_type'] = 'display_data';\n",
              "        await google.colab.output.renderOutput(dataTable, element);\n",
              "        const docLink = document.createElement('div');\n",
              "        docLink.innerHTML = docLinkHtml;\n",
              "        element.appendChild(docLink);\n",
              "      }\n",
              "    </script>\n",
              "  </div>\n",
              "\n",
              "\n",
              "<div id=\"df-098310e2-f45b-474f-a5e0-46534253851b\">\n",
              "  <button class=\"colab-df-quickchart\" onclick=\"quickchart('df-098310e2-f45b-474f-a5e0-46534253851b')\"\n",
              "            title=\"Suggest charts\"\n",
              "            style=\"display:none;\">\n",
              "\n",
              "<svg xmlns=\"http://www.w3.org/2000/svg\" height=\"24px\"viewBox=\"0 0 24 24\"\n",
              "     width=\"24px\">\n",
              "    <g>\n",
              "        <path d=\"M19 3H5c-1.1 0-2 .9-2 2v14c0 1.1.9 2 2 2h14c1.1 0 2-.9 2-2V5c0-1.1-.9-2-2-2zM9 17H7v-7h2v7zm4 0h-2V7h2v10zm4 0h-2v-4h2v4z\"/>\n",
              "    </g>\n",
              "</svg>\n",
              "  </button>\n",
              "\n",
              "<style>\n",
              "  .colab-df-quickchart {\n",
              "      --bg-color: #E8F0FE;\n",
              "      --fill-color: #1967D2;\n",
              "      --hover-bg-color: #E2EBFA;\n",
              "      --hover-fill-color: #174EA6;\n",
              "      --disabled-fill-color: #AAA;\n",
              "      --disabled-bg-color: #DDD;\n",
              "  }\n",
              "\n",
              "  [theme=dark] .colab-df-quickchart {\n",
              "      --bg-color: #3B4455;\n",
              "      --fill-color: #D2E3FC;\n",
              "      --hover-bg-color: #434B5C;\n",
              "      --hover-fill-color: #FFFFFF;\n",
              "      --disabled-bg-color: #3B4455;\n",
              "      --disabled-fill-color: #666;\n",
              "  }\n",
              "\n",
              "  .colab-df-quickchart {\n",
              "    background-color: var(--bg-color);\n",
              "    border: none;\n",
              "    border-radius: 50%;\n",
              "    cursor: pointer;\n",
              "    display: none;\n",
              "    fill: var(--fill-color);\n",
              "    height: 32px;\n",
              "    padding: 0;\n",
              "    width: 32px;\n",
              "  }\n",
              "\n",
              "  .colab-df-quickchart:hover {\n",
              "    background-color: var(--hover-bg-color);\n",
              "    box-shadow: 0 1px 2px rgba(60, 64, 67, 0.3), 0 1px 3px 1px rgba(60, 64, 67, 0.15);\n",
              "    fill: var(--button-hover-fill-color);\n",
              "  }\n",
              "\n",
              "  .colab-df-quickchart-complete:disabled,\n",
              "  .colab-df-quickchart-complete:disabled:hover {\n",
              "    background-color: var(--disabled-bg-color);\n",
              "    fill: var(--disabled-fill-color);\n",
              "    box-shadow: none;\n",
              "  }\n",
              "\n",
              "  .colab-df-spinner {\n",
              "    border: 2px solid var(--fill-color);\n",
              "    border-color: transparent;\n",
              "    border-bottom-color: var(--fill-color);\n",
              "    animation:\n",
              "      spin 1s steps(1) infinite;\n",
              "  }\n",
              "\n",
              "  @keyframes spin {\n",
              "    0% {\n",
              "      border-color: transparent;\n",
              "      border-bottom-color: var(--fill-color);\n",
              "      border-left-color: var(--fill-color);\n",
              "    }\n",
              "    20% {\n",
              "      border-color: transparent;\n",
              "      border-left-color: var(--fill-color);\n",
              "      border-top-color: var(--fill-color);\n",
              "    }\n",
              "    30% {\n",
              "      border-color: transparent;\n",
              "      border-left-color: var(--fill-color);\n",
              "      border-top-color: var(--fill-color);\n",
              "      border-right-color: var(--fill-color);\n",
              "    }\n",
              "    40% {\n",
              "      border-color: transparent;\n",
              "      border-right-color: var(--fill-color);\n",
              "      border-top-color: var(--fill-color);\n",
              "    }\n",
              "    60% {\n",
              "      border-color: transparent;\n",
              "      border-right-color: var(--fill-color);\n",
              "    }\n",
              "    80% {\n",
              "      border-color: transparent;\n",
              "      border-right-color: var(--fill-color);\n",
              "      border-bottom-color: var(--fill-color);\n",
              "    }\n",
              "    90% {\n",
              "      border-color: transparent;\n",
              "      border-bottom-color: var(--fill-color);\n",
              "    }\n",
              "  }\n",
              "</style>\n",
              "\n",
              "  <script>\n",
              "    async function quickchart(key) {\n",
              "      const quickchartButtonEl =\n",
              "        document.querySelector('#' + key + ' button');\n",
              "      quickchartButtonEl.disabled = true;  // To prevent multiple clicks.\n",
              "      quickchartButtonEl.classList.add('colab-df-spinner');\n",
              "      try {\n",
              "        const charts = await google.colab.kernel.invokeFunction(\n",
              "            'suggestCharts', [key], {});\n",
              "      } catch (error) {\n",
              "        console.error('Error during call to suggestCharts:', error);\n",
              "      }\n",
              "      quickchartButtonEl.classList.remove('colab-df-spinner');\n",
              "      quickchartButtonEl.classList.add('colab-df-quickchart-complete');\n",
              "    }\n",
              "    (() => {\n",
              "      let quickchartButtonEl =\n",
              "        document.querySelector('#df-098310e2-f45b-474f-a5e0-46534253851b button');\n",
              "      quickchartButtonEl.style.display =\n",
              "        google.colab.kernel.accessAllowed ? 'block' : 'none';\n",
              "    })();\n",
              "  </script>\n",
              "</div>\n",
              "\n",
              "  <div id=\"id_2a5fdd8f-8661-49e7-b3e0-f470e5c001fe\">\n",
              "    <style>\n",
              "      .colab-df-generate {\n",
              "        background-color: #E8F0FE;\n",
              "        border: none;\n",
              "        border-radius: 50%;\n",
              "        cursor: pointer;\n",
              "        display: none;\n",
              "        fill: #1967D2;\n",
              "        height: 32px;\n",
              "        padding: 0 0 0 0;\n",
              "        width: 32px;\n",
              "      }\n",
              "\n",
              "      .colab-df-generate:hover {\n",
              "        background-color: #E2EBFA;\n",
              "        box-shadow: 0px 1px 2px rgba(60, 64, 67, 0.3), 0px 1px 3px 1px rgba(60, 64, 67, 0.15);\n",
              "        fill: #174EA6;\n",
              "      }\n",
              "\n",
              "      [theme=dark] .colab-df-generate {\n",
              "        background-color: #3B4455;\n",
              "        fill: #D2E3FC;\n",
              "      }\n",
              "\n",
              "      [theme=dark] .colab-df-generate:hover {\n",
              "        background-color: #434B5C;\n",
              "        box-shadow: 0px 1px 3px 1px rgba(0, 0, 0, 0.15);\n",
              "        filter: drop-shadow(0px 1px 2px rgba(0, 0, 0, 0.3));\n",
              "        fill: #FFFFFF;\n",
              "      }\n",
              "    </style>\n",
              "    <button class=\"colab-df-generate\" onclick=\"generateWithVariable('diamonds')\"\n",
              "            title=\"Generate code using this dataframe.\"\n",
              "            style=\"display:none;\">\n",
              "\n",
              "  <svg xmlns=\"http://www.w3.org/2000/svg\" height=\"24px\"viewBox=\"0 0 24 24\"\n",
              "       width=\"24px\">\n",
              "    <path d=\"M7,19H8.4L18.45,9,17,7.55,7,17.6ZM5,21V16.75L18.45,3.32a2,2,0,0,1,2.83,0l1.4,1.43a1.91,1.91,0,0,1,.58,1.4,1.91,1.91,0,0,1-.58,1.4L9.25,21ZM18.45,9,17,7.55Zm-12,3A5.31,5.31,0,0,0,4.9,8.1,5.31,5.31,0,0,0,1,6.5,5.31,5.31,0,0,0,4.9,4.9,5.31,5.31,0,0,0,6.5,1,5.31,5.31,0,0,0,8.1,4.9,5.31,5.31,0,0,0,12,6.5,5.46,5.46,0,0,0,6.5,12Z\"/>\n",
              "  </svg>\n",
              "    </button>\n",
              "    <script>\n",
              "      (() => {\n",
              "      const buttonEl =\n",
              "        document.querySelector('#id_2a5fdd8f-8661-49e7-b3e0-f470e5c001fe button.colab-df-generate');\n",
              "      buttonEl.style.display =\n",
              "        google.colab.kernel.accessAllowed ? 'block' : 'none';\n",
              "\n",
              "      buttonEl.onclick = () => {\n",
              "        google.colab.notebook.generateWithVariable('diamonds');\n",
              "      }\n",
              "      })();\n",
              "    </script>\n",
              "  </div>\n",
              "\n",
              "    </div>\n",
              "  </div>\n"
            ],
            "application/vnd.google.colaboratory.intrinsic+json": {
              "type": "dataframe",
              "variable_name": "diamonds",
              "summary": "{\n  \"name\": \"diamonds\",\n  \"rows\": 53940,\n  \"fields\": [\n    {\n      \"column\": \"carat\",\n      \"properties\": {\n        \"dtype\": \"number\",\n        \"std\": 0.47401124440538067,\n        \"min\": 0.2,\n        \"max\": 5.01,\n        \"num_unique_values\": 273,\n        \"samples\": [\n          0.77,\n          1.58,\n          0.65\n        ],\n        \"semantic_type\": \"\",\n        \"description\": \"\"\n      }\n    },\n    {\n      \"column\": \"cut\",\n      \"properties\": {\n        \"dtype\": \"category\",\n        \"num_unique_values\": 5,\n        \"samples\": [\n          \"Premium\",\n          \"Fair\",\n          \"Good\"\n        ],\n        \"semantic_type\": \"\",\n        \"description\": \"\"\n      }\n    },\n    {\n      \"column\": \"color\",\n      \"properties\": {\n        \"dtype\": \"category\",\n        \"num_unique_values\": 7,\n        \"samples\": [\n          \"E\",\n          \"I\",\n          \"G\"\n        ],\n        \"semantic_type\": \"\",\n        \"description\": \"\"\n      }\n    },\n    {\n      \"column\": \"clarity\",\n      \"properties\": {\n        \"dtype\": \"category\",\n        \"num_unique_values\": 8,\n        \"samples\": [\n          \"SI1\",\n          \"VVS1\",\n          \"SI2\"\n        ],\n        \"semantic_type\": \"\",\n        \"description\": \"\"\n      }\n    },\n    {\n      \"column\": \"depth\",\n      \"properties\": {\n        \"dtype\": \"number\",\n        \"std\": 1.4326213188337733,\n        \"min\": 43.0,\n        \"max\": 79.0,\n        \"num_unique_values\": 184,\n        \"samples\": [\n          61.0,\n          62.9,\n          70.2\n        ],\n        \"semantic_type\": \"\",\n        \"description\": \"\"\n      }\n    },\n    {\n      \"column\": \"table\",\n      \"properties\": {\n        \"dtype\": \"number\",\n        \"std\": 2.234490562820938,\n        \"min\": 43.0,\n        \"max\": 95.0,\n        \"num_unique_values\": 127,\n        \"samples\": [\n          54.8,\n          61.5,\n          57.6\n        ],\n        \"semantic_type\": \"\",\n        \"description\": \"\"\n      }\n    },\n    {\n      \"column\": \"price\",\n      \"properties\": {\n        \"dtype\": \"number\",\n        \"std\": 3989,\n        \"min\": 326,\n        \"max\": 18823,\n        \"num_unique_values\": 11602,\n        \"samples\": [\n          16368,\n          895,\n          748\n        ],\n        \"semantic_type\": \"\",\n        \"description\": \"\"\n      }\n    },\n    {\n      \"column\": \"x\",\n      \"properties\": {\n        \"dtype\": \"number\",\n        \"std\": 1.1217607467924422,\n        \"min\": 0.0,\n        \"max\": 10.74,\n        \"num_unique_values\": 554,\n        \"samples\": [\n          5.88,\n          5.69,\n          4.61\n        ],\n        \"semantic_type\": \"\",\n        \"description\": \"\"\n      }\n    },\n    {\n      \"column\": \"y\",\n      \"properties\": {\n        \"dtype\": \"number\",\n        \"std\": 1.1421346741235396,\n        \"min\": 0.0,\n        \"max\": 58.9,\n        \"num_unique_values\": 552,\n        \"samples\": [\n          5.33,\n          5.61,\n          5.25\n        ],\n        \"semantic_type\": \"\",\n        \"description\": \"\"\n      }\n    },\n    {\n      \"column\": \"z\",\n      \"properties\": {\n        \"dtype\": \"number\",\n        \"std\": 0.7056988469499964,\n        \"min\": 0.0,\n        \"max\": 31.8,\n        \"num_unique_values\": 375,\n        \"samples\": [\n          3.36,\n          2.45,\n          2.7\n        ],\n        \"semantic_type\": \"\",\n        \"description\": \"\"\n      }\n    }\n  ]\n}"
            }
          },
          "metadata": {},
          "execution_count": 39
        }
      ],
      "source": [
        "diamonds"
      ]
    },
    {
      "cell_type": "markdown",
      "id": "505b677e-c1bb-4daa-8615-a78ea4860a71",
      "metadata": {
        "id": "505b677e-c1bb-4daa-8615-a78ea4860a71"
      },
      "source": [
        "**29.** If you select a single column from the diamonds DataFrame, what will be the type of the return value?"
      ]
    },
    {
      "cell_type": "markdown",
      "id": "10307c17-e2ad-48ce-b0b9-ddde83b5f6c3",
      "metadata": {
        "id": "10307c17-e2ad-48ce-b0b9-ddde83b5f6c3"
      },
      "source": [
        "Series"
      ]
    },
    {
      "cell_type": "code",
      "source": [
        "print(type(diamonds['carat']))"
      ],
      "metadata": {
        "colab": {
          "base_uri": "https://localhost:8080/"
        },
        "id": "YG9KF41tYkmt",
        "outputId": "086a0e2b-353f-42ec-be0e-aef4a638e8eb"
      },
      "id": "YG9KF41tYkmt",
      "execution_count": null,
      "outputs": [
        {
          "output_type": "stream",
          "name": "stdout",
          "text": [
            "<class 'pandas.core.series.Series'>\n"
          ]
        }
      ]
    },
    {
      "cell_type": "markdown",
      "id": "5f5d7cae-b784-449d-be28-a1473721b4fa",
      "metadata": {
        "id": "5f5d7cae-b784-449d-be28-a1473721b4fa"
      },
      "source": [
        "**30.** Select the 'table' column and show its type"
      ]
    },
    {
      "cell_type": "code",
      "execution_count": null,
      "id": "18963cfe-266d-4ca6-9471-b47000c35ee5",
      "metadata": {
        "id": "18963cfe-266d-4ca6-9471-b47000c35ee5",
        "colab": {
          "base_uri": "https://localhost:8080/"
        },
        "outputId": "b0d9c43d-b8d9-4c9f-81ae-4c59b78337ed"
      },
      "outputs": [
        {
          "output_type": "stream",
          "name": "stdout",
          "text": [
            "<class 'pandas.core.series.Series'>\n"
          ]
        }
      ],
      "source": [
        "print(type(diamonds['table']))"
      ]
    },
    {
      "cell_type": "markdown",
      "id": "82de5bb4-baed-422e-83a6-d7581ea15ab8",
      "metadata": {
        "id": "82de5bb4-baed-422e-83a6-d7581ea15ab8"
      },
      "source": [
        "**31.** Select the first ten rows of the price and carat columns ten rows of the diamonds DataFrame into a variable called subset, and display them."
      ]
    },
    {
      "cell_type": "code",
      "execution_count": null,
      "id": "55ccbc17-b267-4ffb-9876-d2192ba2437d",
      "metadata": {
        "id": "55ccbc17-b267-4ffb-9876-d2192ba2437d",
        "colab": {
          "base_uri": "https://localhost:8080/"
        },
        "outputId": "d3f9c00b-409f-4de6-e328-72a3527b8ae6"
      },
      "outputs": [
        {
          "output_type": "stream",
          "name": "stdout",
          "text": [
            "   price  carat\n",
            "0    326   0.23\n",
            "1    326   0.21\n",
            "2    327   0.23\n",
            "3    334   0.29\n",
            "4    335   0.31\n",
            "5    336   0.24\n",
            "6    336   0.24\n",
            "7    337   0.26\n",
            "8    337   0.22\n",
            "9    338   0.23\n"
          ]
        }
      ],
      "source": [
        "subset = diamonds.loc[:9, ['price', 'carat']]\n",
        "print(subset)"
      ]
    },
    {
      "cell_type": "markdown",
      "id": "fdb4c150-ebdc-420d-979b-14231fc4764b",
      "metadata": {
        "id": "fdb4c150-ebdc-420d-979b-14231fc4764b"
      },
      "source": [
        "**32.** For a given column, show the code to display the datatype of the _values_ in the column?  "
      ]
    },
    {
      "cell_type": "code",
      "execution_count": null,
      "id": "bb6b2d54-e58f-4da4-bcf2-a4d08ee34602",
      "metadata": {
        "id": "bb6b2d54-e58f-4da4-bcf2-a4d08ee34602",
        "colab": {
          "base_uri": "https://localhost:8080/"
        },
        "outputId": "ea1c201d-d91a-425a-b6ce-8b3d03a7a324"
      },
      "outputs": [
        {
          "output_type": "execute_result",
          "data": {
            "text/plain": [
              "dtype('int64')"
            ]
          },
          "metadata": {},
          "execution_count": 45
        }
      ],
      "source": [
        "diamonds['price'].dtype"
      ]
    },
    {
      "cell_type": "markdown",
      "id": "ca510203-8c7e-48a1-81c3-c9e1bc5aa7b1",
      "metadata": {
        "id": "ca510203-8c7e-48a1-81c3-c9e1bc5aa7b1"
      },
      "source": [
        "**33.** Select the first row of the diamonds DataFrame into a variable called row."
      ]
    },
    {
      "cell_type": "code",
      "execution_count": null,
      "id": "8535dd1a-db9d-49c7-a6b2-0257616d7334",
      "metadata": {
        "id": "8535dd1a-db9d-49c7-a6b2-0257616d7334",
        "colab": {
          "base_uri": "https://localhost:8080/",
          "height": 397
        },
        "outputId": "d12a22f9-4416-4991-ae46-11b27a64d218"
      },
      "outputs": [
        {
          "output_type": "execute_result",
          "data": {
            "text/plain": [
              "carat       0.23\n",
              "cut        Ideal\n",
              "color          E\n",
              "clarity      SI2\n",
              "depth       61.5\n",
              "table       55.0\n",
              "price        326\n",
              "x           3.95\n",
              "y           3.98\n",
              "z           2.43\n",
              "Name: 0, dtype: object"
            ],
            "text/html": [
              "<div>\n",
              "<style scoped>\n",
              "    .dataframe tbody tr th:only-of-type {\n",
              "        vertical-align: middle;\n",
              "    }\n",
              "\n",
              "    .dataframe tbody tr th {\n",
              "        vertical-align: top;\n",
              "    }\n",
              "\n",
              "    .dataframe thead th {\n",
              "        text-align: right;\n",
              "    }\n",
              "</style>\n",
              "<table border=\"1\" class=\"dataframe\">\n",
              "  <thead>\n",
              "    <tr style=\"text-align: right;\">\n",
              "      <th></th>\n",
              "      <th>0</th>\n",
              "    </tr>\n",
              "  </thead>\n",
              "  <tbody>\n",
              "    <tr>\n",
              "      <th>carat</th>\n",
              "      <td>0.23</td>\n",
              "    </tr>\n",
              "    <tr>\n",
              "      <th>cut</th>\n",
              "      <td>Ideal</td>\n",
              "    </tr>\n",
              "    <tr>\n",
              "      <th>color</th>\n",
              "      <td>E</td>\n",
              "    </tr>\n",
              "    <tr>\n",
              "      <th>clarity</th>\n",
              "      <td>SI2</td>\n",
              "    </tr>\n",
              "    <tr>\n",
              "      <th>depth</th>\n",
              "      <td>61.5</td>\n",
              "    </tr>\n",
              "    <tr>\n",
              "      <th>table</th>\n",
              "      <td>55.0</td>\n",
              "    </tr>\n",
              "    <tr>\n",
              "      <th>price</th>\n",
              "      <td>326</td>\n",
              "    </tr>\n",
              "    <tr>\n",
              "      <th>x</th>\n",
              "      <td>3.95</td>\n",
              "    </tr>\n",
              "    <tr>\n",
              "      <th>y</th>\n",
              "      <td>3.98</td>\n",
              "    </tr>\n",
              "    <tr>\n",
              "      <th>z</th>\n",
              "      <td>2.43</td>\n",
              "    </tr>\n",
              "  </tbody>\n",
              "</table>\n",
              "</div><br><label><b>dtype:</b> object</label>"
            ]
          },
          "metadata": {},
          "execution_count": 46
        }
      ],
      "source": [
        "diamonds.iloc[0]"
      ]
    },
    {
      "cell_type": "markdown",
      "id": "edbd9394-ec43-479c-919a-5eab17acb792",
      "metadata": {
        "id": "edbd9394-ec43-479c-919a-5eab17acb792"
      },
      "source": [
        "**34.** What would you expect the data type of the row to be?  Display it."
      ]
    },
    {
      "cell_type": "markdown",
      "id": "22d7c0bd-cf41-491e-8fc5-41aed540c16e",
      "metadata": {
        "id": "22d7c0bd-cf41-491e-8fc5-41aed540c16e"
      },
      "source": [
        "A Pandas series"
      ]
    },
    {
      "cell_type": "code",
      "execution_count": null,
      "id": "777274bd-3653-4d0c-b73e-75f879cb48ae",
      "metadata": {
        "id": "777274bd-3653-4d0c-b73e-75f879cb48ae",
        "colab": {
          "base_uri": "https://localhost:8080/",
          "height": 203
        },
        "outputId": "e978f13c-e584-4a67-b579-89b14a51ed91"
      },
      "outputs": [
        {
          "output_type": "execute_result",
          "data": {
            "text/plain": [
              "pandas.core.series.Series"
            ],
            "text/html": [
              "<div style=\"max-width:800px; border: 1px solid var(--colab-border-color);\"><style>\n",
              "      pre.function-repr-contents {\n",
              "        overflow-x: auto;\n",
              "        padding: 8px 12px;\n",
              "        max-height: 500px;\n",
              "      }\n",
              "\n",
              "      pre.function-repr-contents.function-repr-contents-collapsed {\n",
              "        cursor: pointer;\n",
              "        max-height: 100px;\n",
              "      }\n",
              "    </style>\n",
              "    <pre style=\"white-space: initial; background:\n",
              "         var(--colab-secondary-surface-color); padding: 8px 12px;\n",
              "         border-bottom: 1px solid var(--colab-border-color);\"><b>pandas.core.series.Series</b><br/>def __init__(data=None, index=None, dtype: Dtype | None=None, name=None, copy: bool | None=None, fastpath: bool | lib.NoDefault=lib.no_default) -&gt; None</pre><pre class=\"function-repr-contents function-repr-contents-collapsed\" style=\"\"><a class=\"filepath\" style=\"display:none\" href=\"#\">/usr/local/lib/python3.10/dist-packages/pandas/core/series.py</a>One-dimensional ndarray with axis labels (including time series).\n",
              "\n",
              "Labels need not be unique but must be a hashable type. The object\n",
              "supports both integer- and label-based indexing and provides a host of\n",
              "methods for performing operations involving the index. Statistical\n",
              "methods from ndarray have been overridden to automatically exclude\n",
              "missing data (currently represented as NaN).\n",
              "\n",
              "Operations between Series (+, -, /, \\*, \\*\\*) align values based on their\n",
              "associated index values-- they need not be the same length. The result\n",
              "index will be the sorted union of the two indexes.\n",
              "\n",
              "Parameters\n",
              "----------\n",
              "data : array-like, Iterable, dict, or scalar value\n",
              "    Contains data stored in Series. If data is a dict, argument order is\n",
              "    maintained.\n",
              "index : array-like or Index (1d)\n",
              "    Values must be hashable and have the same length as `data`.\n",
              "    Non-unique index values are allowed. Will default to\n",
              "    RangeIndex (0, 1, 2, ..., n) if not provided. If data is dict-like\n",
              "    and index is None, then the keys in the data are used as the index. If the\n",
              "    index is not None, the resulting Series is reindexed with the index values.\n",
              "dtype : str, numpy.dtype, or ExtensionDtype, optional\n",
              "    Data type for the output Series. If not specified, this will be\n",
              "    inferred from `data`.\n",
              "    See the :ref:`user guide &lt;basics.dtypes&gt;` for more usages.\n",
              "name : Hashable, default None\n",
              "    The name to give to the Series.\n",
              "copy : bool, default False\n",
              "    Copy input data. Only affects Series or 1d ndarray input. See examples.\n",
              "\n",
              "Notes\n",
              "-----\n",
              "Please reference the :ref:`User Guide &lt;basics.series&gt;` for more information.\n",
              "\n",
              "Examples\n",
              "--------\n",
              "Constructing Series from a dictionary with an Index specified\n",
              "\n",
              "&gt;&gt;&gt; d = {&#x27;a&#x27;: 1, &#x27;b&#x27;: 2, &#x27;c&#x27;: 3}\n",
              "&gt;&gt;&gt; ser = pd.Series(data=d, index=[&#x27;a&#x27;, &#x27;b&#x27;, &#x27;c&#x27;])\n",
              "&gt;&gt;&gt; ser\n",
              "a   1\n",
              "b   2\n",
              "c   3\n",
              "dtype: int64\n",
              "\n",
              "The keys of the dictionary match with the Index values, hence the Index\n",
              "values have no effect.\n",
              "\n",
              "&gt;&gt;&gt; d = {&#x27;a&#x27;: 1, &#x27;b&#x27;: 2, &#x27;c&#x27;: 3}\n",
              "&gt;&gt;&gt; ser = pd.Series(data=d, index=[&#x27;x&#x27;, &#x27;y&#x27;, &#x27;z&#x27;])\n",
              "&gt;&gt;&gt; ser\n",
              "x   NaN\n",
              "y   NaN\n",
              "z   NaN\n",
              "dtype: float64\n",
              "\n",
              "Note that the Index is first build with the keys from the dictionary.\n",
              "After this the Series is reindexed with the given Index values, hence we\n",
              "get all NaN as a result.\n",
              "\n",
              "Constructing Series from a list with `copy=False`.\n",
              "\n",
              "&gt;&gt;&gt; r = [1, 2]\n",
              "&gt;&gt;&gt; ser = pd.Series(r, copy=False)\n",
              "&gt;&gt;&gt; ser.iloc[0] = 999\n",
              "&gt;&gt;&gt; r\n",
              "[1, 2]\n",
              "&gt;&gt;&gt; ser\n",
              "0    999\n",
              "1      2\n",
              "dtype: int64\n",
              "\n",
              "Due to input data type the Series has a `copy` of\n",
              "the original data even though `copy=False`, so\n",
              "the data is unchanged.\n",
              "\n",
              "Constructing Series from a 1d ndarray with `copy=False`.\n",
              "\n",
              "&gt;&gt;&gt; r = np.array([1, 2])\n",
              "&gt;&gt;&gt; ser = pd.Series(r, copy=False)\n",
              "&gt;&gt;&gt; ser.iloc[0] = 999\n",
              "&gt;&gt;&gt; r\n",
              "array([999,   2])\n",
              "&gt;&gt;&gt; ser\n",
              "0    999\n",
              "1      2\n",
              "dtype: int64\n",
              "\n",
              "Due to input data type the Series has a `view` on\n",
              "the original data, so\n",
              "the data is changed as well.</pre>\n",
              "      <script>\n",
              "      if (google.colab.kernel.accessAllowed && google.colab.files && google.colab.files.view) {\n",
              "        for (const element of document.querySelectorAll('.filepath')) {\n",
              "          element.style.display = 'block'\n",
              "          element.onclick = (event) => {\n",
              "            event.preventDefault();\n",
              "            event.stopPropagation();\n",
              "            google.colab.files.view(element.textContent, 263);\n",
              "          };\n",
              "        }\n",
              "      }\n",
              "      for (const element of document.querySelectorAll('.function-repr-contents')) {\n",
              "        element.onclick = (event) => {\n",
              "          event.preventDefault();\n",
              "          event.stopPropagation();\n",
              "          element.classList.toggle('function-repr-contents-collapsed');\n",
              "        };\n",
              "      }\n",
              "      </script>\n",
              "      </div>"
            ]
          },
          "metadata": {},
          "execution_count": 47
        }
      ],
      "source": [
        "type(diamonds.iloc[0])"
      ]
    },
    {
      "cell_type": "markdown",
      "id": "f6027d4a-4df5-45c6-bb82-c4ed046c2681",
      "metadata": {
        "id": "f6027d4a-4df5-45c6-bb82-c4ed046c2681"
      },
      "source": [
        "**35.** Can you discover the names of the columns using only the row returned in #33?  Why or why not?Can you discover the names of the columns using only the row returned in #33?  Why or why not?"
      ]
    },
    {
      "cell_type": "markdown",
      "id": "55c063e1-2346-4782-9133-e684c2714fe0",
      "metadata": {
        "id": "55c063e1-2346-4782-9133-e684c2714fe0"
      },
      "source": [
        "Yes, because a row series should have the columns as the index (See below):"
      ]
    },
    {
      "cell_type": "code",
      "execution_count": null,
      "id": "1a5b9a02-9764-43b7-b49b-4522506e5669",
      "metadata": {
        "id": "1a5b9a02-9764-43b7-b49b-4522506e5669",
        "colab": {
          "base_uri": "https://localhost:8080/"
        },
        "outputId": "f7c8da94-d48d-4dd5-83dd-648276fe1377"
      },
      "outputs": [
        {
          "output_type": "execute_result",
          "data": {
            "text/plain": [
              "Index([], dtype='object')"
            ]
          },
          "metadata": {},
          "execution_count": 49
        }
      ],
      "source": [
        "diamonds.iloc[0][diamonds.iloc[0]==33].index"
      ]
    },
    {
      "cell_type": "markdown",
      "id": "369f761e-0dbe-4589-835f-526ab8f9884f",
      "metadata": {
        "id": "369f761e-0dbe-4589-835f-526ab8f9884f"
      },
      "source": [
        "**36.** Select the row with the highest priced diamond."
      ]
    },
    {
      "cell_type": "code",
      "execution_count": null,
      "id": "41f8510d-cf79-43eb-910c-1c03aebc21ba",
      "metadata": {
        "id": "41f8510d-cf79-43eb-910c-1c03aebc21ba",
        "colab": {
          "base_uri": "https://localhost:8080/",
          "height": 397
        },
        "outputId": "c70e07bb-a7bf-4b19-8724-58a6772c41e5"
      },
      "outputs": [
        {
          "output_type": "execute_result",
          "data": {
            "text/plain": [
              "carat         2.29\n",
              "cut        Premium\n",
              "color            I\n",
              "clarity        VS2\n",
              "depth         60.8\n",
              "table         60.0\n",
              "price        18823\n",
              "x              8.5\n",
              "y             8.47\n",
              "z             5.16\n",
              "Name: 27749, dtype: object"
            ],
            "text/html": [
              "<div>\n",
              "<style scoped>\n",
              "    .dataframe tbody tr th:only-of-type {\n",
              "        vertical-align: middle;\n",
              "    }\n",
              "\n",
              "    .dataframe tbody tr th {\n",
              "        vertical-align: top;\n",
              "    }\n",
              "\n",
              "    .dataframe thead th {\n",
              "        text-align: right;\n",
              "    }\n",
              "</style>\n",
              "<table border=\"1\" class=\"dataframe\">\n",
              "  <thead>\n",
              "    <tr style=\"text-align: right;\">\n",
              "      <th></th>\n",
              "      <th>27749</th>\n",
              "    </tr>\n",
              "  </thead>\n",
              "  <tbody>\n",
              "    <tr>\n",
              "      <th>carat</th>\n",
              "      <td>2.29</td>\n",
              "    </tr>\n",
              "    <tr>\n",
              "      <th>cut</th>\n",
              "      <td>Premium</td>\n",
              "    </tr>\n",
              "    <tr>\n",
              "      <th>color</th>\n",
              "      <td>I</td>\n",
              "    </tr>\n",
              "    <tr>\n",
              "      <th>clarity</th>\n",
              "      <td>VS2</td>\n",
              "    </tr>\n",
              "    <tr>\n",
              "      <th>depth</th>\n",
              "      <td>60.8</td>\n",
              "    </tr>\n",
              "    <tr>\n",
              "      <th>table</th>\n",
              "      <td>60.0</td>\n",
              "    </tr>\n",
              "    <tr>\n",
              "      <th>price</th>\n",
              "      <td>18823</td>\n",
              "    </tr>\n",
              "    <tr>\n",
              "      <th>x</th>\n",
              "      <td>8.5</td>\n",
              "    </tr>\n",
              "    <tr>\n",
              "      <th>y</th>\n",
              "      <td>8.47</td>\n",
              "    </tr>\n",
              "    <tr>\n",
              "      <th>z</th>\n",
              "      <td>5.16</td>\n",
              "    </tr>\n",
              "  </tbody>\n",
              "</table>\n",
              "</div><br><label><b>dtype:</b> object</label>"
            ]
          },
          "metadata": {},
          "execution_count": 50
        }
      ],
      "source": [
        "diamonds.sort_values(by='price', ascending=False).iloc[0]"
      ]
    },
    {
      "cell_type": "markdown",
      "id": "2694d362-a5d1-4ad9-8b09-f408d7531948",
      "metadata": {
        "id": "2694d362-a5d1-4ad9-8b09-f408d7531948"
      },
      "source": [
        "**37.** Select the row with the lowest priced diamond."
      ]
    },
    {
      "cell_type": "code",
      "execution_count": null,
      "id": "b6559ffa-fbb6-4ce9-b882-5bccbf5403e4",
      "metadata": {
        "id": "b6559ffa-fbb6-4ce9-b882-5bccbf5403e4",
        "colab": {
          "base_uri": "https://localhost:8080/",
          "height": 397
        },
        "outputId": "d878e260-934a-499a-d715-1f8a602122cd"
      },
      "outputs": [
        {
          "output_type": "execute_result",
          "data": {
            "text/plain": [
              "carat       0.23\n",
              "cut        Ideal\n",
              "color          E\n",
              "clarity      SI2\n",
              "depth       61.5\n",
              "table       55.0\n",
              "price        326\n",
              "x           3.95\n",
              "y           3.98\n",
              "z           2.43\n",
              "Name: 0, dtype: object"
            ],
            "text/html": [
              "<div>\n",
              "<style scoped>\n",
              "    .dataframe tbody tr th:only-of-type {\n",
              "        vertical-align: middle;\n",
              "    }\n",
              "\n",
              "    .dataframe tbody tr th {\n",
              "        vertical-align: top;\n",
              "    }\n",
              "\n",
              "    .dataframe thead th {\n",
              "        text-align: right;\n",
              "    }\n",
              "</style>\n",
              "<table border=\"1\" class=\"dataframe\">\n",
              "  <thead>\n",
              "    <tr style=\"text-align: right;\">\n",
              "      <th></th>\n",
              "      <th>0</th>\n",
              "    </tr>\n",
              "  </thead>\n",
              "  <tbody>\n",
              "    <tr>\n",
              "      <th>carat</th>\n",
              "      <td>0.23</td>\n",
              "    </tr>\n",
              "    <tr>\n",
              "      <th>cut</th>\n",
              "      <td>Ideal</td>\n",
              "    </tr>\n",
              "    <tr>\n",
              "      <th>color</th>\n",
              "      <td>E</td>\n",
              "    </tr>\n",
              "    <tr>\n",
              "      <th>clarity</th>\n",
              "      <td>SI2</td>\n",
              "    </tr>\n",
              "    <tr>\n",
              "      <th>depth</th>\n",
              "      <td>61.5</td>\n",
              "    </tr>\n",
              "    <tr>\n",
              "      <th>table</th>\n",
              "      <td>55.0</td>\n",
              "    </tr>\n",
              "    <tr>\n",
              "      <th>price</th>\n",
              "      <td>326</td>\n",
              "    </tr>\n",
              "    <tr>\n",
              "      <th>x</th>\n",
              "      <td>3.95</td>\n",
              "    </tr>\n",
              "    <tr>\n",
              "      <th>y</th>\n",
              "      <td>3.98</td>\n",
              "    </tr>\n",
              "    <tr>\n",
              "      <th>z</th>\n",
              "      <td>2.43</td>\n",
              "    </tr>\n",
              "  </tbody>\n",
              "</table>\n",
              "</div><br><label><b>dtype:</b> object</label>"
            ]
          },
          "metadata": {},
          "execution_count": 52
        }
      ],
      "source": [
        "diamonds.sort_values(by='price').iloc[0]"
      ]
    },
    {
      "cell_type": "markdown",
      "id": "e366af69-1739-48c5-b964-298fa294bc7a",
      "metadata": {
        "id": "e366af69-1739-48c5-b964-298fa294bc7a"
      },
      "source": [
        "## Some Exercises Using Time Series"
      ]
    },
    {
      "cell_type": "markdown",
      "id": "ca92f2e5-c4f3-460e-b3b1-0d6bff4694ff",
      "metadata": {
        "id": "ca92f2e5-c4f3-460e-b3b1-0d6bff4694ff"
      },
      "source": [
        "**38.** Load the taxis dataset into a DataFrame, ```taxis```."
      ]
    },
    {
      "cell_type": "code",
      "execution_count": null,
      "id": "5bb6dee5-3828-4a80-8a35-98397639e5db",
      "metadata": {
        "id": "5bb6dee5-3828-4a80-8a35-98397639e5db",
        "colab": {
          "base_uri": "https://localhost:8080/"
        },
        "outputId": "aaf65c0f-0774-42f6-c047-096b72cc245b"
      },
      "outputs": [
        {
          "output_type": "stream",
          "name": "stdout",
          "text": [
            "                   pickup              dropoff  passengers  distance  fare  \\\n",
            "0     2019-03-23 20:21:09  2019-03-23 20:27:24           1      1.60   7.0   \n",
            "1     2019-03-04 16:11:55  2019-03-04 16:19:00           1      0.79   5.0   \n",
            "2     2019-03-27 17:53:01  2019-03-27 18:00:25           1      1.37   7.5   \n",
            "3     2019-03-10 01:23:59  2019-03-10 01:49:51           1      7.70  27.0   \n",
            "4     2019-03-30 13:27:42  2019-03-30 13:37:14           3      2.16   9.0   \n",
            "...                   ...                  ...         ...       ...   ...   \n",
            "6428  2019-03-31 09:51:53  2019-03-31 09:55:27           1      0.75   4.5   \n",
            "6429  2019-03-31 17:38:00  2019-03-31 18:34:23           1     18.74  58.0   \n",
            "6430  2019-03-23 22:55:18  2019-03-23 23:14:25           1      4.14  16.0   \n",
            "6431  2019-03-04 10:09:25  2019-03-04 10:14:29           1      1.12   6.0   \n",
            "6432  2019-03-13 19:31:22  2019-03-13 19:48:02           1      3.85  15.0   \n",
            "\n",
            "       tip  tolls  total   color      payment            pickup_zone  \\\n",
            "0     2.15    0.0  12.95  yellow  credit card        Lenox Hill West   \n",
            "1     0.00    0.0   9.30  yellow         cash  Upper West Side South   \n",
            "2     2.36    0.0  14.16  yellow  credit card          Alphabet City   \n",
            "3     6.15    0.0  36.95  yellow  credit card              Hudson Sq   \n",
            "4     1.10    0.0  13.40  yellow  credit card           Midtown East   \n",
            "...    ...    ...    ...     ...          ...                    ...   \n",
            "6428  1.06    0.0   6.36   green  credit card      East Harlem North   \n",
            "6429  0.00    0.0  58.80   green  credit card                Jamaica   \n",
            "6430  0.00    0.0  17.30   green         cash    Crown Heights North   \n",
            "6431  0.00    0.0   6.80   green  credit card          East New York   \n",
            "6432  3.36    0.0  20.16   green  credit card            Boerum Hill   \n",
            "\n",
            "                          dropoff_zone pickup_borough dropoff_borough  \n",
            "0                  UN/Turtle Bay South      Manhattan       Manhattan  \n",
            "1                Upper West Side South      Manhattan       Manhattan  \n",
            "2                         West Village      Manhattan       Manhattan  \n",
            "3                       Yorkville West      Manhattan       Manhattan  \n",
            "4                       Yorkville West      Manhattan       Manhattan  \n",
            "...                                ...            ...             ...  \n",
            "6428              Central Harlem North      Manhattan       Manhattan  \n",
            "6429  East Concourse/Concourse Village         Queens           Bronx  \n",
            "6430                    Bushwick North       Brooklyn        Brooklyn  \n",
            "6431      East Flatbush/Remsen Village       Brooklyn        Brooklyn  \n",
            "6432                   Windsor Terrace       Brooklyn        Brooklyn  \n",
            "\n",
            "[6433 rows x 14 columns]\n"
          ]
        }
      ],
      "source": [
        "taxis = pd.read_csv('https://raw.githubusercontent.com/mwaskom/seaborn-data/master/taxis.csv')\n",
        "print(taxis)"
      ]
    },
    {
      "cell_type": "markdown",
      "id": "06ef6738-b5fb-4341-8ced-15f02ee5aad6",
      "metadata": {
        "id": "06ef6738-b5fb-4341-8ced-15f02ee5aad6"
      },
      "source": [
        "**39.** The 'pickup' column contains the date and time the customer picked up, but it's a string.  Add a column to the DataFrame, 'pickup_time', containing the value in 'pickup' as a DateTime."
      ]
    },
    {
      "cell_type": "code",
      "execution_count": null,
      "id": "a857614a-ada0-43c5-9ba0-6e00422bf518",
      "metadata": {
        "id": "a857614a-ada0-43c5-9ba0-6e00422bf518",
        "colab": {
          "base_uri": "https://localhost:8080/"
        },
        "outputId": "4a244a4c-c0c8-4dbe-8f73-42b0e9fd4b02"
      },
      "outputs": [
        {
          "output_type": "stream",
          "name": "stdout",
          "text": [
            "                   pickup              dropoff  passengers  distance  fare  \\\n",
            "0     2019-03-23 20:21:09  2019-03-23 20:27:24           1      1.60   7.0   \n",
            "1     2019-03-04 16:11:55  2019-03-04 16:19:00           1      0.79   5.0   \n",
            "2     2019-03-27 17:53:01  2019-03-27 18:00:25           1      1.37   7.5   \n",
            "3     2019-03-10 01:23:59  2019-03-10 01:49:51           1      7.70  27.0   \n",
            "4     2019-03-30 13:27:42  2019-03-30 13:37:14           3      2.16   9.0   \n",
            "...                   ...                  ...         ...       ...   ...   \n",
            "6428  2019-03-31 09:51:53  2019-03-31 09:55:27           1      0.75   4.5   \n",
            "6429  2019-03-31 17:38:00  2019-03-31 18:34:23           1     18.74  58.0   \n",
            "6430  2019-03-23 22:55:18  2019-03-23 23:14:25           1      4.14  16.0   \n",
            "6431  2019-03-04 10:09:25  2019-03-04 10:14:29           1      1.12   6.0   \n",
            "6432  2019-03-13 19:31:22  2019-03-13 19:48:02           1      3.85  15.0   \n",
            "\n",
            "       tip  tolls  total   color      payment            pickup_zone  \\\n",
            "0     2.15    0.0  12.95  yellow  credit card        Lenox Hill West   \n",
            "1     0.00    0.0   9.30  yellow         cash  Upper West Side South   \n",
            "2     2.36    0.0  14.16  yellow  credit card          Alphabet City   \n",
            "3     6.15    0.0  36.95  yellow  credit card              Hudson Sq   \n",
            "4     1.10    0.0  13.40  yellow  credit card           Midtown East   \n",
            "...    ...    ...    ...     ...          ...                    ...   \n",
            "6428  1.06    0.0   6.36   green  credit card      East Harlem North   \n",
            "6429  0.00    0.0  58.80   green  credit card                Jamaica   \n",
            "6430  0.00    0.0  17.30   green         cash    Crown Heights North   \n",
            "6431  0.00    0.0   6.80   green  credit card          East New York   \n",
            "6432  3.36    0.0  20.16   green  credit card            Boerum Hill   \n",
            "\n",
            "                          dropoff_zone pickup_borough dropoff_borough  \\\n",
            "0                  UN/Turtle Bay South      Manhattan       Manhattan   \n",
            "1                Upper West Side South      Manhattan       Manhattan   \n",
            "2                         West Village      Manhattan       Manhattan   \n",
            "3                       Yorkville West      Manhattan       Manhattan   \n",
            "4                       Yorkville West      Manhattan       Manhattan   \n",
            "...                                ...            ...             ...   \n",
            "6428              Central Harlem North      Manhattan       Manhattan   \n",
            "6429  East Concourse/Concourse Village         Queens           Bronx   \n",
            "6430                    Bushwick North       Brooklyn        Brooklyn   \n",
            "6431      East Flatbush/Remsen Village       Brooklyn        Brooklyn   \n",
            "6432                   Windsor Terrace       Brooklyn        Brooklyn   \n",
            "\n",
            "             pickup_time  \n",
            "0    2019-03-23 20:21:09  \n",
            "1    2019-03-04 16:11:55  \n",
            "2    2019-03-27 17:53:01  \n",
            "3    2019-03-10 01:23:59  \n",
            "4    2019-03-30 13:27:42  \n",
            "...                  ...  \n",
            "6428 2019-03-31 09:51:53  \n",
            "6429 2019-03-31 17:38:00  \n",
            "6430 2019-03-23 22:55:18  \n",
            "6431 2019-03-04 10:09:25  \n",
            "6432 2019-03-13 19:31:22  \n",
            "\n",
            "[6433 rows x 15 columns]\n"
          ]
        }
      ],
      "source": [
        "taxis['pickup_time'] = pd.to_datetime(taxis['pickup'])\n",
        "print(taxis)"
      ]
    },
    {
      "cell_type": "markdown",
      "id": "d2aca5a0-b67d-4c2b-928f-49a0df783a4a",
      "metadata": {
        "id": "d2aca5a0-b67d-4c2b-928f-49a0df783a4a"
      },
      "source": [
        "**40.** We have a hypothesis that as the day goes on, the tips get higher.  We'll need to wrangle the data a bit before testing this, however.  First, now that we have a datetime column, pickup_time, create a subset of it to create a new DataFrame, taxis_one_day. This new DataFrame should have values between '2019-03-23 00:06:00' (inclusive) and '2019-03-24 00:00:00' (exlusive)."
      ]
    },
    {
      "cell_type": "code",
      "execution_count": null,
      "id": "4c92be8d-ee1a-452d-84e9-64617cbcd850",
      "metadata": {
        "id": "4c92be8d-ee1a-452d-84e9-64617cbcd850"
      },
      "outputs": [],
      "source": [
        "taxis_one_day= taxis[(taxis['pickup_time'] >= '2019-03-23 00:06:00') & (taxis['pickup_time'] < '2019-03-24 00:00:00')]"
      ]
    },
    {
      "cell_type": "markdown",
      "id": "14b66e0e-762c-433c-9041-e40cf624eaa5",
      "metadata": {
        "id": "14b66e0e-762c-433c-9041-e40cf624eaa5"
      },
      "source": [
        "**41.** We now have a range from morning until midnight, but we to take the mean of the numeric columns, grouped at one hour intervals.  Save the result as df_means, and display it."
      ]
    },
    {
      "cell_type": "code",
      "execution_count": null,
      "id": "baca4e69-dc2d-492e-918b-c15d7d560b4b",
      "metadata": {
        "id": "baca4e69-dc2d-492e-918b-c15d7d560b4b",
        "colab": {
          "base_uri": "https://localhost:8080/"
        },
        "outputId": "8df9cb34-eb05-480c-b1ec-a60c904fe693"
      },
      "outputs": [
        {
          "output_type": "stream",
          "name": "stdout",
          "text": [
            "                     passengers  distance       fare       tip     tolls  \\\n",
            "pickup_time                                                                \n",
            "2019-03-23 00:00:00    1.000000  1.911667   8.583333  1.415000  0.000000   \n",
            "2019-03-23 01:00:00    1.250000  1.325000   7.875000  1.525000  0.000000   \n",
            "2019-03-23 02:00:00    1.727273  1.739091   8.181818  1.641818  0.000000   \n",
            "2019-03-23 03:00:00    1.500000  3.377500  11.750000  2.410000  0.000000   \n",
            "2019-03-23 04:00:00    2.000000  0.950000   5.500000  0.915000  0.000000   \n",
            "2019-03-23 05:00:00    2.000000  1.270000   6.000000  0.980000  0.000000   \n",
            "2019-03-23 06:00:00    1.000000  0.400000  21.500000  0.000000  0.000000   \n",
            "2019-03-23 07:00:00    2.333333  0.980000   5.250000  1.165000  0.000000   \n",
            "2019-03-23 08:00:00    1.000000  0.020000   2.500000  0.000000  0.000000   \n",
            "2019-03-23 09:00:00    1.500000  1.352000   7.400000  1.674000  0.000000   \n",
            "2019-03-23 10:00:00    1.000000  1.760000   8.750000  0.727500  0.000000   \n",
            "2019-03-23 11:00:00    1.909091  2.070000  11.090909  0.803636  0.000000   \n",
            "2019-03-23 12:00:00    2.000000  2.267143  10.260000  0.645714  0.000000   \n",
            "2019-03-23 13:00:00    2.500000  1.167000   7.550000  2.074000  0.000000   \n",
            "2019-03-23 14:00:00    2.470588  4.752941  18.330000  1.945294  1.003529   \n",
            "2019-03-23 15:00:00    1.000000  6.557143  22.214286  3.210000  1.645714   \n",
            "2019-03-23 16:00:00    2.000000  2.194545  10.454545  1.109091  0.000000   \n",
            "2019-03-23 17:00:00    1.090909  1.913636  14.818182  2.688182  0.523636   \n",
            "2019-03-23 18:00:00    1.571429  3.206429  12.821429  0.844286  0.411429   \n",
            "2019-03-23 19:00:00    1.526316  2.097895  10.263158  1.176316  0.000000   \n",
            "2019-03-23 20:00:00    1.400000  2.448000  11.100000  1.544000  0.000000   \n",
            "2019-03-23 21:00:00    1.000000  2.017143  10.571429  1.420000  0.000000   \n",
            "2019-03-23 22:00:00    1.307692  1.881538   8.923077  1.094615  0.000000   \n",
            "2019-03-23 23:00:00    1.615385  3.725385  15.115385  1.696154  0.000000   \n",
            "\n",
            "                         total  \n",
            "pickup_time                     \n",
            "2019-03-23 00:00:00  12.965000  \n",
            "2019-03-23 01:00:00  12.575000  \n",
            "2019-03-23 02:00:00  13.169091  \n",
            "2019-03-23 03:00:00  17.335000  \n",
            "2019-03-23 04:00:00  10.215000  \n",
            "2019-03-23 05:00:00  10.530000  \n",
            "2019-03-23 06:00:00  23.133333  \n",
            "2019-03-23 07:00:00   9.298333  \n",
            "2019-03-23 08:00:00   3.300000  \n",
            "2019-03-23 09:00:00  12.124000  \n",
            "2019-03-23 10:00:00  12.152500  \n",
            "2019-03-23 11:00:00  14.667273  \n",
            "2019-03-23 12:00:00  13.420000  \n",
            "2019-03-23 13:00:00  12.344000  \n",
            "2019-03-23 14:00:00  24.267059  \n",
            "2019-03-23 15:00:00  30.370000  \n",
            "2019-03-23 16:00:00  14.431818  \n",
            "2019-03-23 17:00:00  20.739091  \n",
            "2019-03-23 18:00:00  16.427143  \n",
            "2019-03-23 19:00:00  14.226316  \n",
            "2019-03-23 20:00:00  15.944000  \n",
            "2019-03-23 21:00:00  15.791429  \n",
            "2019-03-23 22:00:00  13.433077  \n",
            "2019-03-23 23:00:00  20.034615  \n"
          ]
        },
        {
          "output_type": "stream",
          "name": "stderr",
          "text": [
            "<ipython-input-55-f471e1876ac1>:1: FutureWarning: 'H' is deprecated and will be removed in a future version, please use 'h' instead.\n",
            "  df_means = taxis_one_day.resample('H', on='pickup_time').mean(numeric_only=True)\n"
          ]
        }
      ],
      "source": [
        "df_means = taxis_one_day.resample('H', on='pickup_time').mean(numeric_only=True)\n",
        "print(df_means)"
      ]
    },
    {
      "cell_type": "markdown",
      "id": "601743a0-8e97-46f3-8c46-6681353d374c",
      "metadata": {
        "id": "601743a0-8e97-46f3-8c46-6681353d374c"
      },
      "source": [
        "**42.** Create a simple line plot of the value \"distance\".  "
      ]
    },
    {
      "cell_type": "code",
      "execution_count": null,
      "id": "d270aaf8-b52e-4d1f-8373-3ce72f9d4a81",
      "metadata": {
        "id": "d270aaf8-b52e-4d1f-8373-3ce72f9d4a81",
        "colab": {
          "base_uri": "https://localhost:8080/",
          "height": 484
        },
        "outputId": "40e41737-93c4-43cd-df67-402199513a01"
      },
      "outputs": [
        {
          "output_type": "execute_result",
          "data": {
            "text/plain": [
              "<Axes: xlabel='pickup_time'>"
            ]
          },
          "metadata": {},
          "execution_count": 56
        },
        {
          "output_type": "display_data",
          "data": {
            "text/plain": [
              "<Figure size 640x480 with 1 Axes>"
            ],
            "image/png": "[encoded data removed]"
          },
          "metadata": {}
        }
      ],
      "source": [
        "df_means['distance'].plot(kind='line')"
      ]
    },
    {
      "cell_type": "markdown",
      "id": "deba998f-24b1-4fc3-93e6-807955ba111b",
      "metadata": {
        "id": "deba998f-24b1-4fc3-93e6-807955ba111b"
      },
      "source": [
        "**43.** Overall, do riders travel further or less far as the day progresses?"
      ]
    },
    {
      "cell_type": "markdown",
      "id": "4b69ad07-bd6c-4ef8-8caa-ec0b5b4a2b21",
      "metadata": {
        "id": "4b69ad07-bd6c-4ef8-8caa-ec0b5b4a2b21"
      },
      "source": []
    },
    {
      "cell_type": "markdown",
      "id": "3c1784d1-e66d-40c7-87d1-a5a4bc7dd43b",
      "metadata": {
        "id": "3c1784d1-e66d-40c7-87d1-a5a4bc7dd43b"
      },
      "source": [
        "**44.** Create a new column in taxis_means, ```tip_in_percent```.  The source columns for this should be \"fare\" and \"tip\""
      ]
    },
    {
      "cell_type": "code",
      "execution_count": null,
      "id": "014637ae-70f7-4289-8077-5264bf46daab",
      "metadata": {
        "id": "014637ae-70f7-4289-8077-5264bf46daab",
        "colab": {
          "base_uri": "https://localhost:8080/"
        },
        "outputId": "581b8a1f-af8c-4f7d-e727-73daf48b09be"
      },
      "outputs": [
        {
          "output_type": "stream",
          "name": "stdout",
          "text": [
            "0       30.714286\n",
            "8        6.666667\n",
            "17      19.047619\n",
            "117     24.193548\n",
            "144     16.000000\n",
            "          ...    \n",
            "6325     0.000000\n",
            "6331     0.000000\n",
            "6338     0.000000\n",
            "6427     0.000000\n",
            "6430     0.000000\n",
            "Name: tip_in_percent, Length: 209, dtype: float64\n"
          ]
        },
        {
          "output_type": "stream",
          "name": "stderr",
          "text": [
            "<ipython-input-58-5f343120a848>:1: SettingWithCopyWarning: \n",
            "A value is trying to be set on a copy of a slice from a DataFrame.\n",
            "Try using .loc[row_indexer,col_indexer] = value instead\n",
            "\n",
            "See the caveats in the documentation: https://pandas.pydata.org/pandas-docs/stable/user_guide/indexing.html#returning-a-view-versus-a-copy\n",
            "  taxis_one_day['tip_in_percent'] = taxis_one_day['tip'] * 100/ taxis_one_day['fare']\n"
          ]
        }
      ],
      "source": [
        "taxis_one_day['tip_in_percent'] = taxis_one_day['tip'] * 100/ taxis_one_day['fare']\n",
        "print(taxis_one_day['tip_in_percent'])"
      ]
    },
    {
      "cell_type": "markdown",
      "id": "15be5b49-d465-48a7-9b3b-6d58291752d9",
      "metadata": {
        "id": "15be5b49-d465-48a7-9b3b-6d58291752d9"
      },
      "source": [
        "**45.** Create a new column, time_interval, as a range of integer values beginning with zero."
      ]
    },
    {
      "cell_type": "code",
      "execution_count": null,
      "id": "bcc2dca5-7682-4e55-b218-e94006071ebd",
      "metadata": {
        "id": "bcc2dca5-7682-4e55-b218-e94006071ebd",
        "colab": {
          "base_uri": "https://localhost:8080/"
        },
        "outputId": "330431c1-903d-4f31-828d-3d5ec9b2c2ee"
      },
      "outputs": [
        {
          "output_type": "stream",
          "name": "stdout",
          "text": [
            "                   pickup              dropoff  passengers  distance  fare  \\\n",
            "0     2019-03-23 20:21:09  2019-03-23 20:27:24           1      1.60   7.0   \n",
            "8     2019-03-23 11:48:50  2019-03-23 12:06:14           1      3.63  15.0   \n",
            "17    2019-03-23 20:50:49  2019-03-23 21:02:07           1      2.60  10.5   \n",
            "117   2019-03-23 09:39:25  2019-03-23 09:56:45           0      3.60  15.5   \n",
            "144   2019-03-23 18:35:01  2019-03-23 18:47:39           1      3.20  12.5   \n",
            "...                   ...                  ...         ...       ...   ...   \n",
            "6325  2019-03-23 20:52:40  2019-03-23 21:10:12           1      3.62  14.5   \n",
            "6331  2019-03-23 11:27:00  2019-03-23 12:20:11           1      7.67  28.0   \n",
            "6338  2019-03-23 18:05:38  2019-03-23 18:25:36           1      2.82  14.0   \n",
            "6427  2019-03-23 18:26:09  2019-03-23 18:49:12           1      7.07  20.0   \n",
            "6430  2019-03-23 22:55:18  2019-03-23 23:14:25           1      4.14  16.0   \n",
            "\n",
            "       tip  tolls  total   color      payment                     pickup_zone  \\\n",
            "0     2.15    0.0  12.95  yellow  credit card                 Lenox Hill West   \n",
            "8     1.00    0.0  19.30  yellow  credit card               East Harlem South   \n",
            "17    2.00    0.0  16.30  yellow  credit card                  Midtown Center   \n",
            "117   3.75    0.0  22.55  yellow  credit card                  Yorkville East   \n",
            "144   2.00    0.0  17.80  yellow  credit card             UN/Turtle Bay South   \n",
            "...    ...    ...    ...     ...          ...                             ...   \n",
            "6325  0.00    0.0  15.80   green         cash  Long Island City/Hunters Point   \n",
            "6331  0.00    0.0  28.00   green         cash                 Jackson Heights   \n",
            "6338  0.00    0.0  14.80   green  credit card              Claremont/Bathgate   \n",
            "6427  0.00    0.0  20.00   green         cash                     Parkchester   \n",
            "6430  0.00    0.0  17.30   green         cash             Crown Heights North   \n",
            "\n",
            "                      dropoff_zone pickup_borough dropoff_borough  \\\n",
            "0              UN/Turtle Bay South      Manhattan       Manhattan   \n",
            "8                   Midtown Center      Manhattan       Manhattan   \n",
            "17               East Harlem South      Manhattan       Manhattan   \n",
            "117   Penn Station/Madison Sq West      Manhattan       Manhattan   \n",
            "144                   East Village      Manhattan       Manhattan   \n",
            "...                            ...            ...             ...   \n",
            "6325                      Steinway         Queens          Queens   \n",
            "6331                       Maspeth         Queens          Queens   \n",
            "6338    Spuyten Duyvil/Kingsbridge          Bronx           Bronx   \n",
            "6427             East Harlem South          Bronx       Manhattan   \n",
            "6430                Bushwick North       Brooklyn        Brooklyn   \n",
            "\n",
            "             pickup_time  tip_in_percent  time_interval  \n",
            "0    2019-03-23 20:21:09       30.714286            0.0  \n",
            "8    2019-03-23 11:48:50        6.666667            8.0  \n",
            "17   2019-03-23 20:50:49       19.047619           17.0  \n",
            "117  2019-03-23 09:39:25       24.193548          117.0  \n",
            "144  2019-03-23 18:35:01       16.000000          144.0  \n",
            "...                  ...             ...            ...  \n",
            "6325 2019-03-23 20:52:40        0.000000            NaN  \n",
            "6331 2019-03-23 11:27:00        0.000000            NaN  \n",
            "6338 2019-03-23 18:05:38        0.000000            NaN  \n",
            "6427 2019-03-23 18:26:09        0.000000            NaN  \n",
            "6430 2019-03-23 22:55:18        0.000000            NaN  \n",
            "\n",
            "[209 rows x 17 columns]\n"
          ]
        },
        {
          "output_type": "stream",
          "name": "stderr",
          "text": [
            "<ipython-input-59-2c72055abddf>:1: SettingWithCopyWarning: \n",
            "A value is trying to be set on a copy of a slice from a DataFrame.\n",
            "Try using .loc[row_indexer,col_indexer] = value instead\n",
            "\n",
            "See the caveats in the documentation: https://pandas.pydata.org/pandas-docs/stable/user_guide/indexing.html#returning-a-view-versus-a-copy\n",
            "  taxis_one_day['time_interval'] = pd.Series(range(len(taxis_one_day)))\n"
          ]
        }
      ],
      "source": [
        "taxis_one_day['time_interval'] = pd.Series(range(len(taxis_one_day)))\n",
        "print(taxis_one_day)"
      ]
    },
    {
      "cell_type": "markdown",
      "id": "269b329e-cade-4e54-9ed8-ce5d23006750",
      "metadata": {
        "id": "269b329e-cade-4e54-9ed8-ce5d23006750"
      },
      "source": [
        "Display the correlations between the following pairs of values:\n",
        "1. tip_in_percent and distance.\n",
        "1. tip_in_percent and passengers.\n",
        "1. tip_in_percent and time_interval."
      ]
    },
    {
      "cell_type": "code",
      "execution_count": null,
      "id": "7003165a-2e86-46fa-9b0c-bb1e9dab4afd",
      "metadata": {
        "id": "7003165a-2e86-46fa-9b0c-bb1e9dab4afd",
        "colab": {
          "base_uri": "https://localhost:8080/"
        },
        "outputId": "63dc5355-39cc-4c0f-e858-dd340c30dc5e"
      },
      "outputs": [
        {
          "output_type": "stream",
          "name": "stdout",
          "text": [
            "                tip_in_percent  distance  passengers  time_interval\n",
            "tip_in_percent        1.000000 -0.185417    0.037238      -0.006132\n",
            "distance             -0.185417  1.000000   -0.104348       0.513243\n",
            "passengers            0.037238 -0.104348    1.000000      -0.492635\n",
            "time_interval        -0.006132  0.513243   -0.492635       1.000000\n",
            "passengers\n"
          ]
        }
      ],
      "source": [
        "correlations = taxis_one_day[['tip_in_percent', 'distance', 'passengers', 'time_interval']].corr()\n",
        "print(correlations)\n",
        "print(correlations['tip_in_percent'][['distance', 'passengers', 'time_interval']].idxmax())\n"
      ]
    },
    {
      "cell_type": "markdown",
      "id": "934d0379-8d2c-4579-af88-fafffdb58767",
      "metadata": {
        "id": "934d0379-8d2c-4579-af88-fafffdb58767"
      },
      "source": [
        "**47.** Admittedly, the size of the data set is fairly small given how we've subsetted it.  But based on the values in #45, which of the three pairs show the strongest correlation."
      ]
    },
    {
      "cell_type": "markdown",
      "id": "04dfb838-f8de-4e79-8076-12ef0c187fc4",
      "metadata": {
        "id": "04dfb838-f8de-4e79-8076-12ef0c187fc4"
      },
      "source": [
        "passengers"
      ]
    },
    {
      "cell_type": "markdown",
      "id": "279a9e91-2488-4e53-8234-ddde076fbe30",
      "metadata": {
        "id": "279a9e91-2488-4e53-8234-ddde076fbe30"
      },
      "source": [
        "**48.** Did our hypothesis that people tip more as the day goes on turn out to be warranted?"
      ]
    },
    {
      "cell_type": "markdown",
      "id": "6aaf603f-5099-457c-99eb-bf8370583a0c",
      "metadata": {
        "id": "6aaf603f-5099-457c-99eb-bf8370583a0c"
      },
      "source": [
        "No"
      ]
    },
    {
      "cell_type": "code",
      "source": [],
      "metadata": {
        "id": "kWcx1ELfjI-6"
      },
      "id": "kWcx1ELfjI-6",
      "execution_count": null,
      "outputs": []
    }
  ],
  "metadata": {
    "kernelspec": {
      "display_name": "Python 3 (ipykernel)",
      "language": "python",
      "name": "python3"
    },
    "language_info": {
      "codemirror_mode": {
        "name": "ipython",
        "version": 3
      },
      "file_extension": ".py",
      "mimetype": "text/x-python",
      "name": "python",
      "nbconvert_exporter": "python",
      "pygments_lexer": "ipython3",
      "version": "3.10.2"
    },
    "colab": {
      "provenance": []
    }
  },
  "nbformat": 4,
  "nbformat_minor": 5
}