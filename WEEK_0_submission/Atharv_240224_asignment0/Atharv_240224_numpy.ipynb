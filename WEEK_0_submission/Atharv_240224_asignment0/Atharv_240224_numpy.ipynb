{
  "cells": [
    {
      "cell_type": "markdown",
      "metadata": {
        "id": "Ar4fL67UDPHr"
      },
      "source": [
        "# NumPy exercises"
      ]
    },
    {
      "cell_type": "markdown",
      "metadata": {
        "id": "_KH_5nW4DPHv"
      },
      "source": [
        "Some  of these come from / are inspired from https://github.com/rougier/numpy-100 and http://www.scipy-lectures.org/intro/numpy/exercises.html\n",
        "\n",
        "You might want to look over these lists as well."
      ]
    },
    {
      "cell_type": "code",
      "execution_count": 1,
      "metadata": {
        "id": "u4ewzXF9DPHx"
      },
      "outputs": [],
      "source": [
        "import numpy as np"
      ]
    },
    {
      "cell_type": "markdown",
      "metadata": {
        "id": "BGjlCaQzDPHz"
      },
      "source": [
        "## Q1\n",
        "\n",
        "We can use `np.random.random_sample()` to create an array with random values.  By default, these will be in the range `[0.0, 1.0)`.  You can\n",
        "multiple the output and add a scalar to it to get it to be in a different range.\n",
        "\n",
        "Create a 10 x 10 array initialized with random numbers that lie between 0 and 10.\n",
        "\n",
        "Then compute the average of the array (there is a numpy function for this, `np.mean()`)."
      ]
    },
    {
      "cell_type": "code",
      "execution_count": 2,
      "metadata": {
        "tags": [],
        "id": "6MSFAgQyDPHz",
        "outputId": "4e625419-a979-4461-aa7f-10994db2974d",
        "colab": {
          "base_uri": "https://localhost:8080/"
        }
      },
      "outputs": [
        {
          "output_type": "stream",
          "name": "stdout",
          "text": [
            "[[5.23959287 3.54710568 0.97105028 4.11505923 6.63588227 6.31404332\n",
            "  8.58802696 3.62733304 3.32630239 5.26152203]\n",
            " [6.8889242  2.56112156 9.17029831 1.81012119 4.41493698 1.03154071\n",
            "  8.19228234 2.8636122  0.04547548 0.31614405]\n",
            " [4.88198145 2.53638585 6.43209038 7.46244784 5.21530559 1.80038236\n",
            "  2.30508849 4.01138782 6.80592942 9.41046298]\n",
            " [0.39220189 2.70961115 7.04433962 3.67743677 3.9908283  0.74817586\n",
            "  8.66011563 8.6959285  9.38133485 0.77104426]\n",
            " [0.45851828 6.81247605 5.08089043 2.00424357 1.27547044 1.83336359\n",
            "  1.73488083 4.33478771 4.31885351 1.8520649 ]\n",
            " [9.21356458 9.2955024  4.7151425  2.88775245 3.30974013 7.65244916\n",
            "  9.70433837 5.88977765 3.61838442 7.01743927]\n",
            " [7.2132284  8.01241373 2.91507624 0.30050098 9.21448822 5.57677028\n",
            "  8.73285775 8.99078997 2.99568735 3.40545044]\n",
            " [1.36543166 7.81569215 5.402345   2.72951223 4.91976905 6.28949259\n",
            "  2.10779505 8.62671094 1.45094841 1.03621111]\n",
            " [7.05050611 1.76321151 6.50994625 4.56231722 2.36884277 5.71249229\n",
            "  6.82915608 4.47057999 0.7420088  4.83117662]\n",
            " [4.14032759 3.35906601 6.4198823  2.34099487 2.32009912 5.98338653\n",
            "  2.27542532 0.61080226 7.83635416 8.00950594]]\n"
          ]
        },
        {
          "output_type": "execute_result",
          "data": {
            "text/plain": [
              "4.651861557551387"
            ]
          },
          "metadata": {},
          "execution_count": 2
        }
      ],
      "source": [
        "np.random.random_sample((10,10))*10\n",
        "print(np.random.random_sample((10,10))*10)\n",
        "np.mean(np.random.random_sample((10,10))*10)"
      ]
    },
    {
      "cell_type": "markdown",
      "metadata": {
        "id": "1RGJBfycDPH0"
      },
      "source": [
        "## Q2\n",
        "\n",
        "Create the array:\n",
        "```\n",
        "[[1,  6, 11],\n",
        " [2,  7, 12],\n",
        " [3,  8, 13],\n",
        " [4,  9, 14],\n",
        " [5, 10, 15]]\n",
        "```\n",
        "with out explicitly typing it in.\n",
        "\n",
        "Now create a new array containing only its 2nd and 4th rows."
      ]
    },
    {
      "cell_type": "code",
      "execution_count": 3,
      "metadata": {
        "tags": [],
        "id": "1jxOF41eDPH0",
        "outputId": "be9fd574-d8df-4567-d5a9-b5a42f4b5028",
        "colab": {
          "base_uri": "https://localhost:8080/"
        }
      },
      "outputs": [
        {
          "output_type": "stream",
          "name": "stdout",
          "text": [
            "[[ 1  6 11]\n",
            " [ 2  7 12]\n",
            " [ 3  8 13]\n",
            " [ 4  9 14]\n",
            " [ 5 10 15]]\n",
            "[[ 2  7 12]\n",
            " [ 4  9 14]]\n"
          ]
        }
      ],
      "source": [
        "new_array = np.array([[1,6,11],[2,7,12],[3,8,13],[4,9,14],[5,10,15]])\n",
        "print(new_array)\n",
        "print(new_array[1:5:2])"
      ]
    },
    {
      "cell_type": "markdown",
      "metadata": {
        "id": "4mfsvN45DPH1"
      },
      "source": [
        "## Q3\n",
        "\n",
        "Create a 2d array with `1` on the border and `0` on the inside, e.g., like:\n",
        "```\n",
        "1 1 1 1 1\n",
        "1 0 0 0 1\n",
        "1 0 0 0 1\n",
        "1 1 1 1 1\n",
        "```\n",
        "\n",
        "Do this using array slice notation to let it work for an arbitrary-sized array"
      ]
    },
    {
      "cell_type": "code",
      "execution_count": 5,
      "metadata": {
        "tags": [],
        "id": "qf1EIwKSDPH2",
        "outputId": "bd68ecbf-d23b-443b-ca9c-fc1a301f6274",
        "colab": {
          "base_uri": "https://localhost:8080/"
        }
      },
      "outputs": [
        {
          "output_type": "stream",
          "name": "stdout",
          "text": [
            "[[1. 1. 1. 1. 1.]\n",
            " [1. 0. 0. 0. 1.]\n",
            " [1. 0. 0. 0. 1.]\n",
            " [1. 1. 1. 1. 1.]]\n"
          ]
        }
      ],
      "source": [
        "array=np.ones((4,5))\n",
        "array[1:-1,1:-1]=0\n",
        "print(array)"
      ]
    },
    {
      "cell_type": "markdown",
      "metadata": {
        "id": "UuKIXz6vDPH3"
      },
      "source": [
        "## Q4\n",
        "\n",
        "  * Create an array with angles in degrees 0, 15, 30, ... 90 (i.e., every 15 degrees up to 90).\n",
        "\n",
        "  * Now create 3 new arrays with the sine, cosine, and tangent of the elements of the first array\n",
        "  \n",
        "  * Finally, calculate the inverse sine, inverse cosine, and inverse tangent the arrays above and compare to the original angles"
      ]
    },
    {
      "cell_type": "code",
      "source": [
        "\n",
        "angles = np.array([0,15,30,45,60,75,90])\n",
        "\n",
        "\n",
        "sin= np.sin(np.radians(angles))\n",
        "cos = np.cos(np.radians(angles))\n",
        "tan = np.tan(np.radians(angles))\n",
        "\n",
        "\n",
        "arcsin = np.degrees(np.arcsin(sin))\n",
        "arccos = np.degrees(np.arccos(cos))\n",
        "arctan = np.degrees(np.arctan(tan))\n",
        "\n"
      ],
      "metadata": {
        "id": "XK5k_VNDg8Us"
      },
      "execution_count": 7,
      "outputs": []
    },
    {
      "cell_type": "markdown",
      "metadata": {
        "id": "oKhSlL_EDPH4"
      },
      "source": [
        "## Q5\n",
        "\n",
        "Given the array:\n",
        "```\n",
        "x = np.array([1, -1, 2, 5, 8, 4, 10, 12, 3])\n",
        "```\n",
        "calculate the difference of each element with its neighbor."
      ]
    },
    {
      "cell_type": "code",
      "execution_count": null,
      "metadata": {
        "tags": [],
        "id": "mRojYTFMDPH5"
      },
      "outputs": [],
      "source": [
        "x = np.array([1, -1, 2, 5, 8, 4, 10, 12, 3])\n",
        "print(x)\n",
        "np.diff(x)"
      ]
    },
    {
      "cell_type": "markdown",
      "metadata": {
        "id": "F8oQd_ELDPH6"
      },
      "source": [
        "## Q6\n",
        "\n",
        "Here we will read in columns of numbers from a file and create a histogram, using NumPy routines.  Make sure you have the data file\n",
        "\"`sample.txt`\" in the same directory as this notebook (you can download it from  https://raw.githubusercontent.com/sbu-python-summer/python-tutorial/master/day-3/sample.txt\n",
        "\n",
        "  * Use `np.loadtxt()` to read this file in.  \n",
        "\n",
        "  * Next, use `np.histogram()` to create a histogram array.  The output returns both the count and an array of edges.\n",
        "  \n",
        "  * Finally, loop over the bins and print out the bin center (averaging the left and right edges of the bin) and the count for that bin."
      ]
    },
    {
      "cell_type": "code",
      "execution_count": 8,
      "metadata": {
        "tags": [],
        "id": "F8hdGe1qDPH6",
        "outputId": "44f4b893-01dc-4490-8889-5a47101a46fb",
        "colab": {
          "base_uri": "https://localhost:8080/"
        }
      },
      "outputs": [
        {
          "output_type": "stream",
          "name": "stdout",
          "text": [
            "--2024-12-09 08:30:45--  https://raw.githubusercontent.com/sbu-python-summer/python-tutorial/master/day-3/sample.txt\n",
            "Resolving raw.githubusercontent.com (raw.githubusercontent.com)... 185.199.108.133, 185.199.109.133, 185.199.110.133, ...\n",
            "Connecting to raw.githubusercontent.com (raw.githubusercontent.com)|185.199.108.133|:443... connected.\n",
            "HTTP request sent, awaiting response... 200 OK\n",
            "Length: 2183 (2.1K) [text/plain]\n",
            "Saving to: ‘sample.txt’\n",
            "\n",
            "\rsample.txt            0%[                    ]       0  --.-KB/s               \rsample.txt          100%[===================>]   2.13K  --.-KB/s    in 0s      \n",
            "\n",
            "2024-12-09 08:30:45 (39.3 MB/s) - ‘sample.txt’ saved [2183/2183]\n",
            "\n",
            "Bin center: -24.11, Count: 6\n",
            "Bin center: -11.15, Count: 23\n",
            "Bin center: 1.81, Count: 52\n",
            "Bin center: 14.77, Count: 37\n",
            "Bin center: 27.73, Count: 16\n",
            "Bin center: 40.69, Count: 14\n",
            "Bin center: 53.64, Count: 13\n",
            "Bin center: 66.60, Count: 13\n",
            "Bin center: 79.56, Count: 13\n",
            "Bin center: 92.52, Count: 13\n"
          ]
        }
      ],
      "source": [
        "\n",
        "!wget -nc https://raw.githubusercontent.com/sbu-python-summer/python-tutorial/master/day-3/sample.txt\n",
        "\n",
        "\n",
        "data = np.loadtxt('sample.txt')\n",
        "hist, bin_edges = np.histogram(data)\n",
        "\n",
        "for i in range(len(hist)):\n",
        "  bin_center = (bin_edges[i] + bin_edges[i+1]) / 2\n",
        "  print(f\"Bin center: {bin_center:.2f}, Count: {hist[i]}\")"
      ]
    },
    {
      "cell_type": "markdown",
      "metadata": {
        "id": "qge_-x7CDPH7"
      },
      "source": [
        "## Q7\n",
        "\n",
        "NumPy has a standard deviation function, `np.std()`, but here we'll write our own that works on a 1-d array (vector).  The standard\n",
        "deviation is a measure of the \"width\" of the distribution of numbers\n",
        "in the vector.\n",
        "\n",
        "Given an array, $a$, and an average $\\bar{a}$, the standard deviation\n",
        "is:\n",
        "\n",
        "$$\n",
        "\\sigma = \\left [ \\frac{1}{N} \\sum_{i=1}^N (a_i - \\bar{a})^2 \\right ]^{1/2}\n",
        "$$\n",
        "\n",
        "Write a function to calculate the standard deviation for an input array, `a`:\n",
        "\n",
        "  * First compute the average of the elements in `a` to define $\\bar{a}$\n",
        "  * Next compute the sum over the squares of $a - \\bar{a}$\n",
        "  * Then divide the sum by the number of elements in the array\n",
        "  * Finally take the square root (you can use `np.sqrt()`)\n",
        "  \n",
        "Test your function on a random array, and compare to the built-in `np.std()`"
      ]
    },
    {
      "cell_type": "code",
      "execution_count": 9,
      "metadata": {
        "id": "0dxQkXaZDPH9",
        "outputId": "c9ce364d-6bec-4c9b-dabf-a961db301012",
        "colab": {
          "base_uri": "https://localhost:8080/"
        }
      },
      "outputs": [
        {
          "output_type": "stream",
          "name": "stdout",
          "text": [
            "[0.69543263 0.14436206 0.43605313 0.84523278 0.1808299  0.07298656\n",
            " 0.69511983 0.70501864 0.25564152 0.44411253]\n",
            "0.26220439303138915\n",
            "0.26220439303138915\n"
          ]
        }
      ],
      "source": [
        "array=np.random.random_sample(10)\n",
        "print(array)\n",
        "print(np.std(array))\n",
        "average=np.mean(array)\n",
        "sum=np.sum((array-average)**2)\n",
        "print(np.sqrt(sum/len(array)))"
      ]
    }
  ],
  "metadata": {
    "kernelspec": {
      "display_name": "Python 3 (ipykernel)",
      "language": "python",
      "name": "python3"
    },
    "language_info": {
      "codemirror_mode": {
        "name": "ipython",
        "version": 3
      },
      "file_extension": ".py",
      "mimetype": "text/x-python",
      "name": "python",
      "nbconvert_exporter": "python",
      "pygments_lexer": "ipython3",
      "version": "3.12.1"
    },
    "colab": {
      "provenance": []
    }
  },
  "nbformat": 4,
  "nbformat_minor": 0
}