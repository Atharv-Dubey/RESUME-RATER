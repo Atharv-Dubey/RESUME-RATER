{
  "cells": [
    {
      "cell_type": "markdown",
      "metadata": {
        "id": "Ar4fL67UDPHr"
      },
      "source": [
        "# NumPy exercises"
      ]
    },
    {
      "cell_type": "markdown",
      "metadata": {
        "id": "_KH_5nW4DPHv"
      },
      "source": [
        "Some  of these come from / are inspired from https://github.com/rougier/numpy-100 and http://www.scipy-lectures.org/intro/numpy/exercises.html\n",
        "\n",
        "You might want to look over these lists as well."
      ]
    },
    {
      "cell_type": "code",
      "execution_count": 1,
      "metadata": {
        "id": "u4ewzXF9DPHx"
      },
      "outputs": [],
      "source": [
        "import numpy as np"
      ]
    },
    {
      "cell_type": "markdown",
      "metadata": {
        "id": "BGjlCaQzDPHz"
      },
      "source": [
        "## Q1\n",
        "\n",
        "We can use `np.random.random_sample()` to create an array with random values.  By default, these will be in the range `[0.0, 1.0)`.  You can\n",
        "multiple the output and add a scalar to it to get it to be in a different range.\n",
        "\n",
        "Create a 10 x 10 array initialized with random numbers that lie between 0 and 10.\n",
        "\n",
        "Then compute the average of the array (there is a numpy function for this, `np.mean()`)."
      ]
    },
    {
      "cell_type": "code",
      "execution_count": 3,
      "metadata": {
        "tags": [],
        "id": "6MSFAgQyDPHz",
        "colab": {
          "base_uri": "https://localhost:8080/"
        },
        "outputId": "19533f7e-fee2-4bb8-b917-1478663c6917"
      },
      "outputs": [
        {
          "output_type": "stream",
          "name": "stdout",
          "text": [
            "[[4.19656981 3.19917134 7.47713391 3.33053411 0.03971033 3.09614103\n",
            "  6.53061567 0.94303491 8.52208268 7.39992575]\n",
            " [7.22666069 3.06778704 3.065144   2.8623451  7.64651599 2.45945134\n",
            "  3.80411882 7.42418112 0.27208239 6.67004748]\n",
            " [1.64272149 3.03101299 6.79435939 1.79080355 0.98219348 8.74000816\n",
            "  2.84886808 0.87634385 3.3289655  2.13558226]\n",
            " [4.23473677 2.67301804 1.61410164 4.67038161 0.84533835 3.80630246\n",
            "  1.49555296 6.67345417 2.63939564 0.28389824]\n",
            " [3.90869757 2.86226773 8.70030535 6.4862441  9.42090712 8.44605802\n",
            "  4.98639706 2.81529944 8.06122166 6.71982378]\n",
            " [0.7682826  1.30495419 6.91756752 8.79448444 9.33485526 1.67019141\n",
            "  1.84464153 5.81608196 8.96760185 1.74503251]\n",
            " [9.6767385  2.30798559 9.27107857 1.9694263  6.25865059 1.4019748\n",
            "  9.76909751 5.93601087 5.82727822 1.9158659 ]\n",
            " [1.15632163 5.08007843 3.44552021 1.84049942 1.87911153 6.97728702\n",
            "  7.81428507 7.88629809 7.85760274 7.91556138]\n",
            " [1.96362571 7.17177513 9.82140062 6.08307522 4.9820189  9.95953654\n",
            "  2.12174712 2.01184956 6.13982741 8.31397474]\n",
            " [5.47145028 5.7469971  8.30990915 8.81841191 5.77821366 9.29437371\n",
            "  3.20877113 8.14440431 4.57469043 4.25308684]]\n",
            "4.882670190742349\n"
          ]
        }
      ],
      "source": [
        "arr=10*np.random.random_sample((10,10))\n",
        "print (arr)\n",
        "mean=np.mean(arr)\n",
        "print (mean)"
      ]
    },
    {
      "cell_type": "markdown",
      "metadata": {
        "id": "1RGJBfycDPH0"
      },
      "source": [
        "## Q2\n",
        "\n",
        "Create the array:\n",
        "```\n",
        "[[1,  6, 11],\n",
        " [2,  7, 12],\n",
        " [3,  8, 13],\n",
        " [4,  9, 14],\n",
        " [5, 10, 15]]\n",
        "```\n",
        "with out explicitly typing it in.\n",
        "\n",
        "Now create a new array containing only its 2nd and 4th rows."
      ]
    },
    {
      "cell_type": "code",
      "execution_count": 10,
      "metadata": {
        "tags": [],
        "id": "1jxOF41eDPH0",
        "colab": {
          "base_uri": "https://localhost:8080/"
        },
        "outputId": "83794a52-a217-4660-930a-c70861ba1f69"
      },
      "outputs": [
        {
          "output_type": "stream",
          "name": "stdout",
          "text": [
            "[[ 1  6 11]\n",
            " [ 2  7 12]\n",
            " [ 3  8 13]\n",
            " [ 4  9 14]\n",
            " [ 5 10 15]]\n",
            "[[ 2  7 12]\n",
            " [ 4  9 14]]\n"
          ]
        }
      ],
      "source": [
        "arr1=np.array([1,2,3,4,5,6,7,8,9,10,11,12,13,14,15])\n",
        "arr2= (np.stack(np.array_split(arr1,3),axis=1))\n",
        "print (arr2)\n",
        "fa=[False, True, False, True, False]\n",
        "arr3= arr2[fa]\n",
        "print (arr3)"
      ]
    },
    {
      "cell_type": "markdown",
      "metadata": {
        "id": "4mfsvN45DPH1"
      },
      "source": [
        "## Q3\n",
        "\n",
        "Create a 2d array with `1` on the border and `0` on the inside, e.g., like:\n",
        "```\n",
        "1 1 1 1 1\n",
        "1 0 0 0 1\n",
        "1 0 0 0 1\n",
        "1 1 1 1 1\n",
        "```\n",
        "\n",
        "Do this using array slice notation to let it work for an arbitrary-sized array"
      ]
    },
    {
      "cell_type": "code",
      "execution_count": 38,
      "metadata": {
        "tags": [],
        "id": "qf1EIwKSDPH2",
        "colab": {
          "base_uri": "https://localhost:8080/"
        },
        "outputId": "b7a1aef5-0fb9-4562-ce17-40199004e221"
      },
      "outputs": [
        {
          "output_type": "stream",
          "name": "stdout",
          "text": [
            "[[1 1 1 1]\n",
            " [1 0 0 1]\n",
            " [1 0 0 1]\n",
            " [1 0 0 1]\n",
            " [1 1 1 1]]\n"
          ]
        }
      ],
      "source": [
        "def create_border_array(r, c):\n",
        "    array = np.ones((r, c), dtype=int)\n",
        "    array[1:-1, 1:-1] = 0\n",
        "    return array\n",
        "r,c=5,4\n",
        "print(create_border_array(r,c))"
      ]
    },
    {
      "cell_type": "markdown",
      "metadata": {
        "id": "UuKIXz6vDPH3"
      },
      "source": [
        "## Q4\n",
        "\n",
        "  * Create an array with angles in degrees 0, 15, 30, ... 90 (i.e., every 15 degrees up to 90).\n",
        "\n",
        "  * Now create 3 new arrays with the sine, cosine, and tangent of the elements of the first array\n",
        "  \n",
        "  * Finally, calculate the inverse sine, inverse cosine, and inverse tangent the arrays above and compare to the original angles"
      ]
    },
    {
      "cell_type": "code",
      "execution_count": 23,
      "metadata": {
        "collapsed": true,
        "jupyter": {
          "outputs_hidden": true
        },
        "id": "bYMU3viyDPH4",
        "colab": {
          "base_uri": "https://localhost:8080/"
        },
        "outputId": "fe76b46a-34c4-4455-8403-bccdb41f2c04"
      },
      "outputs": [
        {
          "output_type": "stream",
          "name": "stdout",
          "text": [
            "[0.         0.25881905 0.5        0.70710678 0.8660254  0.96592583\n",
            " 1.        ]\n",
            "[1.00000000e+00 9.65925826e-01 8.66025404e-01 7.07106781e-01\n",
            " 5.00000000e-01 2.58819045e-01 6.12323400e-17]\n",
            "[0.00000000e+00 2.67949192e-01 5.77350269e-01 1.00000000e+00\n",
            " 1.73205081e+00 3.73205081e+00 1.63312394e+16]\n",
            "[0.         0.26179939 0.52359878 0.78539816 1.04719755 1.30899694\n",
            " 1.57079633]\n",
            "[0.         0.26179939 0.52359878 0.78539816 1.04719755 1.30899694\n",
            " 1.57079633]\n",
            "[0.         0.26179939 0.52359878 0.78539816 1.04719755 1.30899694\n",
            " 1.57079633]\n",
            "[0.         0.26179939 0.52359878 0.78539816 1.04719755 1.30899694\n",
            " 1.57079633]\n"
          ]
        }
      ],
      "source": [
        "arr1=np.array([0,15,30,45,60,75,90])\n",
        "x=np.deg2rad(arr1)\n",
        "arr2=np.sin(x)\n",
        "print (arr2)\n",
        "arr3=np.cos(x)\n",
        "print (arr3)\n",
        "arr4=np.tan(x)\n",
        "print (arr4)\n",
        "a1=np.arcsin(arr2)\n",
        "print (a1)\n",
        "a2=np.arccos(arr3)\n",
        "print (a2)\n",
        "a3=np.arctan(arr4)\n",
        "print (a3)\n",
        "print (x)"
      ]
    },
    {
      "cell_type": "markdown",
      "metadata": {
        "id": "oKhSlL_EDPH4"
      },
      "source": [
        "## Q5\n",
        "\n",
        "Given the array:\n",
        "```\n",
        "x = np.array([1, -1, 2, 5, 8, 4, 10, 12, 3])\n",
        "```\n",
        "calculate the difference of each element with its neighbor."
      ]
    },
    {
      "cell_type": "code",
      "execution_count": 27,
      "metadata": {
        "tags": [],
        "id": "mRojYTFMDPH5",
        "colab": {
          "base_uri": "https://localhost:8080/"
        },
        "outputId": "af4aeeb0-9111-4e80-fccd-9ccb1c8c4436"
      },
      "outputs": [
        {
          "output_type": "stream",
          "name": "stdout",
          "text": [
            "[-2  3  3  3 -4  6  2 -9]\n",
            "[2 3 3 3 4 6 2 9]\n"
          ]
        }
      ],
      "source": [
        "x = np.array([1, -1, 2, 5, 8, 4, 10, 12, 3])\n",
        "d= np.diff(x)\n",
        "print (d)\n",
        "f=np.absolute(d)\n",
        "print (f)"
      ]
    },
    {
      "cell_type": "markdown",
      "metadata": {
        "id": "F8oQd_ELDPH6"
      },
      "source": [
        "## Q6\n",
        "\n",
        "Here we will read in columns of numbers from a file and create a histogram, using NumPy routines.  Make sure you have the data file\n",
        "\"`sample.txt`\" in the same directory as this notebook (you can download it from  https://raw.githubusercontent.com/sbu-python-summer/python-tutorial/master/day-3/sample.txt\n",
        "\n",
        "  * Use `np.loadtxt()` to read this file in.  \n",
        "\n",
        "  * Next, use `np.histogram()` to create a histogram array.  The output returns both the count and an array of edges.\n",
        "  \n",
        "  * Finally, loop over the bins and print out the bin center (averaging the left and right edges of the bin) and the count for that bin."
      ]
    },
    {
      "cell_type": "code",
      "execution_count": null,
      "metadata": {
        "tags": [],
        "id": "F8hdGe1qDPH6"
      },
      "outputs": [],
      "source": []
    },
    {
      "cell_type": "markdown",
      "metadata": {
        "id": "qge_-x7CDPH7"
      },
      "source": [
        "## Q7\n",
        "\n",
        "NumPy has a standard deviation function, `np.std()`, but here we'll write our own that works on a 1-d array (vector).  The standard\n",
        "deviation is a measure of the \"width\" of the distribution of numbers\n",
        "in the vector.\n",
        "\n",
        "Given an array, $a$, and an average $\\bar{a}$, the standard deviation\n",
        "is:\n",
        "\n",
        "$$\n",
        "\\sigma = \\left [ \\frac{1}{N} \\sum_{i=1}^N (a_i - \\bar{a})^2 \\right ]^{1/2}\n",
        "$$\n",
        "\n",
        "Write a function to calculate the standard deviation for an input array, `a`:\n",
        "\n",
        "  * First compute the average of the elements in `a` to define $\\bar{a}$\n",
        "  * Next compute the sum over the squares of $a - \\bar{a}$\n",
        "  * Then divide the sum by the number of elements in the array\n",
        "  * Finally take the square root (you can use `np.sqrt()`)\n",
        "  \n",
        "Test your function on a random array, and compare to the built-in `np.std()`"
      ]
    },
    {
      "cell_type": "code",
      "execution_count": 36,
      "metadata": {
        "id": "0dxQkXaZDPH9",
        "colab": {
          "base_uri": "https://localhost:8080/"
        },
        "outputId": "d854315b-2a5e-4c6b-f2be-046e283d66a7"
      },
      "outputs": [
        {
          "output_type": "stream",
          "name": "stdout",
          "text": [
            "[1 2 3 4 5 6]\n",
            "1.707825127659933\n",
            "1.707825127659933\n"
          ]
        }
      ],
      "source": [
        "def stdd(a):\n",
        "  m=np.mean(a)\n",
        "  s=0.0\n",
        "  for i in range(len(a)):\n",
        "    s=s+pow((a[i]-m),2)\n",
        "  x=s/(len(a))\n",
        "  st=np.sqrt(x)\n",
        "  return st\n",
        "\n",
        "arr=np.array([1,2,3,4,5,6])\n",
        "print (arr)\n",
        "print(stdd(arr))\n",
        "print(np.std(arr))"
      ]
    }
  ],
  "metadata": {
    "kernelspec": {
      "display_name": "Python 3 (ipykernel)",
      "language": "python",
      "name": "python3"
    },
    "language_info": {
      "codemirror_mode": {
        "name": "ipython",
        "version": 3
      },
      "file_extension": ".py",
      "mimetype": "text/x-python",
      "name": "python",
      "nbconvert_exporter": "python",
      "pygments_lexer": "ipython3",
      "version": "3.12.1"
    },
    "colab": {
      "provenance": []
    }
  },
  "nbformat": 4,
  "nbformat_minor": 0
}