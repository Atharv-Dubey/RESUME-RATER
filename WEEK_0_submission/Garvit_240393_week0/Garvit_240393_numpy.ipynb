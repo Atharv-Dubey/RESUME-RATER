{
 "cells": [
  {
   "cell_type": "markdown",
   "metadata": {
    "id": "Ar4fL67UDPHr"
   },
   "source": [
    "# NumPy exercises"
   ]
  },
  {
   "cell_type": "markdown",
   "metadata": {
    "id": "_KH_5nW4DPHv"
   },
   "source": [
    "Some  of these come from / are inspired from https://github.com/rougier/numpy-100 and http://www.scipy-lectures.org/intro/numpy/exercises.html\n",
    "\n",
    "You might want to look over these lists as well."
   ]
  },
  {
   "cell_type": "code",
   "execution_count": 31,
   "metadata": {
    "executionInfo": {
     "elapsed": 762,
     "status": "ok",
     "timestamp": 1733430169151,
     "user": {
      "displayName": "GARVIT BHUTANI",
      "userId": "16849952818458716971"
     },
     "user_tz": -330
    },
    "id": "u4ewzXF9DPHx"
   },
   "outputs": [],
   "source": [
    "import numpy as np\n",
    "import matplotlib.pyplot as plt\n"
   ]
  },
  {
   "cell_type": "markdown",
   "metadata": {
    "id": "BGjlCaQzDPHz"
   },
   "source": [
    "## Q1\n",
    "\n",
    "We can use `np.random.random_sample()` to create an array with random values.  By default, these will be in the range `[0.0, 1.0)`.  You can\n",
    "multiple the output and add a scalar to it to get it to be in a different range.\n",
    "\n",
    "Create a 10 x 10 array initialized with random numbers that lie between 0 and 10.\n",
    "\n",
    "Then compute the average of the array (there is a numpy function for this, `np.mean()`)."
   ]
  },
  {
   "cell_type": "code",
   "execution_count": 32,
   "metadata": {
    "colab": {
     "base_uri": "https://localhost:8080/"
    },
    "executionInfo": {
     "elapsed": 29,
     "status": "ok",
     "timestamp": 1733430169151,
     "user": {
      "displayName": "GARVIT BHUTANI",
      "userId": "16849952818458716971"
     },
     "user_tz": -330
    },
    "id": "6MSFAgQyDPHz",
    "outputId": "c6dd354a-8258-44ba-906e-98c032da6a7a",
    "tags": []
   },
   "outputs": [
    {
     "name": "stdout",
     "output_type": "stream",
     "text": [
      "5.280971685148184\n",
      "[[1.04328495 1.90848558 8.09211001 7.86663537 9.23884394 5.90897215\n",
      "  2.26668881 4.80854482 0.64095701 8.39111263]\n",
      " [0.06299865 9.31286895 9.26740541 1.07415963 3.823959   4.32310184\n",
      "  5.97215468 9.52854553 9.32512002 7.01688362]\n",
      " [5.37703801 5.99491644 3.35600279 8.56526741 3.7992334  4.15516491\n",
      "  2.85416568 8.61101279 3.86789702 8.4897145 ]\n",
      " [3.10524062 6.66378645 7.84237675 8.1230387  8.951186   9.69873939\n",
      "  8.85616339 1.21896117 1.58728624 4.13112348]\n",
      " [6.79275568 5.55391252 3.16026457 3.38385035 5.78072628 9.47521417\n",
      "  8.711041   8.92298473 1.25894812 6.50143577]\n",
      " [7.53036824 8.11003025 3.78076746 4.72308147 6.33020475 5.28011848\n",
      "  6.81608423 3.6962493  7.82997446 6.74682248]\n",
      " [0.76708772 1.65109457 8.5641662  7.99894034 2.8191907  5.80168276\n",
      "  7.18465698 1.32335238 3.34965501 1.01215716]\n",
      " [9.08113535 3.53339831 8.49440877 2.55854768 5.84578961 7.89472478\n",
      "  5.64934264 0.07245412 2.3633146  4.73907503]\n",
      " [3.8123301  0.32363692 1.00605363 7.66670058 1.5888983  0.68016869\n",
      "  0.46833973 3.61909159 1.99146168 9.98975858]\n",
      " [7.29748491 0.72769768 6.64384473 8.07843144 9.80127829 5.9953088\n",
      "  7.77161206 1.11317328 6.56956025 6.74218054]]\n"
     ]
    }
   ],
   "source": [
    "import numpy as np\n",
    "a1 = np.random.random_sample(size=(10,10))\n",
    "a2 = a1 * 10\n",
    "mean = np.mean(a2)\n",
    "print(mean)\n",
    "print(a2)\n",
    "\n",
    "\n",
    "\n"
   ]
  },
  {
   "cell_type": "markdown",
   "metadata": {
    "id": "1RGJBfycDPH0"
   },
   "source": [
    "## Q2\n",
    "\n",
    "Create the array:\n",
    "```\n",
    "[[1,  6, 11],\n",
    " [2,  7, 12],\n",
    " [3,  8, 13],\n",
    " [4,  9, 14],\n",
    " [5, 10, 15]]\n",
    "```\n",
    "with out explicitly typing it in.\n",
    "\n",
    "Now create a new array containing only its 2nd and 4th rows."
   ]
  },
  {
   "cell_type": "code",
   "execution_count": 33,
   "metadata": {
    "colab": {
     "base_uri": "https://localhost:8080/"
    },
    "executionInfo": {
     "elapsed": 26,
     "status": "ok",
     "timestamp": 1733430169151,
     "user": {
      "displayName": "GARVIT BHUTANI",
      "userId": "16849952818458716971"
     },
     "user_tz": -330
    },
    "id": "1jxOF41eDPH0",
    "outputId": "eb27118a-f2ff-4578-f6e5-ee0078c0ca9e",
    "tags": []
   },
   "outputs": [
    {
     "name": "stdout",
     "output_type": "stream",
     "text": [
      "[[11]\n",
      " [12]\n",
      " [13]\n",
      " [14]\n",
      " [15]]\n",
      "[[ 1  6 11]\n",
      " [ 2  7 12]\n",
      " [ 3  8 13]\n",
      " [ 4  9 14]\n",
      " [ 5 10 15]]\n"
     ]
    }
   ],
   "source": [
    "import numpy as np\n",
    "a1 = np.array([1,2,3,4,5])\n",
    "a2 = np.array([6,7,8,9,10])\n",
    "a3 = np.array([11,12,13,14,15]).reshape(5,1)\n",
    "print(a3)\n",
    "a4 = np.stack((a1,a2),axis = 1)\n",
    "a5 = np.concatenate((a4,a3),axis = 1)\n",
    "print(a5)\n",
    "\n"
   ]
  },
  {
   "cell_type": "markdown",
   "metadata": {
    "id": "4mfsvN45DPH1"
   },
   "source": [
    "## Q3\n",
    "\n",
    "Create a 2d array with `1` on the border and `0` on the inside, e.g., like:\n",
    "```\n",
    "1 1 1 1 1\n",
    "1 0 0 0 1\n",
    "1 0 0 0 1\n",
    "1 1 1 1 1\n",
    "```\n",
    "\n",
    "Do this using array slice notation to let it work for an arbitrary-sized array"
   ]
  },
  {
   "cell_type": "code",
   "execution_count": 34,
   "metadata": {
    "colab": {
     "base_uri": "https://localhost:8080/"
    },
    "executionInfo": {
     "elapsed": 7419,
     "status": "ok",
     "timestamp": 1733430176546,
     "user": {
      "displayName": "GARVIT BHUTANI",
      "userId": "16849952818458716971"
     },
     "user_tz": -330
    },
    "id": "qf1EIwKSDPH2",
    "outputId": "d1443b62-5f2b-4616-8159-81bb3176ae34",
    "tags": []
   },
   "outputs": [
    {
     "name": "stdout",
     "output_type": "stream",
     "text": [
      "[[1. 1. 1. 1. 1. 1. 1.]\n",
      " [1. 0. 0. 0. 0. 0. 1.]\n",
      " [1. 0. 0. 0. 0. 0. 1.]\n",
      " [1. 0. 0. 0. 0. 0. 1.]\n",
      " [1. 1. 1. 1. 1. 1. 1.]]\n"
     ]
    }
   ],
   "source": [
    "import numpy as np\n",
    "rows = int(input(\"enter the number of rows: \"))\n",
    "columns = int(input(\"emter the number of columns: \"))\n",
    "ar = np.zeros(rows * columns)\n",
    "ar2 = ar.reshape(rows,columns)\n",
    "for i in range(0,rows):\n",
    "  for j in range(0,columns):\n",
    "    if i == 0 or i == rows - 1:\n",
    "      ar2[i,j] = 1\n",
    "    elif j == 0 or j == columns - 1:\n",
    "      ar2[i,j] = 1\n",
    "    else:\n",
    "      ar2[i,j] = 0\n",
    "print(ar2)\n",
    "\n"
   ]
  },
  {
   "cell_type": "markdown",
   "metadata": {
    "id": "UuKIXz6vDPH3"
   },
   "source": [
    "## Q4\n",
    "\n",
    "  * Create an array with angles in degrees 0, 15, 30, ... 90 (i.e., every 15 degrees up to 90).\n",
    "\n",
    "  * Now create 3 new arrays with the sine, cosine, and tangent of the elements of the first array\n",
    "  \n",
    "  * Finally, calculate the inverse sine, inverse cosine, and inverse tangent the arrays above and compare to the original angles"
   ]
  },
  {
   "cell_type": "code",
   "execution_count": 35,
   "metadata": {
    "colab": {
     "base_uri": "https://localhost:8080/"
    },
    "collapsed": true,
    "executionInfo": {
     "elapsed": 10,
     "status": "ok",
     "timestamp": 1733430176546,
     "user": {
      "displayName": "GARVIT BHUTANI",
      "userId": "16849952818458716971"
     },
     "user_tz": -330
    },
    "id": "bYMU3viyDPH4",
    "jupyter": {
     "outputs_hidden": true
    },
    "outputId": "ab5ebf33-4c89-437e-9343-debd3279f951"
   },
   "outputs": [
    {
     "name": "stdout",
     "output_type": "stream",
     "text": [
      "[0.         0.26179939 0.52359878 0.78539816 1.04719755 1.30899694\n",
      " 1.57079633]\n",
      "[0.         0.25881905 0.5        0.70710678 0.8660254  0.96592583\n",
      " 1.        ]\n",
      "[1.00000000e+00 9.65925826e-01 8.66025404e-01 7.07106781e-01\n",
      " 5.00000000e-01 2.58819045e-01 6.12323400e-17]\n",
      "[0.00000000e+00 2.67949192e-01 5.77350269e-01 1.00000000e+00\n",
      " 1.73205081e+00 3.73205081e+00 1.63312394e+16]\n",
      "[0.         0.26179939 0.52359878 0.78539816 1.04719755 1.30899694\n",
      " 1.57079633]\n",
      "[0.         0.26179939 0.52359878 0.78539816 1.04719755 1.30899694\n",
      " 1.57079633]\n",
      "[0.         0.26179939 0.52359878 0.78539816 1.04719755 1.30899694\n",
      " 1.57079633]\n"
     ]
    }
   ],
   "source": [
    "ar = np.zeros(7)\n",
    "for i in range(0,7):\n",
    "  ar[i] = 15 * i\n",
    "a2 = (np.pi/180)*ar\n",
    "print(a2)\n",
    "raysin = np.sin(a2)\n",
    "raycos = np.cos(a2)\n",
    "raytan = np.tan(a2)\n",
    "s = np.arcsin(raysin)\n",
    "c = np.arccos(raycos)\n",
    "t = np.arctan(raytan)\n",
    "print(raysin)\n",
    "print(raycos)\n",
    "print(raytan)\n",
    "print(s)\n",
    "print(c)\n",
    "print(t)\n"
   ]
  },
  {
   "cell_type": "markdown",
   "metadata": {
    "id": "oKhSlL_EDPH4"
   },
   "source": [
    "## Q5\n",
    "\n",
    "Given the array:\n",
    "```\n",
    "x = np.array([1, -1, 2, 5, 8, 4, 10, 12, 3])\n",
    "```\n",
    "calculate the difference of each element with its neighbor."
   ]
  },
  {
   "cell_type": "code",
   "execution_count": 36,
   "metadata": {
    "colab": {
     "base_uri": "https://localhost:8080/"
    },
    "executionInfo": {
     "elapsed": 9,
     "status": "ok",
     "timestamp": 1733430176546,
     "user": {
      "displayName": "GARVIT BHUTANI",
      "userId": "16849952818458716971"
     },
     "user_tz": -330
    },
    "id": "mRojYTFMDPH5",
    "outputId": "6fd3fd3b-1983-43e1-bbf9-dfd89720d0c7",
    "tags": []
   },
   "outputs": [
    {
     "name": "stdout",
     "output_type": "stream",
     "text": [
      "2\n",
      "-3\n",
      "-3\n",
      "-3\n",
      "4\n",
      "-6\n",
      "-2\n",
      "9\n"
     ]
    }
   ],
   "source": [
    "x = np.array([1, -1, 2, 5, 8, 4, 10, 12, 3])\n",
    "columns = x.shape[0]\n",
    "for i in range(0,columns-1):\n",
    "  print(x[i]-x[i+1])"
   ]
  },
  {
   "cell_type": "markdown",
   "metadata": {
    "id": "F8oQd_ELDPH6"
   },
   "source": [
    "## Q6\n",
    "\n",
    "Here we will read in columns of numbers from a file and create a histogram, using NumPy routines.  Make sure you have the data file\n",
    "\"`sample.txt`\" in the same directory as this notebook (you can download it from  https://raw.githubusercontent.com/sbu-python-summer/python-tutorial/master/day-3/sample.txt\n",
    "\n",
    "  * Use `np.loadtxt()` to read this file in.  \n",
    "\n",
    "  * Next, use `np.histogram()` to create a histogram array.  The output returns both the count and an array of edges.\n",
    "  \n",
    "  * Finally, loop over the bins and print out the bin center (averaging the left and right edges of the bin) and the count for that bin."
   ]
  },
  {
   "cell_type": "code",
   "execution_count": 37,
   "metadata": {
    "colab": {
     "base_uri": "https://localhost:8080/",
     "height": 316
    },
    "executionInfo": {
     "elapsed": 369,
     "status": "error",
     "timestamp": 1733430572450,
     "user": {
      "displayName": "GARVIT BHUTANI",
      "userId": "16849952818458716971"
     },
     "user_tz": -330
    },
    "id": "F8hdGe1qDPH6",
    "outputId": "79236981-958e-485d-a85b-6b06be8314b2",
    "tags": []
   },
   "outputs": [
    {
     "name": "stdout",
     "output_type": "stream",
     "text": [
      "[ 3  4  9 22 22 22  9  7  1  1] [-30.58842789 -23.67009726 -16.75176662  -9.83343599  -2.91510536\n",
      "   4.00322527  10.9215559   17.83988653  24.75821717  31.6765478\n",
      "  38.59487843]\n",
      "[(np.float64(-27.129262572005736), np.int64(3)), (np.float64(-20.21093194037355), np.int64(4)), (np.float64(-13.29260130874136), np.int64(9)), (np.float64(-6.374270677109173), np.int64(22)), (np.float64(0.5440599545230143), np.int64(22)), (np.float64(7.462390586155202), np.int64(22)), (np.float64(14.38072121778739), np.int64(9)), (np.float64(21.299051849419577), np.int64(7)), (np.float64(28.217382481051764), np.int64(1)), (np.float64(35.135713112683945), np.int64(1))]\n"
     ]
    }
   ],
   "source": [
    "sample = np.loadtxt(\"sample.txt\")\n",
    "data = sample[::,1]\n",
    "hist, bin_edges = np.histogram(data, bins = 10)\n",
    "print(hist,bin_edges)\n",
    "\n",
    "center = []\n",
    "for i in range(0,len(bin_edges)-1):\n",
    "    bin_center = (bin_edges[i]+bin_edges[i+1])/2\n",
    "    center.append(bin_center)\n",
    "center_count = []\n",
    "for i in range(0,len(center)):\n",
    "    center_count.append((center[i],hist[i]))\n",
    "print(center_count)\n",
    "    \n",
    "\n",
    "\n",
    "\n",
    "\n",
    "\n",
    "\n",
    "\n"
   ]
  },
  {
   "cell_type": "markdown",
   "metadata": {
    "id": "qge_-x7CDPH7"
   },
   "source": [
    "## Q7\n",
    "\n",
    "NumPy has a standard deviation function, `np.std()`, but here we'll write our own that works on a 1-d array (vector).  The standard\n",
    "deviation is a measure of the \"width\" of the distribution of numbers\n",
    "in the vector.\n",
    "\n",
    "Given an array, $a$, and an average $\\bar{a}$, the standard deviation\n",
    "is:\n",
    "\n",
    "$$\n",
    "\\sigma = \\left [ \\frac{1}{N} \\sum_{i=1}^N (a_i - \\bar{a})^2 \\right ]^{1/2}\n",
    "$$\n",
    "\n",
    "Write a function to calculate the standard deviation for an input array, `a`:\n",
    "\n",
    "  * First compute the average of the elements in `a` to define $\\bar{a}$\n",
    "  * Next compute the sum over the squares of $a - \\bar{a}$\n",
    "  * Then divide the sum by the number of elements in the array\n",
    "  * Finally take the square root (you can use `np.sqrt()`)\n",
    "  \n",
    "Test your function on a random array, and compare to the built-in `np.std()`"
   ]
  },
  {
   "cell_type": "code",
   "execution_count": 38,
   "metadata": {
    "colab": {
     "base_uri": "https://localhost:8080/"
    },
    "executionInfo": {
     "elapsed": 6,
     "status": "ok",
     "timestamp": 1733430176546,
     "user": {
      "displayName": "GARVIT BHUTANI",
      "userId": "16849952818458716971"
     },
     "user_tz": -330
    },
    "id": "0dxQkXaZDPH9",
    "outputId": "5a4d8aa6-683e-4820-81fe-e8dd8f617cbb"
   },
   "outputs": [
    {
     "name": "stdout",
     "output_type": "stream",
     "text": [
      "2.0\n"
     ]
    },
    {
     "data": {
      "text/plain": [
       "np.float64(2.0)"
      ]
     },
     "execution_count": 38,
     "metadata": {},
     "output_type": "execute_result"
    }
   ],
   "source": [
    "from math import sqrt\n",
    "def std(a):\n",
    "  mean = np.mean(a)\n",
    "  sum = 0\n",
    "  for i in a:\n",
    "    sq = pow((i - mean),2)\n",
    "    sum += sq\n",
    "  columns = a.shape[0]\n",
    "  var = sum/columns\n",
    "  stdd = sqrt(var)\n",
    "  print(stdd)\n",
    "a = np.array([1,2,3,4,5,6,7])\n",
    "std(a)\n",
    "np.std(a)\n"
   ]
  }
 ],
 "metadata": {
  "colab": {
   "provenance": [
    {
     "file_id": "1k3GEZ41WFV9fAzHOFHGxAdBJSmjp-DFA",
     "timestamp": 1733396849350
    },
    {
     "file_id": "https://github.com/sbu-python-class/python-science/blob/main/content/02-numpy/numpy-exercises.ipynb",
     "timestamp": 1732919545665
    }
   ]
  },
  "kernelspec": {
   "display_name": "project",
   "language": "python",
   "name": "python3"
  },
  "language_info": {
   "codemirror_mode": {
    "name": "ipython",
    "version": 3
   },
   "file_extension": ".py",
   "mimetype": "text/x-python",
   "name": "python",
   "nbconvert_exporter": "python",
   "pygments_lexer": "ipython3",
   "version": "3.13.0"
  }
 },
 "nbformat": 4,
 "nbformat_minor": 0
}
