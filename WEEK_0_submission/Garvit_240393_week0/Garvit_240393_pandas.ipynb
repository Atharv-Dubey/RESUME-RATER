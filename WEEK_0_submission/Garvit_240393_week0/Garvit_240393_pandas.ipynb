{
 "cells": [
  {
   "cell_type": "markdown",
   "id": "e79a44bb-42c8-4ace-8d71-770c06522bfc",
   "metadata": {
    "id": "e79a44bb-42c8-4ace-8d71-770c06522bfc"
   },
   "source": [
    "# Pandas Exercises"
   ]
  },
  {
   "cell_type": "markdown",
   "id": "1d26ef1e-3c49-4a46-a4c5-b68825d5a953",
   "metadata": {
    "id": "1d26ef1e-3c49-4a46-a4c5-b68825d5a953"
   },
   "source": [
    "## Creating DataFrames and Using Sample Data Sets"
   ]
  },
  {
   "cell_type": "markdown",
   "id": "bc5dd17f-4431-4655-b2c5-ea537e23223c",
   "metadata": {
    "id": "bc5dd17f-4431-4655-b2c5-ea537e23223c"
   },
   "source": [
    "This is the Jupyter Notebook runnable exercises version of the article, [Pandas Practice Questions – Fifty-Two Examples to Make You an Expert](https://codesolid.com/pandas-practice-questions-twenty-one-examples-to-make-you-an-expert/)."
   ]
  },
  {
   "cell_type": "code",
   "execution_count": 154,
   "id": "df91e92f-5f2b-4e98-81f7-84e7478ed432",
   "metadata": {
    "id": "df91e92f-5f2b-4e98-81f7-84e7478ed432"
   },
   "outputs": [],
   "source": [
    "import pandas as pd\n",
    "import numpy as np\n",
    "import seaborn as sb"
   ]
  },
  {
   "cell_type": "markdown",
   "id": "6950cc47-3cc0-4565-8df1-d01741b7ea5f",
   "metadata": {
    "id": "6950cc47-3cc0-4565-8df1-d01741b7ea5f"
   },
   "source": [
    "**1.** Using NumPy, create a Pandas DataFrame with five rows and three columms:"
   ]
  },
  {
   "cell_type": "code",
   "execution_count": 155,
   "id": "dd1a5014-d17e-4fd0-b7a2-db261a53a02a",
   "metadata": {
    "colab": {
     "base_uri": "https://localhost:8080/"
    },
    "id": "dd1a5014-d17e-4fd0-b7a2-db261a53a02a",
    "outputId": "3f7b8749-4510-4fde-8afb-f3b4d89798ea"
   },
   "outputs": [
    {
     "name": "stdout",
     "output_type": "stream",
     "text": [
      "[[0.52023824 0.94049726 0.92982921]\n",
      " [0.2522236  0.7092733  0.95689146]\n",
      " [0.47727631 0.82988255 0.87438579]\n",
      " [0.86554897 0.39732152 0.5147694 ]\n",
      " [0.50348342 0.42881733 0.01715313]]\n",
      "    Column1   Column2   Column3\n",
      "0  0.520238  0.940497  0.929829\n",
      "1  0.252224  0.709273  0.956891\n",
      "2  0.477276  0.829883  0.874386\n",
      "3  0.865549  0.397322  0.514769\n",
      "4  0.503483  0.428817  0.017153\n"
     ]
    }
   ],
   "source": [
    "data = np.random.random_sample(size = (5, 3))\n",
    "print(data)\n",
    "df = pd.DataFrame(data, columns=['Column1', 'Column2', 'Column3'])\n",
    "\n",
    "print(df)\n"
   ]
  },
  {
   "cell_type": "markdown",
   "id": "9c74f94d-4adf-403d-a2c4-9efd200ba5b2",
   "metadata": {
    "id": "9c74f94d-4adf-403d-a2c4-9efd200ba5b2"
   },
   "source": [
    "**2.** For a Pandas DataFrame created from a NumPy array, what is the default behavior for the labels for the columns?  For the rows?"
   ]
  },
  {
   "cell_type": "markdown",
   "id": "e7508b50-d724-47a7-8272-9ba040cd9c65",
   "metadata": {
    "id": "e7508b50-d724-47a7-8272-9ba040cd9c65"
   },
   "source": [
    "labels start from 0"
   ]
  },
  {
   "cell_type": "markdown",
   "id": "1a20442a-ea2c-4d32-877b-bfe5ae349318",
   "metadata": {
    "id": "1a20442a-ea2c-4d32-877b-bfe5ae349318"
   },
   "source": [
    "**3.** Create a second DataFrame as above with five rows and three columns, setting the row labels to the names of any five major US cities and the column labels to the first three months of the year."
   ]
  },
  {
   "cell_type": "code",
   "execution_count": 156,
   "id": "02686eae-cba2-4180-94ff-4dc85eca0731",
   "metadata": {
    "colab": {
     "base_uri": "https://localhost:8080/"
    },
    "id": "02686eae-cba2-4180-94ff-4dc85eca0731",
    "outputId": "cee8a987-72d9-4490-9db7-61ca5198523f"
   },
   "outputs": [
    {
     "name": "stdout",
     "output_type": "stream",
     "text": [
      "[[0.83295292 0.14136388 0.74270719]\n",
      " [0.97288455 0.89761562 0.05667215]\n",
      " [0.4875995  0.23057782 0.21552477]\n",
      " [0.60647103 0.63940546 0.57472558]\n",
      " [0.52861354 0.76229216 0.4422471 ]]\n",
      "              January  February     March\n",
      "New York     0.832953  0.141364  0.742707\n",
      "Los Angeles  0.972885  0.897616  0.056672\n",
      "Houston      0.487600  0.230578  0.215525\n",
      "Chicago      0.606471  0.639405  0.574726\n",
      "Phoenix      0.528614  0.762292  0.442247\n"
     ]
    }
   ],
   "source": [
    "data = np.random.random_sample(size = (5, 3))\n",
    "print(data)\n",
    "df = pd.DataFrame(data, columns=['January', 'February', 'March'],index = ['New York','Los Angeles','Houston','Chicago','Phoenix'])\n",
    "\n",
    "print(df)"
   ]
  },
  {
   "cell_type": "markdown",
   "id": "f6c2f45b-0fea-49bf-98a0-572d594a0680",
   "metadata": {
    "id": "f6c2f45b-0fea-49bf-98a0-572d594a0680"
   },
   "source": [
    "**4.** You recall that the Seaborn package has some data sets built in, but can't remember how to list and load them. Assuming the functions to do so have \"data\" in the name, how might you locate them?  You can assume a Jupyter Notebook / IPython environment and explain the process, or write the code to do it in Python."
   ]
  },
  {
   "cell_type": "markdown",
   "id": "8afae59d-eb5a-4692-9924-b54d49942769",
   "metadata": {
    "id": "8afae59d-eb5a-4692-9924-b54d49942769"
   },
   "source": []
  },
  {
   "cell_type": "code",
   "execution_count": 157,
   "id": "ce709b0a-cb22-4f33-9492-62f8346d0ef4",
   "metadata": {
    "colab": {
     "base_uri": "https://localhost:8080/"
    },
    "id": "ce709b0a-cb22-4f33-9492-62f8346d0ef4",
    "outputId": "cf022923-7faa-4486-fff6-be9fef8eaefb"
   },
   "outputs": [
    {
     "name": "stdout",
     "output_type": "stream",
     "text": [
      "['anagrams', 'anscombe', 'attention', 'brain_networks', 'car_crashes', 'diamonds', 'dots', 'dowjones', 'exercise', 'flights', 'fmri', 'geyser', 'glue', 'healthexp', 'iris', 'mpg', 'penguins', 'planets', 'seaice', 'taxis', 'tips', 'titanic']\n",
      "   total  speeding  alcohol  not_distracted  no_previous  ins_premium  \\\n",
      "0   18.8     7.332    5.640          18.048       15.040       784.55   \n",
      "1   18.1     7.421    4.525          16.290       17.014      1053.48   \n",
      "2   18.6     6.510    5.208          15.624       17.856       899.47   \n",
      "3   22.4     4.032    5.824          21.056       21.280       827.34   \n",
      "4   12.0     4.200    3.360          10.920       10.680       878.41   \n",
      "5   13.6     5.032    3.808          10.744       12.920       835.50   \n",
      "6   10.8     4.968    3.888           9.396        8.856      1068.73   \n",
      "7   16.2     6.156    4.860          14.094       16.038      1137.87   \n",
      "8    5.9     2.006    1.593           5.900        5.900      1273.89   \n",
      "9   17.9     3.759    5.191          16.468       16.826      1160.13   \n",
      "\n",
      "   ins_losses abbrev  \n",
      "0      145.08     AL  \n",
      "1      133.93     AK  \n",
      "2      110.35     AZ  \n",
      "3      142.39     AR  \n",
      "4      165.63     CA  \n",
      "5      139.91     CO  \n",
      "6      167.02     CT  \n",
      "7      151.48     DE  \n",
      "8      136.05     DC  \n",
      "9      144.18     FL  \n"
     ]
    }
   ],
   "source": [
    "datasets = sb.get_dataset_names()\n",
    "print(datasets)\n",
    "brain = sb.load_dataset('car_crashes')\n",
    "print(brain.head(10))"
   ]
  },
  {
   "cell_type": "markdown",
   "id": "70efcde8-cd73-4d61-8534-e6a3c469dbff",
   "metadata": {
    "id": "70efcde8-cd73-4d61-8534-e6a3c469dbff"
   },
   "source": [
    "## Loading data from CSV"
   ]
  },
  {
   "cell_type": "markdown",
   "id": "00214582-1340-4700-99b5-9f36afce3e16",
   "metadata": {
    "id": "00214582-1340-4700-99b5-9f36afce3e16"
   },
   "source": [
    "**5**. Zillow home data is available at this URL: https://files.zillowstatic.com/research/public_csvs/zhvi/Metro_zhvi_uc_sfrcondo_tier_0.33_0.67_sm_sa_month.csv\n",
    "\n",
    "Open this file as a DataFrame named df_homes in Pandas."
   ]
  },
  {
   "cell_type": "code",
   "execution_count": 158,
   "id": "2838d3d2-5f1c-4e97-aab6-c7236ced82ad",
   "metadata": {
    "id": "2838d3d2-5f1c-4e97-aab6-c7236ced82ad"
   },
   "outputs": [
    {
     "name": "stdout",
     "output_type": "stream",
     "text": [
      "<class 'pandas.core.frame.DataFrame'>\n",
      "RangeIndex: 895 entries, 0 to 894\n",
      "Columns: 303 entries, RegionID to 2024-10-31\n",
      "dtypes: float64(298), int64(2), object(3)\n",
      "memory usage: 2.1+ MB\n",
      "None\n"
     ]
    }
   ],
   "source": [
    "data1 = pd.read_csv('month.csv')\n",
    "df_homes = pd.DataFrame(data1)\n",
    "print(df_homes.info())"
   ]
  },
  {
   "cell_type": "markdown",
   "id": "4476553a-1f93-4259-87df-69670ef486c0",
   "metadata": {
    "id": "4476553a-1f93-4259-87df-69670ef486c0"
   },
   "source": [
    "**6.** Save the DataFrame, df_homes, to a local CSV file, \"zillow_home_data.csv\".  "
   ]
  },
  {
   "cell_type": "code",
   "execution_count": 159,
   "id": "1d237615-d23c-4f62-a0b8-c709deb95647",
   "metadata": {
    "id": "1d237615-d23c-4f62-a0b8-c709deb95647"
   },
   "outputs": [],
   "source": [
    "df_homes.to_csv(\"zillow_home_data.csv\",index = False)\n"
   ]
  },
  {
   "cell_type": "markdown",
   "id": "182e0039-63dc-49df-9413-7eede1453fe0",
   "metadata": {
    "id": "182e0039-63dc-49df-9413-7eede1453fe0"
   },
   "source": [
    "**7.** Load zillow_home_data.csv back into a new Dataframe, df_homes_2"
   ]
  },
  {
   "cell_type": "code",
   "execution_count": 160,
   "id": "53665adb-adb2-462f-a244-01665182e870",
   "metadata": {
    "id": "53665adb-adb2-462f-a244-01665182e870"
   },
   "outputs": [
    {
     "name": "stdout",
     "output_type": "stream",
     "text": [
      "<class 'pandas.core.frame.DataFrame'>\n",
      "RangeIndex: 895 entries, 0 to 894\n",
      "Columns: 303 entries, RegionID to 2024-10-31\n",
      "dtypes: float64(298), int64(2), object(3)\n",
      "memory usage: 2.1+ MB\n",
      "None\n"
     ]
    }
   ],
   "source": [
    "data2 = pd.read_csv(\"zillow_home_data.csv\")\n",
    "df_homes_2 = pd.DataFrame(data2)\n",
    "\n",
    "print(df_homes_2.info())\n"
   ]
  },
  {
   "cell_type": "markdown",
   "id": "eaaa6d3b-21e6-4e4a-916a-d522f1fd60c6",
   "metadata": {
    "id": "eaaa6d3b-21e6-4e4a-916a-d522f1fd60c6"
   },
   "source": [
    "**8.** Compare the dimensions of the two DataFrames, df_homes and df_homes_2.  Are they equal?  If not, how can you fix it?"
   ]
  },
  {
   "cell_type": "code",
   "execution_count": 161,
   "id": "5c0a7f30-3d6a-4283-9efb-c1dc1d5d7d42",
   "metadata": {
    "id": "5c0a7f30-3d6a-4283-9efb-c1dc1d5d7d42"
   },
   "outputs": [],
   "source": [
    "#they have the same dimensions using info()"
   ]
  },
  {
   "cell_type": "markdown",
   "id": "ed7fc7e0-6fe3-4eea-bbbc-2ecf8d910b5a",
   "metadata": {
    "id": "ed7fc7e0-6fe3-4eea-bbbc-2ecf8d910b5a"
   },
   "source": []
  },
  {
   "cell_type": "markdown",
   "id": "0f34b104-fc3a-492c-964b-45daa12850b0",
   "metadata": {
    "id": "0f34b104-fc3a-492c-964b-45daa12850b0"
   },
   "source": [
    "**9.** A remote spreadsheet showing how a snapshot of how traffic increased for a hypothetical website is available here: https://github.com/CodeSolid/CodeSolid.github.io/raw/main/booksource/data/AnalyticsSnapshot.xlsx. Load the worksheet page of the spreasheet data labelled \"February 2022\" as a DataFrame named \"feb\".  Note: the leftmost column in the spreadsheet is the index column."
   ]
  },
  {
   "cell_type": "code",
   "execution_count": 162,
   "id": "7b8772dd-5d19-4510-a725-80c7273ce61b",
   "metadata": {
    "id": "7b8772dd-5d19-4510-a725-80c7273ce61b"
   },
   "outputs": [
    {
     "name": "stdout",
     "output_type": "stream",
     "text": [
      "            This Month  Last Month  Month to Month Increase\n",
      "Users             1800         280                 5.428571\n",
      "New Users         1700         298                 4.704698\n",
      "Page Views        2534         436                 4.811927\n"
     ]
    }
   ],
   "source": [
    "dataset = pd.read_excel(\"AnalyticsSnapshot.xlsx\",sheet_name= 'February 2022',index_col = 0)\n",
    "feb = pd.DataFrame(dataset)\n",
    "print(feb)\n"
   ]
  },
  {
   "cell_type": "markdown",
   "id": "ad366534-b168-490c-a55d-654f3ef44288",
   "metadata": {
    "id": "ad366534-b168-490c-a55d-654f3ef44288"
   },
   "source": [
    "**10.** The \"Month to Month Increase\" column is a bit hard to understand, so ignore it for now.  Given the values for \"This Month\" and \"Last Month\", create a new column, \"Percentage Increase\"."
   ]
  },
  {
   "cell_type": "code",
   "execution_count": 163,
   "id": "d053f773-c9a9-4592-aaaa-660ae8e189e5",
   "metadata": {
    "id": "d053f773-c9a9-4592-aaaa-660ae8e189e5"
   },
   "outputs": [
    {
     "name": "stdout",
     "output_type": "stream",
     "text": [
      "            This Month  Last Month  Month to Month Increase  \\\n",
      "Users             1800         280                 5.428571   \n",
      "New Users         1700         298                 4.704698   \n",
      "Page Views        2534         436                 4.811927   \n",
      "\n",
      "            Percentage increase  \n",
      "Users                542.857143  \n",
      "New Users            470.469799  \n",
      "Page Views           481.192661  \n"
     ]
    }
   ],
   "source": [
    "a = len(feb)\n",
    "arr = np.zeros(a)\n",
    "arr2 = feb.columns\n",
    "arr3 = feb.index\n",
    "for i in range(0,a):\n",
    "    k = feb.loc[arr3[i],arr2[0]] - feb.loc[arr3[i],arr2[1]]\n",
    "    arr[i] = k / (feb.loc[arr3[i],arr2[1]])\n",
    "feb['Percentage increase'] = 100 * arr\n",
    "print(feb)"
   ]
  },
  {
   "cell_type": "markdown",
   "id": "8a71222f-2ab4-47bb-806d-2610e25b3a91",
   "metadata": {
    "id": "8a71222f-2ab4-47bb-806d-2610e25b3a91"
   },
   "source": [
    "## Basic Operations on Data"
   ]
  },
  {
   "cell_type": "markdown",
   "id": "0b9cf32b-3132-40cc-a5ca-26d6e6a36e4b",
   "metadata": {
    "id": "0b9cf32b-3132-40cc-a5ca-26d6e6a36e4b"
   },
   "source": [
    "**11.** Using Seaborn, get a dataset about penguins into a dataframe named \"df_penguins\".  Note that because all of the following questions depend on this example, we'll provide the solution here so no one gets stuck:"
   ]
  },
  {
   "cell_type": "code",
   "execution_count": 164,
   "id": "a8b68caf-a998-414a-9de7-899eae7213c7",
   "metadata": {
    "id": "a8b68caf-a998-414a-9de7-899eae7213c7"
   },
   "outputs": [],
   "source": [
    "df_penguins = sb.load_dataset('penguins')\n"
   ]
  },
  {
   "cell_type": "markdown",
   "id": "f7170135-17bd-45e2-9239-dad647ed6eaf",
   "metadata": {
    "id": "f7170135-17bd-45e2-9239-dad647ed6eaf"
   },
   "source": [
    "**12.** Write the code to show the the number of rows and columns in df_penguins"
   ]
  },
  {
   "cell_type": "code",
   "execution_count": 165,
   "id": "6f565afb-d5f4-462d-b3e5-946bc91bd83e",
   "metadata": {
    "id": "6f565afb-d5f4-462d-b3e5-946bc91bd83e"
   },
   "outputs": [
    {
     "name": "stdout",
     "output_type": "stream",
     "text": [
      "344 , 7\n",
      "(344, 7)\n"
     ]
    }
   ],
   "source": [
    "rows = len(df_penguins.index)\n",
    "columns = len(df_penguins.columns)\n",
    "print(rows,',',columns)\n",
    "print(df_penguins.shape)\n",
    "\n",
    "\n"
   ]
  },
  {
   "cell_type": "markdown",
   "id": "9d3396f3-3fe6-4571-83b2-1e70f8a11513",
   "metadata": {
    "id": "9d3396f3-3fe6-4571-83b2-1e70f8a11513"
   },
   "source": [
    "**13.** How might you show the first few rows of df_penguins?"
   ]
  },
  {
   "cell_type": "code",
   "execution_count": 166,
   "id": "68d5946e-5011-4735-983e-7485f44a60f2",
   "metadata": {
    "id": "68d5946e-5011-4735-983e-7485f44a60f2"
   },
   "outputs": [
    {
     "name": "stdout",
     "output_type": "stream",
     "text": [
      "  species     island  bill_length_mm  bill_depth_mm  flipper_length_mm  \\\n",
      "0  Adelie  Torgersen            39.1           18.7              181.0   \n",
      "1  Adelie  Torgersen            39.5           17.4              186.0   \n",
      "2  Adelie  Torgersen            40.3           18.0              195.0   \n",
      "3  Adelie  Torgersen             NaN            NaN                NaN   \n",
      "4  Adelie  Torgersen            36.7           19.3              193.0   \n",
      "\n",
      "   body_mass_g     sex  \n",
      "0       3750.0    Male  \n",
      "1       3800.0  Female  \n",
      "2       3250.0  Female  \n",
      "3          NaN     NaN  \n",
      "4       3450.0  Female  \n"
     ]
    }
   ],
   "source": [
    "print(df_penguins.head(5))"
   ]
  },
  {
   "cell_type": "markdown",
   "id": "c841930d-e235-468a-809d-8427f8739076",
   "metadata": {
    "id": "c841930d-e235-468a-809d-8427f8739076"
   },
   "source": [
    "**14.** How can you return the unique species of penguins from df_penguins?  How many unique species are there?"
   ]
  },
  {
   "cell_type": "code",
   "execution_count": 167,
   "id": "130ed9bd-397b-4504-bf26-6b0dc716ba8b",
   "metadata": {
    "id": "130ed9bd-397b-4504-bf26-6b0dc716ba8b"
   },
   "outputs": [
    {
     "name": "stdout",
     "output_type": "stream",
     "text": [
      "['Adelie' 'Chinstrap' 'Gentoo']\n",
      "3\n"
     ]
    }
   ],
   "source": [
    "print(df_penguins['species'].unique())\n",
    "nunique = len(df_penguins['species'].unique())\n",
    "print(nunique)\n",
    "\n"
   ]
  },
  {
   "cell_type": "markdown",
   "id": "3912a3df-d931-4d74-a6fa-34ad11f83f94",
   "metadata": {
    "id": "3912a3df-d931-4d74-a6fa-34ad11f83f94"
   },
   "source": [
    "**15.** What function can we use to drop the rows that have missing data?"
   ]
  },
  {
   "cell_type": "code",
   "execution_count": 168,
   "id": "436cf3d3-db4a-42e3-81d3-9f2df28265f1",
   "metadata": {
    "id": "436cf3d3-db4a-42e3-81d3-9f2df28265f1"
   },
   "outputs": [
    {
     "name": "stdout",
     "output_type": "stream",
     "text": [
      "    species     island  bill_length_mm  bill_depth_mm  flipper_length_mm  \\\n",
      "0    Adelie  Torgersen            39.1           18.7              181.0   \n",
      "1    Adelie  Torgersen            39.5           17.4              186.0   \n",
      "2    Adelie  Torgersen            40.3           18.0              195.0   \n",
      "4    Adelie  Torgersen            36.7           19.3              193.0   \n",
      "5    Adelie  Torgersen            39.3           20.6              190.0   \n",
      "..      ...        ...             ...            ...                ...   \n",
      "338  Gentoo     Biscoe            47.2           13.7              214.0   \n",
      "340  Gentoo     Biscoe            46.8           14.3              215.0   \n",
      "341  Gentoo     Biscoe            50.4           15.7              222.0   \n",
      "342  Gentoo     Biscoe            45.2           14.8              212.0   \n",
      "343  Gentoo     Biscoe            49.9           16.1              213.0   \n",
      "\n",
      "     body_mass_g     sex  \n",
      "0         3750.0    Male  \n",
      "1         3800.0  Female  \n",
      "2         3250.0  Female  \n",
      "4         3450.0  Female  \n",
      "5         3650.0    Male  \n",
      "..           ...     ...  \n",
      "338       4925.0  Female  \n",
      "340       4850.0  Female  \n",
      "341       5750.0    Male  \n",
      "342       5200.0  Female  \n",
      "343       5400.0    Male  \n",
      "\n",
      "[333 rows x 7 columns]\n"
     ]
    }
   ],
   "source": [
    "new_df = df_penguins.dropna()\n",
    "print(new_df)\n",
    "\n"
   ]
  },
  {
   "cell_type": "markdown",
   "id": "f1feab44-7136-4736-a11c-ee005fdb0698",
   "metadata": {
    "id": "f1feab44-7136-4736-a11c-ee005fdb0698"
   },
   "source": [
    "**16.** By default, will this modify df_penguins or will it return a copy?"
   ]
  },
  {
   "cell_type": "markdown",
   "id": "8b0981bc-d8b1-42a5-9df6-e2723f61013c",
   "metadata": {
    "id": "8b0981bc-d8b1-42a5-9df6-e2723f61013c"
   },
   "source": [
    "it will return a copy\n"
   ]
  },
  {
   "cell_type": "markdown",
   "id": "7f35c024-ac5c-43e0-8ea7-3e03953f644b",
   "metadata": {
    "id": "7f35c024-ac5c-43e0-8ea7-3e03953f644b"
   },
   "source": [
    "**17.** How can we override the default?"
   ]
  },
  {
   "cell_type": "markdown",
   "id": "3f62e100-1000-40df-b21b-6af919fbb945",
   "metadata": {
    "id": "3f62e100-1000-40df-b21b-6af919fbb945"
   },
   "source": [
    "if we use inplace = True then it will modify"
   ]
  },
  {
   "cell_type": "markdown",
   "id": "a17f9c69-c8e2-4331-b9c7-c5be6a13a968",
   "metadata": {
    "id": "a17f9c69-c8e2-4331-b9c7-c5be6a13a968"
   },
   "source": [
    "**18.** Create a new DataFrame, df_penguins_full, with the missing data deleted."
   ]
  },
  {
   "cell_type": "code",
   "execution_count": 169,
   "id": "f160094c-ba0c-4fe1-96f0-d6b23e8162c9",
   "metadata": {
    "id": "f160094c-ba0c-4fe1-96f0-d6b23e8162c9"
   },
   "outputs": [
    {
     "name": "stdout",
     "output_type": "stream",
     "text": [
      "    species     island  bill_length_mm  bill_depth_mm  flipper_length_mm  \\\n",
      "0    Adelie  Torgersen            39.1           18.7              181.0   \n",
      "1    Adelie  Torgersen            39.5           17.4              186.0   \n",
      "2    Adelie  Torgersen            40.3           18.0              195.0   \n",
      "4    Adelie  Torgersen            36.7           19.3              193.0   \n",
      "5    Adelie  Torgersen            39.3           20.6              190.0   \n",
      "..      ...        ...             ...            ...                ...   \n",
      "338  Gentoo     Biscoe            47.2           13.7              214.0   \n",
      "340  Gentoo     Biscoe            46.8           14.3              215.0   \n",
      "341  Gentoo     Biscoe            50.4           15.7              222.0   \n",
      "342  Gentoo     Biscoe            45.2           14.8              212.0   \n",
      "343  Gentoo     Biscoe            49.9           16.1              213.0   \n",
      "\n",
      "     body_mass_g     sex  \n",
      "0         3750.0    Male  \n",
      "1         3800.0  Female  \n",
      "2         3250.0  Female  \n",
      "4         3450.0  Female  \n",
      "5         3650.0    Male  \n",
      "..           ...     ...  \n",
      "338       4925.0  Female  \n",
      "340       4850.0  Female  \n",
      "341       5750.0    Male  \n",
      "342       5200.0  Female  \n",
      "343       5400.0    Male  \n",
      "\n",
      "[333 rows x 7 columns]\n"
     ]
    }
   ],
   "source": [
    "df_penguins_full = df_penguins.dropna()\n",
    "print(df_penguins_full)\n"
   ]
  },
  {
   "cell_type": "markdown",
   "id": "c34afa01-c0c4-40fa-b3a6-3b7c6abc58e1",
   "metadata": {
    "id": "c34afa01-c0c4-40fa-b3a6-3b7c6abc58e1"
   },
   "source": [
    "**19.** What is the average bill length of a penguin, in millimeters, in this (df_full) data set?"
   ]
  },
  {
   "cell_type": "code",
   "execution_count": 170,
   "id": "6012e669-3c97-4949-be33-3e44daf9534a",
   "metadata": {
    "id": "6012e669-3c97-4949-be33-3e44daf9534a"
   },
   "outputs": [
    {
     "name": "stdout",
     "output_type": "stream",
     "text": [
      "43.9219298245614\n"
     ]
    }
   ],
   "source": [
    "print(df_penguins['bill_length_mm'].mean())"
   ]
  },
  {
   "cell_type": "markdown",
   "id": "38076367-ae05-4567-8963-12b5e0d77214",
   "metadata": {
    "id": "38076367-ae05-4567-8963-12b5e0d77214"
   },
   "source": [
    "**20.** Which of the following is most strongly correlated with bill length?  a) Body mass?  b) Flipper length?  c) Bill depth?  Show how you arrived at the answer."
   ]
  },
  {
   "cell_type": "markdown",
   "id": "2edbbf08-8f1d-40ea-b137-cdcdbfe02787",
   "metadata": {
    "id": "2edbbf08-8f1d-40ea-b137-cdcdbfe02787"
   },
   "source": [
    "flipper length since it has the highest correlation factor with bill length"
   ]
  },
  {
   "cell_type": "code",
   "execution_count": 171,
   "id": "93840bc0-eda0-48fd-b14d-4405a484c547",
   "metadata": {
    "id": "93840bc0-eda0-48fd-b14d-4405a484c547"
   },
   "outputs": [
    {
     "name": "stdout",
     "output_type": "stream",
     "text": [
      "-0.2350528703555327\n",
      "0.5951098244376302\n",
      "0.6561813407464281\n"
     ]
    }
   ],
   "source": [
    "print(df_penguins['bill_length_mm'].corr(df_penguins['bill_depth_mm']))\n",
    "print(df_penguins['bill_length_mm'].corr(df_penguins['body_mass_g']))\n",
    "print(df_penguins['bill_length_mm'].corr(df_penguins['flipper_length_mm']))\n",
    "\n",
    "\n"
   ]
  },
  {
   "cell_type": "markdown",
   "id": "538ed22f-f2c0-46df-bf41-6a27246e356d",
   "metadata": {
    "id": "538ed22f-f2c0-46df-bf41-6a27246e356d"
   },
   "source": [
    "**21.** How could you show the median flipper length, grouped by species?"
   ]
  },
  {
   "cell_type": "code",
   "execution_count": 172,
   "id": "a39321c8-1822-4078-91f9-6f9a36a3bab7",
   "metadata": {
    "id": "a39321c8-1822-4078-91f9-6f9a36a3bab7"
   },
   "outputs": [
    {
     "name": "stdout",
     "output_type": "stream",
     "text": [
      "     species  flipper_length_mm\n",
      "0     Adelie              190.0\n",
      "1  Chinstrap              196.0\n",
      "2     Gentoo              216.0\n"
     ]
    }
   ],
   "source": [
    "print(df_penguins.groupby('species')['flipper_length_mm'].median().reset_index())\n",
    "\n",
    "\n"
   ]
  },
  {
   "cell_type": "markdown",
   "id": "0d6ff0a0-f72b-47a0-a8c5-50cf2e9c8ef4",
   "metadata": {
    "id": "0d6ff0a0-f72b-47a0-a8c5-50cf2e9c8ef4"
   },
   "source": [
    "**22.** Which species has the longest flippers?"
   ]
  },
  {
   "cell_type": "code",
   "execution_count": 173,
   "id": "09fbdefd",
   "metadata": {},
   "outputs": [
    {
     "name": "stdout",
     "output_type": "stream",
     "text": [
      "     species  flipper_length_mm\n",
      "0     Adelie              210.0\n",
      "1  Chinstrap              212.0\n",
      "2     Gentoo              231.0\n",
      "Gentoo\n"
     ]
    }
   ],
   "source": [
    "print(df_penguins.groupby('species')['flipper_length_mm'].max().reset_index())\n",
    "print(df_penguins.loc[df_penguins['flipper_length_mm'].idxmax(),'species'])"
   ]
  },
  {
   "cell_type": "markdown",
   "id": "20f5ec8f-1580-438d-8ddb-ad2eeabed1ba",
   "metadata": {
    "id": "20f5ec8f-1580-438d-8ddb-ad2eeabed1ba"
   },
   "source": [
    "Gentoo "
   ]
  },
  {
   "cell_type": "markdown",
   "id": "f50dacfd-a59d-4763-b8bf-004a02d8f05f",
   "metadata": {
    "id": "f50dacfd-a59d-4763-b8bf-004a02d8f05f"
   },
   "source": [
    "**23.** Which two species have the most similar mean weight?  Show how you arrived at the answer."
   ]
  },
  {
   "cell_type": "markdown",
   "id": "be5582aa-447d-4645-85cd-072894fcbb82",
   "metadata": {
    "id": "be5582aa-447d-4645-85cd-072894fcbb82"
   },
   "source": [
    "Adelie and Chinstrap"
   ]
  },
  {
   "cell_type": "code",
   "execution_count": 174,
   "id": "c61f152b-d401-4c28-aea1-014d01100136",
   "metadata": {
    "id": "c61f152b-d401-4c28-aea1-014d01100136"
   },
   "outputs": [
    {
     "name": "stdout",
     "output_type": "stream",
     "text": [
      "     species  body_mass_g\n",
      "0     Adelie  3700.662252\n",
      "1  Chinstrap  3733.088235\n",
      "2     Gentoo  5076.016260\n"
     ]
    }
   ],
   "source": [
    "print(df_penguins.groupby('species')['body_mass_g'].mean().reset_index())"
   ]
  },
  {
   "cell_type": "markdown",
   "id": "ddca88e5-374f-4c8a-bf61-26b70a8b3a90",
   "metadata": {
    "id": "ddca88e5-374f-4c8a-bf61-26b70a8b3a90"
   },
   "source": [
    "**24.** How could you sort the rows by bill length?"
   ]
  },
  {
   "cell_type": "code",
   "execution_count": 175,
   "id": "4faabd67-0417-45ca-b907-7a170f4e9b71",
   "metadata": {
    "id": "4faabd67-0417-45ca-b907-7a170f4e9b71"
   },
   "outputs": [
    {
     "name": "stdout",
     "output_type": "stream",
     "text": [
      "       species     island  bill_length_mm  bill_depth_mm  flipper_length_mm  \\\n",
      "142     Adelie      Dream            32.1           15.5              188.0   \n",
      "98      Adelie      Dream            33.1           16.1              178.0   \n",
      "70      Adelie  Torgersen            33.5           19.0              190.0   \n",
      "92      Adelie      Dream            34.0           17.1              185.0   \n",
      "8       Adelie  Torgersen            34.1           18.1              193.0   \n",
      "..         ...        ...             ...            ...                ...   \n",
      "321     Gentoo     Biscoe            55.9           17.0              228.0   \n",
      "169  Chinstrap      Dream            58.0           17.8              181.0   \n",
      "253     Gentoo     Biscoe            59.6           17.0              230.0   \n",
      "3       Adelie  Torgersen             NaN            NaN                NaN   \n",
      "339     Gentoo     Biscoe             NaN            NaN                NaN   \n",
      "\n",
      "     body_mass_g     sex  \n",
      "142       3050.0  Female  \n",
      "98        2900.0  Female  \n",
      "70        3600.0  Female  \n",
      "92        3400.0  Female  \n",
      "8         3475.0     NaN  \n",
      "..           ...     ...  \n",
      "321       5600.0    Male  \n",
      "169       3700.0  Female  \n",
      "253       6050.0    Male  \n",
      "3            NaN     NaN  \n",
      "339          NaN     NaN  \n",
      "\n",
      "[344 rows x 7 columns]\n"
     ]
    }
   ],
   "source": [
    "print(df_penguins.sort_values(by = 'bill_length_mm'))"
   ]
  },
  {
   "cell_type": "markdown",
   "id": "56d12fe3-805d-4f79-bf83-e515b5070229",
   "metadata": {
    "id": "56d12fe3-805d-4f79-bf83-e515b5070229"
   },
   "source": [
    "**25.** How could you run the same sort in descending order?"
   ]
  },
  {
   "cell_type": "code",
   "execution_count": 176,
   "id": "02544f08-974e-463c-a2da-ac0b3ba3ff0d",
   "metadata": {
    "id": "02544f08-974e-463c-a2da-ac0b3ba3ff0d"
   },
   "outputs": [
    {
     "name": "stdout",
     "output_type": "stream",
     "text": [
      "       species     island  bill_length_mm  bill_depth_mm  flipper_length_mm  \\\n",
      "253     Gentoo     Biscoe            59.6           17.0              230.0   \n",
      "169  Chinstrap      Dream            58.0           17.8              181.0   \n",
      "321     Gentoo     Biscoe            55.9           17.0              228.0   \n",
      "215  Chinstrap      Dream            55.8           19.8              207.0   \n",
      "335     Gentoo     Biscoe            55.1           16.0              230.0   \n",
      "..         ...        ...             ...            ...                ...   \n",
      "70      Adelie  Torgersen            33.5           19.0              190.0   \n",
      "98      Adelie      Dream            33.1           16.1              178.0   \n",
      "142     Adelie      Dream            32.1           15.5              188.0   \n",
      "3       Adelie  Torgersen             NaN            NaN                NaN   \n",
      "339     Gentoo     Biscoe             NaN            NaN                NaN   \n",
      "\n",
      "     body_mass_g     sex  \n",
      "253       6050.0    Male  \n",
      "169       3700.0  Female  \n",
      "321       5600.0    Male  \n",
      "215       4000.0    Male  \n",
      "335       5850.0    Male  \n",
      "..           ...     ...  \n",
      "70        3600.0  Female  \n",
      "98        2900.0  Female  \n",
      "142       3050.0  Female  \n",
      "3            NaN     NaN  \n",
      "339          NaN     NaN  \n",
      "\n",
      "[344 rows x 7 columns]\n"
     ]
    }
   ],
   "source": [
    "print(df_penguins.sort_values(by='bill_length_mm',ascending=False))"
   ]
  },
  {
   "cell_type": "markdown",
   "id": "3b69d24f-cd5b-41c9-a4eb-b8325251fe7b",
   "metadata": {
    "id": "3b69d24f-cd5b-41c9-a4eb-b8325251fe7b"
   },
   "source": [
    "**26.** How could you sort by species first, then by body mass?"
   ]
  },
  {
   "cell_type": "code",
   "execution_count": 177,
   "id": "bda80b1d-2773-493f-b13d-7b2fa60e6849",
   "metadata": {
    "id": "bda80b1d-2773-493f-b13d-7b2fa60e6849"
   },
   "outputs": [
    {
     "name": "stdout",
     "output_type": "stream",
     "text": [
      "    species     island  bill_length_mm  bill_depth_mm  flipper_length_mm  \\\n",
      "58   Adelie     Biscoe            36.5           16.6              181.0   \n",
      "64   Adelie     Biscoe            36.4           17.1              184.0   \n",
      "54   Adelie     Biscoe            34.5           18.1              187.0   \n",
      "98   Adelie      Dream            33.1           16.1              178.0   \n",
      "116  Adelie  Torgersen            38.6           17.0              188.0   \n",
      "..      ...        ...             ...            ...                ...   \n",
      "297  Gentoo     Biscoe            51.1           16.3              220.0   \n",
      "337  Gentoo     Biscoe            48.8           16.2              222.0   \n",
      "253  Gentoo     Biscoe            59.6           17.0              230.0   \n",
      "237  Gentoo     Biscoe            49.2           15.2              221.0   \n",
      "339  Gentoo     Biscoe             NaN            NaN                NaN   \n",
      "\n",
      "     body_mass_g     sex  \n",
      "58        2850.0  Female  \n",
      "64        2850.0  Female  \n",
      "54        2900.0  Female  \n",
      "98        2900.0  Female  \n",
      "116       2900.0  Female  \n",
      "..           ...     ...  \n",
      "297       6000.0    Male  \n",
      "337       6000.0    Male  \n",
      "253       6050.0    Male  \n",
      "237       6300.0    Male  \n",
      "339          NaN     NaN  \n",
      "\n",
      "[344 rows x 7 columns]\n"
     ]
    }
   ],
   "source": [
    "print(df_penguins.sort_values(by=['species','body_mass_g']))"
   ]
  },
  {
   "cell_type": "markdown",
   "id": "82890e5f-d9f7-4729-a179-b0883f1bc498",
   "metadata": {
    "id": "82890e5f-d9f7-4729-a179-b0883f1bc498"
   },
   "source": [
    "## Selecting Rows, Columns, and Cells\n",
    "\n",
    "Let's look at some precious stones now, and leave the poor penguins alone for a while.  Let's look at some precious stones now, and leave the poor penguins alone for a while.  "
   ]
  },
  {
   "cell_type": "markdown",
   "id": "5d1abb35-5d24-4bd2-89d4-dd9dbbdadccf",
   "metadata": {
    "id": "5d1abb35-5d24-4bd2-89d4-dd9dbbdadccf"
   },
   "source": [
    "**27.** Load the Seaborn \"diamonds\" dataset into a Pandas dataframe named diamonds."
   ]
  },
  {
   "cell_type": "code",
   "execution_count": 178,
   "id": "9247186e-0c21-43d3-88db-79c7f4ecbc06",
   "metadata": {
    "id": "9247186e-0c21-43d3-88db-79c7f4ecbc06"
   },
   "outputs": [],
   "source": [
    "diamonds = sb.load_dataset('diamonds')"
   ]
  },
  {
   "cell_type": "markdown",
   "id": "cbe20f32-5cb2-4191-9994-dbadaf7488dd",
   "metadata": {
    "id": "cbe20f32-5cb2-4191-9994-dbadaf7488dd"
   },
   "source": [
    "**28.** Display the columns that are available."
   ]
  },
  {
   "cell_type": "code",
   "execution_count": 179,
   "id": "c12fd634-2c83-4130-87f3-5580e42ce496",
   "metadata": {
    "id": "c12fd634-2c83-4130-87f3-5580e42ce496"
   },
   "outputs": [
    {
     "name": "stdout",
     "output_type": "stream",
     "text": [
      "Index(['carat', 'cut', 'color', 'clarity', 'depth', 'table', 'price', 'x', 'y',\n",
      "       'z'],\n",
      "      dtype='object')\n"
     ]
    }
   ],
   "source": [
    "print(diamonds.columns)"
   ]
  },
  {
   "cell_type": "markdown",
   "id": "505b677e-c1bb-4daa-8615-a78ea4860a71",
   "metadata": {
    "id": "505b677e-c1bb-4daa-8615-a78ea4860a71"
   },
   "source": [
    "**29.** If you select a single column from the diamonds DataFrame, what will be the type of the return value?"
   ]
  },
  {
   "cell_type": "code",
   "execution_count": 180,
   "id": "10307c17-e2ad-48ce-b0b9-ddde83b5f6c3",
   "metadata": {
    "id": "10307c17-e2ad-48ce-b0b9-ddde83b5f6c3"
   },
   "outputs": [
    {
     "name": "stdout",
     "output_type": "stream",
     "text": [
      "<class 'pandas.core.series.Series'>\n"
     ]
    }
   ],
   "source": [
    "print(type(diamonds['carat']))"
   ]
  },
  {
   "cell_type": "markdown",
   "id": "5f5d7cae-b784-449d-be28-a1473721b4fa",
   "metadata": {
    "id": "5f5d7cae-b784-449d-be28-a1473721b4fa"
   },
   "source": [
    "**30.** Select the 'table' column and show its type"
   ]
  },
  {
   "cell_type": "code",
   "execution_count": 181,
   "id": "18963cfe-266d-4ca6-9471-b47000c35ee5",
   "metadata": {
    "id": "18963cfe-266d-4ca6-9471-b47000c35ee5"
   },
   "outputs": [
    {
     "data": {
      "text/plain": [
       "pandas.core.series.Series"
      ]
     },
     "execution_count": 181,
     "metadata": {},
     "output_type": "execute_result"
    }
   ],
   "source": [
    "type((diamonds['table']))"
   ]
  },
  {
   "cell_type": "markdown",
   "id": "82de5bb4-baed-422e-83a6-d7581ea15ab8",
   "metadata": {
    "id": "82de5bb4-baed-422e-83a6-d7581ea15ab8"
   },
   "source": [
    "**31.** Select the first ten rows of the price and carat columns ten rows of the diamonds DataFrame into a variable called subset, and display them."
   ]
  },
  {
   "cell_type": "code",
   "execution_count": 182,
   "id": "55ccbc17-b267-4ffb-9876-d2192ba2437d",
   "metadata": {
    "id": "55ccbc17-b267-4ffb-9876-d2192ba2437d"
   },
   "outputs": [
    {
     "name": "stdout",
     "output_type": "stream",
     "text": [
      "   price  carat\n",
      "0    326   0.23\n",
      "1    326   0.21\n",
      "2    327   0.23\n",
      "3    334   0.29\n",
      "4    335   0.31\n",
      "5    336   0.24\n",
      "6    336   0.24\n",
      "7    337   0.26\n",
      "8    337   0.22\n",
      "9    338   0.23\n"
     ]
    }
   ],
   "source": [
    "subset = diamonds[['price','carat']].head(10)\n",
    "print(subset)"
   ]
  },
  {
   "cell_type": "markdown",
   "id": "fdb4c150-ebdc-420d-979b-14231fc4764b",
   "metadata": {
    "id": "fdb4c150-ebdc-420d-979b-14231fc4764b"
   },
   "source": [
    "**32.** For a given column, show the code to display the datatype of the _values_ in the column?  "
   ]
  },
  {
   "cell_type": "code",
   "execution_count": 183,
   "id": "bb6b2d54-e58f-4da4-bcf2-a4d08ee34602",
   "metadata": {
    "id": "bb6b2d54-e58f-4da4-bcf2-a4d08ee34602"
   },
   "outputs": [
    {
     "name": "stdout",
     "output_type": "stream",
     "text": [
      "{<class 'float'>}\n"
     ]
    }
   ],
   "source": [
    "list1 = []\n",
    "for i in diamonds['carat']:\n",
    "    list1.append(type(i))\n",
    "print(set(list1))\n",
    "#the output list gives the datatype of the values of the column\n",
    "#(converted list1 to a set to get the unique value of datatype\n",
    "    "
   ]
  },
  {
   "cell_type": "markdown",
   "id": "ca510203-8c7e-48a1-81c3-c9e1bc5aa7b1",
   "metadata": {
    "id": "ca510203-8c7e-48a1-81c3-c9e1bc5aa7b1"
   },
   "source": [
    "**33.** Select the first row of the diamonds DataFrame into a variable called row."
   ]
  },
  {
   "cell_type": "code",
   "execution_count": 184,
   "id": "8535dd1a-db9d-49c7-a6b2-0257616d7334",
   "metadata": {
    "id": "8535dd1a-db9d-49c7-a6b2-0257616d7334"
   },
   "outputs": [
    {
     "name": "stdout",
     "output_type": "stream",
     "text": [
      "carat       0.23\n",
      "cut        Ideal\n",
      "color          E\n",
      "clarity      SI2\n",
      "depth       61.5\n",
      "table       55.0\n",
      "price        326\n",
      "x           3.95\n",
      "y           3.98\n",
      "z           2.43\n",
      "Name: 0, dtype: object\n"
     ]
    }
   ],
   "source": [
    "row = diamonds.iloc[0]\n",
    "print(row)"
   ]
  },
  {
   "cell_type": "markdown",
   "id": "edbd9394-ec43-479c-919a-5eab17acb792",
   "metadata": {
    "id": "edbd9394-ec43-479c-919a-5eab17acb792"
   },
   "source": [
    "**34.** What would you expect the data type of the row to be?  Display it."
   ]
  },
  {
   "cell_type": "markdown",
   "id": "22d7c0bd-cf41-491e-8fc5-41aed540c16e",
   "metadata": {
    "id": "22d7c0bd-cf41-491e-8fc5-41aed540c16e"
   },
   "source": [
    "A Pandas series"
   ]
  },
  {
   "cell_type": "code",
   "execution_count": 185,
   "id": "777274bd-3653-4d0c-b73e-75f879cb48ae",
   "metadata": {
    "id": "777274bd-3653-4d0c-b73e-75f879cb48ae"
   },
   "outputs": [
    {
     "name": "stdout",
     "output_type": "stream",
     "text": [
      "<class 'pandas.core.series.Series'>\n"
     ]
    }
   ],
   "source": [
    "print(type(diamonds.iloc[0]))"
   ]
  },
  {
   "cell_type": "markdown",
   "id": "f6027d4a-4df5-45c6-bb82-c4ed046c2681",
   "metadata": {
    "id": "f6027d4a-4df5-45c6-bb82-c4ed046c2681"
   },
   "source": [
    "**35.** Can you discover the names of the columns using only the row returned in #33?  Why or why not?Can you discover the names of the columns using only the row returned in #33?  Why or why not?"
   ]
  },
  {
   "cell_type": "markdown",
   "id": "55c063e1-2346-4782-9133-e684c2714fe0",
   "metadata": {
    "id": "55c063e1-2346-4782-9133-e684c2714fe0"
   },
   "source": [
    "Yes, because a row series should have the columns as the index (See below):"
   ]
  },
  {
   "cell_type": "code",
   "execution_count": 186,
   "id": "1a5b9a02-9764-43b7-b49b-4522506e5669",
   "metadata": {
    "id": "1a5b9a02-9764-43b7-b49b-4522506e5669"
   },
   "outputs": [
    {
     "name": "stdout",
     "output_type": "stream",
     "text": [
      "carat       0.23\n",
      "cut        Ideal\n",
      "color          E\n",
      "clarity      SI2\n",
      "depth       61.5\n",
      "table       55.0\n",
      "price        326\n",
      "x           3.95\n",
      "y           3.98\n",
      "z           2.43\n",
      "Name: 0, dtype: object\n"
     ]
    }
   ],
   "source": [
    "print(row)"
   ]
  },
  {
   "cell_type": "markdown",
   "id": "369f761e-0dbe-4589-835f-526ab8f9884f",
   "metadata": {
    "id": "369f761e-0dbe-4589-835f-526ab8f9884f"
   },
   "source": [
    "**36.** Select the row with the highest priced diamond."
   ]
  },
  {
   "cell_type": "code",
   "execution_count": 187,
   "id": "41f8510d-cf79-43eb-910c-1c03aebc21ba",
   "metadata": {
    "id": "41f8510d-cf79-43eb-910c-1c03aebc21ba"
   },
   "outputs": [
    {
     "name": "stdout",
     "output_type": "stream",
     "text": [
      "carat         2.29\n",
      "cut        Premium\n",
      "color            I\n",
      "clarity        VS2\n",
      "depth         60.8\n",
      "table         60.0\n",
      "price        18823\n",
      "x              8.5\n",
      "y             8.47\n",
      "z             5.16\n",
      "Name: 27749, dtype: object\n"
     ]
    }
   ],
   "source": [
    "print(diamonds.loc[diamonds['price'].idxmax()])\n"
   ]
  },
  {
   "cell_type": "markdown",
   "id": "2694d362-a5d1-4ad9-8b09-f408d7531948",
   "metadata": {
    "id": "2694d362-a5d1-4ad9-8b09-f408d7531948"
   },
   "source": [
    "**37.** Select the row with the lowest priced diamond."
   ]
  },
  {
   "cell_type": "code",
   "execution_count": 188,
   "id": "b6559ffa-fbb6-4ce9-b882-5bccbf5403e4",
   "metadata": {
    "id": "b6559ffa-fbb6-4ce9-b882-5bccbf5403e4"
   },
   "outputs": [
    {
     "name": "stdout",
     "output_type": "stream",
     "text": [
      "carat       0.23\n",
      "cut        Ideal\n",
      "color          E\n",
      "clarity      SI2\n",
      "depth       61.5\n",
      "table       55.0\n",
      "price        326\n",
      "x           3.95\n",
      "y           3.98\n",
      "z           2.43\n",
      "Name: 0, dtype: object\n"
     ]
    }
   ],
   "source": [
    "print(diamonds.loc[diamonds['price'].idxmin()])"
   ]
  },
  {
   "cell_type": "markdown",
   "id": "e366af69-1739-48c5-b964-298fa294bc7a",
   "metadata": {
    "id": "e366af69-1739-48c5-b964-298fa294bc7a"
   },
   "source": [
    "## Some Exercises Using Time Series"
   ]
  },
  {
   "cell_type": "markdown",
   "id": "ca92f2e5-c4f3-460e-b3b1-0d6bff4694ff",
   "metadata": {
    "id": "ca92f2e5-c4f3-460e-b3b1-0d6bff4694ff"
   },
   "source": [
    "**38.** Load the taxis dataset into a DataFrame, ```taxis```."
   ]
  },
  {
   "cell_type": "code",
   "execution_count": 189,
   "id": "5bb6dee5-3828-4a80-8a35-98397639e5db",
   "metadata": {
    "id": "5bb6dee5-3828-4a80-8a35-98397639e5db"
   },
   "outputs": [
    {
     "name": "stdout",
     "output_type": "stream",
     "text": [
      "pickup             2019-03-23 20:21:09\n",
      "dropoff            2019-03-23 20:27:24\n",
      "passengers                           1\n",
      "distance                           1.6\n",
      "fare                               7.0\n",
      "tip                               2.15\n",
      "tolls                              0.0\n",
      "total                            12.95\n",
      "color                           yellow\n",
      "payment                    credit card\n",
      "pickup_zone            Lenox Hill West\n",
      "dropoff_zone       UN/Turtle Bay South\n",
      "pickup_borough               Manhattan\n",
      "dropoff_borough              Manhattan\n",
      "Name: 0, dtype: object\n"
     ]
    }
   ],
   "source": [
    "taxis = sb.load_dataset('taxis')\n",
    "print(taxis.iloc[0])\n"
   ]
  },
  {
   "cell_type": "markdown",
   "id": "06ef6738-b5fb-4341-8ced-15f02ee5aad6",
   "metadata": {
    "id": "06ef6738-b5fb-4341-8ced-15f02ee5aad6"
   },
   "source": [
    "**39.** The 'pickup' column contains the date and time the customer picked up, but it's a string.  Add a column to the DataFrame, 'pickup_time', containing the value in 'pickup' as a DateTime."
   ]
  },
  {
   "cell_type": "code",
   "execution_count": 190,
   "id": "a857614a-ada0-43c5-9ba0-6e00422bf518",
   "metadata": {
    "id": "a857614a-ada0-43c5-9ba0-6e00422bf518"
   },
   "outputs": [
    {
     "name": "stdout",
     "output_type": "stream",
     "text": [
      "datetime64[ns]\n"
     ]
    }
   ],
   "source": [
    "print(taxis['pickup'].dtype)\n",
    "#its in DateTime only, no need to change\n"
   ]
  },
  {
   "cell_type": "code",
   "execution_count": null,
   "id": "f6f5e18d",
   "metadata": {},
   "outputs": [],
   "source": []
  },
  {
   "cell_type": "markdown",
   "id": "d2aca5a0-b67d-4c2b-928f-49a0df783a4a",
   "metadata": {
    "id": "d2aca5a0-b67d-4c2b-928f-49a0df783a4a"
   },
   "source": [
    "**40.** We have a hypothesis that as the day goes on, the tips get higher.  We'll need to wrangle the data a bit before testing this, however.  First, now that we have a datetime column, pickup_time, create a subset of it to create a new DataFrame, taxis_one_day. This new DataFrame should have values between '2019-03-23 00:06:00' (inclusive) and '2019-03-24 00:00:00' (exlusive)."
   ]
  },
  {
   "cell_type": "code",
   "execution_count": 191,
   "id": "4c92be8d-ee1a-452d-84e9-64617cbcd850",
   "metadata": {
    "id": "4c92be8d-ee1a-452d-84e9-64617cbcd850"
   },
   "outputs": [
    {
     "name": "stdout",
     "output_type": "stream",
     "text": [
      "                  pickup             dropoff  passengers  distance  fare  \\\n",
      "0    2019-03-23 20:21:09 2019-03-23 20:27:24           1      1.60   7.0   \n",
      "1    2019-03-04 16:11:55 2019-03-04 16:19:00           1      0.79   5.0   \n",
      "2    2019-03-27 17:53:01 2019-03-27 18:00:25           1      1.37   7.5   \n",
      "3    2019-03-10 01:23:59 2019-03-10 01:49:51           1      7.70  27.0   \n",
      "4    2019-03-30 13:27:42 2019-03-30 13:37:14           3      2.16   9.0   \n",
      "...                  ...                 ...         ...       ...   ...   \n",
      "6428 2019-03-31 09:51:53 2019-03-31 09:55:27           1      0.75   4.5   \n",
      "6429 2019-03-31 17:38:00 2019-03-31 18:34:23           1     18.74  58.0   \n",
      "6430 2019-03-23 22:55:18 2019-03-23 23:14:25           1      4.14  16.0   \n",
      "6431 2019-03-04 10:09:25 2019-03-04 10:14:29           1      1.12   6.0   \n",
      "6432 2019-03-13 19:31:22 2019-03-13 19:48:02           1      3.85  15.0   \n",
      "\n",
      "       tip  tolls  total   color      payment            pickup_zone  \\\n",
      "0     2.15    0.0  12.95  yellow  credit card        Lenox Hill West   \n",
      "1     0.00    0.0   9.30  yellow         cash  Upper West Side South   \n",
      "2     2.36    0.0  14.16  yellow  credit card          Alphabet City   \n",
      "3     6.15    0.0  36.95  yellow  credit card              Hudson Sq   \n",
      "4     1.10    0.0  13.40  yellow  credit card           Midtown East   \n",
      "...    ...    ...    ...     ...          ...                    ...   \n",
      "6428  1.06    0.0   6.36   green  credit card      East Harlem North   \n",
      "6429  0.00    0.0  58.80   green  credit card                Jamaica   \n",
      "6430  0.00    0.0  17.30   green         cash    Crown Heights North   \n",
      "6431  0.00    0.0   6.80   green  credit card          East New York   \n",
      "6432  3.36    0.0  20.16   green  credit card            Boerum Hill   \n",
      "\n",
      "                          dropoff_zone pickup_borough dropoff_borough  \n",
      "0                  UN/Turtle Bay South      Manhattan       Manhattan  \n",
      "1                Upper West Side South      Manhattan       Manhattan  \n",
      "2                         West Village      Manhattan       Manhattan  \n",
      "3                       Yorkville West      Manhattan       Manhattan  \n",
      "4                       Yorkville West      Manhattan       Manhattan  \n",
      "...                                ...            ...             ...  \n",
      "6428              Central Harlem North      Manhattan       Manhattan  \n",
      "6429  East Concourse/Concourse Village         Queens           Bronx  \n",
      "6430                    Bushwick North       Brooklyn        Brooklyn  \n",
      "6431      East Flatbush/Remsen Village       Brooklyn        Brooklyn  \n",
      "6432                   Windsor Terrace       Brooklyn        Brooklyn  \n",
      "\n",
      "[6433 rows x 14 columns]\n"
     ]
    }
   ],
   "source": [
    "taxis_one_day = taxis[(taxis['pickup'] >= '2019-01-23 00:06:00') & (taxis['pickup'] < '2020-01-24 00:00:00')]\n",
    "print(taxis_one_day)\n"
   ]
  },
  {
   "cell_type": "markdown",
   "id": "14b66e0e-762c-433c-9041-e40cf624eaa5",
   "metadata": {
    "id": "14b66e0e-762c-433c-9041-e40cf624eaa5"
   },
   "source": [
    "**41.** We now have a range from morning until midnight, but we to take the mean of the numeric columns, grouped at one hour intervals.  Save the result as df_means, and display it."
   ]
  },
  {
   "cell_type": "code",
   "execution_count": 192,
   "id": "baca4e69-dc2d-492e-918b-c15d7d560b4b",
   "metadata": {
    "id": "baca4e69-dc2d-492e-918b-c15d7d560b4b"
   },
   "outputs": [
    {
     "name": "stdout",
     "output_type": "stream",
     "text": [
      "                     passengers  distance       fare     tip  tolls      total\n",
      "pickup                                                                        \n",
      "2019-02-28 23:00:00    1.000000  0.900000   5.000000  0.0000  0.000   6.300000\n",
      "2019-03-01 00:00:00    2.000000  3.286250  12.625000  1.9125  0.000  18.025000\n",
      "2019-03-01 01:00:00    1.000000  1.000000   5.000000  1.7600  0.000  10.560000\n",
      "2019-03-01 02:00:00    1.666667  2.480000   9.833333  2.2000  0.000  15.833333\n",
      "2019-03-01 03:00:00         NaN       NaN        NaN     NaN    NaN        NaN\n",
      "...                         ...       ...        ...     ...    ...        ...\n",
      "2019-03-31 19:00:00    1.100000  1.691000   8.900000  1.8890  0.000  13.889000\n",
      "2019-03-31 20:00:00    1.166667  2.758333  11.250000  2.2625  0.000  16.708333\n",
      "2019-03-31 21:00:00    1.125000  4.748750  17.000000  1.5975  0.765  22.225000\n",
      "2019-03-31 22:00:00    1.000000  2.422500  10.625000  2.9525  1.530  18.907500\n",
      "2019-03-31 23:00:00    3.000000  7.640000  24.250000  1.9100  0.000  29.960000\n",
      "\n",
      "[745 rows x 6 columns]\n"
     ]
    },
    {
     "name": "stderr",
     "output_type": "stream",
     "text": [
      "/var/folders/nt/84lyk3v113v9t614ksvq_xlw0000gn/T/ipykernel_9034/958262839.py:1: FutureWarning: 'H' is deprecated and will be removed in a future version, please use 'h' instead.\n",
      "  df_means = taxis_one_day.resample('H', on='pickup').mean(numeric_only=True)\n"
     ]
    }
   ],
   "source": [
    "df_means = taxis_one_day.resample('H', on='pickup').mean(numeric_only=True)\n",
    "print(df_means)"
   ]
  },
  {
   "cell_type": "markdown",
   "id": "601743a0-8e97-46f3-8c46-6681353d374c",
   "metadata": {
    "id": "601743a0-8e97-46f3-8c46-6681353d374c"
   },
   "source": [
    "**42.** Create a simple line plot of the value \"distance\".  "
   ]
  },
  {
   "cell_type": "code",
   "execution_count": 193,
   "id": "d270aaf8-b52e-4d1f-8373-3ce72f9d4a81",
   "metadata": {
    "id": "d270aaf8-b52e-4d1f-8373-3ce72f9d4a81"
   },
   "outputs": [
    {
     "name": "stderr",
     "output_type": "stream",
     "text": [
      "/var/folders/nt/84lyk3v113v9t614ksvq_xlw0000gn/T/ipykernel_9034/3177743702.py:2: FutureWarning: 'H' is deprecated and will be removed in a future version, please use 'h' instead.\n",
      "  x = taxis_one_day.resample('H',on='pickup').mean(numeric_only = True).index\n",
      "/var/folders/nt/84lyk3v113v9t614ksvq_xlw0000gn/T/ipykernel_9034/3177743702.py:3: FutureWarning: 'H' is deprecated and will be removed in a future version, please use 'h' instead.\n",
      "  y = taxis_one_day.resample('H',on='pickup').mean(numeric_only=True)['distance']\n"
     ]
    },
    {
     "data": {
      "image/png": "[encoded data removed]",
      "text/plain": [
       "<Figure size 640x480 with 1 Axes>"
      ]
     },
     "metadata": {},
     "output_type": "display_data"
    }
   ],
   "source": [
    "import matplotlib.pyplot as plt\n",
    "x = taxis_one_day.resample('H',on='pickup').mean(numeric_only = True).index\n",
    "y = taxis_one_day.resample('H',on='pickup').mean(numeric_only=True)['distance']\n",
    "plt.plot(x,y)\n",
    "plt.xlabel('pickup time')\n",
    "plt.ylabel('avg distance')\n",
    "plt.show()\n"
   ]
  },
  {
   "cell_type": "markdown",
   "id": "deba998f-24b1-4fc3-93e6-807955ba111b",
   "metadata": {
    "id": "deba998f-24b1-4fc3-93e6-807955ba111b"
   },
   "source": [
    "**43.** Overall, do riders travel further or less far as the day progresses?"
   ]
  },
  {
   "cell_type": "code",
   "execution_count": 194,
   "id": "2430d827",
   "metadata": {},
   "outputs": [
    {
     "name": "stdout",
     "output_type": "stream",
     "text": [
      "-0.14663618513408605\n"
     ]
    }
   ],
   "source": [
    "df_means['hour'] = df_means.index.hour\n",
    "print(df_means['hour'].corr(df_means['distance']))"
   ]
  },
  {
   "cell_type": "markdown",
   "id": "61183ed4",
   "metadata": {},
   "source": [
    "less as the correlation is negative"
   ]
  },
  {
   "cell_type": "markdown",
   "id": "3c1784d1-e66d-40c7-87d1-a5a4bc7dd43b",
   "metadata": {
    "id": "3c1784d1-e66d-40c7-87d1-a5a4bc7dd43b"
   },
   "source": [
    "**44.** Create a new column in taxis_means, ```tip_in_percent```.  The source columns for this should be \"fare\" and \"tip\""
   ]
  },
  {
   "cell_type": "code",
   "execution_count": 195,
   "id": "aeeaf460",
   "metadata": {},
   "outputs": [
    {
     "name": "stdout",
     "output_type": "stream",
     "text": [
      "pickup\n",
      "2019-02-28 23:00:00     0.000000\n",
      "2019-03-01 00:00:00    15.148515\n",
      "2019-03-01 01:00:00    35.200000\n",
      "2019-03-01 02:00:00    22.372881\n",
      "2019-03-01 03:00:00          NaN\n",
      "                         ...    \n",
      "2019-03-31 19:00:00    21.224719\n",
      "2019-03-31 20:00:00    20.111111\n",
      "2019-03-31 21:00:00     9.397059\n",
      "2019-03-31 22:00:00    27.788235\n",
      "2019-03-31 23:00:00     7.876289\n",
      "Freq: h, Name: tip_in_percent, Length: 745, dtype: float64\n"
     ]
    }
   ],
   "source": [
    "df_means['tip_in_percent'] = 100 * df_means['tip']/df_means['fare']\n",
    "print(df_means['tip_in_percent'])"
   ]
  },
  {
   "cell_type": "markdown",
   "id": "15be5b49-d465-48a7-9b3b-6d58291752d9",
   "metadata": {
    "id": "15be5b49-d465-48a7-9b3b-6d58291752d9"
   },
   "source": [
    "**45.** Create a new column, time_interval, as a range of integer values beginning with zero."
   ]
  },
  {
   "cell_type": "code",
   "execution_count": 196,
   "id": "bcc2dca5-7682-4e55-b218-e94006071ebd",
   "metadata": {
    "id": "bcc2dca5-7682-4e55-b218-e94006071ebd"
   },
   "outputs": [
    {
     "name": "stdout",
     "output_type": "stream",
     "text": [
      "pickup\n",
      "2019-02-28 23:00:00      0\n",
      "2019-03-01 00:00:00      1\n",
      "2019-03-01 01:00:00      2\n",
      "2019-03-01 02:00:00      3\n",
      "2019-03-01 03:00:00      4\n",
      "                      ... \n",
      "2019-03-31 19:00:00    740\n",
      "2019-03-31 20:00:00    741\n",
      "2019-03-31 21:00:00    742\n",
      "2019-03-31 22:00:00    743\n",
      "2019-03-31 23:00:00    744\n",
      "Freq: h, Name: time_interval, Length: 745, dtype: int64\n"
     ]
    }
   ],
   "source": [
    "df_means['time_interval'] = range(len(df_means))\n",
    "print(df_means['time_interval'])"
   ]
  },
  {
   "cell_type": "markdown",
   "id": "269b329e-cade-4e54-9ed8-ce5d23006750",
   "metadata": {
    "id": "269b329e-cade-4e54-9ed8-ce5d23006750"
   },
   "source": [
    "Display the correlations between the following pairs of values:\n",
    "1. tip_in_percent and distance.\n",
    "1. tip_in_percent and passengers.\n",
    "1. tip_in_percent and time_interval."
   ]
  },
  {
   "cell_type": "code",
   "execution_count": 197,
   "id": "7003165a-2e86-46fa-9b0c-bb1e9dab4afd",
   "metadata": {
    "id": "7003165a-2e86-46fa-9b0c-bb1e9dab4afd"
   },
   "outputs": [
    {
     "name": "stdout",
     "output_type": "stream",
     "text": [
      "-0.055876259807662226\n",
      "0.029452130331214407\n",
      "0.03987342161878124\n"
     ]
    }
   ],
   "source": [
    "print(df_means['tip_in_percent'].corr(df_means['distance']))\n",
    "print(df_means['tip_in_percent'].corr(df_means['passengers']))\n",
    "print(df_means['tip_in_percent'].corr(df_means['time_interval']))"
   ]
  },
  {
   "cell_type": "markdown",
   "id": "934d0379-8d2c-4579-af88-fafffdb58767",
   "metadata": {
    "id": "934d0379-8d2c-4579-af88-fafffdb58767"
   },
   "source": [
    "**47.** Admittedly, the size of the data set is fairly small given how we've subsetted it.  But based on the values in #45, which of the three pairs show the strongest correlation."
   ]
  },
  {
   "cell_type": "markdown",
   "id": "04dfb838-f8de-4e79-8076-12ef0c187fc4",
   "metadata": {
    "id": "04dfb838-f8de-4e79-8076-12ef0c187fc4"
   },
   "source": [
    "tip in percent and the distance show the strongest correlation as the modulus is the highest\n"
   ]
  },
  {
   "cell_type": "markdown",
   "id": "279a9e91-2488-4e53-8234-ddde076fbe30",
   "metadata": {
    "id": "279a9e91-2488-4e53-8234-ddde076fbe30"
   },
   "source": [
    "**48.** Did our hypothesis that people tip more as the day goes on turn out to be warranted?"
   ]
  },
  {
   "cell_type": "markdown",
   "id": "6aaf603f-5099-457c-99eb-bf8370583a0c",
   "metadata": {
    "id": "6aaf603f-5099-457c-99eb-bf8370583a0c"
   },
   "source": [
    "no, tip in percent and distance have a negative correlation indicating that people tip less as the day goes on."
   ]
  },
  {
   "cell_type": "code",
   "execution_count": null,
   "id": "c885f77c-db5c-462b-8231-663e56f7f497",
   "metadata": {
    "id": "c885f77c-db5c-462b-8231-663e56f7f497"
   },
   "outputs": [],
   "source": []
  }
 ],
 "metadata": {
  "colab": {
   "provenance": []
  },
  "kernelspec": {
   "display_name": "project",
   "language": "python",
   "name": "python3"
  },
  "language_info": {
   "codemirror_mode": {
    "name": "ipython",
    "version": 3
   },
   "file_extension": ".py",
   "mimetype": "text/x-python",
   "name": "python",
   "nbconvert_exporter": "python",
   "pygments_lexer": "ipython3",
   "version": "3.13.0"
  }
 },
 "nbformat": 4,
 "nbformat_minor": 5
}
