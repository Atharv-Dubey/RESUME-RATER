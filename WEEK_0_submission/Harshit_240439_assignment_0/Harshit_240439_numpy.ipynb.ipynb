{
  "cells": [
    {
      "cell_type": "markdown",
      "metadata": {
        "id": "Ar4fL67UDPHr"
      },
      "source": [
        "# NumPy exercises"
      ]
    },
    {
      "cell_type": "markdown",
      "metadata": {
        "id": "_KH_5nW4DPHv"
      },
      "source": [
        "Some  of these come from / are inspired from https://github.com/rougier/numpy-100 and http://www.scipy-lectures.org/intro/numpy/exercises.html\n",
        "\n",
        "You might want to look over these lists as well."
      ]
    },
    {
      "cell_type": "code",
      "execution_count": null,
      "metadata": {
        "id": "u4ewzXF9DPHx"
      },
      "outputs": [],
      "source": [
        "import numpy as np"
      ]
    },
    {
      "cell_type": "markdown",
      "metadata": {
        "id": "BGjlCaQzDPHz"
      },
      "source": [
        "## Q1\n",
        "\n",
        "We can use `np.random.random_sample()` to create an array with random values.  By default, these will be in the range `[0.0, 1.0)`.  You can\n",
        "multiple the output and add a scalar to it to get it to be in a different range.\n",
        "\n",
        "Create a 10 x 10 array initialized with random numbers that lie between 0 and 10.\n",
        "\n",
        "Then compute the average of the array (there is a numpy function for this, `np.mean()`)."
      ]
    },
    {
      "cell_type": "code",
      "execution_count": null,
      "metadata": {
        "tags": [],
        "id": "6MSFAgQyDPHz"
      },
      "outputs": [],
      "source": [
        "arr = np.random.random_sample((10, 10)) * 10\n",
        "average = np.mean(arr)\n",
        "\n",
        "print(\"Array:\\n\", arr)\n",
        "print(\"Average of the array:\", average)\n"
      ]
    },
    {
      "cell_type": "markdown",
      "metadata": {
        "id": "1RGJBfycDPH0"
      },
      "source": [
        "## Q2\n",
        "\n",
        "Create the array:\n",
        "```\n",
        "[[1,  6, 11],\n",
        " [2,  7, 12],\n",
        " [3,  8, 13],\n",
        " [4,  9, 14],\n",
        " [5, 10, 15]]\n",
        "```\n",
        "with out explicitly typing it in.\n",
        "\n",
        "Now create a new array containing only its 2nd and 4th rows."
      ]
    },
    {
      "cell_type": "markdown",
      "metadata": {
        "id": "4mfsvN45DPH1"
      },
      "source": [
        "## Q3\n",
        "\n",
        "Create a 2d array with `1` on the border and `0` on the inside, e.g., like:\n",
        "```\n",
        "1 1 1 1 1\n",
        "1 0 0 0 1\n",
        "1 0 0 0 1\n",
        "1 1 1 1 1\n",
        "```\n",
        "\n",
        "Do this using array slice notation to let it work for an arbitrary-sized array"
      ]
    },
    {
      "cell_type": "code",
      "execution_count": null,
      "metadata": {
        "tags": [],
        "id": "qf1EIwKSDPH2"
      },
      "outputs": [],
      "source": [
        "import numpy as np\n",
        "\n",
        "n = 5\n",
        "arr = np.zeros((n-1, n), dtype=int)\n",
        "arr[0, :] = 1\n",
        "arr[-1, :] = 1\n",
        "arr[:, 0] = 1\n",
        "arr[:, -1] = 1\n",
        "print(\"Array with 1s on the border and 0s inside:\\n\", arr)"
      ]
    },
    {
      "cell_type": "code",
      "execution_count": null,
      "metadata": {
        "tags": [],
        "id": "1jxOF41eDPH0"
      },
      "outputs": [],
      "source": [
        "# ANSWER OF QUESTION 2\n",
        "import numpy as np\n",
        "\n",
        "arr = np.array([[1,6,11],[2,7,12],[3,8,13],[4,9,14],[5,10,15]])\n",
        "\n",
        "print(arr)\n",
        "\n",
        "\n",
        "import numpy as np\n",
        "\n",
        "arr = np.array([[2,7,12],[4,9,14]])\n",
        "\n",
        "print(arr)\n",
        "\n",
        "\n"
      ]
    },
    {
      "cell_type": "markdown",
      "metadata": {
        "id": "UuKIXz6vDPH3"
      },
      "source": [
        "## Q4\n",
        "\n",
        "  * Create an array with angles in degrees 0, 15, 30, ... 90 (i.e., every 15 degrees up to 90).\n",
        "\n",
        "  * Now create 3 new arrays with the sine, cosine, and tangent of the elements of the first array\n",
        "  \n",
        "  * Finally, calculate the inverse sine, inverse cosine, and inverse tangent the arrays above and compare to the original angles"
      ]
    },
    {
      "cell_type": "code",
      "execution_count": null,
      "metadata": {
        "collapsed": true,
        "jupyter": {
          "outputs_hidden": true
        },
        "id": "bYMU3viyDPH4"
      },
      "outputs": [],
      "source": [
        "import numpy as np\n",
        "arr = np.array([0, 15, 30, 45, 60, 75, 90])\n",
        "print(arr)\n",
        "\n",
        "x = np.deg2rad(arr)\n",
        "\n",
        "print (np.sin(x))\n",
        "print (np.cos(x))\n",
        "print (np.tan(x))\n",
        "\n",
        "print(np.arcsin(np.clip(np.sin(x), -1, 1)))\n",
        "print(np.arccos(np.clip(np.cos(x), -1, 1)))\n",
        "print(np.arctan(x))\n"
      ]
    },
    {
      "cell_type": "markdown",
      "metadata": {
        "id": "oKhSlL_EDPH4"
      },
      "source": [
        "## Q5\n",
        "\n",
        "Given the array:\n",
        "```\n",
        "x = np.array([1, -1, 2, 5, 8, 4, 10, 12, 3])\n",
        "```\n",
        "calculate the difference of each element with its neighbor."
      ]
    },
    {
      "cell_type": "code",
      "execution_count": null,
      "metadata": {
        "tags": [],
        "id": "mRojYTFMDPH5"
      },
      "outputs": [],
      "source": [
        "import numpy as np\n",
        "\n",
        "arr = np.array([1,-1,2,5,8,4,10,12,3])\n",
        "\n",
        "newarr = np.diff(arr)\n",
        "\n",
        "print(newarr)"
      ]
    },
    {
      "cell_type": "markdown",
      "metadata": {
        "id": "F8oQd_ELDPH6"
      },
      "source": [
        "## Q6\n",
        "\n",
        "Here we will read in columns of numbers from a file and create a histogram, using NumPy routines.  Make sure you have the data file\n",
        "\"`sample.txt`\" in the same directory as this notebook (you can download it from  https://raw.githubusercontent.com/sbu-python-summer/python-tutorial/master/day-3/sample.txt\n",
        "\n",
        "  * Use `np.loadtxt()` to read this file in.  \n",
        "\n",
        "  * Next, use `np.histogram()` to create a histogram array.  The output returns both the count and an array of edges.\n",
        "  \n",
        "  * Finally, loop over the bins and print out the bin center (averaging the left and right edges of the bin) and the count for that bin."
      ]
    },
    {
      "cell_type": "code",
      "execution_count": null,
      "metadata": {
        "tags": [],
        "id": "F8hdGe1qDPH6"
      },
      "outputs": [],
      "source": [
        "import numpy as np\n",
        "import matplotlib.pyplot as plt\n",
        "data = np.loadtxt(\"sample.txt\")\n",
        "print(data)\n",
        "\n",
        "count, edges = np.histogram(data, bins = 10)\n",
        "plt.hist(data, bins = 10)\n",
        "plt.show()\n",
        "\n",
        "print(count)\n",
        "print(edges)\n"
      ]
    },
    {
      "cell_type": "markdown",
      "metadata": {
        "id": "qge_-x7CDPH7"
      },
      "source": [
        "# Q7\n",
        "\n",
        "\n",
        "\n",
        "NumPy has a standard deviation function, `np.std()`, but here we'll write our own that works on a 1-d array (vector).  The standard\n",
        "deviation is a measure of the \"width\" of the distribution of numbers\n",
        "in the vector.\n",
        "\n",
        "Given an array, $a$, and an average $\\bar{a}$, the standard deviation\n",
        "is:\n",
        "\n",
        "$$\n",
        "\\sigma = \\left [ \\frac{1}{N} \\sum_{i=1}^N (a_i - \\bar{a})^2 \\right ]^{1/2}\n",
        "$$\n",
        "\n",
        "Write a function to calculate the standard deviation for an input array, `a`:\n",
        "\n",
        "  * First compute the average of the elements in `a` to define $\\bar{a}$\n",
        "  * Next compute the sum over the squares of $a - \\bar{a}$\n",
        "  * Then divide the sum by the number of elements in the array\n",
        "  * Finally take the square root (you can use `np.sqrt()`)\n",
        "  \n",
        "Test your function on a random array, and compare to the built-in `np.std()`"
      ]
    },
    {
      "cell_type": "code",
      "execution_count": null,
      "metadata": {
        "id": "0dxQkXaZDPH9"
      },
      "outputs": [],
      "source": [
        "import numpy as np\n",
        "a = np.array([1,2,3,4,5])\n",
        "print(a)\n",
        "\n",
        "mean = np.average(a)\n",
        "print(mean)\n",
        "\n",
        "squared_diff = (a-mean)**2\n",
        "print(squared_diff)\n",
        "\n",
        "x = np.sum(squared_diff)\n",
        "print(x)\n",
        "\n",
        "y = ((x)/5)\n",
        "print(y)\n",
        "\n",
        "std_deviation = np.sqrt(y)\n",
        "print(std_deviation)\n",
        "\n",
        "built_in = np.std(a)\n",
        "print(built_in)\n",
        "\n"
      ]
    }
  ],
  "metadata": {
    "kernelspec": {
      "display_name": "Python 3 (ipykernel)",
      "language": "python",
      "name": "python3"
    },
    "language_info": {
      "codemirror_mode": {
        "name": "ipython",
        "version": 3
      },
      "file_extension": ".py",
      "mimetype": "text/x-python",
      "name": "python",
      "nbconvert_exporter": "python",
      "pygments_lexer": "ipython3",
      "version": "3.12.1"
    },
    "colab": {
      "provenance": []
    }
  },
  "nbformat": 4,
  "nbformat_minor": 0
}