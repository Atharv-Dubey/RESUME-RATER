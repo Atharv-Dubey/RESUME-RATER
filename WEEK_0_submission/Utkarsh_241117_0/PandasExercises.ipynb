{
 "cells": [
  {
   "cell_type": "markdown",
   "id": "e79a44bb-42c8-4ace-8d71-770c06522bfc",
   "metadata": {
    "id": "e79a44bb-42c8-4ace-8d71-770c06522bfc"
   },
   "source": [
    "# Pandas Exercises"
   ]
  },
  {
   "cell_type": "markdown",
   "id": "1d26ef1e-3c49-4a46-a4c5-b68825d5a953",
   "metadata": {
    "id": "1d26ef1e-3c49-4a46-a4c5-b68825d5a953"
   },
   "source": [
    "## Creating DataFrames and Using Sample Data Sets"
   ]
  },
  {
   "cell_type": "markdown",
   "id": "bc5dd17f-4431-4655-b2c5-ea537e23223c",
   "metadata": {
    "id": "bc5dd17f-4431-4655-b2c5-ea537e23223c"
   },
   "source": [
    "This is the Jupyter Notebook runnable exercises version of the article, [Pandas Practice Questions – Fifty-Two Examples to Make You an Expert](https://codesolid.com/pandas-practice-questions-twenty-one-examples-to-make-you-an-expert/)."
   ]
  },
  {
   "cell_type": "code",
   "execution_count": 1,
   "id": "df91e92f-5f2b-4e98-81f7-84e7478ed432",
   "metadata": {
    "id": "df91e92f-5f2b-4e98-81f7-84e7478ed432"
   },
   "outputs": [],
   "source": [
    "import pandas as pd\n",
    "import numpy as np\n",
    "import seaborn as sb"
   ]
  },
  {
   "cell_type": "markdown",
   "id": "6950cc47-3cc0-4565-8df1-d01741b7ea5f",
   "metadata": {
    "id": "6950cc47-3cc0-4565-8df1-d01741b7ea5f"
   },
   "source": [
    "**1.** Using NumPy, create a Pandas DataFrame with five rows and three columms:"
   ]
  },
  {
   "cell_type": "code",
   "execution_count": 85,
   "id": "dd1a5014-d17e-4fd0-b7a2-db261a53a02a",
   "metadata": {
    "id": "dd1a5014-d17e-4fd0-b7a2-db261a53a02a"
   },
   "outputs": [],
   "source": [
    "df=pd.DataFrame([[1,2,3],[4,5,6],[7,8,9],[10,11,12],[13,14,15]],columns=[\"A\",\"B\",\"C\"])"
   ]
  },
  {
   "cell_type": "markdown",
   "id": "9c74f94d-4adf-403d-a2c4-9efd200ba5b2",
   "metadata": {
    "id": "9c74f94d-4adf-403d-a2c4-9efd200ba5b2"
   },
   "source": [
    "**2.** For a Pandas DataFrame created from a NumPy array, what is the default behavior for the labels for the columns?  For the rows?"
   ]
  },
  {
   "cell_type": "markdown",
   "id": "e7508b50-d724-47a7-8272-9ba040cd9c65",
   "metadata": {
    "id": "e7508b50-d724-47a7-8272-9ba040cd9c65"
   },
   "source": [
    "Both start from 0,1,2 and so on."
   ]
  },
  {
   "cell_type": "markdown",
   "id": "1a20442a-ea2c-4d32-877b-bfe5ae349318",
   "metadata": {
    "id": "1a20442a-ea2c-4d32-877b-bfe5ae349318"
   },
   "source": [
    "**3.** Create a second DataFrame as above with five rows and three columns, setting the row labels to the names of any five major US cities and the column labels to the first three months of the year."
   ]
  },
  {
   "cell_type": "code",
   "execution_count": 84,
   "id": "02686eae-cba2-4180-94ff-4dc85eca0731",
   "metadata": {
    "colab": {
     "base_uri": "https://localhost:8080/"
    },
    "id": "02686eae-cba2-4180-94ff-4dc85eca0731",
    "outputId": "0ac8f123-b9d1-42a5-e49a-2c8cd4042768"
   },
   "outputs": [
    {
     "name": "stdout",
     "output_type": "stream",
     "text": [
      "              January  February  March\n",
      "NewYork             1         2      3\n",
      "LosAngeles          4         5      6\n",
      "SanFransisco        7         8      9\n",
      "Chicago            10        11     12\n",
      "Houston            13        14     15\n"
     ]
    }
   ],
   "source": [
    "df_new=pd.DataFrame([[1,2,3],[4,5,6],[7,8,9],[10,11,12],[13,14,15]],columns=[\"January\",\"February\",\"March\"],index=[\"NewYork\",\"LosAngeles\",\"SanFransisco\",\"Chicago\",\"Houston\"])\n",
    "print(df_new)"
   ]
  },
  {
   "cell_type": "markdown",
   "id": "f6c2f45b-0fea-49bf-98a0-572d594a0680",
   "metadata": {
    "id": "f6c2f45b-0fea-49bf-98a0-572d594a0680"
   },
   "source": [
    "**4.** You recall that the Seaborn package has some data sets built in, but can't remember how to list and load them. Assuming the functions to do so have \"data\" in the name, how might you locate them?  You can assume a Jupyter Notebook / IPython environment and explain the process, or write the code to do it in Python."
   ]
  },
  {
   "cell_type": "markdown",
   "id": "8afae59d-eb5a-4692-9924-b54d49942769",
   "metadata": {
    "id": "8afae59d-eb5a-4692-9924-b54d49942769"
   },
   "source": []
  },
  {
   "cell_type": "code",
   "execution_count": 85,
   "id": "ce709b0a-cb22-4f33-9492-62f8346d0ef4",
   "metadata": {
    "id": "ce709b0a-cb22-4f33-9492-62f8346d0ef4"
   },
   "outputs": [],
   "source": []
  },
  {
   "cell_type": "markdown",
   "id": "70efcde8-cd73-4d61-8534-e6a3c469dbff",
   "metadata": {
    "id": "70efcde8-cd73-4d61-8534-e6a3c469dbff"
   },
   "source": [
    "## Loading data from CSV"
   ]
  },
  {
   "cell_type": "markdown",
   "id": "00214582-1340-4700-99b5-9f36afce3e16",
   "metadata": {
    "id": "00214582-1340-4700-99b5-9f36afce3e16"
   },
   "source": [
    "**5**. Zillow home data is available at this URL: https://files.zillowstatic.com/research/public_csvs/zhvi/Metro_zhvi_uc_sfrcondo_tier_0.33_0.67_sm_sa_month.csv\n",
    "\n",
    "Open this file as a DataFrame named df_homes in Pandas."
   ]
  },
  {
   "cell_type": "code",
   "execution_count": 6,
   "id": "2838d3d2-5f1c-4e97-aab6-c7236ced82ad",
   "metadata": {
    "id": "2838d3d2-5f1c-4e97-aab6-c7236ced82ad"
   },
   "outputs": [],
   "source": [
    "df_homes=pd.read_csv(\"https://files.zillowstatic.com/research/public_csvs/zhvi/Metro_zhvi_uc_sfrcondo_tier_0.33_0.67_sm_sa_month.csv\")\n",
    "# print(df_homes)"
   ]
  },
  {
   "cell_type": "markdown",
   "id": "4476553a-1f93-4259-87df-69670ef486c0",
   "metadata": {
    "id": "4476553a-1f93-4259-87df-69670ef486c0"
   },
   "source": [
    "**6.** Save the DataFrame, df_homes, to a local CSV file, \"zillow_home_data.csv\".  "
   ]
  },
  {
   "cell_type": "code",
   "execution_count": 7,
   "id": "1d237615-d23c-4f62-a0b8-c709deb95647",
   "metadata": {
    "id": "1d237615-d23c-4f62-a0b8-c709deb95647"
   },
   "outputs": [],
   "source": [
    "df_homes.to_csv(\"zillow_home_data.csv\", index=False)\n"
   ]
  },
  {
   "cell_type": "markdown",
   "id": "182e0039-63dc-49df-9413-7eede1453fe0",
   "metadata": {
    "id": "182e0039-63dc-49df-9413-7eede1453fe0"
   },
   "source": [
    "**7.** Load zillow_home_data.csv back into a new Dataframe, df_homes_2"
   ]
  },
  {
   "cell_type": "code",
   "execution_count": 8,
   "id": "53665adb-adb2-462f-a244-01665182e870",
   "metadata": {
    "id": "53665adb-adb2-462f-a244-01665182e870"
   },
   "outputs": [],
   "source": [
    "df_homes_2=pd.read_csv(\"zillow_home_data.csv\")"
   ]
  },
  {
   "cell_type": "markdown",
   "id": "eaaa6d3b-21e6-4e4a-916a-d522f1fd60c6",
   "metadata": {
    "id": "eaaa6d3b-21e6-4e4a-916a-d522f1fd60c6"
   },
   "source": [
    "**8.** Compare the dimensions of the two DataFrames, df_homes and df_homes_2.  Are they equal?  If not, how can you fix it?"
   ]
  },
  {
   "cell_type": "code",
   "execution_count": 15,
   "id": "5c0a7f30-3d6a-4283-9efb-c1dc1d5d7d42",
   "metadata": {
    "colab": {
     "base_uri": "https://localhost:8080/"
    },
    "id": "5c0a7f30-3d6a-4283-9efb-c1dc1d5d7d42",
    "outputId": "ae743ace-0e35-4313-f42d-9e414305e75f"
   },
   "outputs": [
    {
     "name": "stdout",
     "output_type": "stream",
     "text": [
      "(895, 303)\n",
      "(895, 303)\n"
     ]
    }
   ],
   "source": [
    "print(df_homes.shape)\n",
    "print(df_homes_2.shape)"
   ]
  },
  {
   "cell_type": "markdown",
   "id": "ed7fc7e0-6fe3-4eea-bbbc-2ecf8d910b5a",
   "metadata": {
    "id": "ed7fc7e0-6fe3-4eea-bbbc-2ecf8d910b5a"
   },
   "source": []
  },
  {
   "cell_type": "markdown",
   "id": "0f34b104-fc3a-492c-964b-45daa12850b0",
   "metadata": {
    "id": "0f34b104-fc3a-492c-964b-45daa12850b0"
   },
   "source": [
    "**9.** A remote spreadsheet showing how a snapshot of how traffic increased for a hypothetical website is available here: https://github.com/CodeSolid/CodeSolid.github.io/raw/main/booksource/data/AnalyticsSnapshot.xlsx. Load the worksheet page of the spreasheet data labelled \"February 2022\" as a DataFrame named \"feb\".  Note: the leftmost column in the spreadsheet is the index column."
   ]
  },
  {
   "cell_type": "code",
   "execution_count": 16,
   "id": "7b8772dd-5d19-4510-a725-80c7273ce61b",
   "metadata": {
    "id": "7b8772dd-5d19-4510-a725-80c7273ce61b"
   },
   "outputs": [],
   "source": [
    "feb=pd.read_excel('https://github.com/CodeSolid/CodeSolid.github.io/raw/main/booksource/data/AnalyticsSnapshot.xlsx')"
   ]
  },
  {
   "cell_type": "markdown",
   "id": "ad366534-b168-490c-a55d-654f3ef44288",
   "metadata": {
    "id": "ad366534-b168-490c-a55d-654f3ef44288"
   },
   "source": [
    "**10.** The \"Month to Month Increase\" column is a bit hard to understand, so ignore it for now.  Given the values for \"This Month\" and \"Last Month\", create a new column, \"Percentage Increase\"."
   ]
  },
  {
   "cell_type": "code",
   "execution_count": null,
   "id": "d053f773-c9a9-4592-aaaa-660ae8e189e5",
   "metadata": {
    "id": "d053f773-c9a9-4592-aaaa-660ae8e189e5"
   },
   "outputs": [],
   "source": []
  },
  {
   "cell_type": "markdown",
   "id": "8a71222f-2ab4-47bb-806d-2610e25b3a91",
   "metadata": {
    "id": "8a71222f-2ab4-47bb-806d-2610e25b3a91"
   },
   "source": [
    "## Basic Operations on Data"
   ]
  },
  {
   "cell_type": "markdown",
   "id": "0b9cf32b-3132-40cc-a5ca-26d6e6a36e4b",
   "metadata": {
    "id": "0b9cf32b-3132-40cc-a5ca-26d6e6a36e4b"
   },
   "source": [
    "**11.** Using Seaborn, get a dataset about penguins into a dataframe named \"df_penguins\".  Note that because all of the following questions depend on this example, we'll provide the solution here so no one gets stuck:"
   ]
  },
  {
   "cell_type": "code",
   "execution_count": 19,
   "id": "a8b68caf-a998-414a-9de7-899eae7213c7",
   "metadata": {
    "id": "a8b68caf-a998-414a-9de7-899eae7213c7"
   },
   "outputs": [],
   "source": [
    "df_penguins = sb.load_dataset('penguins')"
   ]
  },
  {
   "cell_type": "markdown",
   "id": "f7170135-17bd-45e2-9239-dad647ed6eaf",
   "metadata": {
    "id": "f7170135-17bd-45e2-9239-dad647ed6eaf"
   },
   "source": [
    "**12.** Write the code to show the the number of rows and columns in df_penguins"
   ]
  },
  {
   "cell_type": "code",
   "execution_count": 21,
   "id": "6f565afb-d5f4-462d-b3e5-946bc91bd83e",
   "metadata": {
    "colab": {
     "base_uri": "https://localhost:8080/"
    },
    "id": "6f565afb-d5f4-462d-b3e5-946bc91bd83e",
    "outputId": "b27ed5d0-b267-49f9-8b8f-9425f4434f26"
   },
   "outputs": [
    {
     "data": {
      "text/plain": [
       "(344, 7)"
      ]
     },
     "execution_count": 21,
     "metadata": {},
     "output_type": "execute_result"
    }
   ],
   "source": [
    "df_penguins.shape"
   ]
  },
  {
   "cell_type": "markdown",
   "id": "9d3396f3-3fe6-4571-83b2-1e70f8a11513",
   "metadata": {
    "id": "9d3396f3-3fe6-4571-83b2-1e70f8a11513"
   },
   "source": [
    "**13.** How might you show the first few rows of df_penguins?"
   ]
  },
  {
   "cell_type": "code",
   "execution_count": 24,
   "id": "68d5946e-5011-4735-983e-7485f44a60f2",
   "metadata": {
    "colab": {
     "base_uri": "https://localhost:8080/",
     "height": 206
    },
    "id": "68d5946e-5011-4735-983e-7485f44a60f2",
    "outputId": "a78713b5-3dd7-4330-ade3-889bb9c2f714"
   },
   "outputs": [
    {
     "data": {
      "application/vnd.google.colaboratory.intrinsic+json": {
       "summary": "{\n  \"name\": \"df_penguins\",\n  \"rows\": 344,\n  \"fields\": [\n    {\n      \"column\": \"species\",\n      \"properties\": {\n        \"dtype\": \"category\",\n        \"num_unique_values\": 3,\n        \"samples\": [\n          \"Adelie\",\n          \"Chinstrap\",\n          \"Gentoo\"\n        ],\n        \"semantic_type\": \"\",\n        \"description\": \"\"\n      }\n    },\n    {\n      \"column\": \"island\",\n      \"properties\": {\n        \"dtype\": \"category\",\n        \"num_unique_values\": 3,\n        \"samples\": [\n          \"Torgersen\",\n          \"Biscoe\",\n          \"Dream\"\n        ],\n        \"semantic_type\": \"\",\n        \"description\": \"\"\n      }\n    },\n    {\n      \"column\": \"bill_length_mm\",\n      \"properties\": {\n        \"dtype\": \"number\",\n        \"std\": 5.459583713926532,\n        \"min\": 32.1,\n        \"max\": 59.6,\n        \"num_unique_values\": 164,\n        \"samples\": [\n          48.2,\n          49.8,\n          45.1\n        ],\n        \"semantic_type\": \"\",\n        \"description\": \"\"\n      }\n    },\n    {\n      \"column\": \"bill_depth_mm\",\n      \"properties\": {\n        \"dtype\": \"number\",\n        \"std\": 1.9747931568167816,\n        \"min\": 13.1,\n        \"max\": 21.5,\n        \"num_unique_values\": 80,\n        \"samples\": [\n          16.9,\n          18.7,\n          18.6\n        ],\n        \"semantic_type\": \"\",\n        \"description\": \"\"\n      }\n    },\n    {\n      \"column\": \"flipper_length_mm\",\n      \"properties\": {\n        \"dtype\": \"number\",\n        \"std\": 14.061713679356894,\n        \"min\": 172.0,\n        \"max\": 231.0,\n        \"num_unique_values\": 55,\n        \"samples\": [\n          201.0,\n          180.0,\n          212.0\n        ],\n        \"semantic_type\": \"\",\n        \"description\": \"\"\n      }\n    },\n    {\n      \"column\": \"body_mass_g\",\n      \"properties\": {\n        \"dtype\": \"number\",\n        \"std\": 801.9545356980954,\n        \"min\": 2700.0,\n        \"max\": 6300.0,\n        \"num_unique_values\": 94,\n        \"samples\": [\n          4350.0,\n          4150.0,\n          3525.0\n        ],\n        \"semantic_type\": \"\",\n        \"description\": \"\"\n      }\n    },\n    {\n      \"column\": \"sex\",\n      \"properties\": {\n        \"dtype\": \"category\",\n        \"num_unique_values\": 2,\n        \"samples\": [\n          \"Female\",\n          \"Male\"\n        ],\n        \"semantic_type\": \"\",\n        \"description\": \"\"\n      }\n    }\n  ]\n}",
       "type": "dataframe",
       "variable_name": "df_penguins"
      },
      "text/html": [
       "\n",
       "  <div id=\"df-36a2808f-5638-4630-9e5b-497da37c26c6\" class=\"colab-df-container\">\n",
       "    <div>\n",
       "<style scoped>\n",
       "    .dataframe tbody tr th:only-of-type {\n",
       "        vertical-align: middle;\n",
       "    }\n",
       "\n",
       "    .dataframe tbody tr th {\n",
       "        vertical-align: top;\n",
       "    }\n",
       "\n",
       "    .dataframe thead th {\n",
       "        text-align: right;\n",
       "    }\n",
       "</style>\n",
       "<table border=\"1\" class=\"dataframe\">\n",
       "  <thead>\n",
       "    <tr style=\"text-align: right;\">\n",
       "      <th></th>\n",
       "      <th>species</th>\n",
       "      <th>island</th>\n",
       "      <th>bill_length_mm</th>\n",
       "      <th>bill_depth_mm</th>\n",
       "      <th>flipper_length_mm</th>\n",
       "      <th>body_mass_g</th>\n",
       "      <th>sex</th>\n",
       "    </tr>\n",
       "  </thead>\n",
       "  <tbody>\n",
       "    <tr>\n",
       "      <th>0</th>\n",
       "      <td>Adelie</td>\n",
       "      <td>Torgersen</td>\n",
       "      <td>39.1</td>\n",
       "      <td>18.7</td>\n",
       "      <td>181.0</td>\n",
       "      <td>3750.0</td>\n",
       "      <td>Male</td>\n",
       "    </tr>\n",
       "    <tr>\n",
       "      <th>1</th>\n",
       "      <td>Adelie</td>\n",
       "      <td>Torgersen</td>\n",
       "      <td>39.5</td>\n",
       "      <td>17.4</td>\n",
       "      <td>186.0</td>\n",
       "      <td>3800.0</td>\n",
       "      <td>Female</td>\n",
       "    </tr>\n",
       "    <tr>\n",
       "      <th>2</th>\n",
       "      <td>Adelie</td>\n",
       "      <td>Torgersen</td>\n",
       "      <td>40.3</td>\n",
       "      <td>18.0</td>\n",
       "      <td>195.0</td>\n",
       "      <td>3250.0</td>\n",
       "      <td>Female</td>\n",
       "    </tr>\n",
       "    <tr>\n",
       "      <th>3</th>\n",
       "      <td>Adelie</td>\n",
       "      <td>Torgersen</td>\n",
       "      <td>NaN</td>\n",
       "      <td>NaN</td>\n",
       "      <td>NaN</td>\n",
       "      <td>NaN</td>\n",
       "      <td>NaN</td>\n",
       "    </tr>\n",
       "    <tr>\n",
       "      <th>4</th>\n",
       "      <td>Adelie</td>\n",
       "      <td>Torgersen</td>\n",
       "      <td>36.7</td>\n",
       "      <td>19.3</td>\n",
       "      <td>193.0</td>\n",
       "      <td>3450.0</td>\n",
       "      <td>Female</td>\n",
       "    </tr>\n",
       "  </tbody>\n",
       "</table>\n",
       "</div>\n",
       "    <div class=\"colab-df-buttons\">\n",
       "\n",
       "  <div class=\"colab-df-container\">\n",
       "    <button class=\"colab-df-convert\" onclick=\"convertToInteractive('df-36a2808f-5638-4630-9e5b-497da37c26c6')\"\n",
       "            title=\"Convert this dataframe to an interactive table.\"\n",
       "            style=\"display:none;\">\n",
       "\n",
       "  <svg xmlns=\"http://www.w3.org/2000/svg\" height=\"24px\" viewBox=\"0 -960 960 960\">\n",
       "    <path d=\"M120-120v-720h720v720H120Zm60-500h600v-160H180v160Zm220 220h160v-160H400v160Zm0 220h160v-160H400v160ZM180-400h160v-160H180v160Zm440 0h160v-160H620v160ZM180-180h160v-160H180v160Zm440 0h160v-160H620v160Z\"/>\n",
       "  </svg>\n",
       "    </button>\n",
       "\n",
       "  <style>\n",
       "    .colab-df-container {\n",
       "      display:flex;\n",
       "      gap: 12px;\n",
       "    }\n",
       "\n",
       "    .colab-df-convert {\n",
       "      background-color: #E8F0FE;\n",
       "      border: none;\n",
       "      border-radius: 50%;\n",
       "      cursor: pointer;\n",
       "      display: none;\n",
       "      fill: #1967D2;\n",
       "      height: 32px;\n",
       "      padding: 0 0 0 0;\n",
       "      width: 32px;\n",
       "    }\n",
       "\n",
       "    .colab-df-convert:hover {\n",
       "      background-color: #E2EBFA;\n",
       "      box-shadow: 0px 1px 2px rgba(60, 64, 67, 0.3), 0px 1px 3px 1px rgba(60, 64, 67, 0.15);\n",
       "      fill: #174EA6;\n",
       "    }\n",
       "\n",
       "    .colab-df-buttons div {\n",
       "      margin-bottom: 4px;\n",
       "    }\n",
       "\n",
       "    [theme=dark] .colab-df-convert {\n",
       "      background-color: #3B4455;\n",
       "      fill: #D2E3FC;\n",
       "    }\n",
       "\n",
       "    [theme=dark] .colab-df-convert:hover {\n",
       "      background-color: #434B5C;\n",
       "      box-shadow: 0px 1px 3px 1px rgba(0, 0, 0, 0.15);\n",
       "      filter: drop-shadow(0px 1px 2px rgba(0, 0, 0, 0.3));\n",
       "      fill: #FFFFFF;\n",
       "    }\n",
       "  </style>\n",
       "\n",
       "    <script>\n",
       "      const buttonEl =\n",
       "        document.querySelector('#df-36a2808f-5638-4630-9e5b-497da37c26c6 button.colab-df-convert');\n",
       "      buttonEl.style.display =\n",
       "        google.colab.kernel.accessAllowed ? 'block' : 'none';\n",
       "\n",
       "      async function convertToInteractive(key) {\n",
       "        const element = document.querySelector('#df-36a2808f-5638-4630-9e5b-497da37c26c6');\n",
       "        const dataTable =\n",
       "          await google.colab.kernel.invokeFunction('convertToInteractive',\n",
       "                                                    [key], {});\n",
       "        if (!dataTable) return;\n",
       "\n",
       "        const docLinkHtml = 'Like what you see? Visit the ' +\n",
       "          '<a target=\"_blank\" href=https://colab.research.google.com/notebooks/data_table.ipynb>data table notebook</a>'\n",
       "          + ' to learn more about interactive tables.';\n",
       "        element.innerHTML = '';\n",
       "        dataTable['output_type'] = 'display_data';\n",
       "        await google.colab.output.renderOutput(dataTable, element);\n",
       "        const docLink = document.createElement('div');\n",
       "        docLink.innerHTML = docLinkHtml;\n",
       "        element.appendChild(docLink);\n",
       "      }\n",
       "    </script>\n",
       "  </div>\n",
       "\n",
       "\n",
       "<div id=\"df-1a8df919-6ac7-4348-b645-061fff14b70f\">\n",
       "  <button class=\"colab-df-quickchart\" onclick=\"quickchart('df-1a8df919-6ac7-4348-b645-061fff14b70f')\"\n",
       "            title=\"Suggest charts\"\n",
       "            style=\"display:none;\">\n",
       "\n",
       "<svg xmlns=\"http://www.w3.org/2000/svg\" height=\"24px\"viewBox=\"0 0 24 24\"\n",
       "     width=\"24px\">\n",
       "    <g>\n",
       "        <path d=\"M19 3H5c-1.1 0-2 .9-2 2v14c0 1.1.9 2 2 2h14c1.1 0 2-.9 2-2V5c0-1.1-.9-2-2-2zM9 17H7v-7h2v7zm4 0h-2V7h2v10zm4 0h-2v-4h2v4z\"/>\n",
       "    </g>\n",
       "</svg>\n",
       "  </button>\n",
       "\n",
       "<style>\n",
       "  .colab-df-quickchart {\n",
       "      --bg-color: #E8F0FE;\n",
       "      --fill-color: #1967D2;\n",
       "      --hover-bg-color: #E2EBFA;\n",
       "      --hover-fill-color: #174EA6;\n",
       "      --disabled-fill-color: #AAA;\n",
       "      --disabled-bg-color: #DDD;\n",
       "  }\n",
       "\n",
       "  [theme=dark] .colab-df-quickchart {\n",
       "      --bg-color: #3B4455;\n",
       "      --fill-color: #D2E3FC;\n",
       "      --hover-bg-color: #434B5C;\n",
       "      --hover-fill-color: #FFFFFF;\n",
       "      --disabled-bg-color: #3B4455;\n",
       "      --disabled-fill-color: #666;\n",
       "  }\n",
       "\n",
       "  .colab-df-quickchart {\n",
       "    background-color: var(--bg-color);\n",
       "    border: none;\n",
       "    border-radius: 50%;\n",
       "    cursor: pointer;\n",
       "    display: none;\n",
       "    fill: var(--fill-color);\n",
       "    height: 32px;\n",
       "    padding: 0;\n",
       "    width: 32px;\n",
       "  }\n",
       "\n",
       "  .colab-df-quickchart:hover {\n",
       "    background-color: var(--hover-bg-color);\n",
       "    box-shadow: 0 1px 2px rgba(60, 64, 67, 0.3), 0 1px 3px 1px rgba(60, 64, 67, 0.15);\n",
       "    fill: var(--button-hover-fill-color);\n",
       "  }\n",
       "\n",
       "  .colab-df-quickchart-complete:disabled,\n",
       "  .colab-df-quickchart-complete:disabled:hover {\n",
       "    background-color: var(--disabled-bg-color);\n",
       "    fill: var(--disabled-fill-color);\n",
       "    box-shadow: none;\n",
       "  }\n",
       "\n",
       "  .colab-df-spinner {\n",
       "    border: 2px solid var(--fill-color);\n",
       "    border-color: transparent;\n",
       "    border-bottom-color: var(--fill-color);\n",
       "    animation:\n",
       "      spin 1s steps(1) infinite;\n",
       "  }\n",
       "\n",
       "  @keyframes spin {\n",
       "    0% {\n",
       "      border-color: transparent;\n",
       "      border-bottom-color: var(--fill-color);\n",
       "      border-left-color: var(--fill-color);\n",
       "    }\n",
       "    20% {\n",
       "      border-color: transparent;\n",
       "      border-left-color: var(--fill-color);\n",
       "      border-top-color: var(--fill-color);\n",
       "    }\n",
       "    30% {\n",
       "      border-color: transparent;\n",
       "      border-left-color: var(--fill-color);\n",
       "      border-top-color: var(--fill-color);\n",
       "      border-right-color: var(--fill-color);\n",
       "    }\n",
       "    40% {\n",
       "      border-color: transparent;\n",
       "      border-right-color: var(--fill-color);\n",
       "      border-top-color: var(--fill-color);\n",
       "    }\n",
       "    60% {\n",
       "      border-color: transparent;\n",
       "      border-right-color: var(--fill-color);\n",
       "    }\n",
       "    80% {\n",
       "      border-color: transparent;\n",
       "      border-right-color: var(--fill-color);\n",
       "      border-bottom-color: var(--fill-color);\n",
       "    }\n",
       "    90% {\n",
       "      border-color: transparent;\n",
       "      border-bottom-color: var(--fill-color);\n",
       "    }\n",
       "  }\n",
       "</style>\n",
       "\n",
       "  <script>\n",
       "    async function quickchart(key) {\n",
       "      const quickchartButtonEl =\n",
       "        document.querySelector('#' + key + ' button');\n",
       "      quickchartButtonEl.disabled = true;  // To prevent multiple clicks.\n",
       "      quickchartButtonEl.classList.add('colab-df-spinner');\n",
       "      try {\n",
       "        const charts = await google.colab.kernel.invokeFunction(\n",
       "            'suggestCharts', [key], {});\n",
       "      } catch (error) {\n",
       "        console.error('Error during call to suggestCharts:', error);\n",
       "      }\n",
       "      quickchartButtonEl.classList.remove('colab-df-spinner');\n",
       "      quickchartButtonEl.classList.add('colab-df-quickchart-complete');\n",
       "    }\n",
       "    (() => {\n",
       "      let quickchartButtonEl =\n",
       "        document.querySelector('#df-1a8df919-6ac7-4348-b645-061fff14b70f button');\n",
       "      quickchartButtonEl.style.display =\n",
       "        google.colab.kernel.accessAllowed ? 'block' : 'none';\n",
       "    })();\n",
       "  </script>\n",
       "</div>\n",
       "\n",
       "    </div>\n",
       "  </div>\n"
      ],
      "text/plain": [
       "  species     island  bill_length_mm  bill_depth_mm  flipper_length_mm  \\\n",
       "0  Adelie  Torgersen            39.1           18.7              181.0   \n",
       "1  Adelie  Torgersen            39.5           17.4              186.0   \n",
       "2  Adelie  Torgersen            40.3           18.0              195.0   \n",
       "3  Adelie  Torgersen             NaN            NaN                NaN   \n",
       "4  Adelie  Torgersen            36.7           19.3              193.0   \n",
       "\n",
       "   body_mass_g     sex  \n",
       "0       3750.0    Male  \n",
       "1       3800.0  Female  \n",
       "2       3250.0  Female  \n",
       "3          NaN     NaN  \n",
       "4       3450.0  Female  "
      ]
     },
     "execution_count": 24,
     "metadata": {},
     "output_type": "execute_result"
    }
   ],
   "source": [
    "df_penguins.head()"
   ]
  },
  {
   "cell_type": "markdown",
   "id": "c841930d-e235-468a-809d-8427f8739076",
   "metadata": {
    "id": "c841930d-e235-468a-809d-8427f8739076"
   },
   "source": [
    "**14.** How can you return the unique species of penguins from df_penguins?  How many unique species are there?"
   ]
  },
  {
   "cell_type": "code",
   "execution_count": 33,
   "id": "130ed9bd-397b-4504-bf26-6b0dc716ba8b",
   "metadata": {
    "colab": {
     "base_uri": "https://localhost:8080/"
    },
    "id": "130ed9bd-397b-4504-bf26-6b0dc716ba8b",
    "outputId": "78c834c5-787b-4cf1-b3d0-4382a0136438"
   },
   "outputs": [
    {
     "name": "stdout",
     "output_type": "stream",
     "text": [
      "['Adelie' 'Chinstrap' 'Gentoo']\n",
      "3\n"
     ]
    }
   ],
   "source": [
    "a=df_penguins[\"species\"].unique()\n",
    "print(a)\n",
    "print(len(a))"
   ]
  },
  {
   "cell_type": "markdown",
   "id": "3912a3df-d931-4d74-a6fa-34ad11f83f94",
   "metadata": {
    "id": "3912a3df-d931-4d74-a6fa-34ad11f83f94"
   },
   "source": [
    "**15.** What function can we use to drop the rows that have missing data?"
   ]
  },
  {
   "cell_type": "code",
   "execution_count": 40,
   "id": "436cf3d3-db4a-42e3-81d3-9f2df28265f1",
   "metadata": {
    "id": "436cf3d3-db4a-42e3-81d3-9f2df28265f1"
   },
   "outputs": [],
   "source": [
    "df_penguins.dropna(axis=0, how='any', subset=None, inplace=True)\n",
    "\n"
   ]
  },
  {
   "cell_type": "markdown",
   "id": "f1feab44-7136-4736-a11c-ee005fdb0698",
   "metadata": {
    "id": "f1feab44-7136-4736-a11c-ee005fdb0698"
   },
   "source": [
    "**16.** By default, will this modify df_penguins or will it return a copy?"
   ]
  },
  {
   "cell_type": "markdown",
   "id": "8b0981bc-d8b1-42a5-9df6-e2723f61013c",
   "metadata": {
    "id": "8b0981bc-d8b1-42a5-9df6-e2723f61013c"
   },
   "source": [
    "Both can be done by setting inplace as True or Fale\n"
   ]
  },
  {
   "cell_type": "markdown",
   "id": "7f35c024-ac5c-43e0-8ea7-3e03953f644b",
   "metadata": {
    "id": "7f35c024-ac5c-43e0-8ea7-3e03953f644b"
   },
   "source": [
    "**17.** How can we override the default?"
   ]
  },
  {
   "cell_type": "markdown",
   "id": "3f62e100-1000-40df-b21b-6af919fbb945",
   "metadata": {
    "id": "3f62e100-1000-40df-b21b-6af919fbb945"
   },
   "source": []
  },
  {
   "cell_type": "markdown",
   "id": "a17f9c69-c8e2-4331-b9c7-c5be6a13a968",
   "metadata": {
    "id": "a17f9c69-c8e2-4331-b9c7-c5be6a13a968"
   },
   "source": [
    "**18.** Create a new DataFrame, df_penguins_full, with the missing data deleted."
   ]
  },
  {
   "cell_type": "code",
   "execution_count": 47,
   "id": "f160094c-ba0c-4fe1-96f0-d6b23e8162c9",
   "metadata": {
    "colab": {
     "base_uri": "https://localhost:8080/"
    },
    "id": "f160094c-ba0c-4fe1-96f0-d6b23e8162c9",
    "outputId": "6ab7b413-8b47-49a5-dc8e-7e1abc66bb15"
   },
   "outputs": [
    {
     "name": "stdout",
     "output_type": "stream",
     "text": [
      "  species     island  bill_length_mm  bill_depth_mm  flipper_length_mm  \\\n",
      "0  Adelie  Torgersen            39.1           18.7              181.0   \n",
      "1  Adelie  Torgersen            39.5           17.4              186.0   \n",
      "2  Adelie  Torgersen            40.3           18.0              195.0   \n",
      "4  Adelie  Torgersen            36.7           19.3              193.0   \n",
      "5  Adelie  Torgersen            39.3           20.6              190.0   \n",
      "\n",
      "   body_mass_g     sex  \n",
      "0       3750.0    Male  \n",
      "1       3800.0  Female  \n",
      "2       3250.0  Female  \n",
      "4       3450.0  Female  \n",
      "5       3650.0    Male  \n"
     ]
    }
   ],
   "source": [
    "arr=df_penguins_full=df_penguins.dropna(axis=0, how='any', subset=None, inplace=False)\n",
    "# print(arr.head())"
   ]
  },
  {
   "cell_type": "markdown",
   "id": "c34afa01-c0c4-40fa-b3a6-3b7c6abc58e1",
   "metadata": {
    "id": "c34afa01-c0c4-40fa-b3a6-3b7c6abc58e1"
   },
   "source": [
    "**19.** What is the average bill length of a penguin, in millimeters, in this (df_full) data set?"
   ]
  },
  {
   "cell_type": "code",
   "execution_count": 48,
   "id": "6012e669-3c97-4949-be33-3e44daf9534a",
   "metadata": {
    "colab": {
     "base_uri": "https://localhost:8080/"
    },
    "id": "6012e669-3c97-4949-be33-3e44daf9534a",
    "outputId": "447d6a36-3c0e-4efc-bf10-94106b9a33a1"
   },
   "outputs": [
    {
     "data": {
      "text/plain": [
       "43.99279279279279"
      ]
     },
     "execution_count": 48,
     "metadata": {},
     "output_type": "execute_result"
    }
   ],
   "source": [
    "df_penguins_full['bill_length_mm'].mean()"
   ]
  },
  {
   "cell_type": "markdown",
   "id": "38076367-ae05-4567-8963-12b5e0d77214",
   "metadata": {
    "id": "38076367-ae05-4567-8963-12b5e0d77214"
   },
   "source": [
    "**20.** Which of the following is most strongly correlated with bill length?  a) Body mass?  b) Flipper length?  c) Bill depth?  Show how you arrived at the answer."
   ]
  },
  {
   "cell_type": "markdown",
   "id": "2edbbf08-8f1d-40ea-b137-cdcdbfe02787",
   "metadata": {
    "id": "2edbbf08-8f1d-40ea-b137-cdcdbfe02787"
   },
   "source": []
  },
  {
   "cell_type": "code",
   "execution_count": 81,
   "id": "93840bc0-eda0-48fd-b14d-4405a484c547",
   "metadata": {
    "colab": {
     "base_uri": "https://localhost:8080/",
     "height": 175
    },
    "id": "93840bc0-eda0-48fd-b14d-4405a484c547",
    "outputId": "ba688c32-392f-4c57-8488-0b0816a8dd11"
   },
   "outputs": [
    {
     "data": {
      "application/vnd.google.colaboratory.intrinsic+json": {
       "summary": "{\n  \"name\": \"df_penguins_full\",\n  \"rows\": 4,\n  \"fields\": [\n    {\n      \"column\": \"bill_length_mm\",\n      \"properties\": {\n        \"dtype\": \"number\",\n        \"std\": 0.5203481666647599,\n        \"min\": -0.22862563591303017,\n        \"max\": 1.0,\n        \"num_unique_values\": 4,\n        \"samples\": [\n          -0.22862563591303017,\n          0.5894511101769501,\n          1.0\n        ],\n        \"semantic_type\": \"\",\n        \"description\": \"\"\n      }\n    },\n    {\n      \"column\": \"bill_depth_mm\",\n      \"properties\": {\n        \"dtype\": \"number\",\n        \"std\": 0.7279034909476336,\n        \"min\": -0.5777916963366738,\n        \"max\": 1.0,\n        \"num_unique_values\": 4,\n        \"samples\": [\n          1.0,\n          -0.4720156601951401,\n          -0.22862563591303017\n        ],\n        \"semantic_type\": \"\",\n        \"description\": \"\"\n      }\n    },\n    {\n      \"column\": \"flipper_length_mm\",\n      \"properties\": {\n        \"dtype\": \"number\",\n        \"std\": 0.7242278204887708,\n        \"min\": -0.5777916963366738,\n        \"max\": 1.0,\n        \"num_unique_values\": 4,\n        \"samples\": [\n          -0.5777916963366738,\n          0.8729788985653616,\n          0.6530956386670871\n        ],\n        \"semantic_type\": \"\",\n        \"description\": \"\"\n      }\n    },\n    {\n      \"column\": \"body_mass_g\",\n      \"properties\": {\n        \"dtype\": \"number\",\n        \"std\": 0.6688064573983192,\n        \"min\": -0.4720156601951401,\n        \"max\": 1.0,\n        \"num_unique_values\": 4,\n        \"samples\": [\n          -0.4720156601951401,\n          1.0,\n          0.5894511101769501\n        ],\n        \"semantic_type\": \"\",\n        \"description\": \"\"\n      }\n    }\n  ]\n}",
       "type": "dataframe"
      },
      "text/html": [
       "\n",
       "  <div id=\"df-4104433d-a8cf-473a-859f-65e7d1d5c50c\" class=\"colab-df-container\">\n",
       "    <div>\n",
       "<style scoped>\n",
       "    .dataframe tbody tr th:only-of-type {\n",
       "        vertical-align: middle;\n",
       "    }\n",
       "\n",
       "    .dataframe tbody tr th {\n",
       "        vertical-align: top;\n",
       "    }\n",
       "\n",
       "    .dataframe thead th {\n",
       "        text-align: right;\n",
       "    }\n",
       "</style>\n",
       "<table border=\"1\" class=\"dataframe\">\n",
       "  <thead>\n",
       "    <tr style=\"text-align: right;\">\n",
       "      <th></th>\n",
       "      <th>bill_length_mm</th>\n",
       "      <th>bill_depth_mm</th>\n",
       "      <th>flipper_length_mm</th>\n",
       "      <th>body_mass_g</th>\n",
       "    </tr>\n",
       "  </thead>\n",
       "  <tbody>\n",
       "    <tr>\n",
       "      <th>bill_length_mm</th>\n",
       "      <td>1.000000</td>\n",
       "      <td>-0.228626</td>\n",
       "      <td>0.653096</td>\n",
       "      <td>0.589451</td>\n",
       "    </tr>\n",
       "    <tr>\n",
       "      <th>bill_depth_mm</th>\n",
       "      <td>-0.228626</td>\n",
       "      <td>1.000000</td>\n",
       "      <td>-0.577792</td>\n",
       "      <td>-0.472016</td>\n",
       "    </tr>\n",
       "    <tr>\n",
       "      <th>flipper_length_mm</th>\n",
       "      <td>0.653096</td>\n",
       "      <td>-0.577792</td>\n",
       "      <td>1.000000</td>\n",
       "      <td>0.872979</td>\n",
       "    </tr>\n",
       "    <tr>\n",
       "      <th>body_mass_g</th>\n",
       "      <td>0.589451</td>\n",
       "      <td>-0.472016</td>\n",
       "      <td>0.872979</td>\n",
       "      <td>1.000000</td>\n",
       "    </tr>\n",
       "  </tbody>\n",
       "</table>\n",
       "</div>\n",
       "    <div class=\"colab-df-buttons\">\n",
       "\n",
       "  <div class=\"colab-df-container\">\n",
       "    <button class=\"colab-df-convert\" onclick=\"convertToInteractive('df-4104433d-a8cf-473a-859f-65e7d1d5c50c')\"\n",
       "            title=\"Convert this dataframe to an interactive table.\"\n",
       "            style=\"display:none;\">\n",
       "\n",
       "  <svg xmlns=\"http://www.w3.org/2000/svg\" height=\"24px\" viewBox=\"0 -960 960 960\">\n",
       "    <path d=\"M120-120v-720h720v720H120Zm60-500h600v-160H180v160Zm220 220h160v-160H400v160Zm0 220h160v-160H400v160ZM180-400h160v-160H180v160Zm440 0h160v-160H620v160ZM180-180h160v-160H180v160Zm440 0h160v-160H620v160Z\"/>\n",
       "  </svg>\n",
       "    </button>\n",
       "\n",
       "  <style>\n",
       "    .colab-df-container {\n",
       "      display:flex;\n",
       "      gap: 12px;\n",
       "    }\n",
       "\n",
       "    .colab-df-convert {\n",
       "      background-color: #E8F0FE;\n",
       "      border: none;\n",
       "      border-radius: 50%;\n",
       "      cursor: pointer;\n",
       "      display: none;\n",
       "      fill: #1967D2;\n",
       "      height: 32px;\n",
       "      padding: 0 0 0 0;\n",
       "      width: 32px;\n",
       "    }\n",
       "\n",
       "    .colab-df-convert:hover {\n",
       "      background-color: #E2EBFA;\n",
       "      box-shadow: 0px 1px 2px rgba(60, 64, 67, 0.3), 0px 1px 3px 1px rgba(60, 64, 67, 0.15);\n",
       "      fill: #174EA6;\n",
       "    }\n",
       "\n",
       "    .colab-df-buttons div {\n",
       "      margin-bottom: 4px;\n",
       "    }\n",
       "\n",
       "    [theme=dark] .colab-df-convert {\n",
       "      background-color: #3B4455;\n",
       "      fill: #D2E3FC;\n",
       "    }\n",
       "\n",
       "    [theme=dark] .colab-df-convert:hover {\n",
       "      background-color: #434B5C;\n",
       "      box-shadow: 0px 1px 3px 1px rgba(0, 0, 0, 0.15);\n",
       "      filter: drop-shadow(0px 1px 2px rgba(0, 0, 0, 0.3));\n",
       "      fill: #FFFFFF;\n",
       "    }\n",
       "  </style>\n",
       "\n",
       "    <script>\n",
       "      const buttonEl =\n",
       "        document.querySelector('#df-4104433d-a8cf-473a-859f-65e7d1d5c50c button.colab-df-convert');\n",
       "      buttonEl.style.display =\n",
       "        google.colab.kernel.accessAllowed ? 'block' : 'none';\n",
       "\n",
       "      async function convertToInteractive(key) {\n",
       "        const element = document.querySelector('#df-4104433d-a8cf-473a-859f-65e7d1d5c50c');\n",
       "        const dataTable =\n",
       "          await google.colab.kernel.invokeFunction('convertToInteractive',\n",
       "                                                    [key], {});\n",
       "        if (!dataTable) return;\n",
       "\n",
       "        const docLinkHtml = 'Like what you see? Visit the ' +\n",
       "          '<a target=\"_blank\" href=https://colab.research.google.com/notebooks/data_table.ipynb>data table notebook</a>'\n",
       "          + ' to learn more about interactive tables.';\n",
       "        element.innerHTML = '';\n",
       "        dataTable['output_type'] = 'display_data';\n",
       "        await google.colab.output.renderOutput(dataTable, element);\n",
       "        const docLink = document.createElement('div');\n",
       "        docLink.innerHTML = docLinkHtml;\n",
       "        element.appendChild(docLink);\n",
       "      }\n",
       "    </script>\n",
       "  </div>\n",
       "\n",
       "\n",
       "<div id=\"df-e962ddf7-fc4e-4790-bf53-be69bf83f110\">\n",
       "  <button class=\"colab-df-quickchart\" onclick=\"quickchart('df-e962ddf7-fc4e-4790-bf53-be69bf83f110')\"\n",
       "            title=\"Suggest charts\"\n",
       "            style=\"display:none;\">\n",
       "\n",
       "<svg xmlns=\"http://www.w3.org/2000/svg\" height=\"24px\"viewBox=\"0 0 24 24\"\n",
       "     width=\"24px\">\n",
       "    <g>\n",
       "        <path d=\"M19 3H5c-1.1 0-2 .9-2 2v14c0 1.1.9 2 2 2h14c1.1 0 2-.9 2-2V5c0-1.1-.9-2-2-2zM9 17H7v-7h2v7zm4 0h-2V7h2v10zm4 0h-2v-4h2v4z\"/>\n",
       "    </g>\n",
       "</svg>\n",
       "  </button>\n",
       "\n",
       "<style>\n",
       "  .colab-df-quickchart {\n",
       "      --bg-color: #E8F0FE;\n",
       "      --fill-color: #1967D2;\n",
       "      --hover-bg-color: #E2EBFA;\n",
       "      --hover-fill-color: #174EA6;\n",
       "      --disabled-fill-color: #AAA;\n",
       "      --disabled-bg-color: #DDD;\n",
       "  }\n",
       "\n",
       "  [theme=dark] .colab-df-quickchart {\n",
       "      --bg-color: #3B4455;\n",
       "      --fill-color: #D2E3FC;\n",
       "      --hover-bg-color: #434B5C;\n",
       "      --hover-fill-color: #FFFFFF;\n",
       "      --disabled-bg-color: #3B4455;\n",
       "      --disabled-fill-color: #666;\n",
       "  }\n",
       "\n",
       "  .colab-df-quickchart {\n",
       "    background-color: var(--bg-color);\n",
       "    border: none;\n",
       "    border-radius: 50%;\n",
       "    cursor: pointer;\n",
       "    display: none;\n",
       "    fill: var(--fill-color);\n",
       "    height: 32px;\n",
       "    padding: 0;\n",
       "    width: 32px;\n",
       "  }\n",
       "\n",
       "  .colab-df-quickchart:hover {\n",
       "    background-color: var(--hover-bg-color);\n",
       "    box-shadow: 0 1px 2px rgba(60, 64, 67, 0.3), 0 1px 3px 1px rgba(60, 64, 67, 0.15);\n",
       "    fill: var(--button-hover-fill-color);\n",
       "  }\n",
       "\n",
       "  .colab-df-quickchart-complete:disabled,\n",
       "  .colab-df-quickchart-complete:disabled:hover {\n",
       "    background-color: var(--disabled-bg-color);\n",
       "    fill: var(--disabled-fill-color);\n",
       "    box-shadow: none;\n",
       "  }\n",
       "\n",
       "  .colab-df-spinner {\n",
       "    border: 2px solid var(--fill-color);\n",
       "    border-color: transparent;\n",
       "    border-bottom-color: var(--fill-color);\n",
       "    animation:\n",
       "      spin 1s steps(1) infinite;\n",
       "  }\n",
       "\n",
       "  @keyframes spin {\n",
       "    0% {\n",
       "      border-color: transparent;\n",
       "      border-bottom-color: var(--fill-color);\n",
       "      border-left-color: var(--fill-color);\n",
       "    }\n",
       "    20% {\n",
       "      border-color: transparent;\n",
       "      border-left-color: var(--fill-color);\n",
       "      border-top-color: var(--fill-color);\n",
       "    }\n",
       "    30% {\n",
       "      border-color: transparent;\n",
       "      border-left-color: var(--fill-color);\n",
       "      border-top-color: var(--fill-color);\n",
       "      border-right-color: var(--fill-color);\n",
       "    }\n",
       "    40% {\n",
       "      border-color: transparent;\n",
       "      border-right-color: var(--fill-color);\n",
       "      border-top-color: var(--fill-color);\n",
       "    }\n",
       "    60% {\n",
       "      border-color: transparent;\n",
       "      border-right-color: var(--fill-color);\n",
       "    }\n",
       "    80% {\n",
       "      border-color: transparent;\n",
       "      border-right-color: var(--fill-color);\n",
       "      border-bottom-color: var(--fill-color);\n",
       "    }\n",
       "    90% {\n",
       "      border-color: transparent;\n",
       "      border-bottom-color: var(--fill-color);\n",
       "    }\n",
       "  }\n",
       "</style>\n",
       "\n",
       "  <script>\n",
       "    async function quickchart(key) {\n",
       "      const quickchartButtonEl =\n",
       "        document.querySelector('#' + key + ' button');\n",
       "      quickchartButtonEl.disabled = true;  // To prevent multiple clicks.\n",
       "      quickchartButtonEl.classList.add('colab-df-spinner');\n",
       "      try {\n",
       "        const charts = await google.colab.kernel.invokeFunction(\n",
       "            'suggestCharts', [key], {});\n",
       "      } catch (error) {\n",
       "        console.error('Error during call to suggestCharts:', error);\n",
       "      }\n",
       "      quickchartButtonEl.classList.remove('colab-df-spinner');\n",
       "      quickchartButtonEl.classList.add('colab-df-quickchart-complete');\n",
       "    }\n",
       "    (() => {\n",
       "      let quickchartButtonEl =\n",
       "        document.querySelector('#df-e962ddf7-fc4e-4790-bf53-be69bf83f110 button');\n",
       "      quickchartButtonEl.style.display =\n",
       "        google.colab.kernel.accessAllowed ? 'block' : 'none';\n",
       "    })();\n",
       "  </script>\n",
       "</div>\n",
       "\n",
       "    </div>\n",
       "  </div>\n"
      ],
      "text/plain": [
       "                   bill_length_mm  bill_depth_mm  flipper_length_mm  \\\n",
       "bill_length_mm           1.000000      -0.228626           0.653096   \n",
       "bill_depth_mm           -0.228626       1.000000          -0.577792   \n",
       "flipper_length_mm        0.653096      -0.577792           1.000000   \n",
       "body_mass_g              0.589451      -0.472016           0.872979   \n",
       "\n",
       "                   body_mass_g  \n",
       "bill_length_mm        0.589451  \n",
       "bill_depth_mm        -0.472016  \n",
       "flipper_length_mm     0.872979  \n",
       "body_mass_g           1.000000  "
      ]
     },
     "execution_count": 81,
     "metadata": {},
     "output_type": "execute_result"
    }
   ],
   "source": [
    "df_penguins_full.corr(numeric_only=True)"
   ]
  },
  {
   "cell_type": "markdown",
   "id": "538ed22f-f2c0-46df-bf41-6a27246e356d",
   "metadata": {
    "id": "538ed22f-f2c0-46df-bf41-6a27246e356d"
   },
   "source": [
    "**21.** How could you show the median flipper length, grouped by species?"
   ]
  },
  {
   "cell_type": "code",
   "execution_count": 75,
   "id": "a39321c8-1822-4078-91f9-6f9a36a3bab7",
   "metadata": {
    "colab": {
     "base_uri": "https://localhost:8080/",
     "height": 209
    },
    "id": "a39321c8-1822-4078-91f9-6f9a36a3bab7",
    "outputId": "5af18a50-0a75-4018-bc96-31535d866dce"
   },
   "outputs": [
    {
     "data": {
      "text/html": [
       "<div>\n",
       "<style scoped>\n",
       "    .dataframe tbody tr th:only-of-type {\n",
       "        vertical-align: middle;\n",
       "    }\n",
       "\n",
       "    .dataframe tbody tr th {\n",
       "        vertical-align: top;\n",
       "    }\n",
       "\n",
       "    .dataframe thead th {\n",
       "        text-align: right;\n",
       "    }\n",
       "</style>\n",
       "<table border=\"1\" class=\"dataframe\">\n",
       "  <thead>\n",
       "    <tr style=\"text-align: right;\">\n",
       "      <th></th>\n",
       "      <th>flipper_length_mm</th>\n",
       "    </tr>\n",
       "    <tr>\n",
       "      <th>species</th>\n",
       "      <th></th>\n",
       "    </tr>\n",
       "  </thead>\n",
       "  <tbody>\n",
       "    <tr>\n",
       "      <th>Adelie</th>\n",
       "      <td>190.0</td>\n",
       "    </tr>\n",
       "    <tr>\n",
       "      <th>Chinstrap</th>\n",
       "      <td>196.0</td>\n",
       "    </tr>\n",
       "    <tr>\n",
       "      <th>Gentoo</th>\n",
       "      <td>216.0</td>\n",
       "    </tr>\n",
       "  </tbody>\n",
       "</table>\n",
       "</div><br><label><b>dtype:</b> float64</label>"
      ],
      "text/plain": [
       "species\n",
       "Adelie       190.0\n",
       "Chinstrap    196.0\n",
       "Gentoo       216.0\n",
       "Name: flipper_length_mm, dtype: float64"
      ]
     },
     "execution_count": 75,
     "metadata": {},
     "output_type": "execute_result"
    }
   ],
   "source": [
    "df_penguins_full.groupby('species')['flipper_length_mm'].median()"
   ]
  },
  {
   "cell_type": "markdown",
   "id": "0d6ff0a0-f72b-47a0-a8c5-50cf2e9c8ef4",
   "metadata": {
    "id": "0d6ff0a0-f72b-47a0-a8c5-50cf2e9c8ef4"
   },
   "source": [
    "**22.** Which species has the longest flippers?"
   ]
  },
  {
   "cell_type": "markdown",
   "id": "20f5ec8f-1580-438d-8ddb-ad2eeabed1ba",
   "metadata": {
    "id": "20f5ec8f-1580-438d-8ddb-ad2eeabed1ba"
   },
   "source": [
    "Gentoo"
   ]
  },
  {
   "cell_type": "code",
   "execution_count": 78,
   "id": "62Lu9ye6d-Av",
   "metadata": {
    "colab": {
     "base_uri": "https://localhost:8080/",
     "height": 209
    },
    "id": "62Lu9ye6d-Av",
    "outputId": "26685c18-acff-427d-a9fa-82d89d0345cc"
   },
   "outputs": [
    {
     "data": {
      "text/html": [
       "<div>\n",
       "<style scoped>\n",
       "    .dataframe tbody tr th:only-of-type {\n",
       "        vertical-align: middle;\n",
       "    }\n",
       "\n",
       "    .dataframe tbody tr th {\n",
       "        vertical-align: top;\n",
       "    }\n",
       "\n",
       "    .dataframe thead th {\n",
       "        text-align: right;\n",
       "    }\n",
       "</style>\n",
       "<table border=\"1\" class=\"dataframe\">\n",
       "  <thead>\n",
       "    <tr style=\"text-align: right;\">\n",
       "      <th></th>\n",
       "      <th>flipper_length_mm</th>\n",
       "    </tr>\n",
       "    <tr>\n",
       "      <th>species</th>\n",
       "      <th></th>\n",
       "    </tr>\n",
       "  </thead>\n",
       "  <tbody>\n",
       "    <tr>\n",
       "      <th>Adelie</th>\n",
       "      <td>210.0</td>\n",
       "    </tr>\n",
       "    <tr>\n",
       "      <th>Chinstrap</th>\n",
       "      <td>212.0</td>\n",
       "    </tr>\n",
       "    <tr>\n",
       "      <th>Gentoo</th>\n",
       "      <td>231.0</td>\n",
       "    </tr>\n",
       "  </tbody>\n",
       "</table>\n",
       "</div><br><label><b>dtype:</b> float64</label>"
      ],
      "text/plain": [
       "species\n",
       "Adelie       210.0\n",
       "Chinstrap    212.0\n",
       "Gentoo       231.0\n",
       "Name: flipper_length_mm, dtype: float64"
      ]
     },
     "execution_count": 78,
     "metadata": {},
     "output_type": "execute_result"
    }
   ],
   "source": [
    "df_penguins_full.groupby('species')['flipper_length_mm'].max()"
   ]
  },
  {
   "cell_type": "markdown",
   "id": "f50dacfd-a59d-4763-b8bf-004a02d8f05f",
   "metadata": {
    "id": "f50dacfd-a59d-4763-b8bf-004a02d8f05f"
   },
   "source": [
    "**23.** Which two species have the most similar mean weight?  Show how you arrived at the answer."
   ]
  },
  {
   "cell_type": "markdown",
   "id": "be5582aa-447d-4645-85cd-072894fcbb82",
   "metadata": {
    "id": "be5582aa-447d-4645-85cd-072894fcbb82"
   },
   "source": [
    "Adelie and Chinstrap\n"
   ]
  },
  {
   "cell_type": "code",
   "execution_count": 76,
   "id": "c61f152b-d401-4c28-aea1-014d01100136",
   "metadata": {
    "colab": {
     "base_uri": "https://localhost:8080/",
     "height": 209
    },
    "id": "c61f152b-d401-4c28-aea1-014d01100136",
    "outputId": "69eb0107-5c19-4be0-ab0a-67bf7553db3e"
   },
   "outputs": [
    {
     "data": {
      "text/html": [
       "<div>\n",
       "<style scoped>\n",
       "    .dataframe tbody tr th:only-of-type {\n",
       "        vertical-align: middle;\n",
       "    }\n",
       "\n",
       "    .dataframe tbody tr th {\n",
       "        vertical-align: top;\n",
       "    }\n",
       "\n",
       "    .dataframe thead th {\n",
       "        text-align: right;\n",
       "    }\n",
       "</style>\n",
       "<table border=\"1\" class=\"dataframe\">\n",
       "  <thead>\n",
       "    <tr style=\"text-align: right;\">\n",
       "      <th></th>\n",
       "      <th>body_mass_g</th>\n",
       "    </tr>\n",
       "    <tr>\n",
       "      <th>species</th>\n",
       "      <th></th>\n",
       "    </tr>\n",
       "  </thead>\n",
       "  <tbody>\n",
       "    <tr>\n",
       "      <th>Adelie</th>\n",
       "      <td>3706.164384</td>\n",
       "    </tr>\n",
       "    <tr>\n",
       "      <th>Chinstrap</th>\n",
       "      <td>3733.088235</td>\n",
       "    </tr>\n",
       "    <tr>\n",
       "      <th>Gentoo</th>\n",
       "      <td>5092.436975</td>\n",
       "    </tr>\n",
       "  </tbody>\n",
       "</table>\n",
       "</div><br><label><b>dtype:</b> float64</label>"
      ],
      "text/plain": [
       "species\n",
       "Adelie       3706.164384\n",
       "Chinstrap    3733.088235\n",
       "Gentoo       5092.436975\n",
       "Name: body_mass_g, dtype: float64"
      ]
     },
     "execution_count": 76,
     "metadata": {},
     "output_type": "execute_result"
    }
   ],
   "source": [
    "df_penguins_full.groupby('species')['body_mass_g'].mean()"
   ]
  },
  {
   "cell_type": "markdown",
   "id": "ddca88e5-374f-4c8a-bf61-26b70a8b3a90",
   "metadata": {
    "id": "ddca88e5-374f-4c8a-bf61-26b70a8b3a90"
   },
   "source": [
    "**24.** How could you sort the rows by bill length?"
   ]
  },
  {
   "cell_type": "code",
   "execution_count": 51,
   "id": "4faabd67-0417-45ca-b907-7a170f4e9b71",
   "metadata": {
    "colab": {
     "base_uri": "https://localhost:8080/",
     "height": 423
    },
    "id": "4faabd67-0417-45ca-b907-7a170f4e9b71",
    "outputId": "a8d2bbf9-6a65-490f-f1a5-330b45245798"
   },
   "outputs": [
    {
     "data": {
      "application/vnd.google.colaboratory.intrinsic+json": {
       "summary": "{\n  \"name\": \"df_penguins_full\",\n  \"rows\": 333,\n  \"fields\": [\n    {\n      \"column\": \"species\",\n      \"properties\": {\n        \"dtype\": \"category\",\n        \"num_unique_values\": 3,\n        \"samples\": [\n          \"Adelie\",\n          \"Gentoo\",\n          \"Chinstrap\"\n        ],\n        \"semantic_type\": \"\",\n        \"description\": \"\"\n      }\n    },\n    {\n      \"column\": \"island\",\n      \"properties\": {\n        \"dtype\": \"category\",\n        \"num_unique_values\": 3,\n        \"samples\": [\n          \"Dream\",\n          \"Torgersen\",\n          \"Biscoe\"\n        ],\n        \"semantic_type\": \"\",\n        \"description\": \"\"\n      }\n    },\n    {\n      \"column\": \"bill_length_mm\",\n      \"properties\": {\n        \"dtype\": \"number\",\n        \"std\": 5.468668342647561,\n        \"min\": 32.1,\n        \"max\": 59.6,\n        \"num_unique_values\": 163,\n        \"samples\": [\n          50.4,\n          48.2,\n          50.0\n        ],\n        \"semantic_type\": \"\",\n        \"description\": \"\"\n      }\n    },\n    {\n      \"column\": \"bill_depth_mm\",\n      \"properties\": {\n        \"dtype\": \"number\",\n        \"std\": 1.9692354633199,\n        \"min\": 13.1,\n        \"max\": 21.5,\n        \"num_unique_values\": 79,\n        \"samples\": [\n          16.0,\n          15.5,\n          19.5\n        ],\n        \"semantic_type\": \"\",\n        \"description\": \"\"\n      }\n    },\n    {\n      \"column\": \"flipper_length_mm\",\n      \"properties\": {\n        \"dtype\": \"number\",\n        \"std\": 14.01576528828788,\n        \"min\": 172.0,\n        \"max\": 231.0,\n        \"num_unique_values\": 54,\n        \"samples\": [\n          180.0,\n          229.0,\n          224.0\n        ],\n        \"semantic_type\": \"\",\n        \"description\": \"\"\n      }\n    },\n    {\n      \"column\": \"body_mass_g\",\n      \"properties\": {\n        \"dtype\": \"number\",\n        \"std\": 805.2158019428965,\n        \"min\": 2700.0,\n        \"max\": 6300.0,\n        \"num_unique_values\": 93,\n        \"samples\": [\n          4650.0,\n          3900.0,\n          4775.0\n        ],\n        \"semantic_type\": \"\",\n        \"description\": \"\"\n      }\n    },\n    {\n      \"column\": \"sex\",\n      \"properties\": {\n        \"dtype\": \"category\",\n        \"num_unique_values\": 2,\n        \"samples\": [\n          \"Male\",\n          \"Female\"\n        ],\n        \"semantic_type\": \"\",\n        \"description\": \"\"\n      }\n    }\n  ]\n}",
       "type": "dataframe"
      },
      "text/html": [
       "\n",
       "  <div id=\"df-df8e3f31-2da5-4419-b2a9-16dca8642c79\" class=\"colab-df-container\">\n",
       "    <div>\n",
       "<style scoped>\n",
       "    .dataframe tbody tr th:only-of-type {\n",
       "        vertical-align: middle;\n",
       "    }\n",
       "\n",
       "    .dataframe tbody tr th {\n",
       "        vertical-align: top;\n",
       "    }\n",
       "\n",
       "    .dataframe thead th {\n",
       "        text-align: right;\n",
       "    }\n",
       "</style>\n",
       "<table border=\"1\" class=\"dataframe\">\n",
       "  <thead>\n",
       "    <tr style=\"text-align: right;\">\n",
       "      <th></th>\n",
       "      <th>species</th>\n",
       "      <th>island</th>\n",
       "      <th>bill_length_mm</th>\n",
       "      <th>bill_depth_mm</th>\n",
       "      <th>flipper_length_mm</th>\n",
       "      <th>body_mass_g</th>\n",
       "      <th>sex</th>\n",
       "    </tr>\n",
       "  </thead>\n",
       "  <tbody>\n",
       "    <tr>\n",
       "      <th>142</th>\n",
       "      <td>Adelie</td>\n",
       "      <td>Dream</td>\n",
       "      <td>32.1</td>\n",
       "      <td>15.5</td>\n",
       "      <td>188.0</td>\n",
       "      <td>3050.0</td>\n",
       "      <td>Female</td>\n",
       "    </tr>\n",
       "    <tr>\n",
       "      <th>98</th>\n",
       "      <td>Adelie</td>\n",
       "      <td>Dream</td>\n",
       "      <td>33.1</td>\n",
       "      <td>16.1</td>\n",
       "      <td>178.0</td>\n",
       "      <td>2900.0</td>\n",
       "      <td>Female</td>\n",
       "    </tr>\n",
       "    <tr>\n",
       "      <th>70</th>\n",
       "      <td>Adelie</td>\n",
       "      <td>Torgersen</td>\n",
       "      <td>33.5</td>\n",
       "      <td>19.0</td>\n",
       "      <td>190.0</td>\n",
       "      <td>3600.0</td>\n",
       "      <td>Female</td>\n",
       "    </tr>\n",
       "    <tr>\n",
       "      <th>92</th>\n",
       "      <td>Adelie</td>\n",
       "      <td>Dream</td>\n",
       "      <td>34.0</td>\n",
       "      <td>17.1</td>\n",
       "      <td>185.0</td>\n",
       "      <td>3400.0</td>\n",
       "      <td>Female</td>\n",
       "    </tr>\n",
       "    <tr>\n",
       "      <th>18</th>\n",
       "      <td>Adelie</td>\n",
       "      <td>Torgersen</td>\n",
       "      <td>34.4</td>\n",
       "      <td>18.4</td>\n",
       "      <td>184.0</td>\n",
       "      <td>3325.0</td>\n",
       "      <td>Female</td>\n",
       "    </tr>\n",
       "    <tr>\n",
       "      <th>...</th>\n",
       "      <td>...</td>\n",
       "      <td>...</td>\n",
       "      <td>...</td>\n",
       "      <td>...</td>\n",
       "      <td>...</td>\n",
       "      <td>...</td>\n",
       "      <td>...</td>\n",
       "    </tr>\n",
       "    <tr>\n",
       "      <th>335</th>\n",
       "      <td>Gentoo</td>\n",
       "      <td>Biscoe</td>\n",
       "      <td>55.1</td>\n",
       "      <td>16.0</td>\n",
       "      <td>230.0</td>\n",
       "      <td>5850.0</td>\n",
       "      <td>Male</td>\n",
       "    </tr>\n",
       "    <tr>\n",
       "      <th>215</th>\n",
       "      <td>Chinstrap</td>\n",
       "      <td>Dream</td>\n",
       "      <td>55.8</td>\n",
       "      <td>19.8</td>\n",
       "      <td>207.0</td>\n",
       "      <td>4000.0</td>\n",
       "      <td>Male</td>\n",
       "    </tr>\n",
       "    <tr>\n",
       "      <th>321</th>\n",
       "      <td>Gentoo</td>\n",
       "      <td>Biscoe</td>\n",
       "      <td>55.9</td>\n",
       "      <td>17.0</td>\n",
       "      <td>228.0</td>\n",
       "      <td>5600.0</td>\n",
       "      <td>Male</td>\n",
       "    </tr>\n",
       "    <tr>\n",
       "      <th>169</th>\n",
       "      <td>Chinstrap</td>\n",
       "      <td>Dream</td>\n",
       "      <td>58.0</td>\n",
       "      <td>17.8</td>\n",
       "      <td>181.0</td>\n",
       "      <td>3700.0</td>\n",
       "      <td>Female</td>\n",
       "    </tr>\n",
       "    <tr>\n",
       "      <th>253</th>\n",
       "      <td>Gentoo</td>\n",
       "      <td>Biscoe</td>\n",
       "      <td>59.6</td>\n",
       "      <td>17.0</td>\n",
       "      <td>230.0</td>\n",
       "      <td>6050.0</td>\n",
       "      <td>Male</td>\n",
       "    </tr>\n",
       "  </tbody>\n",
       "</table>\n",
       "<p>333 rows × 7 columns</p>\n",
       "</div>\n",
       "    <div class=\"colab-df-buttons\">\n",
       "\n",
       "  <div class=\"colab-df-container\">\n",
       "    <button class=\"colab-df-convert\" onclick=\"convertToInteractive('df-df8e3f31-2da5-4419-b2a9-16dca8642c79')\"\n",
       "            title=\"Convert this dataframe to an interactive table.\"\n",
       "            style=\"display:none;\">\n",
       "\n",
       "  <svg xmlns=\"http://www.w3.org/2000/svg\" height=\"24px\" viewBox=\"0 -960 960 960\">\n",
       "    <path d=\"M120-120v-720h720v720H120Zm60-500h600v-160H180v160Zm220 220h160v-160H400v160Zm0 220h160v-160H400v160ZM180-400h160v-160H180v160Zm440 0h160v-160H620v160ZM180-180h160v-160H180v160Zm440 0h160v-160H620v160Z\"/>\n",
       "  </svg>\n",
       "    </button>\n",
       "\n",
       "  <style>\n",
       "    .colab-df-container {\n",
       "      display:flex;\n",
       "      gap: 12px;\n",
       "    }\n",
       "\n",
       "    .colab-df-convert {\n",
       "      background-color: #E8F0FE;\n",
       "      border: none;\n",
       "      border-radius: 50%;\n",
       "      cursor: pointer;\n",
       "      display: none;\n",
       "      fill: #1967D2;\n",
       "      height: 32px;\n",
       "      padding: 0 0 0 0;\n",
       "      width: 32px;\n",
       "    }\n",
       "\n",
       "    .colab-df-convert:hover {\n",
       "      background-color: #E2EBFA;\n",
       "      box-shadow: 0px 1px 2px rgba(60, 64, 67, 0.3), 0px 1px 3px 1px rgba(60, 64, 67, 0.15);\n",
       "      fill: #174EA6;\n",
       "    }\n",
       "\n",
       "    .colab-df-buttons div {\n",
       "      margin-bottom: 4px;\n",
       "    }\n",
       "\n",
       "    [theme=dark] .colab-df-convert {\n",
       "      background-color: #3B4455;\n",
       "      fill: #D2E3FC;\n",
       "    }\n",
       "\n",
       "    [theme=dark] .colab-df-convert:hover {\n",
       "      background-color: #434B5C;\n",
       "      box-shadow: 0px 1px 3px 1px rgba(0, 0, 0, 0.15);\n",
       "      filter: drop-shadow(0px 1px 2px rgba(0, 0, 0, 0.3));\n",
       "      fill: #FFFFFF;\n",
       "    }\n",
       "  </style>\n",
       "\n",
       "    <script>\n",
       "      const buttonEl =\n",
       "        document.querySelector('#df-df8e3f31-2da5-4419-b2a9-16dca8642c79 button.colab-df-convert');\n",
       "      buttonEl.style.display =\n",
       "        google.colab.kernel.accessAllowed ? 'block' : 'none';\n",
       "\n",
       "      async function convertToInteractive(key) {\n",
       "        const element = document.querySelector('#df-df8e3f31-2da5-4419-b2a9-16dca8642c79');\n",
       "        const dataTable =\n",
       "          await google.colab.kernel.invokeFunction('convertToInteractive',\n",
       "                                                    [key], {});\n",
       "        if (!dataTable) return;\n",
       "\n",
       "        const docLinkHtml = 'Like what you see? Visit the ' +\n",
       "          '<a target=\"_blank\" href=https://colab.research.google.com/notebooks/data_table.ipynb>data table notebook</a>'\n",
       "          + ' to learn more about interactive tables.';\n",
       "        element.innerHTML = '';\n",
       "        dataTable['output_type'] = 'display_data';\n",
       "        await google.colab.output.renderOutput(dataTable, element);\n",
       "        const docLink = document.createElement('div');\n",
       "        docLink.innerHTML = docLinkHtml;\n",
       "        element.appendChild(docLink);\n",
       "      }\n",
       "    </script>\n",
       "  </div>\n",
       "\n",
       "\n",
       "<div id=\"df-194b2f97-5a90-4ea8-8d10-393d993c3a96\">\n",
       "  <button class=\"colab-df-quickchart\" onclick=\"quickchart('df-194b2f97-5a90-4ea8-8d10-393d993c3a96')\"\n",
       "            title=\"Suggest charts\"\n",
       "            style=\"display:none;\">\n",
       "\n",
       "<svg xmlns=\"http://www.w3.org/2000/svg\" height=\"24px\"viewBox=\"0 0 24 24\"\n",
       "     width=\"24px\">\n",
       "    <g>\n",
       "        <path d=\"M19 3H5c-1.1 0-2 .9-2 2v14c0 1.1.9 2 2 2h14c1.1 0 2-.9 2-2V5c0-1.1-.9-2-2-2zM9 17H7v-7h2v7zm4 0h-2V7h2v10zm4 0h-2v-4h2v4z\"/>\n",
       "    </g>\n",
       "</svg>\n",
       "  </button>\n",
       "\n",
       "<style>\n",
       "  .colab-df-quickchart {\n",
       "      --bg-color: #E8F0FE;\n",
       "      --fill-color: #1967D2;\n",
       "      --hover-bg-color: #E2EBFA;\n",
       "      --hover-fill-color: #174EA6;\n",
       "      --disabled-fill-color: #AAA;\n",
       "      --disabled-bg-color: #DDD;\n",
       "  }\n",
       "\n",
       "  [theme=dark] .colab-df-quickchart {\n",
       "      --bg-color: #3B4455;\n",
       "      --fill-color: #D2E3FC;\n",
       "      --hover-bg-color: #434B5C;\n",
       "      --hover-fill-color: #FFFFFF;\n",
       "      --disabled-bg-color: #3B4455;\n",
       "      --disabled-fill-color: #666;\n",
       "  }\n",
       "\n",
       "  .colab-df-quickchart {\n",
       "    background-color: var(--bg-color);\n",
       "    border: none;\n",
       "    border-radius: 50%;\n",
       "    cursor: pointer;\n",
       "    display: none;\n",
       "    fill: var(--fill-color);\n",
       "    height: 32px;\n",
       "    padding: 0;\n",
       "    width: 32px;\n",
       "  }\n",
       "\n",
       "  .colab-df-quickchart:hover {\n",
       "    background-color: var(--hover-bg-color);\n",
       "    box-shadow: 0 1px 2px rgba(60, 64, 67, 0.3), 0 1px 3px 1px rgba(60, 64, 67, 0.15);\n",
       "    fill: var(--button-hover-fill-color);\n",
       "  }\n",
       "\n",
       "  .colab-df-quickchart-complete:disabled,\n",
       "  .colab-df-quickchart-complete:disabled:hover {\n",
       "    background-color: var(--disabled-bg-color);\n",
       "    fill: var(--disabled-fill-color);\n",
       "    box-shadow: none;\n",
       "  }\n",
       "\n",
       "  .colab-df-spinner {\n",
       "    border: 2px solid var(--fill-color);\n",
       "    border-color: transparent;\n",
       "    border-bottom-color: var(--fill-color);\n",
       "    animation:\n",
       "      spin 1s steps(1) infinite;\n",
       "  }\n",
       "\n",
       "  @keyframes spin {\n",
       "    0% {\n",
       "      border-color: transparent;\n",
       "      border-bottom-color: var(--fill-color);\n",
       "      border-left-color: var(--fill-color);\n",
       "    }\n",
       "    20% {\n",
       "      border-color: transparent;\n",
       "      border-left-color: var(--fill-color);\n",
       "      border-top-color: var(--fill-color);\n",
       "    }\n",
       "    30% {\n",
       "      border-color: transparent;\n",
       "      border-left-color: var(--fill-color);\n",
       "      border-top-color: var(--fill-color);\n",
       "      border-right-color: var(--fill-color);\n",
       "    }\n",
       "    40% {\n",
       "      border-color: transparent;\n",
       "      border-right-color: var(--fill-color);\n",
       "      border-top-color: var(--fill-color);\n",
       "    }\n",
       "    60% {\n",
       "      border-color: transparent;\n",
       "      border-right-color: var(--fill-color);\n",
       "    }\n",
       "    80% {\n",
       "      border-color: transparent;\n",
       "      border-right-color: var(--fill-color);\n",
       "      border-bottom-color: var(--fill-color);\n",
       "    }\n",
       "    90% {\n",
       "      border-color: transparent;\n",
       "      border-bottom-color: var(--fill-color);\n",
       "    }\n",
       "  }\n",
       "</style>\n",
       "\n",
       "  <script>\n",
       "    async function quickchart(key) {\n",
       "      const quickchartButtonEl =\n",
       "        document.querySelector('#' + key + ' button');\n",
       "      quickchartButtonEl.disabled = true;  // To prevent multiple clicks.\n",
       "      quickchartButtonEl.classList.add('colab-df-spinner');\n",
       "      try {\n",
       "        const charts = await google.colab.kernel.invokeFunction(\n",
       "            'suggestCharts', [key], {});\n",
       "      } catch (error) {\n",
       "        console.error('Error during call to suggestCharts:', error);\n",
       "      }\n",
       "      quickchartButtonEl.classList.remove('colab-df-spinner');\n",
       "      quickchartButtonEl.classList.add('colab-df-quickchart-complete');\n",
       "    }\n",
       "    (() => {\n",
       "      let quickchartButtonEl =\n",
       "        document.querySelector('#df-194b2f97-5a90-4ea8-8d10-393d993c3a96 button');\n",
       "      quickchartButtonEl.style.display =\n",
       "        google.colab.kernel.accessAllowed ? 'block' : 'none';\n",
       "    })();\n",
       "  </script>\n",
       "</div>\n",
       "\n",
       "    </div>\n",
       "  </div>\n"
      ],
      "text/plain": [
       "       species     island  bill_length_mm  bill_depth_mm  flipper_length_mm  \\\n",
       "142     Adelie      Dream            32.1           15.5              188.0   \n",
       "98      Adelie      Dream            33.1           16.1              178.0   \n",
       "70      Adelie  Torgersen            33.5           19.0              190.0   \n",
       "92      Adelie      Dream            34.0           17.1              185.0   \n",
       "18      Adelie  Torgersen            34.4           18.4              184.0   \n",
       "..         ...        ...             ...            ...                ...   \n",
       "335     Gentoo     Biscoe            55.1           16.0              230.0   \n",
       "215  Chinstrap      Dream            55.8           19.8              207.0   \n",
       "321     Gentoo     Biscoe            55.9           17.0              228.0   \n",
       "169  Chinstrap      Dream            58.0           17.8              181.0   \n",
       "253     Gentoo     Biscoe            59.6           17.0              230.0   \n",
       "\n",
       "     body_mass_g     sex  \n",
       "142       3050.0  Female  \n",
       "98        2900.0  Female  \n",
       "70        3600.0  Female  \n",
       "92        3400.0  Female  \n",
       "18        3325.0  Female  \n",
       "..           ...     ...  \n",
       "335       5850.0    Male  \n",
       "215       4000.0    Male  \n",
       "321       5600.0    Male  \n",
       "169       3700.0  Female  \n",
       "253       6050.0    Male  \n",
       "\n",
       "[333 rows x 7 columns]"
      ]
     },
     "execution_count": 51,
     "metadata": {},
     "output_type": "execute_result"
    }
   ],
   "source": [
    "df_penguins_full.sort_values(by=['bill_length_mm'])"
   ]
  },
  {
   "cell_type": "markdown",
   "id": "56d12fe3-805d-4f79-bf83-e515b5070229",
   "metadata": {
    "id": "56d12fe3-805d-4f79-bf83-e515b5070229"
   },
   "source": [
    "**25.** How could you run the same sort in descending order?"
   ]
  },
  {
   "cell_type": "code",
   "execution_count": 52,
   "id": "02544f08-974e-463c-a2da-ac0b3ba3ff0d",
   "metadata": {
    "colab": {
     "base_uri": "https://localhost:8080/",
     "height": 423
    },
    "id": "02544f08-974e-463c-a2da-ac0b3ba3ff0d",
    "outputId": "c86f84e9-fb48-4d80-d104-dc31df7c828e"
   },
   "outputs": [
    {
     "data": {
      "application/vnd.google.colaboratory.intrinsic+json": {
       "summary": "{\n  \"name\": \"df_penguins_full\",\n  \"rows\": 333,\n  \"fields\": [\n    {\n      \"column\": \"species\",\n      \"properties\": {\n        \"dtype\": \"category\",\n        \"num_unique_values\": 3,\n        \"samples\": [\n          \"Gentoo\",\n          \"Chinstrap\",\n          \"Adelie\"\n        ],\n        \"semantic_type\": \"\",\n        \"description\": \"\"\n      }\n    },\n    {\n      \"column\": \"island\",\n      \"properties\": {\n        \"dtype\": \"category\",\n        \"num_unique_values\": 3,\n        \"samples\": [\n          \"Biscoe\",\n          \"Dream\",\n          \"Torgersen\"\n        ],\n        \"semantic_type\": \"\",\n        \"description\": \"\"\n      }\n    },\n    {\n      \"column\": \"bill_length_mm\",\n      \"properties\": {\n        \"dtype\": \"number\",\n        \"std\": 5.468668342647561,\n        \"min\": 32.1,\n        \"max\": 59.6,\n        \"num_unique_values\": 163,\n        \"samples\": [\n          37.5,\n          39.8,\n          37.9\n        ],\n        \"semantic_type\": \"\",\n        \"description\": \"\"\n      }\n    },\n    {\n      \"column\": \"bill_depth_mm\",\n      \"properties\": {\n        \"dtype\": \"number\",\n        \"std\": 1.9692354633199007,\n        \"min\": 13.1,\n        \"max\": 21.5,\n        \"num_unique_values\": 79,\n        \"samples\": [\n          15.2,\n          17.0,\n          16.5\n        ],\n        \"semantic_type\": \"\",\n        \"description\": \"\"\n      }\n    },\n    {\n      \"column\": \"flipper_length_mm\",\n      \"properties\": {\n        \"dtype\": \"number\",\n        \"std\": 14.015765288287882,\n        \"min\": 172.0,\n        \"max\": 231.0,\n        \"num_unique_values\": 54,\n        \"samples\": [\n          203.0,\n          183.0,\n          184.0\n        ],\n        \"semantic_type\": \"\",\n        \"description\": \"\"\n      }\n    },\n    {\n      \"column\": \"body_mass_g\",\n      \"properties\": {\n        \"dtype\": \"number\",\n        \"std\": 805.2158019428964,\n        \"min\": 2700.0,\n        \"max\": 6300.0,\n        \"num_unique_values\": 93,\n        \"samples\": [\n          3600.0,\n          5300.0,\n          4725.0\n        ],\n        \"semantic_type\": \"\",\n        \"description\": \"\"\n      }\n    },\n    {\n      \"column\": \"sex\",\n      \"properties\": {\n        \"dtype\": \"category\",\n        \"num_unique_values\": 2,\n        \"samples\": [\n          \"Female\",\n          \"Male\"\n        ],\n        \"semantic_type\": \"\",\n        \"description\": \"\"\n      }\n    }\n  ]\n}",
       "type": "dataframe"
      },
      "text/html": [
       "\n",
       "  <div id=\"df-829b4c1f-32bb-4bf2-a2ea-577cdb1a6afe\" class=\"colab-df-container\">\n",
       "    <div>\n",
       "<style scoped>\n",
       "    .dataframe tbody tr th:only-of-type {\n",
       "        vertical-align: middle;\n",
       "    }\n",
       "\n",
       "    .dataframe tbody tr th {\n",
       "        vertical-align: top;\n",
       "    }\n",
       "\n",
       "    .dataframe thead th {\n",
       "        text-align: right;\n",
       "    }\n",
       "</style>\n",
       "<table border=\"1\" class=\"dataframe\">\n",
       "  <thead>\n",
       "    <tr style=\"text-align: right;\">\n",
       "      <th></th>\n",
       "      <th>species</th>\n",
       "      <th>island</th>\n",
       "      <th>bill_length_mm</th>\n",
       "      <th>bill_depth_mm</th>\n",
       "      <th>flipper_length_mm</th>\n",
       "      <th>body_mass_g</th>\n",
       "      <th>sex</th>\n",
       "    </tr>\n",
       "  </thead>\n",
       "  <tbody>\n",
       "    <tr>\n",
       "      <th>253</th>\n",
       "      <td>Gentoo</td>\n",
       "      <td>Biscoe</td>\n",
       "      <td>59.6</td>\n",
       "      <td>17.0</td>\n",
       "      <td>230.0</td>\n",
       "      <td>6050.0</td>\n",
       "      <td>Male</td>\n",
       "    </tr>\n",
       "    <tr>\n",
       "      <th>169</th>\n",
       "      <td>Chinstrap</td>\n",
       "      <td>Dream</td>\n",
       "      <td>58.0</td>\n",
       "      <td>17.8</td>\n",
       "      <td>181.0</td>\n",
       "      <td>3700.0</td>\n",
       "      <td>Female</td>\n",
       "    </tr>\n",
       "    <tr>\n",
       "      <th>321</th>\n",
       "      <td>Gentoo</td>\n",
       "      <td>Biscoe</td>\n",
       "      <td>55.9</td>\n",
       "      <td>17.0</td>\n",
       "      <td>228.0</td>\n",
       "      <td>5600.0</td>\n",
       "      <td>Male</td>\n",
       "    </tr>\n",
       "    <tr>\n",
       "      <th>215</th>\n",
       "      <td>Chinstrap</td>\n",
       "      <td>Dream</td>\n",
       "      <td>55.8</td>\n",
       "      <td>19.8</td>\n",
       "      <td>207.0</td>\n",
       "      <td>4000.0</td>\n",
       "      <td>Male</td>\n",
       "    </tr>\n",
       "    <tr>\n",
       "      <th>335</th>\n",
       "      <td>Gentoo</td>\n",
       "      <td>Biscoe</td>\n",
       "      <td>55.1</td>\n",
       "      <td>16.0</td>\n",
       "      <td>230.0</td>\n",
       "      <td>5850.0</td>\n",
       "      <td>Male</td>\n",
       "    </tr>\n",
       "    <tr>\n",
       "      <th>...</th>\n",
       "      <td>...</td>\n",
       "      <td>...</td>\n",
       "      <td>...</td>\n",
       "      <td>...</td>\n",
       "      <td>...</td>\n",
       "      <td>...</td>\n",
       "      <td>...</td>\n",
       "    </tr>\n",
       "    <tr>\n",
       "      <th>18</th>\n",
       "      <td>Adelie</td>\n",
       "      <td>Torgersen</td>\n",
       "      <td>34.4</td>\n",
       "      <td>18.4</td>\n",
       "      <td>184.0</td>\n",
       "      <td>3325.0</td>\n",
       "      <td>Female</td>\n",
       "    </tr>\n",
       "    <tr>\n",
       "      <th>92</th>\n",
       "      <td>Adelie</td>\n",
       "      <td>Dream</td>\n",
       "      <td>34.0</td>\n",
       "      <td>17.1</td>\n",
       "      <td>185.0</td>\n",
       "      <td>3400.0</td>\n",
       "      <td>Female</td>\n",
       "    </tr>\n",
       "    <tr>\n",
       "      <th>70</th>\n",
       "      <td>Adelie</td>\n",
       "      <td>Torgersen</td>\n",
       "      <td>33.5</td>\n",
       "      <td>19.0</td>\n",
       "      <td>190.0</td>\n",
       "      <td>3600.0</td>\n",
       "      <td>Female</td>\n",
       "    </tr>\n",
       "    <tr>\n",
       "      <th>98</th>\n",
       "      <td>Adelie</td>\n",
       "      <td>Dream</td>\n",
       "      <td>33.1</td>\n",
       "      <td>16.1</td>\n",
       "      <td>178.0</td>\n",
       "      <td>2900.0</td>\n",
       "      <td>Female</td>\n",
       "    </tr>\n",
       "    <tr>\n",
       "      <th>142</th>\n",
       "      <td>Adelie</td>\n",
       "      <td>Dream</td>\n",
       "      <td>32.1</td>\n",
       "      <td>15.5</td>\n",
       "      <td>188.0</td>\n",
       "      <td>3050.0</td>\n",
       "      <td>Female</td>\n",
       "    </tr>\n",
       "  </tbody>\n",
       "</table>\n",
       "<p>333 rows × 7 columns</p>\n",
       "</div>\n",
       "    <div class=\"colab-df-buttons\">\n",
       "\n",
       "  <div class=\"colab-df-container\">\n",
       "    <button class=\"colab-df-convert\" onclick=\"convertToInteractive('df-829b4c1f-32bb-4bf2-a2ea-577cdb1a6afe')\"\n",
       "            title=\"Convert this dataframe to an interactive table.\"\n",
       "            style=\"display:none;\">\n",
       "\n",
       "  <svg xmlns=\"http://www.w3.org/2000/svg\" height=\"24px\" viewBox=\"0 -960 960 960\">\n",
       "    <path d=\"M120-120v-720h720v720H120Zm60-500h600v-160H180v160Zm220 220h160v-160H400v160Zm0 220h160v-160H400v160ZM180-400h160v-160H180v160Zm440 0h160v-160H620v160ZM180-180h160v-160H180v160Zm440 0h160v-160H620v160Z\"/>\n",
       "  </svg>\n",
       "    </button>\n",
       "\n",
       "  <style>\n",
       "    .colab-df-container {\n",
       "      display:flex;\n",
       "      gap: 12px;\n",
       "    }\n",
       "\n",
       "    .colab-df-convert {\n",
       "      background-color: #E8F0FE;\n",
       "      border: none;\n",
       "      border-radius: 50%;\n",
       "      cursor: pointer;\n",
       "      display: none;\n",
       "      fill: #1967D2;\n",
       "      height: 32px;\n",
       "      padding: 0 0 0 0;\n",
       "      width: 32px;\n",
       "    }\n",
       "\n",
       "    .colab-df-convert:hover {\n",
       "      background-color: #E2EBFA;\n",
       "      box-shadow: 0px 1px 2px rgba(60, 64, 67, 0.3), 0px 1px 3px 1px rgba(60, 64, 67, 0.15);\n",
       "      fill: #174EA6;\n",
       "    }\n",
       "\n",
       "    .colab-df-buttons div {\n",
       "      margin-bottom: 4px;\n",
       "    }\n",
       "\n",
       "    [theme=dark] .colab-df-convert {\n",
       "      background-color: #3B4455;\n",
       "      fill: #D2E3FC;\n",
       "    }\n",
       "\n",
       "    [theme=dark] .colab-df-convert:hover {\n",
       "      background-color: #434B5C;\n",
       "      box-shadow: 0px 1px 3px 1px rgba(0, 0, 0, 0.15);\n",
       "      filter: drop-shadow(0px 1px 2px rgba(0, 0, 0, 0.3));\n",
       "      fill: #FFFFFF;\n",
       "    }\n",
       "  </style>\n",
       "\n",
       "    <script>\n",
       "      const buttonEl =\n",
       "        document.querySelector('#df-829b4c1f-32bb-4bf2-a2ea-577cdb1a6afe button.colab-df-convert');\n",
       "      buttonEl.style.display =\n",
       "        google.colab.kernel.accessAllowed ? 'block' : 'none';\n",
       "\n",
       "      async function convertToInteractive(key) {\n",
       "        const element = document.querySelector('#df-829b4c1f-32bb-4bf2-a2ea-577cdb1a6afe');\n",
       "        const dataTable =\n",
       "          await google.colab.kernel.invokeFunction('convertToInteractive',\n",
       "                                                    [key], {});\n",
       "        if (!dataTable) return;\n",
       "\n",
       "        const docLinkHtml = 'Like what you see? Visit the ' +\n",
       "          '<a target=\"_blank\" href=https://colab.research.google.com/notebooks/data_table.ipynb>data table notebook</a>'\n",
       "          + ' to learn more about interactive tables.';\n",
       "        element.innerHTML = '';\n",
       "        dataTable['output_type'] = 'display_data';\n",
       "        await google.colab.output.renderOutput(dataTable, element);\n",
       "        const docLink = document.createElement('div');\n",
       "        docLink.innerHTML = docLinkHtml;\n",
       "        element.appendChild(docLink);\n",
       "      }\n",
       "    </script>\n",
       "  </div>\n",
       "\n",
       "\n",
       "<div id=\"df-27ed0255-e977-4405-83f6-ef69da4e0418\">\n",
       "  <button class=\"colab-df-quickchart\" onclick=\"quickchart('df-27ed0255-e977-4405-83f6-ef69da4e0418')\"\n",
       "            title=\"Suggest charts\"\n",
       "            style=\"display:none;\">\n",
       "\n",
       "<svg xmlns=\"http://www.w3.org/2000/svg\" height=\"24px\"viewBox=\"0 0 24 24\"\n",
       "     width=\"24px\">\n",
       "    <g>\n",
       "        <path d=\"M19 3H5c-1.1 0-2 .9-2 2v14c0 1.1.9 2 2 2h14c1.1 0 2-.9 2-2V5c0-1.1-.9-2-2-2zM9 17H7v-7h2v7zm4 0h-2V7h2v10zm4 0h-2v-4h2v4z\"/>\n",
       "    </g>\n",
       "</svg>\n",
       "  </button>\n",
       "\n",
       "<style>\n",
       "  .colab-df-quickchart {\n",
       "      --bg-color: #E8F0FE;\n",
       "      --fill-color: #1967D2;\n",
       "      --hover-bg-color: #E2EBFA;\n",
       "      --hover-fill-color: #174EA6;\n",
       "      --disabled-fill-color: #AAA;\n",
       "      --disabled-bg-color: #DDD;\n",
       "  }\n",
       "\n",
       "  [theme=dark] .colab-df-quickchart {\n",
       "      --bg-color: #3B4455;\n",
       "      --fill-color: #D2E3FC;\n",
       "      --hover-bg-color: #434B5C;\n",
       "      --hover-fill-color: #FFFFFF;\n",
       "      --disabled-bg-color: #3B4455;\n",
       "      --disabled-fill-color: #666;\n",
       "  }\n",
       "\n",
       "  .colab-df-quickchart {\n",
       "    background-color: var(--bg-color);\n",
       "    border: none;\n",
       "    border-radius: 50%;\n",
       "    cursor: pointer;\n",
       "    display: none;\n",
       "    fill: var(--fill-color);\n",
       "    height: 32px;\n",
       "    padding: 0;\n",
       "    width: 32px;\n",
       "  }\n",
       "\n",
       "  .colab-df-quickchart:hover {\n",
       "    background-color: var(--hover-bg-color);\n",
       "    box-shadow: 0 1px 2px rgba(60, 64, 67, 0.3), 0 1px 3px 1px rgba(60, 64, 67, 0.15);\n",
       "    fill: var(--button-hover-fill-color);\n",
       "  }\n",
       "\n",
       "  .colab-df-quickchart-complete:disabled,\n",
       "  .colab-df-quickchart-complete:disabled:hover {\n",
       "    background-color: var(--disabled-bg-color);\n",
       "    fill: var(--disabled-fill-color);\n",
       "    box-shadow: none;\n",
       "  }\n",
       "\n",
       "  .colab-df-spinner {\n",
       "    border: 2px solid var(--fill-color);\n",
       "    border-color: transparent;\n",
       "    border-bottom-color: var(--fill-color);\n",
       "    animation:\n",
       "      spin 1s steps(1) infinite;\n",
       "  }\n",
       "\n",
       "  @keyframes spin {\n",
       "    0% {\n",
       "      border-color: transparent;\n",
       "      border-bottom-color: var(--fill-color);\n",
       "      border-left-color: var(--fill-color);\n",
       "    }\n",
       "    20% {\n",
       "      border-color: transparent;\n",
       "      border-left-color: var(--fill-color);\n",
       "      border-top-color: var(--fill-color);\n",
       "    }\n",
       "    30% {\n",
       "      border-color: transparent;\n",
       "      border-left-color: var(--fill-color);\n",
       "      border-top-color: var(--fill-color);\n",
       "      border-right-color: var(--fill-color);\n",
       "    }\n",
       "    40% {\n",
       "      border-color: transparent;\n",
       "      border-right-color: var(--fill-color);\n",
       "      border-top-color: var(--fill-color);\n",
       "    }\n",
       "    60% {\n",
       "      border-color: transparent;\n",
       "      border-right-color: var(--fill-color);\n",
       "    }\n",
       "    80% {\n",
       "      border-color: transparent;\n",
       "      border-right-color: var(--fill-color);\n",
       "      border-bottom-color: var(--fill-color);\n",
       "    }\n",
       "    90% {\n",
       "      border-color: transparent;\n",
       "      border-bottom-color: var(--fill-color);\n",
       "    }\n",
       "  }\n",
       "</style>\n",
       "\n",
       "  <script>\n",
       "    async function quickchart(key) {\n",
       "      const quickchartButtonEl =\n",
       "        document.querySelector('#' + key + ' button');\n",
       "      quickchartButtonEl.disabled = true;  // To prevent multiple clicks.\n",
       "      quickchartButtonEl.classList.add('colab-df-spinner');\n",
       "      try {\n",
       "        const charts = await google.colab.kernel.invokeFunction(\n",
       "            'suggestCharts', [key], {});\n",
       "      } catch (error) {\n",
       "        console.error('Error during call to suggestCharts:', error);\n",
       "      }\n",
       "      quickchartButtonEl.classList.remove('colab-df-spinner');\n",
       "      quickchartButtonEl.classList.add('colab-df-quickchart-complete');\n",
       "    }\n",
       "    (() => {\n",
       "      let quickchartButtonEl =\n",
       "        document.querySelector('#df-27ed0255-e977-4405-83f6-ef69da4e0418 button');\n",
       "      quickchartButtonEl.style.display =\n",
       "        google.colab.kernel.accessAllowed ? 'block' : 'none';\n",
       "    })();\n",
       "  </script>\n",
       "</div>\n",
       "\n",
       "    </div>\n",
       "  </div>\n"
      ],
      "text/plain": [
       "       species     island  bill_length_mm  bill_depth_mm  flipper_length_mm  \\\n",
       "253     Gentoo     Biscoe            59.6           17.0              230.0   \n",
       "169  Chinstrap      Dream            58.0           17.8              181.0   \n",
       "321     Gentoo     Biscoe            55.9           17.0              228.0   \n",
       "215  Chinstrap      Dream            55.8           19.8              207.0   \n",
       "335     Gentoo     Biscoe            55.1           16.0              230.0   \n",
       "..         ...        ...             ...            ...                ...   \n",
       "18      Adelie  Torgersen            34.4           18.4              184.0   \n",
       "92      Adelie      Dream            34.0           17.1              185.0   \n",
       "70      Adelie  Torgersen            33.5           19.0              190.0   \n",
       "98      Adelie      Dream            33.1           16.1              178.0   \n",
       "142     Adelie      Dream            32.1           15.5              188.0   \n",
       "\n",
       "     body_mass_g     sex  \n",
       "253       6050.0    Male  \n",
       "169       3700.0  Female  \n",
       "321       5600.0    Male  \n",
       "215       4000.0    Male  \n",
       "335       5850.0    Male  \n",
       "..           ...     ...  \n",
       "18        3325.0  Female  \n",
       "92        3400.0  Female  \n",
       "70        3600.0  Female  \n",
       "98        2900.0  Female  \n",
       "142       3050.0  Female  \n",
       "\n",
       "[333 rows x 7 columns]"
      ]
     },
     "execution_count": 52,
     "metadata": {},
     "output_type": "execute_result"
    }
   ],
   "source": [
    "df_penguins_full.sort_values(by=['bill_length_mm'],ascending=False)"
   ]
  },
  {
   "cell_type": "markdown",
   "id": "3b69d24f-cd5b-41c9-a4eb-b8325251fe7b",
   "metadata": {
    "id": "3b69d24f-cd5b-41c9-a4eb-b8325251fe7b"
   },
   "source": [
    "**26.** How could you sort by species first, then by body mass?"
   ]
  },
  {
   "cell_type": "code",
   "execution_count": 50,
   "id": "bda80b1d-2773-493f-b13d-7b2fa60e6849",
   "metadata": {
    "colab": {
     "base_uri": "https://localhost:8080/",
     "height": 423
    },
    "id": "bda80b1d-2773-493f-b13d-7b2fa60e6849",
    "outputId": "66636765-13b8-43a3-f7c5-106faee5eed8"
   },
   "outputs": [
    {
     "data": {
      "application/vnd.google.colaboratory.intrinsic+json": {
       "summary": "{\n  \"name\": \"df_penguins_full\",\n  \"rows\": 333,\n  \"fields\": [\n    {\n      \"column\": \"species\",\n      \"properties\": {\n        \"dtype\": \"category\",\n        \"num_unique_values\": 3,\n        \"samples\": [\n          \"Adelie\",\n          \"Chinstrap\",\n          \"Gentoo\"\n        ],\n        \"semantic_type\": \"\",\n        \"description\": \"\"\n      }\n    },\n    {\n      \"column\": \"island\",\n      \"properties\": {\n        \"dtype\": \"category\",\n        \"num_unique_values\": 3,\n        \"samples\": [\n          \"Biscoe\",\n          \"Dream\",\n          \"Torgersen\"\n        ],\n        \"semantic_type\": \"\",\n        \"description\": \"\"\n      }\n    },\n    {\n      \"column\": \"bill_length_mm\",\n      \"properties\": {\n        \"dtype\": \"number\",\n        \"std\": 5.468668342647559,\n        \"min\": 32.1,\n        \"max\": 59.6,\n        \"num_unique_values\": 163,\n        \"samples\": [\n          49.1,\n          51.4,\n          45.1\n        ],\n        \"semantic_type\": \"\",\n        \"description\": \"\"\n      }\n    },\n    {\n      \"column\": \"bill_depth_mm\",\n      \"properties\": {\n        \"dtype\": \"number\",\n        \"std\": 1.9692354633199007,\n        \"min\": 13.1,\n        \"max\": 21.5,\n        \"num_unique_values\": 79,\n        \"samples\": [\n          18.9,\n          16.6,\n          18.4\n        ],\n        \"semantic_type\": \"\",\n        \"description\": \"\"\n      }\n    },\n    {\n      \"column\": \"flipper_length_mm\",\n      \"properties\": {\n        \"dtype\": \"number\",\n        \"std\": 14.01576528828788,\n        \"min\": 172.0,\n        \"max\": 231.0,\n        \"num_unique_values\": 54,\n        \"samples\": [\n          197.0,\n          228.0,\n          224.0\n        ],\n        \"semantic_type\": \"\",\n        \"description\": \"\"\n      }\n    },\n    {\n      \"column\": \"body_mass_g\",\n      \"properties\": {\n        \"dtype\": \"number\",\n        \"std\": 805.2158019428966,\n        \"min\": 2700.0,\n        \"max\": 6300.0,\n        \"num_unique_values\": 93,\n        \"samples\": [\n          4250.0,\n          3625.0,\n          3525.0\n        ],\n        \"semantic_type\": \"\",\n        \"description\": \"\"\n      }\n    },\n    {\n      \"column\": \"sex\",\n      \"properties\": {\n        \"dtype\": \"category\",\n        \"num_unique_values\": 2,\n        \"samples\": [\n          \"Male\",\n          \"Female\"\n        ],\n        \"semantic_type\": \"\",\n        \"description\": \"\"\n      }\n    }\n  ]\n}",
       "type": "dataframe"
      },
      "text/html": [
       "\n",
       "  <div id=\"df-7c32026b-68b6-40e0-ab55-0879f39d626c\" class=\"colab-df-container\">\n",
       "    <div>\n",
       "<style scoped>\n",
       "    .dataframe tbody tr th:only-of-type {\n",
       "        vertical-align: middle;\n",
       "    }\n",
       "\n",
       "    .dataframe tbody tr th {\n",
       "        vertical-align: top;\n",
       "    }\n",
       "\n",
       "    .dataframe thead th {\n",
       "        text-align: right;\n",
       "    }\n",
       "</style>\n",
       "<table border=\"1\" class=\"dataframe\">\n",
       "  <thead>\n",
       "    <tr style=\"text-align: right;\">\n",
       "      <th></th>\n",
       "      <th>species</th>\n",
       "      <th>island</th>\n",
       "      <th>bill_length_mm</th>\n",
       "      <th>bill_depth_mm</th>\n",
       "      <th>flipper_length_mm</th>\n",
       "      <th>body_mass_g</th>\n",
       "      <th>sex</th>\n",
       "    </tr>\n",
       "  </thead>\n",
       "  <tbody>\n",
       "    <tr>\n",
       "      <th>58</th>\n",
       "      <td>Adelie</td>\n",
       "      <td>Biscoe</td>\n",
       "      <td>36.5</td>\n",
       "      <td>16.6</td>\n",
       "      <td>181.0</td>\n",
       "      <td>2850.0</td>\n",
       "      <td>Female</td>\n",
       "    </tr>\n",
       "    <tr>\n",
       "      <th>64</th>\n",
       "      <td>Adelie</td>\n",
       "      <td>Biscoe</td>\n",
       "      <td>36.4</td>\n",
       "      <td>17.1</td>\n",
       "      <td>184.0</td>\n",
       "      <td>2850.0</td>\n",
       "      <td>Female</td>\n",
       "    </tr>\n",
       "    <tr>\n",
       "      <th>54</th>\n",
       "      <td>Adelie</td>\n",
       "      <td>Biscoe</td>\n",
       "      <td>34.5</td>\n",
       "      <td>18.1</td>\n",
       "      <td>187.0</td>\n",
       "      <td>2900.0</td>\n",
       "      <td>Female</td>\n",
       "    </tr>\n",
       "    <tr>\n",
       "      <th>98</th>\n",
       "      <td>Adelie</td>\n",
       "      <td>Dream</td>\n",
       "      <td>33.1</td>\n",
       "      <td>16.1</td>\n",
       "      <td>178.0</td>\n",
       "      <td>2900.0</td>\n",
       "      <td>Female</td>\n",
       "    </tr>\n",
       "    <tr>\n",
       "      <th>116</th>\n",
       "      <td>Adelie</td>\n",
       "      <td>Torgersen</td>\n",
       "      <td>38.6</td>\n",
       "      <td>17.0</td>\n",
       "      <td>188.0</td>\n",
       "      <td>2900.0</td>\n",
       "      <td>Female</td>\n",
       "    </tr>\n",
       "    <tr>\n",
       "      <th>...</th>\n",
       "      <td>...</td>\n",
       "      <td>...</td>\n",
       "      <td>...</td>\n",
       "      <td>...</td>\n",
       "      <td>...</td>\n",
       "      <td>...</td>\n",
       "      <td>...</td>\n",
       "    </tr>\n",
       "    <tr>\n",
       "      <th>331</th>\n",
       "      <td>Gentoo</td>\n",
       "      <td>Biscoe</td>\n",
       "      <td>49.8</td>\n",
       "      <td>15.9</td>\n",
       "      <td>229.0</td>\n",
       "      <td>5950.0</td>\n",
       "      <td>Male</td>\n",
       "    </tr>\n",
       "    <tr>\n",
       "      <th>297</th>\n",
       "      <td>Gentoo</td>\n",
       "      <td>Biscoe</td>\n",
       "      <td>51.1</td>\n",
       "      <td>16.3</td>\n",
       "      <td>220.0</td>\n",
       "      <td>6000.0</td>\n",
       "      <td>Male</td>\n",
       "    </tr>\n",
       "    <tr>\n",
       "      <th>337</th>\n",
       "      <td>Gentoo</td>\n",
       "      <td>Biscoe</td>\n",
       "      <td>48.8</td>\n",
       "      <td>16.2</td>\n",
       "      <td>222.0</td>\n",
       "      <td>6000.0</td>\n",
       "      <td>Male</td>\n",
       "    </tr>\n",
       "    <tr>\n",
       "      <th>253</th>\n",
       "      <td>Gentoo</td>\n",
       "      <td>Biscoe</td>\n",
       "      <td>59.6</td>\n",
       "      <td>17.0</td>\n",
       "      <td>230.0</td>\n",
       "      <td>6050.0</td>\n",
       "      <td>Male</td>\n",
       "    </tr>\n",
       "    <tr>\n",
       "      <th>237</th>\n",
       "      <td>Gentoo</td>\n",
       "      <td>Biscoe</td>\n",
       "      <td>49.2</td>\n",
       "      <td>15.2</td>\n",
       "      <td>221.0</td>\n",
       "      <td>6300.0</td>\n",
       "      <td>Male</td>\n",
       "    </tr>\n",
       "  </tbody>\n",
       "</table>\n",
       "<p>333 rows × 7 columns</p>\n",
       "</div>\n",
       "    <div class=\"colab-df-buttons\">\n",
       "\n",
       "  <div class=\"colab-df-container\">\n",
       "    <button class=\"colab-df-convert\" onclick=\"convertToInteractive('df-7c32026b-68b6-40e0-ab55-0879f39d626c')\"\n",
       "            title=\"Convert this dataframe to an interactive table.\"\n",
       "            style=\"display:none;\">\n",
       "\n",
       "  <svg xmlns=\"http://www.w3.org/2000/svg\" height=\"24px\" viewBox=\"0 -960 960 960\">\n",
       "    <path d=\"M120-120v-720h720v720H120Zm60-500h600v-160H180v160Zm220 220h160v-160H400v160Zm0 220h160v-160H400v160ZM180-400h160v-160H180v160Zm440 0h160v-160H620v160ZM180-180h160v-160H180v160Zm440 0h160v-160H620v160Z\"/>\n",
       "  </svg>\n",
       "    </button>\n",
       "\n",
       "  <style>\n",
       "    .colab-df-container {\n",
       "      display:flex;\n",
       "      gap: 12px;\n",
       "    }\n",
       "\n",
       "    .colab-df-convert {\n",
       "      background-color: #E8F0FE;\n",
       "      border: none;\n",
       "      border-radius: 50%;\n",
       "      cursor: pointer;\n",
       "      display: none;\n",
       "      fill: #1967D2;\n",
       "      height: 32px;\n",
       "      padding: 0 0 0 0;\n",
       "      width: 32px;\n",
       "    }\n",
       "\n",
       "    .colab-df-convert:hover {\n",
       "      background-color: #E2EBFA;\n",
       "      box-shadow: 0px 1px 2px rgba(60, 64, 67, 0.3), 0px 1px 3px 1px rgba(60, 64, 67, 0.15);\n",
       "      fill: #174EA6;\n",
       "    }\n",
       "\n",
       "    .colab-df-buttons div {\n",
       "      margin-bottom: 4px;\n",
       "    }\n",
       "\n",
       "    [theme=dark] .colab-df-convert {\n",
       "      background-color: #3B4455;\n",
       "      fill: #D2E3FC;\n",
       "    }\n",
       "\n",
       "    [theme=dark] .colab-df-convert:hover {\n",
       "      background-color: #434B5C;\n",
       "      box-shadow: 0px 1px 3px 1px rgba(0, 0, 0, 0.15);\n",
       "      filter: drop-shadow(0px 1px 2px rgba(0, 0, 0, 0.3));\n",
       "      fill: #FFFFFF;\n",
       "    }\n",
       "  </style>\n",
       "\n",
       "    <script>\n",
       "      const buttonEl =\n",
       "        document.querySelector('#df-7c32026b-68b6-40e0-ab55-0879f39d626c button.colab-df-convert');\n",
       "      buttonEl.style.display =\n",
       "        google.colab.kernel.accessAllowed ? 'block' : 'none';\n",
       "\n",
       "      async function convertToInteractive(key) {\n",
       "        const element = document.querySelector('#df-7c32026b-68b6-40e0-ab55-0879f39d626c');\n",
       "        const dataTable =\n",
       "          await google.colab.kernel.invokeFunction('convertToInteractive',\n",
       "                                                    [key], {});\n",
       "        if (!dataTable) return;\n",
       "\n",
       "        const docLinkHtml = 'Like what you see? Visit the ' +\n",
       "          '<a target=\"_blank\" href=https://colab.research.google.com/notebooks/data_table.ipynb>data table notebook</a>'\n",
       "          + ' to learn more about interactive tables.';\n",
       "        element.innerHTML = '';\n",
       "        dataTable['output_type'] = 'display_data';\n",
       "        await google.colab.output.renderOutput(dataTable, element);\n",
       "        const docLink = document.createElement('div');\n",
       "        docLink.innerHTML = docLinkHtml;\n",
       "        element.appendChild(docLink);\n",
       "      }\n",
       "    </script>\n",
       "  </div>\n",
       "\n",
       "\n",
       "<div id=\"df-bb0d2c56-08db-496f-9ff0-95b7cf281627\">\n",
       "  <button class=\"colab-df-quickchart\" onclick=\"quickchart('df-bb0d2c56-08db-496f-9ff0-95b7cf281627')\"\n",
       "            title=\"Suggest charts\"\n",
       "            style=\"display:none;\">\n",
       "\n",
       "<svg xmlns=\"http://www.w3.org/2000/svg\" height=\"24px\"viewBox=\"0 0 24 24\"\n",
       "     width=\"24px\">\n",
       "    <g>\n",
       "        <path d=\"M19 3H5c-1.1 0-2 .9-2 2v14c0 1.1.9 2 2 2h14c1.1 0 2-.9 2-2V5c0-1.1-.9-2-2-2zM9 17H7v-7h2v7zm4 0h-2V7h2v10zm4 0h-2v-4h2v4z\"/>\n",
       "    </g>\n",
       "</svg>\n",
       "  </button>\n",
       "\n",
       "<style>\n",
       "  .colab-df-quickchart {\n",
       "      --bg-color: #E8F0FE;\n",
       "      --fill-color: #1967D2;\n",
       "      --hover-bg-color: #E2EBFA;\n",
       "      --hover-fill-color: #174EA6;\n",
       "      --disabled-fill-color: #AAA;\n",
       "      --disabled-bg-color: #DDD;\n",
       "  }\n",
       "\n",
       "  [theme=dark] .colab-df-quickchart {\n",
       "      --bg-color: #3B4455;\n",
       "      --fill-color: #D2E3FC;\n",
       "      --hover-bg-color: #434B5C;\n",
       "      --hover-fill-color: #FFFFFF;\n",
       "      --disabled-bg-color: #3B4455;\n",
       "      --disabled-fill-color: #666;\n",
       "  }\n",
       "\n",
       "  .colab-df-quickchart {\n",
       "    background-color: var(--bg-color);\n",
       "    border: none;\n",
       "    border-radius: 50%;\n",
       "    cursor: pointer;\n",
       "    display: none;\n",
       "    fill: var(--fill-color);\n",
       "    height: 32px;\n",
       "    padding: 0;\n",
       "    width: 32px;\n",
       "  }\n",
       "\n",
       "  .colab-df-quickchart:hover {\n",
       "    background-color: var(--hover-bg-color);\n",
       "    box-shadow: 0 1px 2px rgba(60, 64, 67, 0.3), 0 1px 3px 1px rgba(60, 64, 67, 0.15);\n",
       "    fill: var(--button-hover-fill-color);\n",
       "  }\n",
       "\n",
       "  .colab-df-quickchart-complete:disabled,\n",
       "  .colab-df-quickchart-complete:disabled:hover {\n",
       "    background-color: var(--disabled-bg-color);\n",
       "    fill: var(--disabled-fill-color);\n",
       "    box-shadow: none;\n",
       "  }\n",
       "\n",
       "  .colab-df-spinner {\n",
       "    border: 2px solid var(--fill-color);\n",
       "    border-color: transparent;\n",
       "    border-bottom-color: var(--fill-color);\n",
       "    animation:\n",
       "      spin 1s steps(1) infinite;\n",
       "  }\n",
       "\n",
       "  @keyframes spin {\n",
       "    0% {\n",
       "      border-color: transparent;\n",
       "      border-bottom-color: var(--fill-color);\n",
       "      border-left-color: var(--fill-color);\n",
       "    }\n",
       "    20% {\n",
       "      border-color: transparent;\n",
       "      border-left-color: var(--fill-color);\n",
       "      border-top-color: var(--fill-color);\n",
       "    }\n",
       "    30% {\n",
       "      border-color: transparent;\n",
       "      border-left-color: var(--fill-color);\n",
       "      border-top-color: var(--fill-color);\n",
       "      border-right-color: var(--fill-color);\n",
       "    }\n",
       "    40% {\n",
       "      border-color: transparent;\n",
       "      border-right-color: var(--fill-color);\n",
       "      border-top-color: var(--fill-color);\n",
       "    }\n",
       "    60% {\n",
       "      border-color: transparent;\n",
       "      border-right-color: var(--fill-color);\n",
       "    }\n",
       "    80% {\n",
       "      border-color: transparent;\n",
       "      border-right-color: var(--fill-color);\n",
       "      border-bottom-color: var(--fill-color);\n",
       "    }\n",
       "    90% {\n",
       "      border-color: transparent;\n",
       "      border-bottom-color: var(--fill-color);\n",
       "    }\n",
       "  }\n",
       "</style>\n",
       "\n",
       "  <script>\n",
       "    async function quickchart(key) {\n",
       "      const quickchartButtonEl =\n",
       "        document.querySelector('#' + key + ' button');\n",
       "      quickchartButtonEl.disabled = true;  // To prevent multiple clicks.\n",
       "      quickchartButtonEl.classList.add('colab-df-spinner');\n",
       "      try {\n",
       "        const charts = await google.colab.kernel.invokeFunction(\n",
       "            'suggestCharts', [key], {});\n",
       "      } catch (error) {\n",
       "        console.error('Error during call to suggestCharts:', error);\n",
       "      }\n",
       "      quickchartButtonEl.classList.remove('colab-df-spinner');\n",
       "      quickchartButtonEl.classList.add('colab-df-quickchart-complete');\n",
       "    }\n",
       "    (() => {\n",
       "      let quickchartButtonEl =\n",
       "        document.querySelector('#df-bb0d2c56-08db-496f-9ff0-95b7cf281627 button');\n",
       "      quickchartButtonEl.style.display =\n",
       "        google.colab.kernel.accessAllowed ? 'block' : 'none';\n",
       "    })();\n",
       "  </script>\n",
       "</div>\n",
       "\n",
       "    </div>\n",
       "  </div>\n"
      ],
      "text/plain": [
       "    species     island  bill_length_mm  bill_depth_mm  flipper_length_mm  \\\n",
       "58   Adelie     Biscoe            36.5           16.6              181.0   \n",
       "64   Adelie     Biscoe            36.4           17.1              184.0   \n",
       "54   Adelie     Biscoe            34.5           18.1              187.0   \n",
       "98   Adelie      Dream            33.1           16.1              178.0   \n",
       "116  Adelie  Torgersen            38.6           17.0              188.0   \n",
       "..      ...        ...             ...            ...                ...   \n",
       "331  Gentoo     Biscoe            49.8           15.9              229.0   \n",
       "297  Gentoo     Biscoe            51.1           16.3              220.0   \n",
       "337  Gentoo     Biscoe            48.8           16.2              222.0   \n",
       "253  Gentoo     Biscoe            59.6           17.0              230.0   \n",
       "237  Gentoo     Biscoe            49.2           15.2              221.0   \n",
       "\n",
       "     body_mass_g     sex  \n",
       "58        2850.0  Female  \n",
       "64        2850.0  Female  \n",
       "54        2900.0  Female  \n",
       "98        2900.0  Female  \n",
       "116       2900.0  Female  \n",
       "..           ...     ...  \n",
       "331       5950.0    Male  \n",
       "297       6000.0    Male  \n",
       "337       6000.0    Male  \n",
       "253       6050.0    Male  \n",
       "237       6300.0    Male  \n",
       "\n",
       "[333 rows x 7 columns]"
      ]
     },
     "execution_count": 50,
     "metadata": {},
     "output_type": "execute_result"
    }
   ],
   "source": [
    "df_penguins_full.sort_values(by=['species','body_mass_g'])"
   ]
  },
  {
   "cell_type": "markdown",
   "id": "82890e5f-d9f7-4729-a179-b0883f1bc498",
   "metadata": {
    "id": "82890e5f-d9f7-4729-a179-b0883f1bc498"
   },
   "source": [
    "## Selecting Rows, Columns, and Cells\n",
    "\n",
    "Let's look at some precious stones now, and leave the poor penguins alone for a while.  Let's look at some precious stones now, and leave the poor penguins alone for a while.  "
   ]
  },
  {
   "cell_type": "markdown",
   "id": "5d1abb35-5d24-4bd2-89d4-dd9dbbdadccf",
   "metadata": {
    "id": "5d1abb35-5d24-4bd2-89d4-dd9dbbdadccf"
   },
   "source": [
    "**27.** Load the Seaborn \"diamonds\" dataset into a Pandas dataframe named diamonds."
   ]
  },
  {
   "cell_type": "code",
   "execution_count": 53,
   "id": "9247186e-0c21-43d3-88db-79c7f4ecbc06",
   "metadata": {
    "id": "9247186e-0c21-43d3-88db-79c7f4ecbc06"
   },
   "outputs": [],
   "source": [
    "df_diamonds = sb.load_dataset('diamonds')"
   ]
  },
  {
   "cell_type": "markdown",
   "id": "cbe20f32-5cb2-4191-9994-dbadaf7488dd",
   "metadata": {
    "id": "cbe20f32-5cb2-4191-9994-dbadaf7488dd"
   },
   "source": [
    "**28.** Display the columns that are available."
   ]
  },
  {
   "cell_type": "code",
   "execution_count": 57,
   "id": "c12fd634-2c83-4130-87f3-5580e42ce496",
   "metadata": {
    "colab": {
     "base_uri": "https://localhost:8080/"
    },
    "id": "c12fd634-2c83-4130-87f3-5580e42ce496",
    "outputId": "b401c3d2-9793-48af-e08a-9d7af26130b8"
   },
   "outputs": [
    {
     "name": "stdout",
     "output_type": "stream",
     "text": [
      "Index(['carat', 'cut', 'color', 'clarity', 'depth', 'table', 'price', 'x', 'y',\n",
      "       'z'],\n",
      "      dtype='object')\n"
     ]
    }
   ],
   "source": [
    "print(df_diamonds.columns)"
   ]
  },
  {
   "cell_type": "markdown",
   "id": "505b677e-c1bb-4daa-8615-a78ea4860a71",
   "metadata": {
    "id": "505b677e-c1bb-4daa-8615-a78ea4860a71"
   },
   "source": [
    "**29.** If you select a single column from the diamonds DataFrame, what will be the type of the return value?"
   ]
  },
  {
   "cell_type": "markdown",
   "id": "10307c17-e2ad-48ce-b0b9-ddde83b5f6c3",
   "metadata": {
    "id": "10307c17-e2ad-48ce-b0b9-ddde83b5f6c3"
   },
   "source": []
  },
  {
   "cell_type": "markdown",
   "id": "5f5d7cae-b784-449d-be28-a1473721b4fa",
   "metadata": {
    "id": "5f5d7cae-b784-449d-be28-a1473721b4fa"
   },
   "source": [
    "**30.** Select the 'table' column and show its type"
   ]
  },
  {
   "cell_type": "code",
   "execution_count": 74,
   "id": "18963cfe-266d-4ca6-9471-b47000c35ee5",
   "metadata": {
    "colab": {
     "base_uri": "https://localhost:8080/"
    },
    "id": "18963cfe-266d-4ca6-9471-b47000c35ee5",
    "outputId": "899173d0-092d-4a4f-ccd2-fc7e0f6c7e1e"
   },
   "outputs": [
    {
     "data": {
      "text/plain": [
       "dtype('float64')"
      ]
     },
     "execution_count": 74,
     "metadata": {},
     "output_type": "execute_result"
    }
   ],
   "source": [
    "df_diamonds['table'].dtype"
   ]
  },
  {
   "cell_type": "markdown",
   "id": "82de5bb4-baed-422e-83a6-d7581ea15ab8",
   "metadata": {
    "id": "82de5bb4-baed-422e-83a6-d7581ea15ab8"
   },
   "source": [
    "**31.** Select the first ten rows of the price and carat columns ten rows of the diamonds DataFrame into a variable called subset, and display them."
   ]
  },
  {
   "cell_type": "code",
   "execution_count": 62,
   "id": "55ccbc17-b267-4ffb-9876-d2192ba2437d",
   "metadata": {
    "colab": {
     "base_uri": "https://localhost:8080/"
    },
    "id": "55ccbc17-b267-4ffb-9876-d2192ba2437d",
    "outputId": "f545379c-745d-4384-8884-277856acecd7"
   },
   "outputs": [
    {
     "name": "stdout",
     "output_type": "stream",
     "text": [
      "   price  carat\n",
      "0    326   0.23\n",
      "1    326   0.21\n",
      "2    327   0.23\n",
      "3    334   0.29\n",
      "4    335   0.31\n",
      "5    336   0.24\n",
      "6    336   0.24\n",
      "7    337   0.26\n",
      "8    337   0.22\n",
      "9    338   0.23\n"
     ]
    }
   ],
   "source": [
    "subset=df_diamonds.loc[0:9,[\"price\",\"carat\"]]\n",
    "print(subset)"
   ]
  },
  {
   "cell_type": "markdown",
   "id": "fdb4c150-ebdc-420d-979b-14231fc4764b",
   "metadata": {
    "id": "fdb4c150-ebdc-420d-979b-14231fc4764b"
   },
   "source": [
    "**32.** For a given column, show the code to display the datatype of the _values_ in the column?  "
   ]
  },
  {
   "cell_type": "code",
   "execution_count": 63,
   "id": "bb6b2d54-e58f-4da4-bcf2-a4d08ee34602",
   "metadata": {
    "colab": {
     "base_uri": "https://localhost:8080/"
    },
    "id": "bb6b2d54-e58f-4da4-bcf2-a4d08ee34602",
    "outputId": "a28a0c3d-9963-46bf-b8dd-0e0be2039cbd"
   },
   "outputs": [
    {
     "data": {
      "text/plain": [
       "dtype('int64')"
      ]
     },
     "execution_count": 63,
     "metadata": {},
     "output_type": "execute_result"
    }
   ],
   "source": [
    "df_diamonds['price'].dtype"
   ]
  },
  {
   "cell_type": "markdown",
   "id": "ca510203-8c7e-48a1-81c3-c9e1bc5aa7b1",
   "metadata": {
    "id": "ca510203-8c7e-48a1-81c3-c9e1bc5aa7b1"
   },
   "source": [
    "**33.** Select the first row of the diamonds DataFrame into a variable called row."
   ]
  },
  {
   "cell_type": "code",
   "execution_count": 64,
   "id": "8535dd1a-db9d-49c7-a6b2-0257616d7334",
   "metadata": {
    "id": "8535dd1a-db9d-49c7-a6b2-0257616d7334"
   },
   "outputs": [],
   "source": [
    "row=df_diamonds.loc[0]"
   ]
  },
  {
   "cell_type": "markdown",
   "id": "edbd9394-ec43-479c-919a-5eab17acb792",
   "metadata": {
    "id": "edbd9394-ec43-479c-919a-5eab17acb792"
   },
   "source": [
    "**34.** What would you expect the data type of the row to be?  Display it."
   ]
  },
  {
   "cell_type": "markdown",
   "id": "22d7c0bd-cf41-491e-8fc5-41aed540c16e",
   "metadata": {
    "id": "22d7c0bd-cf41-491e-8fc5-41aed540c16e"
   },
   "source": [
    "A Pandas series"
   ]
  },
  {
   "cell_type": "code",
   "execution_count": 65,
   "id": "777274bd-3653-4d0c-b73e-75f879cb48ae",
   "metadata": {
    "colab": {
     "base_uri": "https://localhost:8080/"
    },
    "id": "777274bd-3653-4d0c-b73e-75f879cb48ae",
    "outputId": "7fdab13d-3500-42b3-c065-a9bf585c246e"
   },
   "outputs": [
    {
     "name": "stdout",
     "output_type": "stream",
     "text": [
      "<class 'pandas.core.series.Series'>\n",
      "Index: 10 entries, carat to z\n",
      "Series name: 0\n",
      "Non-Null Count  Dtype \n",
      "--------------  ----- \n",
      "10 non-null     object\n",
      "dtypes: object(1)\n",
      "memory usage: 460.0+ bytes\n"
     ]
    }
   ],
   "source": [
    "row.info()"
   ]
  },
  {
   "cell_type": "markdown",
   "id": "f6027d4a-4df5-45c6-bb82-c4ed046c2681",
   "metadata": {
    "id": "f6027d4a-4df5-45c6-bb82-c4ed046c2681"
   },
   "source": [
    "**35.** Can you discover the names of the columns using only the row returned in #33?  Why or why not?Can you discover the names of the columns using only the row returned in #33?  Why or why not?"
   ]
  },
  {
   "cell_type": "markdown",
   "id": "55c063e1-2346-4782-9133-e684c2714fe0",
   "metadata": {
    "id": "55c063e1-2346-4782-9133-e684c2714fe0"
   },
   "source": [
    "Yes, because a row series should have the columns as the index (See below):"
   ]
  },
  {
   "cell_type": "code",
   "execution_count": 67,
   "id": "1a5b9a02-9764-43b7-b49b-4522506e5669",
   "metadata": {
    "colab": {
     "base_uri": "https://localhost:8080/"
    },
    "id": "1a5b9a02-9764-43b7-b49b-4522506e5669",
    "outputId": "33292ec0-077e-4116-c445-7eca06c170bb"
   },
   "outputs": [
    {
     "data": {
      "text/plain": [
       "Index(['carat', 'cut', 'color', 'clarity', 'depth', 'table', 'price', 'x', 'y',\n",
       "       'z'],\n",
       "      dtype='object')"
      ]
     },
     "execution_count": 67,
     "metadata": {},
     "output_type": "execute_result"
    }
   ],
   "source": [
    "row.index"
   ]
  },
  {
   "cell_type": "markdown",
   "id": "369f761e-0dbe-4589-835f-526ab8f9884f",
   "metadata": {
    "id": "369f761e-0dbe-4589-835f-526ab8f9884f"
   },
   "source": [
    "**36.** Select the row with the highest priced diamond."
   ]
  },
  {
   "cell_type": "code",
   "execution_count": 71,
   "id": "41f8510d-cf79-43eb-910c-1c03aebc21ba",
   "metadata": {
    "colab": {
     "base_uri": "https://localhost:8080/",
     "height": 397
    },
    "id": "41f8510d-cf79-43eb-910c-1c03aebc21ba",
    "outputId": "1f8747c6-5d00-47da-cd70-0d998e73918b"
   },
   "outputs": [
    {
     "data": {
      "text/html": [
       "<div>\n",
       "<style scoped>\n",
       "    .dataframe tbody tr th:only-of-type {\n",
       "        vertical-align: middle;\n",
       "    }\n",
       "\n",
       "    .dataframe tbody tr th {\n",
       "        vertical-align: top;\n",
       "    }\n",
       "\n",
       "    .dataframe thead th {\n",
       "        text-align: right;\n",
       "    }\n",
       "</style>\n",
       "<table border=\"1\" class=\"dataframe\">\n",
       "  <thead>\n",
       "    <tr style=\"text-align: right;\">\n",
       "      <th></th>\n",
       "      <th>27749</th>\n",
       "    </tr>\n",
       "  </thead>\n",
       "  <tbody>\n",
       "    <tr>\n",
       "      <th>carat</th>\n",
       "      <td>2.29</td>\n",
       "    </tr>\n",
       "    <tr>\n",
       "      <th>cut</th>\n",
       "      <td>Premium</td>\n",
       "    </tr>\n",
       "    <tr>\n",
       "      <th>color</th>\n",
       "      <td>I</td>\n",
       "    </tr>\n",
       "    <tr>\n",
       "      <th>clarity</th>\n",
       "      <td>VS2</td>\n",
       "    </tr>\n",
       "    <tr>\n",
       "      <th>depth</th>\n",
       "      <td>60.8</td>\n",
       "    </tr>\n",
       "    <tr>\n",
       "      <th>table</th>\n",
       "      <td>60.0</td>\n",
       "    </tr>\n",
       "    <tr>\n",
       "      <th>price</th>\n",
       "      <td>18823</td>\n",
       "    </tr>\n",
       "    <tr>\n",
       "      <th>x</th>\n",
       "      <td>8.5</td>\n",
       "    </tr>\n",
       "    <tr>\n",
       "      <th>y</th>\n",
       "      <td>8.47</td>\n",
       "    </tr>\n",
       "    <tr>\n",
       "      <th>z</th>\n",
       "      <td>5.16</td>\n",
       "    </tr>\n",
       "  </tbody>\n",
       "</table>\n",
       "</div><br><label><b>dtype:</b> object</label>"
      ],
      "text/plain": [
       "carat         2.29\n",
       "cut        Premium\n",
       "color            I\n",
       "clarity        VS2\n",
       "depth         60.8\n",
       "table         60.0\n",
       "price        18823\n",
       "x              8.5\n",
       "y             8.47\n",
       "z             5.16\n",
       "Name: 27749, dtype: object"
      ]
     },
     "execution_count": 71,
     "metadata": {},
     "output_type": "execute_result"
    }
   ],
   "source": [
    "df_diamonds.loc[df_diamonds['price'].idxmax()]"
   ]
  },
  {
   "cell_type": "markdown",
   "id": "2694d362-a5d1-4ad9-8b09-f408d7531948",
   "metadata": {
    "id": "2694d362-a5d1-4ad9-8b09-f408d7531948"
   },
   "source": [
    "**37.** Select the row with the lowest priced diamond."
   ]
  },
  {
   "cell_type": "code",
   "execution_count": 72,
   "id": "b6559ffa-fbb6-4ce9-b882-5bccbf5403e4",
   "metadata": {
    "colab": {
     "base_uri": "https://localhost:8080/",
     "height": 397
    },
    "id": "b6559ffa-fbb6-4ce9-b882-5bccbf5403e4",
    "outputId": "eef00965-e838-46d5-89a1-4be9273020ce"
   },
   "outputs": [
    {
     "data": {
      "text/html": [
       "<div>\n",
       "<style scoped>\n",
       "    .dataframe tbody tr th:only-of-type {\n",
       "        vertical-align: middle;\n",
       "    }\n",
       "\n",
       "    .dataframe tbody tr th {\n",
       "        vertical-align: top;\n",
       "    }\n",
       "\n",
       "    .dataframe thead th {\n",
       "        text-align: right;\n",
       "    }\n",
       "</style>\n",
       "<table border=\"1\" class=\"dataframe\">\n",
       "  <thead>\n",
       "    <tr style=\"text-align: right;\">\n",
       "      <th></th>\n",
       "      <th>0</th>\n",
       "    </tr>\n",
       "  </thead>\n",
       "  <tbody>\n",
       "    <tr>\n",
       "      <th>carat</th>\n",
       "      <td>0.23</td>\n",
       "    </tr>\n",
       "    <tr>\n",
       "      <th>cut</th>\n",
       "      <td>Ideal</td>\n",
       "    </tr>\n",
       "    <tr>\n",
       "      <th>color</th>\n",
       "      <td>E</td>\n",
       "    </tr>\n",
       "    <tr>\n",
       "      <th>clarity</th>\n",
       "      <td>SI2</td>\n",
       "    </tr>\n",
       "    <tr>\n",
       "      <th>depth</th>\n",
       "      <td>61.5</td>\n",
       "    </tr>\n",
       "    <tr>\n",
       "      <th>table</th>\n",
       "      <td>55.0</td>\n",
       "    </tr>\n",
       "    <tr>\n",
       "      <th>price</th>\n",
       "      <td>326</td>\n",
       "    </tr>\n",
       "    <tr>\n",
       "      <th>x</th>\n",
       "      <td>3.95</td>\n",
       "    </tr>\n",
       "    <tr>\n",
       "      <th>y</th>\n",
       "      <td>3.98</td>\n",
       "    </tr>\n",
       "    <tr>\n",
       "      <th>z</th>\n",
       "      <td>2.43</td>\n",
       "    </tr>\n",
       "  </tbody>\n",
       "</table>\n",
       "</div><br><label><b>dtype:</b> object</label>"
      ],
      "text/plain": [
       "carat       0.23\n",
       "cut        Ideal\n",
       "color          E\n",
       "clarity      SI2\n",
       "depth       61.5\n",
       "table       55.0\n",
       "price        326\n",
       "x           3.95\n",
       "y           3.98\n",
       "z           2.43\n",
       "Name: 0, dtype: object"
      ]
     },
     "execution_count": 72,
     "metadata": {},
     "output_type": "execute_result"
    }
   ],
   "source": [
    "df_diamonds.loc[df_diamonds['price'].idxmin()]"
   ]
  },
  {
   "cell_type": "markdown",
   "id": "e366af69-1739-48c5-b964-298fa294bc7a",
   "metadata": {
    "id": "e366af69-1739-48c5-b964-298fa294bc7a"
   },
   "source": [
    "## Some Exercises Using Time Series"
   ]
  },
  {
   "cell_type": "markdown",
   "id": "ca92f2e5-c4f3-460e-b3b1-0d6bff4694ff",
   "metadata": {
    "id": "ca92f2e5-c4f3-460e-b3b1-0d6bff4694ff"
   },
   "source": [
    "**38.** Load the taxis dataset into a DataFrame, ```taxis```."
   ]
  },
  {
   "cell_type": "code",
   "execution_count": 3,
   "id": "5bb6dee5-3828-4a80-8a35-98397639e5db",
   "metadata": {
    "id": "5bb6dee5-3828-4a80-8a35-98397639e5db"
   },
   "outputs": [],
   "source": [
    "\n",
    "taxis = sb.load_dataset(\"taxis\")"
   ]
  },
  {
   "cell_type": "markdown",
   "id": "06ef6738-b5fb-4341-8ced-15f02ee5aad6",
   "metadata": {
    "id": "06ef6738-b5fb-4341-8ced-15f02ee5aad6"
   },
   "source": [
    "**39.** The 'pickup' column contains the date and time the customer picked up, but it's a string.  Add a column to the DataFrame, 'pickup_time', containing the value in 'pickup' as a DateTime."
   ]
  },
  {
   "cell_type": "code",
   "execution_count": 4,
   "id": "a857614a-ada0-43c5-9ba0-6e00422bf518",
   "metadata": {
    "id": "a857614a-ada0-43c5-9ba0-6e00422bf518"
   },
   "outputs": [],
   "source": [
    "taxis['pickup_time']=pd.to_datetime(taxis['pickup'])"
   ]
  },
  {
   "cell_type": "markdown",
   "id": "d2aca5a0-b67d-4c2b-928f-49a0df783a4a",
   "metadata": {
    "id": "d2aca5a0-b67d-4c2b-928f-49a0df783a4a"
   },
   "source": [
    "**40.** We have a hypothesis that as the day goes on, the tips get higher.  We'll need to wrangle the data a bit before testing this, however.  First, now that we have a datetime column, pickup_time, create a subset of it to create a new DataFrame, taxis_one_day. This new DataFrame should have values between '2019-03-23 00:06:00' (inclusive) and '2019-03-24 00:00:00' (exlusive)."
   ]
  },
  {
   "cell_type": "code",
   "execution_count": 5,
   "id": "4c92be8d-ee1a-452d-84e9-64617cbcd850",
   "metadata": {
    "id": "4c92be8d-ee1a-452d-84e9-64617cbcd850"
   },
   "outputs": [
    {
     "name": "stdout",
     "output_type": "stream",
     "text": [
      "                  pickup             dropoff  passengers  distance  fare  \\\n",
      "0    2019-03-23 20:21:09 2019-03-23 20:27:24           1      1.60   7.0   \n",
      "8    2019-03-23 11:48:50 2019-03-23 12:06:14           1      3.63  15.0   \n",
      "17   2019-03-23 20:50:49 2019-03-23 21:02:07           1      2.60  10.5   \n",
      "117  2019-03-23 09:39:25 2019-03-23 09:56:45           0      3.60  15.5   \n",
      "144  2019-03-23 18:35:01 2019-03-23 18:47:39           1      3.20  12.5   \n",
      "...                  ...                 ...         ...       ...   ...   \n",
      "6325 2019-03-23 20:52:40 2019-03-23 21:10:12           1      3.62  14.5   \n",
      "6331 2019-03-23 11:27:00 2019-03-23 12:20:11           1      7.67  28.0   \n",
      "6338 2019-03-23 18:05:38 2019-03-23 18:25:36           1      2.82  14.0   \n",
      "6427 2019-03-23 18:26:09 2019-03-23 18:49:12           1      7.07  20.0   \n",
      "6430 2019-03-23 22:55:18 2019-03-23 23:14:25           1      4.14  16.0   \n",
      "\n",
      "       tip  tolls  total   color      payment                     pickup_zone  \\\n",
      "0     2.15    0.0  12.95  yellow  credit card                 Lenox Hill West   \n",
      "8     1.00    0.0  19.30  yellow  credit card               East Harlem South   \n",
      "17    2.00    0.0  16.30  yellow  credit card                  Midtown Center   \n",
      "117   3.75    0.0  22.55  yellow  credit card                  Yorkville East   \n",
      "144   2.00    0.0  17.80  yellow  credit card             UN/Turtle Bay South   \n",
      "...    ...    ...    ...     ...          ...                             ...   \n",
      "6325  0.00    0.0  15.80   green         cash  Long Island City/Hunters Point   \n",
      "6331  0.00    0.0  28.00   green         cash                 Jackson Heights   \n",
      "6338  0.00    0.0  14.80   green  credit card              Claremont/Bathgate   \n",
      "6427  0.00    0.0  20.00   green         cash                     Parkchester   \n",
      "6430  0.00    0.0  17.30   green         cash             Crown Heights North   \n",
      "\n",
      "                      dropoff_zone pickup_borough dropoff_borough  \\\n",
      "0              UN/Turtle Bay South      Manhattan       Manhattan   \n",
      "8                   Midtown Center      Manhattan       Manhattan   \n",
      "17               East Harlem South      Manhattan       Manhattan   \n",
      "117   Penn Station/Madison Sq West      Manhattan       Manhattan   \n",
      "144                   East Village      Manhattan       Manhattan   \n",
      "...                            ...            ...             ...   \n",
      "6325                      Steinway         Queens          Queens   \n",
      "6331                       Maspeth         Queens          Queens   \n",
      "6338    Spuyten Duyvil/Kingsbridge          Bronx           Bronx   \n",
      "6427             East Harlem South          Bronx       Manhattan   \n",
      "6430                Bushwick North       Brooklyn        Brooklyn   \n",
      "\n",
      "             pickup_time  \n",
      "0    2019-03-23 20:21:09  \n",
      "8    2019-03-23 11:48:50  \n",
      "17   2019-03-23 20:50:49  \n",
      "117  2019-03-23 09:39:25  \n",
      "144  2019-03-23 18:35:01  \n",
      "...                  ...  \n",
      "6325 2019-03-23 20:52:40  \n",
      "6331 2019-03-23 11:27:00  \n",
      "6338 2019-03-23 18:05:38  \n",
      "6427 2019-03-23 18:26:09  \n",
      "6430 2019-03-23 22:55:18  \n",
      "\n",
      "[209 rows x 15 columns]\n"
     ]
    }
   ],
   "source": [
    "taxis_one_day = taxis[(taxis['pickup_time'] >= '2019-03-23 00:06:00') & (taxis['pickup_time'] < '2019-03-24 00:00:00')]\n",
    "print(taxis_one_day)"
   ]
  },
  {
   "cell_type": "markdown",
   "id": "14b66e0e-762c-433c-9041-e40cf624eaa5",
   "metadata": {
    "id": "14b66e0e-762c-433c-9041-e40cf624eaa5"
   },
   "source": [
    "**41.** We now have a range from morning until midnight, but we to take the mean of the numeric columns, grouped at one hour intervals.  Save the result as df_means, and display it."
   ]
  },
  {
   "cell_type": "code",
   "execution_count": 6,
   "id": "baca4e69-dc2d-492e-918b-c15d7d560b4b",
   "metadata": {
    "id": "baca4e69-dc2d-492e-918b-c15d7d560b4b"
   },
   "outputs": [],
   "source": [
    "taxis_one_day.set_index('pickup_time', inplace=True)\n",
    "numeric_columns = taxis_one_day.select_dtypes(include='number')\n",
    "df_means = numeric_columns.resample('h').mean()"
   ]
  },
  {
   "cell_type": "markdown",
   "id": "601743a0-8e97-46f3-8c46-6681353d374c",
   "metadata": {
    "id": "601743a0-8e97-46f3-8c46-6681353d374c"
   },
   "source": [
    "**42.** Create a simple line plot of the value \"distance\".  "
   ]
  },
  {
   "cell_type": "code",
   "execution_count": 7,
   "id": "d270aaf8-b52e-4d1f-8373-3ce72f9d4a81",
   "metadata": {
    "id": "d270aaf8-b52e-4d1f-8373-3ce72f9d4a81"
   },
   "outputs": [
    {
     "data": {
      "text/plain": [
       "[<matplotlib.lines.Line2D at 0x281f11992e0>]"
      ]
     },
     "execution_count": 7,
     "metadata": {},
     "output_type": "execute_result"
    },
    {
     "data": {
      "image/png": "[encoded data removed]",
      "text/plain": [
       "<Figure size 640x480 with 1 Axes>"
      ]
     },
     "metadata": {},
     "output_type": "display_data"
    }
   ],
   "source": [
    "import matplotlib.pyplot as plt\n",
    "plt.ylabel('Distance')\n",
    "plt.plot(df_means.distance)"
   ]
  },
  {
   "cell_type": "markdown",
   "id": "deba998f-24b1-4fc3-93e6-807955ba111b",
   "metadata": {
    "id": "deba998f-24b1-4fc3-93e6-807955ba111b"
   },
   "source": [
    "**43.** Overall, do riders travel further or less far as the day progresses?"
   ]
  },
  {
   "cell_type": "markdown",
   "id": "4b69ad07-bd6c-4ef8-8caa-ec0b5b4a2b21",
   "metadata": {
    "id": "4b69ad07-bd6c-4ef8-8caa-ec0b5b4a2b21"
   },
   "source": [
    "max in afternoon."
   ]
  },
  {
   "cell_type": "markdown",
   "id": "3c1784d1-e66d-40c7-87d1-a5a4bc7dd43b",
   "metadata": {
    "id": "3c1784d1-e66d-40c7-87d1-a5a4bc7dd43b"
   },
   "source": [
    "**44.** Create a new column in taxis_means, ```tip_in_percent```.  The source columns for this should be \"fare\" and \"tip\""
   ]
  },
  {
   "cell_type": "code",
   "execution_count": 8,
   "id": "014637ae-70f7-4289-8077-5264bf46daab",
   "metadata": {
    "id": "014637ae-70f7-4289-8077-5264bf46daab"
   },
   "outputs": [
    {
     "name": "stdout",
     "output_type": "stream",
     "text": [
      "                     passengers  distance       fare       tip     tolls  \\\n",
      "pickup_time                                                                \n",
      "2019-03-23 00:00:00    1.000000  1.911667   8.583333  1.415000  0.000000   \n",
      "2019-03-23 01:00:00    1.250000  1.325000   7.875000  1.525000  0.000000   \n",
      "2019-03-23 02:00:00    1.727273  1.739091   8.181818  1.641818  0.000000   \n",
      "2019-03-23 03:00:00    1.500000  3.377500  11.750000  2.410000  0.000000   \n",
      "2019-03-23 04:00:00    2.000000  0.950000   5.500000  0.915000  0.000000   \n",
      "2019-03-23 05:00:00    2.000000  1.270000   6.000000  0.980000  0.000000   \n",
      "2019-03-23 06:00:00    1.000000  0.400000  21.500000  0.000000  0.000000   \n",
      "2019-03-23 07:00:00    2.333333  0.980000   5.250000  1.165000  0.000000   \n",
      "2019-03-23 08:00:00    1.000000  0.020000   2.500000  0.000000  0.000000   \n",
      "2019-03-23 09:00:00    1.500000  1.352000   7.400000  1.674000  0.000000   \n",
      "2019-03-23 10:00:00    1.000000  1.760000   8.750000  0.727500  0.000000   \n",
      "2019-03-23 11:00:00    1.909091  2.070000  11.090909  0.803636  0.000000   \n",
      "2019-03-23 12:00:00    2.000000  2.267143  10.260000  0.645714  0.000000   \n",
      "2019-03-23 13:00:00    2.500000  1.167000   7.550000  2.074000  0.000000   \n",
      "2019-03-23 14:00:00    2.470588  4.752941  18.330000  1.945294  1.003529   \n",
      "2019-03-23 15:00:00    1.000000  6.557143  22.214286  3.210000  1.645714   \n",
      "2019-03-23 16:00:00    2.000000  2.194545  10.454545  1.109091  0.000000   \n",
      "2019-03-23 17:00:00    1.090909  1.913636  14.818182  2.688182  0.523636   \n",
      "2019-03-23 18:00:00    1.571429  3.206429  12.821429  0.844286  0.411429   \n",
      "2019-03-23 19:00:00    1.526316  2.097895  10.263158  1.176316  0.000000   \n",
      "2019-03-23 20:00:00    1.400000  2.448000  11.100000  1.544000  0.000000   \n",
      "2019-03-23 21:00:00    1.000000  2.017143  10.571429  1.420000  0.000000   \n",
      "2019-03-23 22:00:00    1.307692  1.881538   8.923077  1.094615  0.000000   \n",
      "2019-03-23 23:00:00    1.615385  3.725385  15.115385  1.696154  0.000000   \n",
      "\n",
      "                         total  tip_in_percent  \n",
      "pickup_time                                     \n",
      "2019-03-23 00:00:00  12.965000       16.485437  \n",
      "2019-03-23 01:00:00  12.575000       19.365079  \n",
      "2019-03-23 02:00:00  13.169091       20.066667  \n",
      "2019-03-23 03:00:00  17.335000       20.510638  \n",
      "2019-03-23 04:00:00  10.215000       16.636364  \n",
      "2019-03-23 05:00:00  10.530000       16.333333  \n",
      "2019-03-23 06:00:00  23.133333        0.000000  \n",
      "2019-03-23 07:00:00   9.298333       22.190476  \n",
      "2019-03-23 08:00:00   3.300000        0.000000  \n",
      "2019-03-23 09:00:00  12.124000       22.621622  \n",
      "2019-03-23 10:00:00  12.152500        8.314286  \n",
      "2019-03-23 11:00:00  14.667273        7.245902  \n",
      "2019-03-23 12:00:00  13.420000        6.293512  \n",
      "2019-03-23 13:00:00  12.344000       27.470199  \n",
      "2019-03-23 14:00:00  24.267059       10.612625  \n",
      "2019-03-23 15:00:00  30.370000       14.450161  \n",
      "2019-03-23 16:00:00  14.431818       10.608696  \n",
      "2019-03-23 17:00:00  20.739091       18.141104  \n",
      "2019-03-23 18:00:00  16.427143        6.584958  \n",
      "2019-03-23 19:00:00  14.226316       11.461538  \n",
      "2019-03-23 20:00:00  15.944000       13.909910  \n",
      "2019-03-23 21:00:00  15.791429       13.432432  \n",
      "2019-03-23 22:00:00  13.433077       12.267241  \n",
      "2019-03-23 23:00:00  20.034615       11.221374  \n"
     ]
    }
   ],
   "source": [
    "df_means[\"tip_in_percent\"]=100*df_means[\"tip\"]/df_means[\"fare\"]\n",
    "print(df_means)"
   ]
  },
  {
   "cell_type": "markdown",
   "id": "15be5b49-d465-48a7-9b3b-6d58291752d9",
   "metadata": {
    "id": "15be5b49-d465-48a7-9b3b-6d58291752d9"
   },
   "source": [
    "**45.** Create a new column, time_interval, as a range of integer values beginning with zero."
   ]
  },
  {
   "cell_type": "code",
   "execution_count": 9,
   "id": "bcc2dca5-7682-4e55-b218-e94006071ebd",
   "metadata": {
    "id": "bcc2dca5-7682-4e55-b218-e94006071ebd"
   },
   "outputs": [
    {
     "data": {
      "text/html": [
       "<div>\n",
       "<style scoped>\n",
       "    .dataframe tbody tr th:only-of-type {\n",
       "        vertical-align: middle;\n",
       "    }\n",
       "\n",
       "    .dataframe tbody tr th {\n",
       "        vertical-align: top;\n",
       "    }\n",
       "\n",
       "    .dataframe thead th {\n",
       "        text-align: right;\n",
       "    }\n",
       "</style>\n",
       "<table border=\"1\" class=\"dataframe\">\n",
       "  <thead>\n",
       "    <tr style=\"text-align: right;\">\n",
       "      <th></th>\n",
       "      <th>passengers</th>\n",
       "      <th>distance</th>\n",
       "      <th>fare</th>\n",
       "      <th>tip</th>\n",
       "      <th>tolls</th>\n",
       "      <th>total</th>\n",
       "      <th>tip_in_percent</th>\n",
       "      <th>time_interval</th>\n",
       "    </tr>\n",
       "    <tr>\n",
       "      <th>pickup_time</th>\n",
       "      <th></th>\n",
       "      <th></th>\n",
       "      <th></th>\n",
       "      <th></th>\n",
       "      <th></th>\n",
       "      <th></th>\n",
       "      <th></th>\n",
       "      <th></th>\n",
       "    </tr>\n",
       "  </thead>\n",
       "  <tbody>\n",
       "    <tr>\n",
       "      <th>2019-03-23 00:00:00</th>\n",
       "      <td>1.000000</td>\n",
       "      <td>1.911667</td>\n",
       "      <td>8.583333</td>\n",
       "      <td>1.415000</td>\n",
       "      <td>0.000000</td>\n",
       "      <td>12.965000</td>\n",
       "      <td>16.485437</td>\n",
       "      <td>0</td>\n",
       "    </tr>\n",
       "    <tr>\n",
       "      <th>2019-03-23 01:00:00</th>\n",
       "      <td>1.250000</td>\n",
       "      <td>1.325000</td>\n",
       "      <td>7.875000</td>\n",
       "      <td>1.525000</td>\n",
       "      <td>0.000000</td>\n",
       "      <td>12.575000</td>\n",
       "      <td>19.365079</td>\n",
       "      <td>1</td>\n",
       "    </tr>\n",
       "    <tr>\n",
       "      <th>2019-03-23 02:00:00</th>\n",
       "      <td>1.727273</td>\n",
       "      <td>1.739091</td>\n",
       "      <td>8.181818</td>\n",
       "      <td>1.641818</td>\n",
       "      <td>0.000000</td>\n",
       "      <td>13.169091</td>\n",
       "      <td>20.066667</td>\n",
       "      <td>2</td>\n",
       "    </tr>\n",
       "    <tr>\n",
       "      <th>2019-03-23 03:00:00</th>\n",
       "      <td>1.500000</td>\n",
       "      <td>3.377500</td>\n",
       "      <td>11.750000</td>\n",
       "      <td>2.410000</td>\n",
       "      <td>0.000000</td>\n",
       "      <td>17.335000</td>\n",
       "      <td>20.510638</td>\n",
       "      <td>3</td>\n",
       "    </tr>\n",
       "    <tr>\n",
       "      <th>2019-03-23 04:00:00</th>\n",
       "      <td>2.000000</td>\n",
       "      <td>0.950000</td>\n",
       "      <td>5.500000</td>\n",
       "      <td>0.915000</td>\n",
       "      <td>0.000000</td>\n",
       "      <td>10.215000</td>\n",
       "      <td>16.636364</td>\n",
       "      <td>4</td>\n",
       "    </tr>\n",
       "    <tr>\n",
       "      <th>2019-03-23 05:00:00</th>\n",
       "      <td>2.000000</td>\n",
       "      <td>1.270000</td>\n",
       "      <td>6.000000</td>\n",
       "      <td>0.980000</td>\n",
       "      <td>0.000000</td>\n",
       "      <td>10.530000</td>\n",
       "      <td>16.333333</td>\n",
       "      <td>5</td>\n",
       "    </tr>\n",
       "    <tr>\n",
       "      <th>2019-03-23 06:00:00</th>\n",
       "      <td>1.000000</td>\n",
       "      <td>0.400000</td>\n",
       "      <td>21.500000</td>\n",
       "      <td>0.000000</td>\n",
       "      <td>0.000000</td>\n",
       "      <td>23.133333</td>\n",
       "      <td>0.000000</td>\n",
       "      <td>6</td>\n",
       "    </tr>\n",
       "    <tr>\n",
       "      <th>2019-03-23 07:00:00</th>\n",
       "      <td>2.333333</td>\n",
       "      <td>0.980000</td>\n",
       "      <td>5.250000</td>\n",
       "      <td>1.165000</td>\n",
       "      <td>0.000000</td>\n",
       "      <td>9.298333</td>\n",
       "      <td>22.190476</td>\n",
       "      <td>7</td>\n",
       "    </tr>\n",
       "    <tr>\n",
       "      <th>2019-03-23 08:00:00</th>\n",
       "      <td>1.000000</td>\n",
       "      <td>0.020000</td>\n",
       "      <td>2.500000</td>\n",
       "      <td>0.000000</td>\n",
       "      <td>0.000000</td>\n",
       "      <td>3.300000</td>\n",
       "      <td>0.000000</td>\n",
       "      <td>8</td>\n",
       "    </tr>\n",
       "    <tr>\n",
       "      <th>2019-03-23 09:00:00</th>\n",
       "      <td>1.500000</td>\n",
       "      <td>1.352000</td>\n",
       "      <td>7.400000</td>\n",
       "      <td>1.674000</td>\n",
       "      <td>0.000000</td>\n",
       "      <td>12.124000</td>\n",
       "      <td>22.621622</td>\n",
       "      <td>9</td>\n",
       "    </tr>\n",
       "    <tr>\n",
       "      <th>2019-03-23 10:00:00</th>\n",
       "      <td>1.000000</td>\n",
       "      <td>1.760000</td>\n",
       "      <td>8.750000</td>\n",
       "      <td>0.727500</td>\n",
       "      <td>0.000000</td>\n",
       "      <td>12.152500</td>\n",
       "      <td>8.314286</td>\n",
       "      <td>10</td>\n",
       "    </tr>\n",
       "    <tr>\n",
       "      <th>2019-03-23 11:00:00</th>\n",
       "      <td>1.909091</td>\n",
       "      <td>2.070000</td>\n",
       "      <td>11.090909</td>\n",
       "      <td>0.803636</td>\n",
       "      <td>0.000000</td>\n",
       "      <td>14.667273</td>\n",
       "      <td>7.245902</td>\n",
       "      <td>11</td>\n",
       "    </tr>\n",
       "    <tr>\n",
       "      <th>2019-03-23 12:00:00</th>\n",
       "      <td>2.000000</td>\n",
       "      <td>2.267143</td>\n",
       "      <td>10.260000</td>\n",
       "      <td>0.645714</td>\n",
       "      <td>0.000000</td>\n",
       "      <td>13.420000</td>\n",
       "      <td>6.293512</td>\n",
       "      <td>12</td>\n",
       "    </tr>\n",
       "    <tr>\n",
       "      <th>2019-03-23 13:00:00</th>\n",
       "      <td>2.500000</td>\n",
       "      <td>1.167000</td>\n",
       "      <td>7.550000</td>\n",
       "      <td>2.074000</td>\n",
       "      <td>0.000000</td>\n",
       "      <td>12.344000</td>\n",
       "      <td>27.470199</td>\n",
       "      <td>13</td>\n",
       "    </tr>\n",
       "    <tr>\n",
       "      <th>2019-03-23 14:00:00</th>\n",
       "      <td>2.470588</td>\n",
       "      <td>4.752941</td>\n",
       "      <td>18.330000</td>\n",
       "      <td>1.945294</td>\n",
       "      <td>1.003529</td>\n",
       "      <td>24.267059</td>\n",
       "      <td>10.612625</td>\n",
       "      <td>14</td>\n",
       "    </tr>\n",
       "    <tr>\n",
       "      <th>2019-03-23 15:00:00</th>\n",
       "      <td>1.000000</td>\n",
       "      <td>6.557143</td>\n",
       "      <td>22.214286</td>\n",
       "      <td>3.210000</td>\n",
       "      <td>1.645714</td>\n",
       "      <td>30.370000</td>\n",
       "      <td>14.450161</td>\n",
       "      <td>15</td>\n",
       "    </tr>\n",
       "    <tr>\n",
       "      <th>2019-03-23 16:00:00</th>\n",
       "      <td>2.000000</td>\n",
       "      <td>2.194545</td>\n",
       "      <td>10.454545</td>\n",
       "      <td>1.109091</td>\n",
       "      <td>0.000000</td>\n",
       "      <td>14.431818</td>\n",
       "      <td>10.608696</td>\n",
       "      <td>16</td>\n",
       "    </tr>\n",
       "    <tr>\n",
       "      <th>2019-03-23 17:00:00</th>\n",
       "      <td>1.090909</td>\n",
       "      <td>1.913636</td>\n",
       "      <td>14.818182</td>\n",
       "      <td>2.688182</td>\n",
       "      <td>0.523636</td>\n",
       "      <td>20.739091</td>\n",
       "      <td>18.141104</td>\n",
       "      <td>17</td>\n",
       "    </tr>\n",
       "    <tr>\n",
       "      <th>2019-03-23 18:00:00</th>\n",
       "      <td>1.571429</td>\n",
       "      <td>3.206429</td>\n",
       "      <td>12.821429</td>\n",
       "      <td>0.844286</td>\n",
       "      <td>0.411429</td>\n",
       "      <td>16.427143</td>\n",
       "      <td>6.584958</td>\n",
       "      <td>18</td>\n",
       "    </tr>\n",
       "    <tr>\n",
       "      <th>2019-03-23 19:00:00</th>\n",
       "      <td>1.526316</td>\n",
       "      <td>2.097895</td>\n",
       "      <td>10.263158</td>\n",
       "      <td>1.176316</td>\n",
       "      <td>0.000000</td>\n",
       "      <td>14.226316</td>\n",
       "      <td>11.461538</td>\n",
       "      <td>19</td>\n",
       "    </tr>\n",
       "    <tr>\n",
       "      <th>2019-03-23 20:00:00</th>\n",
       "      <td>1.400000</td>\n",
       "      <td>2.448000</td>\n",
       "      <td>11.100000</td>\n",
       "      <td>1.544000</td>\n",
       "      <td>0.000000</td>\n",
       "      <td>15.944000</td>\n",
       "      <td>13.909910</td>\n",
       "      <td>20</td>\n",
       "    </tr>\n",
       "    <tr>\n",
       "      <th>2019-03-23 21:00:00</th>\n",
       "      <td>1.000000</td>\n",
       "      <td>2.017143</td>\n",
       "      <td>10.571429</td>\n",
       "      <td>1.420000</td>\n",
       "      <td>0.000000</td>\n",
       "      <td>15.791429</td>\n",
       "      <td>13.432432</td>\n",
       "      <td>21</td>\n",
       "    </tr>\n",
       "    <tr>\n",
       "      <th>2019-03-23 22:00:00</th>\n",
       "      <td>1.307692</td>\n",
       "      <td>1.881538</td>\n",
       "      <td>8.923077</td>\n",
       "      <td>1.094615</td>\n",
       "      <td>0.000000</td>\n",
       "      <td>13.433077</td>\n",
       "      <td>12.267241</td>\n",
       "      <td>22</td>\n",
       "    </tr>\n",
       "    <tr>\n",
       "      <th>2019-03-23 23:00:00</th>\n",
       "      <td>1.615385</td>\n",
       "      <td>3.725385</td>\n",
       "      <td>15.115385</td>\n",
       "      <td>1.696154</td>\n",
       "      <td>0.000000</td>\n",
       "      <td>20.034615</td>\n",
       "      <td>11.221374</td>\n",
       "      <td>23</td>\n",
       "    </tr>\n",
       "  </tbody>\n",
       "</table>\n",
       "</div>"
      ],
      "text/plain": [
       "                     passengers  distance       fare       tip     tolls  \\\n",
       "pickup_time                                                                \n",
       "2019-03-23 00:00:00    1.000000  1.911667   8.583333  1.415000  0.000000   \n",
       "2019-03-23 01:00:00    1.250000  1.325000   7.875000  1.525000  0.000000   \n",
       "2019-03-23 02:00:00    1.727273  1.739091   8.181818  1.641818  0.000000   \n",
       "2019-03-23 03:00:00    1.500000  3.377500  11.750000  2.410000  0.000000   \n",
       "2019-03-23 04:00:00    2.000000  0.950000   5.500000  0.915000  0.000000   \n",
       "2019-03-23 05:00:00    2.000000  1.270000   6.000000  0.980000  0.000000   \n",
       "2019-03-23 06:00:00    1.000000  0.400000  21.500000  0.000000  0.000000   \n",
       "2019-03-23 07:00:00    2.333333  0.980000   5.250000  1.165000  0.000000   \n",
       "2019-03-23 08:00:00    1.000000  0.020000   2.500000  0.000000  0.000000   \n",
       "2019-03-23 09:00:00    1.500000  1.352000   7.400000  1.674000  0.000000   \n",
       "2019-03-23 10:00:00    1.000000  1.760000   8.750000  0.727500  0.000000   \n",
       "2019-03-23 11:00:00    1.909091  2.070000  11.090909  0.803636  0.000000   \n",
       "2019-03-23 12:00:00    2.000000  2.267143  10.260000  0.645714  0.000000   \n",
       "2019-03-23 13:00:00    2.500000  1.167000   7.550000  2.074000  0.000000   \n",
       "2019-03-23 14:00:00    2.470588  4.752941  18.330000  1.945294  1.003529   \n",
       "2019-03-23 15:00:00    1.000000  6.557143  22.214286  3.210000  1.645714   \n",
       "2019-03-23 16:00:00    2.000000  2.194545  10.454545  1.109091  0.000000   \n",
       "2019-03-23 17:00:00    1.090909  1.913636  14.818182  2.688182  0.523636   \n",
       "2019-03-23 18:00:00    1.571429  3.206429  12.821429  0.844286  0.411429   \n",
       "2019-03-23 19:00:00    1.526316  2.097895  10.263158  1.176316  0.000000   \n",
       "2019-03-23 20:00:00    1.400000  2.448000  11.100000  1.544000  0.000000   \n",
       "2019-03-23 21:00:00    1.000000  2.017143  10.571429  1.420000  0.000000   \n",
       "2019-03-23 22:00:00    1.307692  1.881538   8.923077  1.094615  0.000000   \n",
       "2019-03-23 23:00:00    1.615385  3.725385  15.115385  1.696154  0.000000   \n",
       "\n",
       "                         total  tip_in_percent  time_interval  \n",
       "pickup_time                                                    \n",
       "2019-03-23 00:00:00  12.965000       16.485437              0  \n",
       "2019-03-23 01:00:00  12.575000       19.365079              1  \n",
       "2019-03-23 02:00:00  13.169091       20.066667              2  \n",
       "2019-03-23 03:00:00  17.335000       20.510638              3  \n",
       "2019-03-23 04:00:00  10.215000       16.636364              4  \n",
       "2019-03-23 05:00:00  10.530000       16.333333              5  \n",
       "2019-03-23 06:00:00  23.133333        0.000000              6  \n",
       "2019-03-23 07:00:00   9.298333       22.190476              7  \n",
       "2019-03-23 08:00:00   3.300000        0.000000              8  \n",
       "2019-03-23 09:00:00  12.124000       22.621622              9  \n",
       "2019-03-23 10:00:00  12.152500        8.314286             10  \n",
       "2019-03-23 11:00:00  14.667273        7.245902             11  \n",
       "2019-03-23 12:00:00  13.420000        6.293512             12  \n",
       "2019-03-23 13:00:00  12.344000       27.470199             13  \n",
       "2019-03-23 14:00:00  24.267059       10.612625             14  \n",
       "2019-03-23 15:00:00  30.370000       14.450161             15  \n",
       "2019-03-23 16:00:00  14.431818       10.608696             16  \n",
       "2019-03-23 17:00:00  20.739091       18.141104             17  \n",
       "2019-03-23 18:00:00  16.427143        6.584958             18  \n",
       "2019-03-23 19:00:00  14.226316       11.461538             19  \n",
       "2019-03-23 20:00:00  15.944000       13.909910             20  \n",
       "2019-03-23 21:00:00  15.791429       13.432432             21  \n",
       "2019-03-23 22:00:00  13.433077       12.267241             22  \n",
       "2019-03-23 23:00:00  20.034615       11.221374             23  "
      ]
     },
     "execution_count": 9,
     "metadata": {},
     "output_type": "execute_result"
    }
   ],
   "source": [
    "df_means[\"time_interval\"]=range(len(df_means))\n",
    "df_means"
   ]
  },
  {
   "cell_type": "markdown",
   "id": "269b329e-cade-4e54-9ed8-ce5d23006750",
   "metadata": {
    "id": "269b329e-cade-4e54-9ed8-ce5d23006750"
   },
   "source": [
    "Display the correlations between the following pairs of values:\n",
    "1. tip_in_percent and distance.\n",
    "1. tip_in_percent and passengers.\n",
    "1. tip_in_percent and time_interval."
   ]
  },
  {
   "cell_type": "code",
   "execution_count": null,
   "id": "7003165a-2e86-46fa-9b0c-bb1e9dab4afd",
   "metadata": {
    "id": "7003165a-2e86-46fa-9b0c-bb1e9dab4afd"
   },
   "outputs": [],
   "source": []
  },
  {
   "cell_type": "markdown",
   "id": "934d0379-8d2c-4579-af88-fafffdb58767",
   "metadata": {
    "id": "934d0379-8d2c-4579-af88-fafffdb58767"
   },
   "source": [
    "**47.** Admittedly, the size of the data set is fairly small given how we've subsetted it.  But based on the values in #45, which of the three pairs show the strongest correlation."
   ]
  },
  {
   "cell_type": "markdown",
   "id": "04dfb838-f8de-4e79-8076-12ef0c187fc4",
   "metadata": {
    "id": "04dfb838-f8de-4e79-8076-12ef0c187fc4"
   },
   "source": [
    "tip_in_percent and passengers"
   ]
  },
  {
   "cell_type": "markdown",
   "id": "279a9e91-2488-4e53-8234-ddde076fbe30",
   "metadata": {
    "id": "279a9e91-2488-4e53-8234-ddde076fbe30"
   },
   "source": [
    "**48.** Did our hypothesis that people tip more as the day goes on turn out to be warranted?"
   ]
  },
  {
   "cell_type": "markdown",
   "id": "6aaf603f-5099-457c-99eb-bf8370583a0c",
   "metadata": {
    "id": "6aaf603f-5099-457c-99eb-bf8370583a0c"
   },
   "source": [
    "no."
   ]
  },
  {
   "cell_type": "code",
   "execution_count": 10,
   "id": "c885f77c-db5c-462b-8231-663e56f7f497",
   "metadata": {
    "id": "c885f77c-db5c-462b-8231-663e56f7f497"
   },
   "outputs": [
    {
     "data": {
      "text/plain": [
       "[<matplotlib.lines.Line2D at 0x281f122d5e0>]"
      ]
     },
     "execution_count": 10,
     "metadata": {},
     "output_type": "execute_result"
    },
    {
     "data": {
      "image/png": "[encoded data removed]",
      "text/plain": [
       "<Figure size 640x480 with 1 Axes>"
      ]
     },
     "metadata": {},
     "output_type": "display_data"
    }
   ],
   "source": [
    "import matplotlib.pyplot as plt\n",
    "plt.plot(df_means.tip_in_percent)"
   ]
  }
 ],
 "metadata": {
  "colab": {
   "provenance": []
  },
  "kernelspec": {
   "display_name": "Python 3",
   "language": "python",
   "name": "python3"
  },
  "language_info": {
   "codemirror_mode": {
    "name": "ipython",
    "version": 3
   },
   "file_extension": ".py",
   "mimetype": "text/x-python",
   "name": "python",
   "nbconvert_exporter": "python",
   "pygments_lexer": "ipython3",
   "version": "3.12.4"
  }
 },
 "nbformat": 4,
 "nbformat_minor": 5
}
