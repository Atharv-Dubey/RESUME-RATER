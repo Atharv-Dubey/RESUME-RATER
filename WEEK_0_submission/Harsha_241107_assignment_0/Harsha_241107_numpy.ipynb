{
  "cells": [
    {
      "cell_type": "markdown",
      "metadata": {
        "id": "Ar4fL67UDPHr"
      },
      "source": [
        "# NumPy exercises"
      ]
    },
    {
      "cell_type": "markdown",
      "metadata": {
        "id": "_KH_5nW4DPHv"
      },
      "source": [
        "Some  of these come from / are inspired from https://github.com/rougier/numpy-100 and http://www.scipy-lectures.org/intro/numpy/exercises.html\n",
        "\n",
        "You might want to look over these lists as well."
      ]
    },
    {
      "cell_type": "code",
      "execution_count": null,
      "metadata": {
        "id": "u4ewzXF9DPHx"
      },
      "outputs": [],
      "source": [
        "import numpy as np"
      ]
    },
    {
      "cell_type": "markdown",
      "metadata": {
        "id": "BGjlCaQzDPHz"
      },
      "source": [
        "## Q1\n",
        "\n",
        "We can use `np.random.random_sample()` to create an array with random values.  By default, these will be in the range `[0.0, 1.0)`.  You can\n",
        "multiple the output and add a scalar to it to get it to be in a different range.\n",
        "\n",
        "Create a 10 x 10 array initialized with random numbers that lie between 0 and 10.\n",
        "\n",
        "Then compute the average of the array (there is a numpy function for this, `np.mean()`)."
      ]
    },
    {
      "cell_type": "code",
      "execution_count": null,
      "metadata": {
        "tags": [],
        "id": "6MSFAgQyDPHz",
        "colab": {
          "base_uri": "https://localhost:8080/"
        },
        "outputId": "dcb84b24-70f7-4c7c-e735-36537f760c05"
      },
      "outputs": [
        {
          "output_type": "stream",
          "name": "stdout",
          "text": [
            "4.7893654731068445\n"
          ]
        }
      ],
      "source": [
        "random_array = np.random.random_sample((10, 10)) * 10\n",
        "average = np.mean(random_array)\n",
        "print(average)"
      ]
    },
    {
      "cell_type": "code",
      "execution_count": null,
      "metadata": {
        "tags": [],
        "id": "1jxOF41eDPH0",
        "colab": {
          "base_uri": "https://localhost:8080/"
        },
        "outputId": "2f72fae3-2c74-4c6d-8b00-a5566f82c005"
      },
      "outputs": [
        {
          "output_type": "stream",
          "name": "stdout",
          "text": [
            "[[ 1  6 11]\n",
            " [ 2  7 12]\n",
            " [ 3  8 13]\n",
            " [ 4  9 14]\n",
            " [ 5 10 15]]\n",
            "[[ 2  7 12]\n",
            " [ 4  9 14]]\n"
          ]
        }
      ],
      "source": [
        "arr = np.array([1,2,3,4,5,6,7,8,9,10,11,12,13,14,15]).reshape(5,3,order='F')\n",
        "print(arr)\n",
        "filter_arr = [False,True,False,True,False]\n",
        "new_arr = arr[filter_arr]\n",
        "print(new_arr)"
      ]
    },
    {
      "cell_type": "markdown",
      "metadata": {
        "id": "4mfsvN45DPH1"
      },
      "source": [
        "## Q3\n",
        "\n",
        "Create a 2d array with `1` on the border and `0` on the inside, e.g., like:\n",
        "```\n",
        "1 1 1 1 1\n",
        "1 0 0 0 1\n",
        "1 0 0 0 1\n",
        "1 1 1 1 1\n",
        "```\n",
        "\n",
        "Do this using array slice notation to let it work for an arbitrary-sized array"
      ]
    },
    {
      "cell_type": "code",
      "source": [
        "import numpy as np\n",
        "def create_border_array(rows, cols):\n",
        "    arr = np.zeros((rows, cols),dtype=int)\n",
        "    arr[0,:] = 1\n",
        "    arr[3,:] = 1\n",
        "    arr[:,0] = 1\n",
        "    arr[:,4] = 1\n",
        "    return arr\n",
        "arr = create_border_array(4, 5)\n",
        "print(arr)"
      ],
      "metadata": {
        "id": "jttQwVJLJnvo",
        "colab": {
          "base_uri": "https://localhost:8080/"
        },
        "outputId": "b333458e-5f00-425b-88f4-24558453d748"
      },
      "execution_count": null,
      "outputs": [
        {
          "output_type": "stream",
          "name": "stdout",
          "text": [
            "[[1 1 1 1 1]\n",
            " [1 0 0 0 1]\n",
            " [1 0 0 0 1]\n",
            " [1 1 1 1 1]]\n"
          ]
        }
      ]
    },
    {
      "cell_type": "markdown",
      "metadata": {
        "id": "UuKIXz6vDPH3"
      },
      "source": [
        "## Q4\n",
        "\n",
        "  * Create an array with angles in degrees 0, 15, 30, ... 90 (i.e., every 15 degrees up to 90).\n",
        "\n",
        "  * Now create 3 new arrays with the sine, cosine, and tangent of the elements of the first array\n",
        "  \n",
        "  * Finally, calculate the inverse sine, inverse cosine, and inverse tangent the arrays above and compare to the original angles"
      ]
    },
    {
      "cell_type": "code",
      "execution_count": null,
      "metadata": {
        "collapsed": true,
        "jupyter": {
          "outputs_hidden": true
        },
        "id": "bYMU3viyDPH4"
      },
      "outputs": [],
      "source": [
        "angles_deg = np.arange(0, 91, 15)\n",
        "angles_rad = np.radians(angles_deg)\n",
        "sine_values = np.sin(angles_rad)\n",
        "cosine_values = np.cos(angles_rad)\n",
        "tangent_values = np.tan(angles_rad)\n",
        "inverse_sine = np.degrees(np.arcsin(sine_values))\n",
        "inverse_cosine = np.degrees(np.arccos(cosine_values))\n",
        "inverse_tangent = np.degrees(np.arctan(tangent_values))"
      ]
    },
    {
      "cell_type": "markdown",
      "metadata": {
        "id": "oKhSlL_EDPH4"
      },
      "source": [
        "## Q5\n",
        "\n",
        "Given the array:\n",
        "```\n",
        "x = np.array([1, -1, 2, 5, 8, 4, 10, 12, 3])\n",
        "```\n",
        "calculate the difference of each element with its neighbor."
      ]
    },
    {
      "cell_type": "code",
      "execution_count": null,
      "metadata": {
        "tags": [],
        "id": "mRojYTFMDPH5",
        "colab": {
          "base_uri": "https://localhost:8080/"
        },
        "outputId": "3270fb84-35da-40aa-f37d-1538a31f0088"
      },
      "outputs": [
        {
          "output_type": "stream",
          "name": "stdout",
          "text": [
            "[-2  3  3  3 -4  6  2 -9]\n"
          ]
        }
      ],
      "source": [
        "x = np.array([1, -1, 2, 5, 8, 4, 10, 12, 3])\n",
        "differences = np.diff(x)\n",
        "print(differences)"
      ]
    },
    {
      "cell_type": "markdown",
      "metadata": {
        "id": "F8oQd_ELDPH6"
      },
      "source": [
        "## Q6\n",
        "\n",
        "Here we will read in columns of numbers from a file and create a histogram, using NumPy routines.  Make sure you have the data file\n",
        "\"`sample.txt`\" in the same directory as this notebook (you can download it from  https://raw.githubusercontent.com/sbu-python-summer/python-tutorial/master/day-3/sample.txt\n",
        "\n",
        "  * Use `np.loadtxt()` to read this file in.  \n",
        "\n",
        "  * Next, use `np.histogram()` to create a histogram array.  The output returns both the count and an array of edges.\n",
        "  \n",
        "  * Finally, loop over the bins and print out the bin center (averaging the left and right edges of the bin) and the count for that bin."
      ]
    },
    {
      "cell_type": "code",
      "execution_count": null,
      "metadata": {
        "tags": [],
        "id": "F8hdGe1qDPH6",
        "colab": {
          "base_uri": "https://localhost:8080/"
        },
        "outputId": "60cd4a05-2e78-413c-8f05-981cfd07245d"
      },
      "outputs": [
        {
          "output_type": "stream",
          "name": "stdout",
          "text": [
            "Bin center: -17.63, Count: 29\n",
            "Bin center: 8.29, Count: 89\n",
            "Bin center: 34.21, Count: 30\n",
            "Bin center: 60.12, Count: 26\n",
            "Bin center: 86.04, Count: 26\n"
          ]
        }
      ],
      "source": [
        "import numpy as np\n",
        "url = \"https://raw.githubusercontent.com/sbu-python-summer/python-tutorial/master/day-3/sample.txt\"\n",
        "data = np.loadtxt(url)\n",
        "counts, bin_edges = np.histogram(data, bins=5)\n",
        "for i in range(len(counts)):\n",
        "    bin_center = (bin_edges[i] + bin_edges[i+1]) / 2  # Calculate bin center\n",
        "    print(f\"Bin center: {bin_center:.2f}, Count: {counts[i]}\")\n"
      ]
    },
    {
      "cell_type": "markdown",
      "metadata": {
        "id": "qge_-x7CDPH7"
      },
      "source": [
        "## Q7\n",
        "\n",
        "NumPy has a standard deviation function, `np.std()`, but here we'll write our own that works on a 1-d array (vector).  The standard\n",
        "deviation is a measure of the \"width\" of the distribution of numbers\n",
        "in the vector.\n",
        "\n",
        "Given an array, $a$, and an average $\\bar{a}$, the standard deviation\n",
        "is:\n",
        "\n",
        "$$\n",
        "\\sigma = \\left [ \\frac{1}{N} \\sum_{i=1}^N (a_i - \\bar{a})^2 \\right ]^{1/2}\n",
        "$$\n",
        "\n",
        "Write a function to calculate the standard deviation for an input array, `a`:\n",
        "\n",
        "  * First compute the average of the elements in `a` to define $\\bar{a}$\n",
        "  * Next compute the sum over the squares of $a - \\bar{a}$\n",
        "  * Then divide the sum by the number of elements in the array\n",
        "  * Finally take the square root (you can use `np.sqrt()`)\n",
        "  \n",
        "Test your function on a random array, and compare to the built-in `np.std()`"
      ]
    },
    {
      "cell_type": "code",
      "execution_count": null,
      "metadata": {
        "id": "0dxQkXaZDPH9",
        "colab": {
          "base_uri": "https://localhost:8080/"
        },
        "outputId": "e0a11dda-0a04-4147-8c2c-646f52e1765e"
      },
      "outputs": [
        {
          "output_type": "stream",
          "name": "stdout",
          "text": [
            "Array: [0.60092126 0.26125487 0.00234319 0.34455717 0.19066859 0.40127546\n",
            " 0.74369348 0.88978713 0.87451217 0.87033239]\n",
            "\n",
            "Custom Standard Deviation: 0.30495098517416663\n"
          ]
        }
      ],
      "source": [
        "def custom_std(a):\n",
        "    mean_a = np.mean(a)\n",
        "    squared_diff = (a - mean_a) ** 2\n",
        "    sum_squared_diff = np.sum(squared_diff)\n",
        "    variance = sum_squared_diff / len(a)\n",
        "    return np.sqrt(variance)\n",
        "a = np.random.rand(10)\n",
        "print(\"Array:\", a)\n",
        "custom_std_value = custom_std(a)\n",
        "numpy_std_value = np.std(a)\n",
        "print(\"\\nCustom Standard Deviation:\", custom_std_value)"
      ]
    }
  ],
  "metadata": {
    "kernelspec": {
      "display_name": "Python 3 (ipykernel)",
      "language": "python",
      "name": "python3"
    },
    "language_info": {
      "codemirror_mode": {
        "name": "ipython",
        "version": 3
      },
      "file_extension": ".py",
      "mimetype": "text/x-python",
      "name": "python",
      "nbconvert_exporter": "python",
      "pygments_lexer": "ipython3",
      "version": "3.12.1"
    },
    "colab": {
      "provenance": []
    }
  },
  "nbformat": 4,
  "nbformat_minor": 0
}